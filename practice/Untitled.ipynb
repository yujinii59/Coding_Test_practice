{
 "cells": [
  {
   "cell_type": "markdown",
   "id": "ea0875d6",
   "metadata": {},
   "source": [
    "준겸이는 모험가이다. 모험을 떠나기 위해서는 철저한 사전 준비를 갖추어야 한다.\n",
    "\n",
    "준겸이는 모험을 떠나기 전 $N$종류의 물약을 모두 구매하려고 한다. 물약 상점에 들른 준겸이는 각 물약이 $1$번부터 $N$번까지 번호가 매겨져 있다는 것을 알아냈다. 그런데, 물약 상점에서는 오늘 특별한 이벤트를 하고 있었다. 특정 물약을 구매하면, 어떤 다른 물약들을 할인해준다는 것이었다.\n",
    "\n",
    "원래 $i$번째 물약의 가격은 동전 $c_i$개이다. 만약 $i$번째 물약을 구매하면, $p_i$종류의 다른 물약의 가격이 내려간다.\n",
    "\n",
    "할인은 중첩된다. 예를 들어 $1$번 물약을 구매하면 $3$번 물약의 가격이 동전 $1$개만큼 할인되고, $2$번 물약을 구매하면 역시 $3$번 물약의 가격이 동전 $2$개만큼 할인된다고 하자. 그러면 두 물약을 모두 구매하고 나서 $3$번 물약을 구매할 때 동전 $3$개만큼의 할인을 받을 수 있다. 단, 물약의 가격이 내려가더라도 $0$ 이하로 내려가지는 않는다. 예를 들어, 원래 가격이 동전 $5$개인 물약이 동전 $4$개를 넘는 만큼 할인되더라도 가격은 동전 $1$개가 된다. \n",
    "\n",
    "준겸이는 신나서 물약을 구매하려다가, 물약을 구매하는 순서가 중요하다는 사실을 깨달았다. 준겸이를 위해 물약을 가장 싸게 샀을 때 그 비용을 알려주자."
   ]
  },
  {
   "cell_type": "markdown",
   "id": "98ea8841",
   "metadata": {},
   "source": [
    "입력\n",
    "첫째 줄에 물약의 종류 $N$이 주어진다.\n",
    "\n",
    "둘째 줄에 물약의 가격 $c_i$가 공백을 사이에 두고 주어진다($1 \\le i \\le N$). \n",
    "\n",
    "다음 줄부터, 물약 할인 정보가 $N$개 주어진다. $i$번째로 주어지는 물약 할인 정보는 다음과 같다($1 \\le i \\le N$). \n",
    "\n",
    " $p_i$가 주어진다. 다음 $p_i$개의 줄에, 물약 번호 $a_j$와 할인되는 가격 $d_j$가 주어진다. 이는 $i$번 물약을 구매하고 나면 물약 $a_j$가 동전 $d_j$개만큼 할인된다는 뜻이다.\n",
    "\n",
    "출력\n",
    "첫째 줄에 물약을 가장 싸게 샀을 때 동전이 몇 개 필요한지 출력한다. \n",
    "\n",
    "제한\n",
    " $2 \\le N \\le 10$ \n",
    " $1 \\le c_i \\le 1\\,000$ \n",
    " $0 \\le p_i \\le N-1$ \n",
    "각 $i$에 대해, 모든 $a_j$는 서로 다르고 $a_j \\neq i$ \n",
    " $1 \\le d_j \\le 1\\,000$ \n",
    "예제 입력 1 \n",
    "\n",
    "4\n",
    "\n",
    "10 15 20 25\n",
    "\n",
    "2\n",
    "\n",
    "3 10\n",
    "\n",
    "2 20\n",
    "\n",
    "0\n",
    "\n",
    "1\n",
    "\n",
    "4 10\n",
    "\n",
    "1\n",
    "\n",
    "1 10\n",
    "\n",
    "예제 출력 1 \n",
    "\n",
    "36\n",
    "\n",
    "동전 10개를 지불하고 1번 물약을 구매하면, 3번 물약이 동전 10개만큼 할인되어 값이 동전 10개가 된다. 2번 물약은 동전 20개만큼 할인되어야 하지만, 최소 1개는 지불해야 하므로 값이 동전 1개가 된다. 그 후 동전 10개를 지불하고 3번 물약을 구매하면, 4번 물약이 동전 10개만큼 할인되어 값이 동전 15개가 된다. 그 후에 3번 물약과 4번 물약을 동전 1개와 10개를 내고 각각 구매하면 총 36개의 동전을 내고 모든 물약을 구매할 수 있다."
   ]
  },
  {
   "cell_type": "code",
   "execution_count": 16,
   "id": "4aa836c8",
   "metadata": {},
   "outputs": [
    {
     "name": "stdout",
     "output_type": "stream",
     "text": [
      "4\n",
      "10 15 20 25\n",
      "2\n",
      "3 10\n",
      "2 20\n",
      "0\n",
      "1\n",
      "4 10\n",
      "1\n",
      "1 10\n",
      "{1: {3: 10, 2: 20}, 2: {}, 3: {4: 10}, 4: {1: 10}}\n"
     ]
    }
   ],
   "source": [
    "n = int(input())\n",
    "coins = list(map(int, input().split()))\n",
    "discounts = {(i+1):{} for i in range(n)}\n",
    "for i in range(1, n + 1):\n",
    "    k = int(input())\n",
    "    if k == 0:\n",
    "        continue\n",
    "    for j in range(k):\n",
    "        mac, discount = map(int, input().split())\n",
    "        discounts[i][mac] = discount\n",
    "print(discounts)\n",
    "\n",
    "    "
   ]
  },
  {
   "cell_type": "code",
   "execution_count": 29,
   "id": "80c7bb33",
   "metadata": {},
   "outputs": [
    {
     "name": "stdout",
     "output_type": "stream",
     "text": [
      "[10, 15, 20, 25]\n",
      "36\n"
     ]
    }
   ],
   "source": [
    "from itertools import permutations\n",
    "print(coins)\n",
    "prices = dict()\n",
    "price = int(1e9)\n",
    "for case in permutations(range(1, n+1),n):\n",
    "    coins_dict = {(i + 1):coin for i, coin in enumerate(coins)}\n",
    "    prices[case] = 0\n",
    "    for i in case:\n",
    "        if coins_dict[i] <= 0:\n",
    "            coins_dict[i] = 1\n",
    "        prices[case] += coins_dict[i]\n",
    "        if prices[case] > price:\n",
    "            break\n",
    "        for j, discount in discounts[i].items():\n",
    "            coins_dict[j] -= discount\n",
    "    if price > prices[case]:\n",
    "        price = prices[case]\n",
    "print(price)"
   ]
  },
  {
   "cell_type": "markdown",
   "id": "83c15834",
   "metadata": {},
   "source": [
    "문제\n",
    "철수는 수를 이어 붙이는 놀이를 좋아한다. 1과 2를 이어 붙이면 12가 되고, 17과 13을 이어 붙이면 1713이 된다. 100과 1000을 이어 붙이면 1001000이 된다. 1과 2를 이어 붙이되, 순서를 반대로 해서 2와 1을 이어 붙이면, 21이 된다. 같은 두 수를 이어 붙이더라도, 이어 붙이는 순서에 따라서 값이 달라진다는 것을 알 수 있다.\n",
    "\n",
    "철수가 살고 있는 마을에는 집이 여러 채 있고, 각 집에는 $1$부터 $N$까지 번호가 붙어있다. 두 집 사이에 존재하는 도로를 통해 서로 이동할 수 있다. 총 $N-1$개의 도로가 존재한다. $i$번째 도로는 $a_i$번 집과 $b_i$집을 잇는다. 집과 도로는 트리의 형태를 이룬다. 즉, 어떤 집에서 시작해서 몇 개의 도로를 거쳐 어떤 집이라도 갈 수 있고, 같은 집을 두 번 방문하지 않을 경우 그 경로는 유일하다.\n",
    "\n",
    "각각의 집의 대문에는 수가 쓰여있다. 철수는 총 $Q$번 수를 이어 붙이는 놀이를 할 것이다. $i$번째 놀이에서는 $x_i$번째 집에서 시작해서, $y_i$번째 집까지 이동하면서, 이동하는 경로 상에 있는 집들의 대문에 쓰여있는 수들을 방문하는 순서대로 이어 붙일 것이다. 만약 $x_i = y_i$라면, $x_i$번째 집의 대문에 쓰인 수가 답이 될 것이다. 철수는 놀이가 끝날 때마다, 자기가 올바르게 수들을 이어 붙였는지 궁금해졌다. 철수를 위해, $i$번째 놀이가 끝났을 때 이어 붙인 수의 값을 구해주자. 단, 수가 너무 커질 수 있으니까, $1\\,000\\,000\\,007$로 나눈 나머지를 출력하도록 하자.\n",
    "\n",
    "입력\n",
    "첫 번째 줄에는 집의 개수 $N$과, 철수가 놀이를 할 횟수 $Q$가 주어진다.\n",
    "\n",
    "두 번째 줄에는 $N$개의 집의 대문에 쓰여 있는 수 $A_i$가 공백을 사이에 두고 순서대로 주어진다.\n",
    "\n",
    "세 번째 줄부터 $N+1$번째 줄까지는, 도로의 정보가 주어진다. $2+i$번째 줄에는 $i$번째 도로가 잇는 두 집의 번호 $a_i, b_i$에 대한 정보가 공백을 사이에 두고 주어진다.\n",
    "\n",
    " $N+2$번째 줄부터 $N+Q+1$번째 줄까지는 놀이에 대한 정보가 주어진다. $N+i+1$번째 줄에는 $i$번째 놀이를 시작할 집의 번호 $x_i$와, 끝낼 집의 번호 $y_i$가 공백을 사이에 두고 주어진다.\n",
    "\n",
    "출력\n",
    "첫 번째 줄부터 $Q$번째 줄에 걸쳐, $i$번째 줄에는 $i$번째 놀이의 결과를 $1\\,000\\,000\\,007$로 나눈 나머지를 출력한다.\n",
    "\n",
    "제한\n",
    " $2\\leq N \\leq 1\\,000$ \n",
    " $1\\leq Q \\leq 1\\,000$ \n",
    " $1 \\leq A_i \\leq 1\\,000\\,000\\,000$ ($1 \\leq i \\leq N$)\n",
    " $1 \\leq a_i, b_i \\leq N$ \n",
    " $1 \\leq x_i, y_i \\leq N$ \n",
    "예제 입력 1 \n",
    "3 2\n",
    "10 9 1\n",
    "1 2\n",
    "2 3\n",
    "1 3\n",
    "3 1\n",
    "예제 출력 1 \n",
    "1091\n",
    "1910"
   ]
  },
  {
   "cell_type": "code",
   "execution_count": 68,
   "id": "0082bf9d",
   "metadata": {},
   "outputs": [
    {
     "name": "stdout",
     "output_type": "stream",
     "text": [
      "3 2\n",
      "10 9 1\n",
      "1 2\n",
      "2 3\n",
      "[(0, 1), (1, 2)]\n"
     ]
    }
   ],
   "source": [
    "n, q = map(int, input().split())\n",
    "numbers = list(input().split())\n",
    "routes = list()\n",
    "for _ in range(n - 1):\n",
    "    i, j = map(int, input().split())\n",
    "    routes.append((i - 1, j - 1))\n",
    "print(routes)\n"
   ]
  },
  {
   "cell_type": "code",
   "execution_count": 99,
   "id": "22d54566",
   "metadata": {},
   "outputs": [
    {
     "name": "stdout",
     "output_type": "stream",
     "text": [
      "[['10', '100010001000', '100010001000'], ['100010001000', '9', '100010001000'], ['100010001000', '100010001000', '1']]\n",
      "[['10', '109', '100010001000'], ['910', '9', '91'], ['100010001000', '19', '1']]\n"
     ]
    }
   ],
   "source": [
    "# numls = [[1,2,3],[4,5,6],[7,8,9]]\n",
    "numls = [['']*n for number in numbers]\n",
    "cntls = [[0]*n for _ in range(n)]\n",
    "for i in range(n):\n",
    "    numls[i][i] = numbers[i]\n",
    "    cntls[i][i] += 1\n",
    "for route in routes:\n",
    "    numls[route[0]][route[1]] = numls[route[0]][route[0]] + numbers[route[1]]\n",
    "    cntls[route[0]][route[1]] += 1\n",
    "    numls[route[1]][route[0]] = numls[route[1]][route[1]] + numbers[route[0]]\n",
    "    cntls[route[1]][route[0]] += 1\n"
   ]
  },
  {
   "cell_type": "code",
   "execution_count": 100,
   "id": "81ab1aa5",
   "metadata": {},
   "outputs": [
    {
     "name": "stdout",
     "output_type": "stream",
     "text": [
      "[['10', '109', '100010001000'], ['910', '9', '91'], ['100010001000', '19', '1']]\n",
      "1 0 2\n",
      "1 2 0\n",
      "[['10', '109', '1091'], ['910', '9', '91'], ['1910', '19', '1']]\n"
     ]
    }
   ],
   "source": [
    "for k in range(n):\n",
    "    for a in range(n):\n",
    "        for b in range(n):\n",
    "            if cntls[a][b] == 0 and cntls[a][k] != 0 and cntls[k][b] != 0:\n",
    "                print(k, a, b)\n",
    "                minus = len(numls[k][k]) * -1\n",
    "                numls[a][b] = numls[a][k][:minus] + numls[k][b]"
   ]
  },
  {
   "cell_type": "code",
   "execution_count": 102,
   "id": "a52e2a47",
   "metadata": {},
   "outputs": [
    {
     "name": "stdout",
     "output_type": "stream",
     "text": [
      "1 3\n",
      "1091\n",
      "3 1\n",
      "1910\n"
     ]
    }
   ],
   "source": [
    "for _ in range(q):\n",
    "    start, end = map(int, input().split())\n",
    "    print(int(numls[start - 1][end - 1]) % 1000000007)\n"
   ]
  },
  {
   "cell_type": "code",
   "execution_count": null,
   "id": "e1170526",
   "metadata": {},
   "outputs": [],
   "source": []
  },
  {
   "cell_type": "code",
   "execution_count": null,
   "id": "e39af2f5",
   "metadata": {},
   "outputs": [],
   "source": []
  },
  {
   "cell_type": "markdown",
   "id": "24c35c77",
   "metadata": {},
   "source": [
    "문제\n",
    "휘파람을 불지 못하는 시루는 휘파람을 불기 위해 수없이 많이 시도했지만 항상 실패한다. 시루의 휘파람 연습을 도와주고 있는 루시는, 시루가 휘파람과 비슷한 소리를 낼 때마다 사탕을 주기로 했다.\n",
    "\n",
    "시루의 입에서 나온 소리는 대문자로 구성된 문자열 $S$로 나타낼 수 있다. 루시는 문자열 $S$에서 휘파람과 비슷한 소리, 즉 '유사 휘파람 문자열'의 개수를 구해야 한다. '유사 휘파람 문자열'은 다음과 같이 정의한다.\n",
    "\n",
    "WHEE 는 '유사 휘파람 문자열'이다.\n",
    "'유사 휘파람 문자열' 뒤에 E 를 붙인 것 또한 '유사 휘파람 문자열'이다.\n",
    "'유사 휘파람 문자열'은 문자열 $S$ 상에서 연속하지 않아도 된다. 즉, $S$에서 '유사 휘파람 문자열'인 부분 수열(subsequence)의 개수를 구하면 된다.\n",
    "\n",
    "시루는 수없이 많이 시도했기 때문에 $S$의 길이가 너무 길어졌다. 루시를 도와 시루에게 사탕을 몇 개 줘야 할지 계산해주자.\n",
    "\n",
    "입력\n",
    "첫째 줄에 문자열 $S$의 길이 $N$이 주어진다.\n",
    "\n",
    "둘째 줄에 대문자로만 구성된 문자열 $S$가 주어진다.\n",
    "\n",
    "출력\n",
    "'유사 휘파람 문자열'인 부분 수열의 개수를 $1\\,000\\,000\\,007(= 10^9+7)$로 나눈 나머지를 출력한다.\n",
    "\n",
    "제한\n",
    " $1 \\leq N \\leq 200\\,000$ \n",
    " $S$는 대문자로만 구성되어 있다.\n",
    "예제 입력 1 \n",
    "8\n",
    "WAHEWHEE\n",
    "예제 출력 1 \n",
    "6\n",
    "W_HE__E_\n",
    "W_HE___E\n",
    "W_H___EE\n",
    "W_HE__EE\n",
    "W____HEE\n",
    "____WHEE\n"
   ]
  },
  {
   "cell_type": "code",
   "execution_count": 33,
   "id": "a098e170",
   "metadata": {},
   "outputs": [
    {
     "name": "stdout",
     "output_type": "stream",
     "text": [
      "4\n"
     ]
    }
   ],
   "source": [
    "print(list('wheeee').count('e'))"
   ]
  },
  {
   "cell_type": "code",
   "execution_count": 52,
   "id": "c3ef074d",
   "metadata": {},
   "outputs": [
    {
     "name": "stdout",
     "output_type": "stream",
     "text": [
      "whaewhee\n",
      "0 ['h', 'a', 'e', 'w', 'h', 'e', 'e']\n",
      "1 ['w', 'h', 'e', 'e']\n",
      "6\n"
     ]
    }
   ],
   "source": [
    "from math import factorial\n",
    "strings = list(input().lower())\n",
    "cnt = 0\n",
    "w_count = strings.count('w')\n",
    "if w_count != 0:\n",
    "    w_index = -1\n",
    "    string_w = strings\n",
    "    for w in range(w_count):\n",
    "        w_index = string_w.index('w')\n",
    "        string_w = strings[w_index + 1:]\n",
    "        h_count = string_w.count('h')\n",
    "        if h_count != 0:\n",
    "            h_index = -1\n",
    "            string_h = string_w\n",
    "            for h in range(h_count):\n",
    "                h_index = string_h.index('h')\n",
    "                string_h = string_h[h_index + 1:]\n",
    "                e_count = string_h.count('e')\n",
    "                if e_count > 2:\n",
    "                    cnt += (2 ** e_count - (1 + e_count))\n",
    "                elif e_count == 2:\n",
    "                    cnt += 1\n",
    "    print(cnt)"
   ]
  },
  {
   "cell_type": "code",
   "execution_count": 54,
   "id": "a65c96e8",
   "metadata": {},
   "outputs": [
    {
     "name": "stdout",
     "output_type": "stream",
     "text": [
      "32\n",
      "1000000000\n"
     ]
    }
   ],
   "source": [
    "# 0 1 2 3 4 5\n",
    "# 1 5 10 10 5 1 32\n",
    "# 1 3 3 1\n",
    "# 0 1 2 3 4\n",
    "# 1 4 6 4 1 16\n",
    "\n",
    "print(2 ** 5)\n",
    "print(int(1e9))"
   ]
  },
  {
   "cell_type": "code",
   "execution_count": null,
   "id": "1840b81b",
   "metadata": {},
   "outputs": [],
   "source": []
  }
 ],
 "metadata": {
  "kernelspec": {
   "display_name": "Python 3 (ipykernel)",
   "language": "python",
   "name": "python3"
  },
  "language_info": {
   "codemirror_mode": {
    "name": "ipython",
    "version": 3
   },
   "file_extension": ".py",
   "mimetype": "text/x-python",
   "name": "python",
   "nbconvert_exporter": "python",
   "pygments_lexer": "ipython3",
   "version": "3.8.10"
  }
 },
 "nbformat": 4,
 "nbformat_minor": 5
}
