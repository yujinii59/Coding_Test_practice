{
 "cells": [
  {
   "cell_type": "markdown",
   "source": [
    "#### 문제 설명\n",
    "어떤 숫자에서 k개의 수를 제거했을 때 얻을 수 있는 가장 큰 숫자를 구하려 합니다.\n",
    "\n",
    "예를 들어, 숫자 1924에서 수 두 개를 제거하면 [19, 12, 14, 92, 94, 24] 를 만들 수 있습니다. 이 중 가장 큰 숫자는 94 입니다.\n",
    "\n",
    "문자열 형식으로 숫자 number와 제거할 수의 개수 k가 solution 함수의 매개변수로 주어집니다. number에서 k 개의 수를 제거했을 때 만들 수 있는 수 중 가장 큰 숫자를 문자열 형태로 return 하도록 solution 함수를 완성하세요.\n",
    "\n",
    "#### 제한 조건\n",
    "number는 2자리 이상, 1,000,000자리 이하인 숫자입니다.\n",
    "k는 1 이상 number의 자릿수 미만인 자연수입니다.\n",
    "입출력 예\n",
    "number\tk\treturn\n",
    "\"1924\"\t2\t\"94\"\n",
    "\"1231234\"\t3\t\"3234\"\n",
    "\"4177252841\"\t4\t\"775841\""
   ],
   "metadata": {
    "collapsed": false,
    "pycharm": {
     "name": "#%% md\n"
    }
   }
  },
  {
   "cell_type": "code",
   "execution_count": 7,
   "outputs": [],
   "source": [
    "numbers = ['1924', '1231234', '4177252841', '9876543210']\n",
    "klist = [2, 3, 4, 4]"
   ],
   "metadata": {
    "collapsed": false,
    "pycharm": {
     "name": "#%%\n"
    }
   }
  },
  {
   "cell_type": "code",
   "execution_count": 12,
   "outputs": [],
   "source": [
    "def solution(number, k):\n",
    "    cnt = 0\n",
    "    i = 0\n",
    "    while cnt != k:\n",
    "        if i == len(number) - 1:\n",
    "            number = number[:cnt - k]\n",
    "            break\n",
    "\n",
    "        else:\n",
    "            if number[i] == '9':\n",
    "                i += 1\n",
    "            elif number[i] < number[i + 1]:\n",
    "                number = number[:i] + number[i + 1 :]\n",
    "                print(number)\n",
    "                cnt += 1\n",
    "                if i != 0:\n",
    "                    i -= 1\n",
    "            else:\n",
    "                i += 1\n",
    "    return number"
   ],
   "metadata": {
    "collapsed": false,
    "pycharm": {
     "name": "#%%\n"
    }
   }
  },
  {
   "cell_type": "code",
   "execution_count": 13,
   "outputs": [
    {
     "name": "stdout",
     "output_type": "stream",
     "text": [
      "924\n",
      "94\n",
      "94\n",
      "231234\n",
      "31234\n",
      "3234\n",
      "3234\n",
      "477252841\n",
      "77252841\n",
      "7752841\n",
      "775841\n",
      "775841\n",
      "987654\n"
     ]
    }
   ],
   "source": [
    "for number, k in zip(numbers, klist):\n",
    "    print(solution(number=number, k=k))"
   ],
   "metadata": {
    "collapsed": false,
    "pycharm": {
     "name": "#%%\n"
    }
   }
  }
 ],
 "metadata": {
  "kernelspec": {
   "display_name": "Python 3",
   "language": "python",
   "name": "python3"
  },
  "language_info": {
   "codemirror_mode": {
    "name": "ipython",
    "version": 2
   },
   "file_extension": ".py",
   "mimetype": "text/x-python",
   "name": "python",
   "nbconvert_exporter": "python",
   "pygments_lexer": "ipython2",
   "version": "2.7.6"
  }
 },
 "nbformat": 4,
 "nbformat_minor": 0
}