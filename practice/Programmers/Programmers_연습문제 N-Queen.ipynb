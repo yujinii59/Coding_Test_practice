{
 "cells": [
  {
   "cell_type": "markdown",
   "id": "aa709cba",
   "metadata": {},
   "source": [
    "#### 문제 설명\n",
    "가로, 세로 길이가 n인 정사각형으로된 체스판이 있습니다. 체스판 위의 n개의 퀸이 서로를 공격할 수 없도록 배치하고 싶습니다.\n",
    "\n",
    "예를 들어서 n이 4인경우 다음과 같이 퀸을 배치하면 n개의 퀸은 서로를 한번에 공격 할 수 없습니다.\n",
    "\n",
    "`\n",
    "| |Q| | |\n",
    "| | | |Q|\n",
    "|Q| | | |\n",
    "| | |Q| |\n",
    "`\n",
    "\n",
    "`\n",
    "| | |Q| |\n",
    "|Q| | | |\n",
    "| | | |Q|\n",
    "| |Q| | |\n",
    "`\n",
    "\n",
    "체스판의 가로 세로의 세로의 길이 n이 매개변수로 주어질 때, n개의 퀸이 조건에 만족 하도록 배치할 수 있는 방법의 수를 return\n",
    "하는 solution함수를 완성해주세요.\n",
    "\n",
    "#### 제한사항\n",
    "퀸(Queen)은 가로, 세로, 대각선으로 이동할 수 있습니다.\n",
    "\n",
    "n은 12이하의 자연수 입니다.\n",
    "\n",
    "#### 입출력 예\n",
    "n\tresult\n",
    "\n",
    "4\t2\n",
    "\n",
    "#### 입출력 예 설명\n",
    "##### 입출력 예 #1\n",
    "문제의 예시와 같습니다."
   ]
  },
  {
   "cell_type": "code",
   "execution_count": 30,
   "id": "98786192",
   "metadata": {},
   "outputs": [],
   "source": [
    "def nqueen(n, q_list):\n",
    "    l = len(q_list)\n",
    "    cnt = 0\n",
    "    if l == n:\n",
    "        cnt = 1\n",
    "    for j in range(n):\n",
    "        b = True\n",
    "        for i, q in enumerate(q_list):\n",
    "            if l - j == i - q or l + j == i + q or j == q:\n",
    "                b = False\n",
    "                break\n",
    "        \n",
    "        if b:\n",
    "            cnt += nqueen(n, q_list + [j])\n",
    "    return cnt"
   ]
  },
  {
   "cell_type": "code",
   "execution_count": 31,
   "id": "096fe50e",
   "metadata": {},
   "outputs": [],
   "source": [
    "def solution(n):\n",
    "    cnt = 0\n",
    "    for i in range(n):\n",
    "        ls = [i]\n",
    "        cnt += nqueen(n, ls)\n",
    "    return cnt"
   ]
  },
  {
   "cell_type": "code",
   "execution_count": 32,
   "id": "927edfb6",
   "metadata": {},
   "outputs": [
    {
     "name": "stdout",
     "output_type": "stream",
     "text": [
      "10\n"
     ]
    }
   ],
   "source": [
    "print(solution(5))"
   ]
  },
  {
   "cell_type": "code",
   "execution_count": null,
   "id": "6b12ba19",
   "metadata": {},
   "outputs": [],
   "source": []
  },
  {
   "cell_type": "code",
   "execution_count": 3,
   "id": "7244e6f4",
   "metadata": {},
   "outputs": [],
   "source": [
    "from copy import deepcopy"
   ]
  },
  {
   "cell_type": "code",
   "execution_count": 4,
   "id": "e22efeb0",
   "metadata": {},
   "outputs": [],
   "source": [
    "def queen(poss, n, x, y):\n",
    "    cnt = 0\n",
    "    if x == n - 1:\n",
    "        cnt = 1\n",
    "    else:\n",
    "        for i in range(n):\n",
    "            if i == x:\n",
    "                poss[i] = [1] * n\n",
    "            else:\n",
    "                for j in range(n):\n",
    "                    if j == y:\n",
    "                        poss[i][j] = 1\n",
    "                    elif i + j == x + y:\n",
    "                        poss[i][j] = 1\n",
    "                    elif i - j == x - y:\n",
    "                        poss[i][j] = 1\n",
    "\n",
    "        for i in range(n):\n",
    "            if poss[x + 1][i] == 0:\n",
    "                cnt += queen(deepcopy(poss), n, x + 1, i)\n",
    "    return cnt"
   ]
  },
  {
   "cell_type": "code",
   "execution_count": 5,
   "id": "2b454959",
   "metadata": {},
   "outputs": [],
   "source": [
    "def solution(n):\n",
    "    cnt = 0\n",
    "    poss_ls = [[0 for _ in range(n)] for _ in range(n)]\n",
    "    for i in range(n):\n",
    "        cnt += queen(deepcopy(poss_ls), n, 0, i)\n",
    "\n",
    "    return cnt"
   ]
  },
  {
   "cell_type": "code",
   "execution_count": 7,
   "id": "5c1cf771",
   "metadata": {},
   "outputs": [
    {
     "name": "stdout",
     "output_type": "stream",
     "text": [
      "10\n"
     ]
    }
   ],
   "source": [
    "print(solution(5))"
   ]
  }
 ],
 "metadata": {
  "kernelspec": {
   "display_name": "Python 3 (ipykernel)",
   "language": "python",
   "name": "python3"
  },
  "language_info": {
   "codemirror_mode": {
    "name": "ipython",
    "version": 3
   },
   "file_extension": ".py",
   "mimetype": "text/x-python",
   "name": "python",
   "nbconvert_exporter": "python",
   "pygments_lexer": "ipython3",
   "version": "3.8.10"
  }
 },
 "nbformat": 4,
 "nbformat_minor": 5
}
