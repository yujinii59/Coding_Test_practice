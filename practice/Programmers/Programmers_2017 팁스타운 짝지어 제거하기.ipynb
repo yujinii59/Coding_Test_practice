{
 "cells": [
  {
   "cell_type": "markdown",
   "id": "67986643",
   "metadata": {},
   "source": [
    "#### 문제 설명\n",
    "짝지어 제거하기는, 알파벳 소문자로 이루어진 문자열을 가지고 시작합니다. 먼저 문자열에서 같은 알파벳이 2개 붙어 있는 짝을 찾습니다. 그다음, 그 둘을 제거한 뒤, 앞뒤로 문자열을 이어 붙입니다. 이 과정을 반복해서 문자열을 모두 제거한다면 짝지어 제거하기가 종료됩니다. 문자열 S가 주어졌을 때, 짝지어 제거하기를 성공적으로 수행할 수 있는지 반환하는 함수를 완성해 주세요. 성공적으로 수행할 수 있으면 1을, 아닐 경우 0을 리턴해주면 됩니다.\n",
    "\n",
    "예를 들어, 문자열 S = baabaa 라면\n",
    "\n",
    "b aa baa → bb aa → aa →\n",
    "\n",
    "의 순서로 문자열을 모두 제거할 수 있으므로 1을 반환합니다.\n",
    "\n",
    "#### 제한사항\n",
    "문자열의 길이 : 1,000,000이하의 자연수\n",
    "문자열은 모두 소문자로 이루어져 있습니다.\n",
    "\n",
    "\n",
    "#### 입출력 예\n",
    "s\tresult\n",
    "\n",
    "baabaa\t1\n",
    "\n",
    "cdcd\t0\n",
    "\n",
    "##### 입출력 예 설명\n",
    "입출력 예 #1\n",
    "\n",
    "위의 예시와 같습니다.\n",
    "\n",
    "입출력 예 #2\n",
    "\n",
    "문자열이 남아있지만 짝지어 제거할 수 있는 문자열이 더 이상 존재하지 않기 때문에 0을 반환합니다."
   ]
  },
  {
   "cell_type": "code",
   "execution_count": 1,
   "id": "8206583c",
   "metadata": {},
   "outputs": [],
   "source": [
    "strings = [\n",
    "        'baabaa',\t#1\n",
    "        'cdcd'\t#0\n",
    "    ]"
   ]
  },
  {
   "cell_type": "code",
   "execution_count": 2,
   "id": "3aebc27d",
   "metadata": {},
   "outputs": [],
   "source": [
    "def solution(string):\n",
    "    while True:\n",
    "        if len(string) == 0:\n",
    "            return 1\n",
    "        for i in range(1, len(string)):\n",
    "            if string[i - 1] == string[i]:\n",
    "                if i == len(string) - 1:\n",
    "                    if len(string) == 2:\n",
    "                        return 1\n",
    "                    else:\n",
    "                        return 0\n",
    "                string = string[:i-1] + string[i + 1 :]\n",
    "                break\n"
   ]
  },
  {
   "cell_type": "code",
   "execution_count": 3,
   "id": "4ea61679",
   "metadata": {},
   "outputs": [],
   "source": [
    "def solution(string):\n",
    "    string = list(string)\n",
    "    while len(string) > 0:\n",
    "        tmp = string.copy()\n",
    "        if len(tmp) % 2 == 1:\n",
    "            return 0\n",
    "        cnt = 0\n",
    "        del_ls = []\n",
    "        for i in range(len(tmp) - 1):\n",
    "            if i in del_ls:\n",
    "                break\n",
    "                \n",
    "            if tmp[i] == tmp[i + 1]:\n",
    "                if len(string) == 2:\n",
    "                    return 1\n",
    "                \n",
    "                string = string[: i] + string[i + 2 :]\n",
    "                del_ls.extend([i, i + 1])\n",
    "                cnt += 1\n",
    "            \n",
    "        if cnt == 0:\n",
    "            return 0\n",
    "    return 1"
   ]
  },
  {
   "cell_type": "code",
   "execution_count": 2,
   "id": "c232f2c9",
   "metadata": {},
   "outputs": [],
   "source": [
    "def solution(string):\n",
    "    stack = []\n",
    "    for s in string:\n",
    "        if len(stack) != 0 and stack[-1] == s:\n",
    "            stack.pop()\n",
    "        else:\n",
    "            stack.append(s)\n",
    "    \n",
    "    if len(stack) == 0:\n",
    "        return 1\n",
    "    else:\n",
    "        return 0"
   ]
  },
  {
   "cell_type": "code",
   "execution_count": 3,
   "id": "fc1c7b1d",
   "metadata": {},
   "outputs": [
    {
     "name": "stdout",
     "output_type": "stream",
     "text": [
      "['b']\n",
      "['b', 'a']\n",
      "['b']\n",
      "[]\n",
      "['a']\n",
      "[]\n",
      "None\n",
      "['c']\n",
      "['c', 'd']\n",
      "['c', 'd', 'c']\n",
      "['c', 'd', 'c', 'd']\n",
      "None\n"
     ]
    }
   ],
   "source": [
    "for string in strings:\n",
    "    print(solution(string))"
   ]
  },
  {
   "cell_type": "code",
   "execution_count": null,
   "id": "c86179c8",
   "metadata": {},
   "outputs": [],
   "source": []
  }
 ],
 "metadata": {
  "kernelspec": {
   "display_name": "Python 3 (ipykernel)",
   "language": "python",
   "name": "python3"
  },
  "language_info": {
   "codemirror_mode": {
    "name": "ipython",
    "version": 3
   },
   "file_extension": ".py",
   "mimetype": "text/x-python",
   "name": "python",
   "nbconvert_exporter": "python",
   "pygments_lexer": "ipython3",
   "version": "3.8.10"
  }
 },
 "nbformat": 4,
 "nbformat_minor": 5
}
