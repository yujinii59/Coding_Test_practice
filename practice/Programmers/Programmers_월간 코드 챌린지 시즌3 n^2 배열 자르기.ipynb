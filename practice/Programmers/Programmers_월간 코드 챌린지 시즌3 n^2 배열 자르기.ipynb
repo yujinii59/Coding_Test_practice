{
 "cells": [
  {
   "cell_type": "markdown",
   "id": "a7ca16bf",
   "metadata": {},
   "source": [
    "#### 문제 설명\n",
    "정수 n, left, right가 주어집니다. 다음 과정을 거쳐서 1차원 배열을 만들고자 합니다.\n",
    "\n",
    "n행 n열 크기의 비어있는 2차원 배열을 만듭니다.\n",
    "\n",
    "i = 1, 2, 3, ..., n에 대해서, 다음 과정을 반복합니다.\n",
    "\n",
    "1행 1열부터 i행 i열까지의 영역 내의 모든 빈 칸을 숫자 i로 채웁니다.\n",
    "\n",
    "1행, 2행, ..., n행을 잘라내어 모두 이어붙인 새로운 1차원 배열을 만듭니다.\n",
    "\n",
    "새로운 1차원 배열을 arr이라 할 때, arr[left], arr[left+1], ..., arr[right]만 남기고 나머지는 지웁니다.\n",
    "\n",
    "정수 n, left, right가 매개변수로 주어집니다. 주어진 과정대로 만들어진 1차원 배열을 return 하도록 solution 함수를 완성해주세요.\n",
    "\n",
    "#### 제한사항\n",
    "1 ≤ n ≤ 107\n",
    "\n",
    "0 ≤ left ≤ right < n2\n",
    "\n",
    "right - left < 105\n",
    "\n",
    "#### 입출력 예\n",
    "n\tleft\tright\tresult\n",
    "\n",
    "3\t2\t5\t[3,2,2,3]\n",
    "\n",
    "4\t7\t14\t[4,3,3,3,4,4,4,4]"
   ]
  },
  {
   "cell_type": "code",
   "execution_count": 2,
   "id": "b679421f",
   "metadata": {},
   "outputs": [],
   "source": [
    "n_ls = [3, 4]\n",
    "left_ls = [2, 7]\n",
    "right_ls = [5, 14]"
   ]
  },
  {
   "cell_type": "code",
   "execution_count": 23,
   "id": "99da9e55",
   "metadata": {},
   "outputs": [],
   "source": [
    "import numpy as np\n",
    "def solution(n, left, right):\n",
    "    arr = []\n",
    "    matrix = np.array([[0 for _ in range(n)] for _ in range(n)])\n",
    "    for i in range(n):\n",
    "        matrix[:i + 1, i] = np.array([i + 1] * (i + 1))\n",
    "        matrix[i, : i + 1] = np.array([i + 1] * (i + 1))\n",
    "        \n",
    "    for row in matrix:\n",
    "        arr.extend(list(row))\n",
    "        \n",
    "    return (arr[left:right+1])"
   ]
  },
  {
   "cell_type": "code",
   "execution_count": 31,
   "id": "280a0a69",
   "metadata": {},
   "outputs": [],
   "source": [
    "def solution(n, left, right):\n",
    "    arr = []\n",
    "    matrix = [[0 for _ in range(n)] for _ in range(n)]\n",
    "    for i in range(n):\n",
    "        for j in range(i + 1):\n",
    "            matrix[i][j] = i + 100\n",
    "            matrix[j][i] = i + 1\n",
    "    \n",
    "    for row in matrix:\n",
    "        arr.extend(row)\n",
    "    \n",
    "    answer = arr[left: right + 1]\n",
    "    \n",
    "    return answer"
   ]
  },
  {
   "cell_type": "code",
   "execution_count": 35,
   "id": "f70362ef",
   "metadata": {},
   "outputs": [],
   "source": [
    "def solution(n, left, right):\n",
    "    arr = []\n",
    "    for i in range(left, right + 1):\n",
    "        row = i // n\n",
    "        col = i % n\n",
    "        if row >= col:\n",
    "            arr.append(row + 1)\n",
    "        else:\n",
    "            arr.append(col + 1)\n",
    "            \n",
    "    return arr"
   ]
  },
  {
   "cell_type": "code",
   "execution_count": 36,
   "id": "6f43b4b7",
   "metadata": {},
   "outputs": [
    {
     "name": "stdout",
     "output_type": "stream",
     "text": [
      "[3, 2, 2, 3]\n"
     ]
    }
   ],
   "source": [
    "print(solution(3, 2, 5))"
   ]
  },
  {
   "cell_type": "code",
   "execution_count": null,
   "id": "57da1c84",
   "metadata": {},
   "outputs": [],
   "source": []
  }
 ],
 "metadata": {
  "kernelspec": {
   "display_name": "Python 3 (ipykernel)",
   "language": "python",
   "name": "python3"
  },
  "language_info": {
   "codemirror_mode": {
    "name": "ipython",
    "version": 3
   },
   "file_extension": ".py",
   "mimetype": "text/x-python",
   "name": "python",
   "nbconvert_exporter": "python",
   "pygments_lexer": "ipython3",
   "version": "3.8.10"
  }
 },
 "nbformat": 4,
 "nbformat_minor": 5
}
