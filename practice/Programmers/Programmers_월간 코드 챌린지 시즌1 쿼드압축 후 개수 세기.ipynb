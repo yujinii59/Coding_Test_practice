{
 "cells": [
  {
   "cell_type": "markdown",
   "id": "67cde4c3",
   "metadata": {},
   "source": [
    "#### 문제 설명\n",
    "0과 1로 이루어진 2n x 2n 크기의 2차원 정수 배열 arr이 있습니다. 당신은 이 arr을 쿼드 트리와 같은 방식으로 압축하고자 합니다. 구체적인 방식은 다음과 같습니다.\n",
    "\n",
    "당신이 압축하고자 하는 특정 영역을 S라고 정의합니다.\n",
    "\n",
    "만약 S 내부에 있는 모든 수가 같은 값이라면, S를 해당 수 하나로 압축시킵니다.\n",
    "\n",
    "그렇지 않다면, S를 정확히 4개의 균일한 정사각형 영역(입출력 예를 참고해주시기 바랍니다.)으로 쪼갠 뒤, 각 정사각형 영역에 대해 같은 방식의 압축을 시도합니다.\n",
    "\n",
    "arr이 매개변수로 주어집니다. 위와 같은 방식으로 arr을 압축했을 때, 배열에 최종적으로 남는 0의 개수와 1의 개수를 배열에 담아서 return 하도록 solution 함수를 완성해주세요.\n",
    "\n",
    "#### 제한사항\n",
    "arr의 행의 개수는 1 이상 1024 이하이며, 2의 거듭 제곱수 형태를 하고 있습니다. 즉, arr의 행의 개수는 1, 2, 4, 8, ..., 1024 중 하나입니다.\n",
    "\n",
    "arr의 각 행의 길이는 arr의 행의 개수와 같습니다. 즉, arr은 정사각형 배열입니다.\n",
    "\n",
    "arr의 각 행에 있는 모든 값은 0 또는 1 입니다.\n",
    "\n",
    "\n",
    "#### 입출력 예\n",
    "arr\tresult\n",
    "\n",
    "[[1,1,0,0],[1,0,0,0],[1,0,0,1],[1,1,1,1]]\t[4,9]\n",
    "\n",
    "[[1,1,1,1,1,1,1,1],[0,1,1,1,1,1,1,1],[0,0,0,0,1,1,1,1],[0,1,0,0,1,1,1,1],[0,0,0,0,0,0,1,1],[0,0,0,0,0,0,0,1],[0,0,0,0,1,0,0,1],[0,0,0,0,1,1,1,1]]\t[10,15]\n",
    "\n",
    "\n",
    "##### 입출력 예 설명\n",
    "입출력 예 #1\n",
    "\n",
    "다음 그림은 주어진 arr을 압축하는 과정을 나타낸 것입니다.\n",
    "\n",
    "ex1.png\n",
    "\n",
    "최종 압축 결과에 0이 4개, 1이 9개 있으므로, [4,9]를 return 해야 합니다.\n",
    "\n",
    "입출력 예 #2\n",
    "\n",
    "다음 그림은 주어진 arr을 압축하는 과정을 나타낸 것입니다.\n",
    "\n",
    "ex2.png\n",
    "\n",
    "최종 압축 결과에 0이 10개, 1이 15개 있으므로, [10,15]를 return 해야 합니다."
   ]
  },
  {
   "cell_type": "code",
   "execution_count": 4,
   "id": "4933fde5",
   "metadata": {},
   "outputs": [],
   "source": [
    "array = [\n",
    "    [\n",
    "        [1,1,0,0],\n",
    "        [1,0,0,0],\n",
    "        [1,0,0,1],\n",
    "        [1,1,1,1]\n",
    "    ],\n",
    "    [\n",
    "        [1,1,1,1,1,1,1,1],\n",
    "        [0,1,1,1,1,1,1,1],\n",
    "        [0,0,0,0,1,1,1,1],\n",
    "        [0,1,0,0,1,1,1,1],\n",
    "        [0,0,0,0,0,0,1,1],\n",
    "        [0,0,0,0,0,0,0,1],\n",
    "        [0,0,0,0,1,0,0,1],\n",
    "        [0,0,0,0,1,1,1,1]\n",
    "    ]\n",
    "]"
   ]
  },
  {
   "cell_type": "code",
   "execution_count": 11,
   "id": "7420fa5a",
   "metadata": {},
   "outputs": [],
   "source": [
    "from collections import deque\n",
    "import numpy as np\n",
    "def solution(arr):\n",
    "    n = len(arr)\n",
    "    answer = [0,0]\n",
    "    arr = np.array(arr)\n",
    "    q = deque()\n",
    "    q.append((0, n, 0, n))\n",
    "    while q:\n",
    "        start_row, end_row, start_col, end_col = q.popleft()\n",
    "        num = end_row - start_row\n",
    "        arr1 = arr[start_row : end_row, start_col : end_col]\n",
    "        \n",
    "        cnt0 = len(np.argwhere(arr1 == 0))\n",
    "        cnt1 = len(np.argwhere(arr1 == 1))\n",
    "        if cnt0 == num ** 2:\n",
    "            answer[0] += 1\n",
    "        elif cnt1 == num ** 2:\n",
    "            answer[1] += 1\n",
    "        else:\n",
    "            q.append((start_row, start_row + num // 2, start_col, start_col + num // 2))\n",
    "            q.append((start_row, start_row + num // 2, end_col - num // 2, end_col))\n",
    "            q.append((end_row - num // 2, end_row, start_col, start_col + num // 2))\n",
    "            q.append((end_row - num // 2, end_row, end_col - num // 2, end_col))\n",
    "        \n",
    "    return answer"
   ]
  },
  {
   "cell_type": "code",
   "execution_count": 12,
   "id": "610ab4d6",
   "metadata": {},
   "outputs": [
    {
     "name": "stdout",
     "output_type": "stream",
     "text": [
      "[4, 9]\n",
      "[10, 15]\n"
     ]
    }
   ],
   "source": [
    "for arr in array:\n",
    "    print(solution(arr))"
   ]
  }
 ],
 "metadata": {
  "kernelspec": {
   "display_name": "Python 3 (ipykernel)",
   "language": "python",
   "name": "python3"
  },
  "language_info": {
   "codemirror_mode": {
    "name": "ipython",
    "version": 3
   },
   "file_extension": ".py",
   "mimetype": "text/x-python",
   "name": "python",
   "nbconvert_exporter": "python",
   "pygments_lexer": "ipython3",
   "version": "3.8.10"
  }
 },
 "nbformat": 4,
 "nbformat_minor": 5
}
