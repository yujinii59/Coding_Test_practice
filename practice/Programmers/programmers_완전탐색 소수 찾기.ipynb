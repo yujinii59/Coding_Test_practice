{
 "cells": [
  {
   "cell_type": "markdown",
   "id": "d2cca985",
   "metadata": {},
   "source": [
    "#### 문제 설명\n",
    "한자리 숫자가 적힌 종이 조각이 흩어져있습니다. 흩어진 종이 조각을 붙여 소수를 몇 개 만들 수 있는지 알아내려 합니다.\n",
    "\n",
    "각 종이 조각에 적힌 숫자가 적힌 문자열 numbers가 주어졌을 때, 종이 조각으로 만들 수 있는 소수가 몇 개인지 return 하도록 solution 함수를 완성해주세요.\n",
    "\n",
    "#### 제한사항\n",
    "\n",
    "numbers는 길이 1 이상 7 이하인 문자열입니다.\n",
    "\n",
    "numbers는 0~9까지 숫자만으로 이루어져 있습니다.\n",
    "\n",
    "\"013\"은 0, 1, 3 숫자가 적힌 종이 조각이 흩어져있다는 의미입니다.\n",
    "\n",
    "#### 입출력 예\n",
    "\n",
    "numbers\treturn\n",
    "\n",
    "\"17\"\t3\n",
    "\n",
    "\"011\"\t2\n",
    "\n",
    "##### 입출력 예 설명\n",
    "예제 #1\n",
    "\n",
    "[1, 7]으로는 소수 [7, 17, 71]를 만들 수 있습니다.\n",
    "\n",
    "예제 #2\n",
    "\n",
    "[0, 1, 1]으로는 소수 [11, 101]를 만들 수 있습니다.\n",
    "\n",
    "11과 011은 같은 숫자로 취급합니다."
   ]
  },
  {
   "cell_type": "code",
   "execution_count": 2,
   "id": "d4e19f47",
   "metadata": {},
   "outputs": [],
   "source": [
    "numbers_ls = [\n",
    "    \"17\",\n",
    "    \"011\"\n",
    "]"
   ]
  },
  {
   "cell_type": "code",
   "execution_count": 30,
   "id": "bb7f4fb5",
   "metadata": {},
   "outputs": [],
   "source": [
    "def prime_number(number):\n",
    "    prime = []\n",
    "    if number == 1:\n",
    "        return False\n",
    "    for i in range(2, number):\n",
    "        if number % i == 0:\n",
    "            return False\n",
    "    return True"
   ]
  },
  {
   "cell_type": "code",
   "execution_count": 33,
   "id": "e0602ef5",
   "metadata": {},
   "outputs": [],
   "source": [
    "from itertools import permutations\n",
    "def solution(numbers):\n",
    "    answers = []\n",
    "    cards = list(numbers)\n",
    "    cases = []\n",
    "    candidates = []\n",
    "    for i in range(len(numbers)):\n",
    "        cases.extend(list(permutations(cards,i + 1)))\n",
    "    for case in cases:\n",
    "        candidate = int(''.join(case))\n",
    "        if candidate not in candidates and candidate > 0:\n",
    "            candidates.append(candidate)\n",
    "            if prime_number(candidate):\n",
    "                answers.append(candidate)\n",
    "    \n",
    "    return len(answers)"
   ]
  },
  {
   "cell_type": "code",
   "execution_count": 34,
   "id": "c22428c3",
   "metadata": {},
   "outputs": [
    {
     "name": "stdout",
     "output_type": "stream",
     "text": [
      "[('1',), ('7',), ('1', '7'), ('7', '1')]\n",
      "[1, 7, 17, 71]\n",
      "3\n",
      "[('0',), ('1',), ('1',), ('0', '1'), ('0', '1'), ('1', '0'), ('1', '1'), ('1', '0'), ('1', '1'), ('0', '1', '1'), ('0', '1', '1'), ('1', '0', '1'), ('1', '1', '0'), ('1', '0', '1'), ('1', '1', '0')]\n",
      "[1, 10, 11, 101, 110]\n",
      "2\n"
     ]
    }
   ],
   "source": [
    "for numbers in numbers_ls:\n",
    "    print(solution(numbers))"
   ]
  },
  {
   "cell_type": "code",
   "execution_count": null,
   "id": "a6bac186",
   "metadata": {},
   "outputs": [],
   "source": []
  }
 ],
 "metadata": {
  "kernelspec": {
   "display_name": "Python 3 (ipykernel)",
   "language": "python",
   "name": "python3"
  },
  "language_info": {
   "codemirror_mode": {
    "name": "ipython",
    "version": 3
   },
   "file_extension": ".py",
   "mimetype": "text/x-python",
   "name": "python",
   "nbconvert_exporter": "python",
   "pygments_lexer": "ipython3",
   "version": "3.8.10"
  }
 },
 "nbformat": 4,
 "nbformat_minor": 5
}
