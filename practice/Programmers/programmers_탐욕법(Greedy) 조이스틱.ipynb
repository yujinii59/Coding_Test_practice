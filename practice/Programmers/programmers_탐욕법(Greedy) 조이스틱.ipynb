{
 "cells": [
  {
   "cell_type": "markdown",
   "id": "971643f9",
   "metadata": {},
   "source": [
    "#### 문제 설명\n",
    "조이스틱으로 알파벳 이름을 완성하세요. 맨 처음엔 A로만 이루어져 있습니다.\n",
    "ex) 완성해야 하는 이름이 세 글자면 AAA, 네 글자면 AAAA\n",
    "\n",
    "조이스틱을 각 방향으로 움직이면 아래와 같습니다.\n",
    "\n",
    "▲ - 다음 알파벳\n",
    "▼ - 이전 알파벳 (A에서 아래쪽으로 이동하면 Z로)\n",
    "◀ - 커서를 왼쪽으로 이동 (첫 번째 위치에서 왼쪽으로 이동하면 마지막 문자에 커서)\n",
    "▶ - 커서를 오른쪽으로 이동 (마지막 위치에서 오른쪽으로 이동하면 첫 번째 문자에 커서)\n",
    "예를 들어 아래의 방법으로 \"JAZ\"를 만들 수 있습니다.\n",
    "\n",
    "- 첫 번째 위치에서 조이스틱을 위로 9번 조작하여 J를 완성합니다.\n",
    "- 조이스틱을 왼쪽으로 1번 조작하여 커서를 마지막 문자 위치로 이동시킵니다.\n",
    "- 마지막 위치에서 조이스틱을 아래로 1번 조작하여 Z를 완성합니다.\n",
    "따라서 11번 이동시켜 \"JAZ\"를 만들 수 있고, 이때가 최소 이동입니다.\n",
    "만들고자 하는 이름 name이 매개변수로 주어질 때, 이름에 대해 조이스틱 조작 횟수의 최솟값을 return 하도록 solution 함수를 만드세요.\n",
    "\n",
    "#### 제한 사항\n",
    "name은 알파벳 대문자로만 이루어져 있습니다.\n",
    "name의 길이는 1 이상 20 이하입니다."
   ]
  },
  {
   "cell_type": "markdown",
   "id": "d1811995",
   "metadata": {},
   "source": [
    "#### 입출력 예\n",
    "name\treturn\n",
    "\n",
    "\"JEROEN\"\t56\n",
    "\n",
    "\"JAN\"\t23"
   ]
  },
  {
   "cell_type": "code",
   "execution_count": 50,
   "id": "99842b46",
   "metadata": {},
   "outputs": [
    {
     "name": "stdout",
     "output_type": "stream",
     "text": [
      "7\n"
     ]
    }
   ],
   "source": [
    "test = '''\n",
    "input:AAAAZAATAEA / answer:19\n",
    "input:RCETAAAAVUEAETZAAAK / answer:75\n",
    "input:AAAABAAAAAAKSAIQ / answer:49\n",
    "input:AAAAADBAAELSPUAAAOA / answer:70\n",
    "input:AARUAUAAHTBJAAYS / answer:69\n",
    "input:AAAEASAHQAYTAAAJ / answer:60\n",
    "input:AAIAPB / answer:24\n",
    "'''\n",
    "test_ls = test.replace('input:','').replace('\\n',' ').replace('answer:','').replace('/','').split()\n",
    "\n",
    "names = test_ls[::2]\n",
    "answers = test_ls[1::2]\n",
    "print(len(names))"
   ]
  },
  {
   "cell_type": "code",
   "execution_count": 31,
   "id": "3e7f0501",
   "metadata": {},
   "outputs": [],
   "source": [
    "names = [\n",
    "    'JEROEN',\n",
    "    'JAN',\n",
    "]"
   ]
  },
  {
   "cell_type": "code",
   "execution_count": 69,
   "id": "7531cc8d",
   "metadata": {},
   "outputs": [],
   "source": [
    "alphabet = {chr(num):num - ord('A') for num in range(ord('A'), ord('Z') + 1) if num - ord('A') <= 13}\n",
    "alphabet_2 = {chr(num):ord('Z') - num + 1 for num in range(ord('A'), ord('Z') + 1) if num - ord('A') > 13}\n",
    "alphabet.update(alphabet_2)\n"
   ]
  },
  {
   "cell_type": "code",
   "execution_count": 80,
   "id": "f1446d6d",
   "metadata": {},
   "outputs": [],
   "source": [
    "def solution(name):\n",
    "    n = len(name)\n",
    "    not_a_ls = []\n",
    "    for i, string in enumerate(name):\n",
    "        if string != 'A':\n",
    "            not_a_ls.append(i)\n",
    "            \n",
    "    if len(not_a_ls) == 0:\n",
    "        return 0\n",
    "    \n",
    "    min_move = not_a_ls[-1]\n",
    "    move_cnt = alphabet[name[not_a_ls[0]]]\n",
    "    for i in range(len(not_a_ls) - 1):\n",
    "        if i == 0 and not_a_ls[i] != 0:\n",
    "            min_move = min(n - not_a_ls[i], min_move, 2 * (n - not_a_ls[i]))\n",
    "            \n",
    "        min_move = min(not_a_ls[i] * 2 + (n - not_a_ls[i + 1]), min_move, not_a_ls[i] + 2 * (n - not_a_ls[i + 1]))\n",
    "        move_cnt += alphabet[name[not_a_ls[i + 1]]]\n",
    "        \n",
    "    answer = min_move + move_cnt\n",
    "    return answer"
   ]
  },
  {
   "cell_type": "code",
   "execution_count": 81,
   "id": "03ae14c2",
   "metadata": {},
   "outputs": [
    {
     "name": "stdout",
     "output_type": "stream",
     "text": [
      "AAAAZAATAEA 19 19\n",
      "RCETAAAAVUEAETZAAAK 75 75\n",
      "AAAABAAAAAAKSAIQ 49 49\n",
      "AAAAADBAAELSPUAAAOA 70 70\n",
      "AARUAUAAHTBJAAYS 69 69\n",
      "AAAEASAHQAYTAAAJ 60 60\n",
      "AAIAPB 24 24\n"
     ]
    }
   ],
   "source": [
    "for name, answer in zip(names, answers):\n",
    "    print(name, solution(name), answer) "
   ]
  },
  {
   "cell_type": "code",
   "execution_count": 55,
   "id": "152c6c4e",
   "metadata": {},
   "outputs": [],
   "source": [
    "alphabet = ['A', 'B', 'C', 'D', 'E', 'F', 'G', 'H', 'I', 'J', 'K', 'L', 'M', 'N',\n",
    "            'O', 'P', 'Q', 'R', 'S', 'T', 'U', 'V', 'W', 'X', 'Y', 'Z']\n",
    "alphabet_move = {character: min(i, len(alphabet) - i) for i, character in enumerate(alphabet)}\n",
    "\n",
    "\n",
    "def solution(name):\n",
    "    length = len(name)\n",
    "    not_a_idx = []\n",
    "    for i, char in enumerate(name):\n",
    "        if char != 'A':\n",
    "            not_a_idx.append(i)\n",
    "\n",
    "    move_cand_1 = not_a_idx[-1]\n",
    "    move_cand_2 = abs(length - not_a_idx[0])\n",
    "    \n",
    "    move_cand_3 = []\n",
    "    move_cand_4 = []\n",
    "    \n",
    "    for i in range(len(not_a_idx)-1):\n",
    "        move_cand_3.append(not_a_idx[i] * 2 + abs(length - not_a_idx[i+1]))\n",
    "        move_cand_4.append(not_a_idx[i] + abs(length - not_a_idx[i+1]) * 2)\n",
    "        \n",
    "    move_cand_3_min = min(move_cand_3)      \n",
    "    move_cand_4_min = min(move_cand_4)   \n",
    "    \n",
    "    move = min(move_cand_1, move_cand_2, move_cand_3_min, move_cand_4_min)\n",
    "    \n",
    "    change_cnt = 0\n",
    "    for char in name:\n",
    "        change_cnt += alphabet_move[char]\n",
    "    print(move, change_cnt)\n",
    "    answer = move + change_cnt\n",
    "\n",
    "    return answer"
   ]
  },
  {
   "cell_type": "code",
   "execution_count": 79,
   "id": "cd7cdced",
   "metadata": {},
   "outputs": [
    {
     "name": "stdout",
     "output_type": "stream",
     "text": [
      "AAAAZAATAEA 19 19\n",
      "RCETAAAAVUEAETZAAAK 75 75\n",
      "AAAABAAAAAAKSAIQ 49 49\n",
      "AAAAADBAAELSPUAAAOA 70 70\n",
      "AARUAUAAHTBJAAYS 69 69\n",
      "AAAEASAHQAYTAAAJ 60 60\n",
      "AAIAPB 24 24\n"
     ]
    }
   ],
   "source": [
    "for name, answer in zip(names, answers):\n",
    "    print(name, solution(name), answer) "
   ]
  },
  {
   "cell_type": "code",
   "execution_count": null,
   "id": "e9ac335f",
   "metadata": {},
   "outputs": [],
   "source": []
  }
 ],
 "metadata": {
  "kernelspec": {
   "display_name": "Python 3 (ipykernel)",
   "language": "python",
   "name": "python3"
  },
  "language_info": {
   "codemirror_mode": {
    "name": "ipython",
    "version": 3
   },
   "file_extension": ".py",
   "mimetype": "text/x-python",
   "name": "python",
   "nbconvert_exporter": "python",
   "pygments_lexer": "ipython3",
   "version": "3.8.10"
  }
 },
 "nbformat": 4,
 "nbformat_minor": 5
}
