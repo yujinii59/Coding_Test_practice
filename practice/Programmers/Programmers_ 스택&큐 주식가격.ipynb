{
 "cells": [
  {
   "cell_type": "markdown",
   "id": "24151000",
   "metadata": {},
   "source": [
    "#### 문제 설명\n",
    "초 단위로 기록된 주식가격이 담긴 배열 prices가 매개변수로 주어질 때, 가격이 떨어지지 않은 기간은 몇 초인지를 return 하도록 solution 함수를 완성하세요.\n",
    "\n",
    "#### 제한사항\n",
    "prices의 각 가격은 1 이상 10,000 이하인 자연수입니다.\n",
    "\n",
    "prices의 길이는 2 이상 100,000 이하입니다.\n",
    "\n",
    "#### 입출력 예\n",
    "prices\treturn\n",
    "\n",
    "[1, 2, 3, 2, 3]\t[4, 3, 1, 1, 0]\n",
    "\n",
    "\n",
    "##### 입출력 예 설명\n",
    "1초 시점의 ₩1은 끝까지 가격이 떨어지지 않았습니다.\n",
    "\n",
    "2초 시점의 ₩2은 끝까지 가격이 떨어지지 않았습니다.\n",
    "\n",
    "3초 시점의 ₩3은 1초뒤에 가격이 떨어집니다. 따라서 1초간 가격이 떨어지지 않은 것으로 봅니다.\n",
    "\n",
    "4초 시점의 ₩2은 1초간 가격이 떨어지지 않았습니다.\n",
    "\n",
    "5초 시점의 ₩3은 0초간 가격이 떨어지지 않았습니다.\n"
   ]
  },
  {
   "cell_type": "code",
   "execution_count": 1,
   "id": "68e0224f",
   "metadata": {},
   "outputs": [],
   "source": [
    "prices = [2,3,2,3,1,2,5,4,6,1,2]"
   ]
  },
  {
   "cell_type": "code",
   "execution_count": 2,
   "id": "ca9edc73",
   "metadata": {},
   "outputs": [],
   "source": [
    "def solution(prices):\n",
    "    answer = []\n",
    "    len_prices = len(prices)\n",
    "\n",
    "    for i in range(len_prices):\n",
    "        val = prices[i]\n",
    "        cnt = 0\n",
    "        for j in range(i+1, len_prices):\n",
    "            if val <= prices[j]:\n",
    "                cnt += 1\n",
    "            else:\n",
    "                cnt += 1\n",
    "                break\n",
    "        answer.append(cnt)\n",
    "\n",
    "    return answer"
   ]
  },
  {
   "cell_type": "code",
   "execution_count": 3,
   "id": "04762657",
   "metadata": {},
   "outputs": [
    {
     "data": {
      "text/plain": [
       "[4, 1, 2, 1, 6, 4, 1, 2, 1, 1, 0]"
      ]
     },
     "execution_count": 3,
     "metadata": {},
     "output_type": "execute_result"
    }
   ],
   "source": [
    "solution(prices)"
   ]
  },
  {
   "cell_type": "code",
   "execution_count": null,
   "id": "4e2713ca",
   "metadata": {},
   "outputs": [],
   "source": []
  }
 ],
 "metadata": {
  "kernelspec": {
   "display_name": "Python 3 (ipykernel)",
   "language": "python",
   "name": "python3"
  },
  "language_info": {
   "codemirror_mode": {
    "name": "ipython",
    "version": 3
   },
   "file_extension": ".py",
   "mimetype": "text/x-python",
   "name": "python",
   "nbconvert_exporter": "python",
   "pygments_lexer": "ipython3",
   "version": "3.8.10"
  }
 },
 "nbformat": 4,
 "nbformat_minor": 5
}
