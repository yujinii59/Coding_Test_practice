{
 "cells": [
  {
   "cell_type": "markdown",
   "id": "438a5c24",
   "metadata": {},
   "source": [
    "#### 문제 설명\n",
    "자연수 n이 주어졌을 때, n의 다음 큰 숫자는 다음과 같이 정의 합니다.\n",
    "\n",
    "조건 1. n의 다음 큰 숫자는 n보다 큰 자연수 입니다.\n",
    "\n",
    "조건 2. n의 다음 큰 숫자와 n은 2진수로 변환했을 때 1의 갯수가 같습니다.\n",
    "\n",
    "조건 3. n의 다음 큰 숫자는 조건 1, 2를 만족하는 수 중 가장 작은 수 입니다.\n",
    "\n",
    "예를 들어서 78(1001110)의 다음 큰 숫자는 83(1010011)입니다.\n",
    "\n",
    "자연수 n이 매개변수로 주어질 때, n의 다음 큰 숫자를 return 하는 solution 함수를 완성해주세요.\n",
    "\n",
    "#### 제한 사항\n",
    "n은 1,000,000 이하의 자연수 입니다.\n",
    "\n",
    "#### 입출력 예\n",
    "n\tresult\n",
    "\n",
    "78\t83\n",
    "\n",
    "15\t23\n",
    "\n",
    "\n",
    "##### 입출력 예 설명\n",
    "입출력 예#1\n",
    "\n",
    "문제 예시와 같습니다.\n",
    "\n",
    "입출력 예#2\n",
    "\n",
    "15(1111)의 다음 큰 숫자는 23(10111)입니다."
   ]
  },
  {
   "cell_type": "code",
   "execution_count": 23,
   "id": "1a14a49f",
   "metadata": {},
   "outputs": [],
   "source": [
    "n_ls = [78,75, 8,15,80]"
   ]
  },
  {
   "cell_type": "code",
   "execution_count": 28,
   "id": "fc87097d",
   "metadata": {},
   "outputs": [],
   "source": [
    "def solution(n):\n",
    "    binary = bin(n)[2:]\n",
    "    length = len(binary)\n",
    "    last = False\n",
    "    loc = -1\n",
    "    cnt = 0\n",
    "    for i in range(length):\n",
    "        if binary[length - i - 1] == '0':\n",
    "            tmp_loc = length - i - 1\n",
    "            if tmp_loc == length - 1:\n",
    "                last = True\n",
    "                cnt += 1\n",
    "            elif binary[tmp_loc + 1] != '1':\n",
    "                cnt += 1\n",
    "            else:\n",
    "                loc = tmp_loc\n",
    "                break\n",
    "    \n",
    "    if loc == -1:\n",
    "        if last:\n",
    "            convert = '10' + '0' * cnt + binary[loc + 2:-cnt]\n",
    "        else:\n",
    "            convert = '10' + binary[1:]\n",
    "    else:\n",
    "        if last:\n",
    "            convert = binary[:loc] + '10' + '0' * cnt + binary[loc + 2: - cnt]\n",
    "        else:\n",
    "            convert = binary[:loc] + '10' + binary[loc + 2:]\n",
    "    print(binary, convert, loc)\n",
    "    answer = int(convert, 2)\n",
    "    return answer\n",
    "    "
   ]
  },
  {
   "cell_type": "code",
   "execution_count": 29,
   "id": "72b36366",
   "metadata": {},
   "outputs": [
    {
     "name": "stdout",
     "output_type": "stream",
     "text": [
      "1001110 1010011 2\n",
      "83\n",
      "1001011 1001101 4\n",
      "77\n",
      "1000 10000 -1\n",
      "16\n",
      "1111 10111 -1\n",
      "23\n",
      "1010000 1100000 1\n",
      "96\n"
     ]
    }
   ],
   "source": [
    "for n in n_ls:\n",
    "    print(solution(n))"
   ]
  }
 ],
 "metadata": {
  "kernelspec": {
   "display_name": "Python 3 (ipykernel)",
   "language": "python",
   "name": "python3"
  },
  "language_info": {
   "codemirror_mode": {
    "name": "ipython",
    "version": 3
   },
   "file_extension": ".py",
   "mimetype": "text/x-python",
   "name": "python",
   "nbconvert_exporter": "python",
   "pygments_lexer": "ipython3",
   "version": "3.8.10"
  }
 },
 "nbformat": 4,
 "nbformat_minor": 5
}
