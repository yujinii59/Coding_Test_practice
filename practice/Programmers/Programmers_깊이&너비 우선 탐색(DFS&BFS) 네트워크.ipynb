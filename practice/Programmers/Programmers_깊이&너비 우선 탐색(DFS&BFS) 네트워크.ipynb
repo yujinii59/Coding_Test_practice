{
 "cells": [
  {
   "cell_type": "markdown",
   "id": "808b0609",
   "metadata": {},
   "source": [
    "#### 문제 설명\n",
    "네트워크란 컴퓨터 상호 간에 정보를 교환할 수 있도록 연결된 형태를 의미합니다. 예를 들어, 컴퓨터 A와 컴퓨터 B가 직접적으로 연결되어있고, 컴퓨터 B와 컴퓨터 C가 직접적으로 연결되어 있을 때 컴퓨터 A와 컴퓨터 C도 간접적으로 연결되어 정보를 교환할 수 있습니다. 따라서 컴퓨터 A, B, C는 모두 같은 네트워크 상에 있다고 할 수 있습니다.\n",
    "\n",
    "컴퓨터의 개수 n, 연결에 대한 정보가 담긴 2차원 배열 computers가 매개변수로 주어질 때, 네트워크의 개수를 return 하도록 solution 함수를 작성하시오.\n",
    "\n",
    "#### 제한사항\n",
    "컴퓨터의 개수 n은 1 이상 200 이하인 자연수입니다.\n",
    "\n",
    "각 컴퓨터는 0부터 n-1인 정수로 표현합니다.\n",
    "\n",
    "i번 컴퓨터와 j번 컴퓨터가 연결되어 있으면 computers[i][j]를 1로 표현합니다.\n",
    "\n",
    "computer[i][i]는 항상 1입니다.\n",
    "\n",
    "##### 입출력 예\n",
    "n\tcomputers\treturn\n",
    "\n",
    "3\t[[1, 1, 0], [1, 1, 0], [0, 0, 1]]\t2\n",
    "\n",
    "3\t[[1, 1, 0], [1, 1, 1], [0, 1, 1]]\t1\n",
    "\n",
    "##### 입출력 예 설명\n",
    "예제 #1\n",
    "\n",
    "아래와 같이 2개의 네트워크가 있습니다.\n",
    "\n",
    "image0.png\n",
    "\n",
    "예제 #2\n",
    "\n",
    "아래와 같이 1개의 네트워크가 있습니다.\n",
    "\n",
    "image1.png"
   ]
  },
  {
   "cell_type": "code",
   "execution_count": null,
   "id": "2b689e60",
   "metadata": {},
   "outputs": [],
   "source": []
  },
  {
   "cell_type": "code",
   "execution_count": 16,
   "id": "7719069e",
   "metadata": {},
   "outputs": [],
   "source": [
    "def solution(n, computers):\n",
    "    computer_set = list(range(n))\n",
    "    for k in range(n):\n",
    "        for i in range(n):\n",
    "            for j in range(n):\n",
    "                if computers[i][k] * computers[k][j] == 1:\n",
    "                    computers[i][j] = 1\n",
    "    cnt = 0\n",
    "    while computer_set:\n",
    "        cnt += 1\n",
    "        num = computer_set.pop(0)\n",
    "        connect = []\n",
    "        for i, conn in enumerate(computers[num]):\n",
    "            if conn == 1:\n",
    "                connect.append(i)\n",
    "        computer_set = list(set(computer_set) - set(connect))\n",
    "    return cnt"
   ]
  },
  {
   "cell_type": "code",
   "execution_count": 17,
   "id": "fdf78e33",
   "metadata": {},
   "outputs": [
    {
     "data": {
      "text/plain": [
       "2"
      ]
     },
     "execution_count": 17,
     "metadata": {},
     "output_type": "execute_result"
    }
   ],
   "source": [
    "solution(3, [[1,1,0],[1,1,0],[0,0,1]])"
   ]
  },
  {
   "cell_type": "code",
   "execution_count": null,
   "id": "fdbf5449",
   "metadata": {},
   "outputs": [],
   "source": []
  }
 ],
 "metadata": {
  "kernelspec": {
   "display_name": "Python 3 (ipykernel)",
   "language": "python",
   "name": "python3"
  },
  "language_info": {
   "codemirror_mode": {
    "name": "ipython",
    "version": 3
   },
   "file_extension": ".py",
   "mimetype": "text/x-python",
   "name": "python",
   "nbconvert_exporter": "python",
   "pygments_lexer": "ipython3",
   "version": "3.8.10"
  }
 },
 "nbformat": 4,
 "nbformat_minor": 5
}
