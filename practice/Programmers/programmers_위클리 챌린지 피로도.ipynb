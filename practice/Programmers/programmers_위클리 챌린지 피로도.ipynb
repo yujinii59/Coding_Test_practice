{
 "cells": [
  {
   "cell_type": "markdown",
   "id": "d2dc9564",
   "metadata": {},
   "source": [
    "#### 문제 설명\n",
    "XX게임에는 피로도 시스템(0 이상의 정수로 표현합니다)이 있으며, 일정 피로도를 사용해서 던전을 탐험할 수 있습니다. 이때, 각 던전마다 탐험을 시작하기 위해 필요한 \"최소 필요 피로도\"와 던전 탐험을 마쳤을 때 소모되는 \"소모 피로도\"가 있습니다. \"최소 필요 피로도\"는 해당 던전을 탐험하기 위해 가지고 있어야 하는 최소한의 피로도를 나타내며, \"소모 피로도\"는 던전을 탐험한 후 소모되는 피로도를 나타냅니다. 예를 들어 \"최소 필요 피로도\"가 80, \"소모 피로도\"가 20인 던전을 탐험하기 위해서는 유저의 현재 남은 피로도는 80 이상 이어야 하며, 던전을 탐험한 후에는 피로도 20이 소모됩니다.\n",
    "\n",
    "이 게임에는 하루에 한 번씩 탐험할 수 있는 던전이 여러개 있는데, 한 유저가 오늘 이 던전들을 최대한 많이 탐험하려 합니다. 유저의 현재 피로도 k와 각 던전별 \"최소 필요 피로도\", \"소모 피로도\"가 담긴 2차원 배열 dungeons 가 매개변수로 주어질 때, 유저가 탐험할수 있는 최대 던전 수를 return 하도록 solution 함수를 완성해주세요.\n",
    "\n",
    "#### 제한사항\n",
    "k는 1 이상 5,000 이하인 자연수입니다.\n",
    "dungeons의 세로(행) 길이(즉, 던전의 개수)는 1 이상 8 이하입니다.\n",
    "dungeons의 가로(열) 길이는 2 입니다.\n",
    "dungeons의 각 행은 각 던전의 [\"최소 필요 피로도\", \"소모 피로도\"] 입니다.\n",
    "\"최소 필요 피로도\"는 항상 \"소모 피로도\"보다 크거나 같습니다.\n",
    "\"최소 필요 피로도\"와 \"소모 피로도\"는 1 이상 1,000 이하인 자연수입니다.\n",
    "서로 다른 던전의 [\"최소 필요 피로도\", \"소모 피로도\"]가 서로 같을 수 있습니다.\n",
    "\n",
    "\n",
    "##### 입출력 예\n",
    "k\tdungeons\tresult\n",
    "\n",
    "80\t[[80,20],[50,40],[30,10]]\t3\n",
    "\n",
    "\n",
    "##### 입출력 예 설명\n",
    "현재 피로도는 80입니다.\n",
    "\n",
    "만약, 첫 번째 → 두 번째 → 세 번째 던전 순서로 탐험한다면\n",
    "\n",
    "현재 피로도는 80이며, 첫 번째 던전을 돌기위해 필요한 \"최소 필요 피로도\" 또한 80이므로, 첫 번째 던전을 탐험할 수 있습니다. 첫 번째 던전의 \"소모 피로도\"는 20이므로, 던전을 탐험한 후 남은 피로도는 60입니다.\n",
    "남은 피로도는 60이며, 두 번째 던전을 돌기위해 필요한 \"최소 필요 피로도\"는 50이므로, 두 번째 던전을 탐험할 수 있습니다. 두 번째 던전의 \"소모 피로도\"는 40이므로, 던전을 탐험한 후 남은 피로도는 20입니다.\n",
    "남은 피로도는 20이며, 세 번째 던전을 돌기위해 필요한 \"최소 필요 피로도\"는 30입니다. 따라서 세 번째 던전은 탐험할 수 없습니다.\n",
    "\n",
    "만약, 첫 번째 → 세 번째 → 두 번째 던전 순서로 탐험한다면\n",
    "\n",
    "현재 피로도는 80이며, 첫 번째 던전을 돌기위해 필요한 \"최소 필요 피로도\" 또한 80이므로, 첫 번째 던전을 탐험할 수 있습니다. 첫 번째 던전의 \"소모 피로도\"는 20이므로, 던전을 탐험한 후 남은 피로도는 60입니다.\n",
    "남은 피로도는 60이며, 세 번째 던전을 돌기위해 필요한 \"최소 필요 피로도\"는 30이므로, 세 번째 던전을 탐험할 수 있습니다. 세 번째 던전의 \"소모 피로도\"는 10이므로, 던전을 탐험한 후 남은 피로도는 50입니다.\n",
    "남은 피로도는 50이며, 두 번째 던전을 돌기위해 필요한 \"최소 필요 피로도\"는 50이므로, 두 번째 던전을 탐험할 수 있습니다. 두 번째 던전의 \"소모 피로도\"는 40이므로, 던전을 탐험한 후 남은 피로도는 10입니다.\n",
    "따라서 이 경우 세 던전을 모두 탐험할 수 있으며, 유저가 탐험할 수 있는 최대 던전 수는 3입니다.\n",
    "\n"
   ]
  },
  {
   "cell_type": "code",
   "execution_count": 8,
   "id": "fe5fb4a2",
   "metadata": {},
   "outputs": [],
   "source": [
    "k = 80\n",
    "dungeons = [\n",
    "    [80,20],\n",
    "    [50,40],\n",
    "    [30,10]\n",
    "]"
   ]
  },
  {
   "cell_type": "code",
   "execution_count": 9,
   "id": "0553e232",
   "metadata": {},
   "outputs": [],
   "source": [
    "from itertools import permutations"
   ]
  },
  {
   "cell_type": "code",
   "execution_count": 10,
   "id": "3ecbb985",
   "metadata": {},
   "outputs": [],
   "source": [
    "def solution(k, dungeons):\n",
    "    possible = []\n",
    "    for dugeon in dungeons:\n",
    "        if dugeon[0] <= k:\n",
    "            possible.append(dugeon)\n",
    "    possible.sort(reverse=True)\n",
    "    cases = []\n",
    "    for i in range(len(possible) + 1,0,-1):\n",
    "        for case in permutations(list(range(len(possible))), i):\n",
    "            cases.append(case)\n",
    "    \n",
    "    count = 0\n",
    "    for case in cases:\n",
    "        score = k\n",
    "        if count >= len(case):\n",
    "            break\n",
    "        for i, num in enumerate(case):\n",
    "            print(score, possible[num][0])\n",
    "            if score < possible[num][0]:\n",
    "                count = max(count, i)\n",
    "                break\n",
    "            score -= possible[num][1]\n",
    "            \n",
    "            if i == len(case) - 1:\n",
    "                count = max(count, i + 1)\n",
    "    return count\n"
   ]
  },
  {
   "cell_type": "code",
   "execution_count": 11,
   "outputs": [],
   "source": [
    "from collections import deque\n",
    "def solution(k, dungeons):\n",
    "    L,n,dp = len(dungeons),0,deque()\n",
    "    dp.append([k,[]])\n",
    "    while dp:\n",
    "        print(dp)\n",
    "        p,v=dp.popleft()\n",
    "        for i in range(L):\n",
    "            [a,b]=dungeons[i]\n",
    "            if i not in v and p>=a and p-b>=1: dp.append([p-b,v+[i]])\n",
    "            else : n=max(n,len(v))\n",
    "    return n"
   ],
   "metadata": {
    "collapsed": false,
    "pycharm": {
     "name": "#%%\n"
    }
   }
  },
  {
   "cell_type": "code",
   "execution_count": 12,
   "id": "979df638",
   "metadata": {
    "pycharm": {
     "name": "#%%\n"
    }
   },
   "outputs": [
    {
     "name": "stdout",
     "output_type": "stream",
     "text": [
      "deque([[80, []]])\n",
      "deque([[60, [0]], [40, [1]], [70, [2]]])\n",
      "deque([[40, [1]], [70, [2]], [20, [0, 1]], [50, [0, 2]]])\n",
      "deque([[70, [2]], [20, [0, 1]], [50, [0, 2]], [30, [1, 2]]])\n",
      "deque([[20, [0, 1]], [50, [0, 2]], [30, [1, 2]], [30, [2, 1]]])\n",
      "deque([[50, [0, 2]], [30, [1, 2]], [30, [2, 1]]])\n",
      "deque([[30, [1, 2]], [30, [2, 1]], [10, [0, 2, 1]]])\n",
      "deque([[30, [2, 1]], [10, [0, 2, 1]]])\n",
      "deque([[10, [0, 2, 1]]])\n"
     ]
    },
    {
     "data": {
      "text/plain": "3"
     },
     "execution_count": 12,
     "metadata": {},
     "output_type": "execute_result"
    }
   ],
   "source": [
    "solution(k, dungeons)"
   ]
  }
 ],
 "metadata": {
  "kernelspec": {
   "display_name": "Python 3 (ipykernel)",
   "language": "python",
   "name": "python3"
  },
  "language_info": {
   "codemirror_mode": {
    "name": "ipython",
    "version": 3
   },
   "file_extension": ".py",
   "mimetype": "text/x-python",
   "name": "python",
   "nbconvert_exporter": "python",
   "pygments_lexer": "ipython3",
   "version": "3.8.10"
  }
 },
 "nbformat": 4,
 "nbformat_minor": 5
}