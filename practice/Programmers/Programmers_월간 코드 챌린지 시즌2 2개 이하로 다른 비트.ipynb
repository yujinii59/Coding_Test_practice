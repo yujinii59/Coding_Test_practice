{
 "cells": [
  {
   "cell_type": "markdown",
   "id": "5b394f51",
   "metadata": {},
   "source": [
    "#### 문제 설명\n",
    "양의 정수 x에 대한 함수 f(x)를 다음과 같이 정의합니다.\n",
    "\n",
    "x보다 크고 x와 비트가 1~2개 다른 수들 중에서 제일 작은 수\n",
    "\n",
    "예를 들어,\n",
    "\n",
    "f(2) = 3 입니다. 다음 표와 같이 2보다 큰 수들 중에서 비트가 다른 지점이 2개 이하이면서 제일 작은 수가 3이기 때문입니다.\n",
    "\n",
    "수\t비트\t다른 비트의 개수\n",
    "\n",
    "2\t000...0010\t\n",
    "\n",
    "3\t000...0011\t1\n",
    "\n",
    "f(7) = 11 입니다. 다음 표와 같이 7보다 큰 수들 중에서 비트가 다른 지점이 2개 이하이면서 제일 작은 수가 11이기 때문입니다.\n",
    "\n",
    "수\t비트\t다른 비트의 개수\n",
    "\n",
    "7\t000...0111\t\n",
    "\n",
    "8\t000...1000\t4\n",
    "\n",
    "9\t000...1001\t3\n",
    "\n",
    "10\t000...1010\t3\n",
    "\n",
    "11\t000...1011\t2\n",
    "\n",
    "정수들이 담긴 배열 numbers가 매개변수로 주어집니다. numbers의 모든 수들에 대하여 각 수의 f 값을 배열에 차례대로 담아 return 하도록 solution 함수를 완성해주세요.\n",
    "\n",
    "#### 제한사항\n",
    "1 ≤ numbers의 길이 ≤ 100,000\n",
    "\n",
    "0 ≤ numbers의 모든 수 ≤ 1015\n",
    "\n",
    "\n",
    "#### 입출력 예\n",
    "numbers\tresult\n",
    "\n",
    "[2,7]\t[3,11]"
   ]
  },
  {
   "cell_type": "code",
   "execution_count": 75,
   "id": "8f24f93d",
   "metadata": {},
   "outputs": [],
   "source": [
    "numbers = [143,7]"
   ]
  },
  {
   "cell_type": "code",
   "execution_count": 80,
   "id": "6a0a7265",
   "metadata": {},
   "outputs": [],
   "source": [
    "def solution(numbers):\n",
    "    answer = []\n",
    "    for number in numbers:\n",
    "        binary = bin(number)[2:]\n",
    "        n = len(binary)\n",
    "        base = '0' * 2 + binary\n",
    "        max_length = len(base)\n",
    "        i = number + 1\n",
    "        while True:\n",
    "            tmp = bin(i)[2:]\n",
    "            length = len(tmp)\n",
    "            tmp = '0' * (max_length - length) + tmp\n",
    "            cnt = 0\n",
    "            for k in range(max_length):\n",
    "                if base[k] != tmp[k]:\n",
    "                    cnt += 1\n",
    "            if cnt <= 2:\n",
    "                answer.append(i)\n",
    "                break\n",
    "            i += 1\n",
    "            \n",
    "    return answer"
   ]
  },
  {
   "cell_type": "code",
   "execution_count": 82,
   "id": "e09bfd4d",
   "metadata": {},
   "outputs": [],
   "source": [
    "def solution(numbers):\n",
    "    answer = []\n",
    "    for number in numbers:\n",
    "        binary = bin(number)[2:]\n",
    "        loc = -1\n",
    "        for i in range(len(binary) - 1, -1, -1):\n",
    "            if binary[i] == '0':\n",
    "                loc = i\n",
    "                break\n",
    "        if loc == -1:\n",
    "            bin_next = '10' + binary[1:]\n",
    "        else:\n",
    "            if len(binary) - i == 1:\n",
    "                bin_next = binary[:i] + '1'\n",
    "            else:\n",
    "                bin_next = binary[:i] + '10' + binary[i+2:]\n",
    "        answer.append(int(bin_next, 2))\n",
    "            \n",
    "    return answer"
   ]
  },
  {
   "cell_type": "code",
   "execution_count": 83,
   "id": "2785a681",
   "metadata": {},
   "outputs": [
    {
     "data": {
      "text/plain": [
       "[151, 11]"
      ]
     },
     "execution_count": 83,
     "metadata": {},
     "output_type": "execute_result"
    }
   ],
   "source": [
    "solution(numbers)"
   ]
  }
 ],
 "metadata": {
  "kernelspec": {
   "display_name": "Python 3 (ipykernel)",
   "language": "python",
   "name": "python3"
  },
  "language_info": {
   "codemirror_mode": {
    "name": "ipython",
    "version": 3
   },
   "file_extension": ".py",
   "mimetype": "text/x-python",
   "name": "python",
   "nbconvert_exporter": "python",
   "pygments_lexer": "ipython3",
   "version": "3.8.10"
  }
 },
 "nbformat": 4,
 "nbformat_minor": 5
}
