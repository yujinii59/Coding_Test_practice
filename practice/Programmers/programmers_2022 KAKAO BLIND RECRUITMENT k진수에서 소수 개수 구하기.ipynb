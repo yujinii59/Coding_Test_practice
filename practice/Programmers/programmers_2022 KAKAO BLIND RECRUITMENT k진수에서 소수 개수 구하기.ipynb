{
 "cells": [
  {
   "cell_type": "markdown",
   "id": "cb453930",
   "metadata": {},
   "source": [
    "#### 문제 설명\n",
    "양의 정수 n이 주어집니다. 이 숫자를 k진수로 바꿨을 때, 변환된 수 안에 아래 조건에 맞는 소수(Prime number)가 몇 개인지 알아보려 합니다.\n",
    "\n",
    "0P0처럼 소수 양쪽에 0이 있는 경우\n",
    "\n",
    "P0처럼 소수 오른쪽에만 0이 있고 왼쪽에는 아무것도 없는 경우\n",
    "\n",
    "0P처럼 소수 왼쪽에만 0이 있고 오른쪽에는 아무것도 없는 경우\n",
    "\n",
    "P처럼 소수 양쪽에 아무것도 없는 경우\n",
    "\n",
    "단, P는 각 자릿수에 0을 포함하지 않는 소수입니다.\n",
    "\n",
    "예를 들어, 101은 P가 될 수 없습니다.\n",
    "\n",
    "예를 들어, 437674을 3진수로 바꾸면 211020101011입니다. 여기서 찾을 수 있는 조건에 맞는 소수는 왼쪽부터 순서대로 211, 2, 11이 있으며, 총 3개입니다. (211, 2, 11을 k진법으로 보았을 때가 아닌, 10진법으로 보았을 때 소수여야 한다는 점에 주의합니다.) 211은 P0 형태에서 찾을 수 있으며, 2는 0P0에서, 11은 0P에서 찾을 수 있습니다.\n",
    "\n",
    "정수 n과 k가 매개변수로 주어집니다. n을 k진수로 바꿨을 때, 변환된 수 안에서 찾을 수 있는 위 조건에 맞는 소수의 개수를 return 하도록 solution 함수를 완성해 주세요.\n",
    "\n",
    "#### 제한사항\n",
    "1 ≤ n ≤ 1,000,000\n",
    "\n",
    "3 ≤ k ≤ 10\n",
    "\n",
    "#### 입출력 예\n",
    "n\tk\tresult\n",
    "\n",
    "437674\t3\t3\n",
    "\n",
    "110011\t10\t2\n",
    "\n",
    "##### 입출력 예 설명\n",
    "입출력 예 #1\n",
    "\n",
    "문제 예시와 같습니다.\n",
    "\n",
    "입출력 예 #2\n",
    "\n",
    "110011을 10진수로 바꾸면 110011입니다. 여기서 찾을 수 있는 조건에 맞는 소수는 11, 11 2개입니다. 이와 같이, 중복되는 소수를 발견하더라도 모두 따로 세어야 합니다.\n",
    "\n",
    "제한시간 안내\n",
    "정확성 테스트 : 10초"
   ]
  },
  {
   "cell_type": "code",
   "execution_count": 44,
   "id": "aa584f02",
   "metadata": {},
   "outputs": [],
   "source": [
    "import math"
   ]
  },
  {
   "cell_type": "code",
   "execution_count": 47,
   "id": "9108b05e",
   "metadata": {},
   "outputs": [],
   "source": [
    "def digit(n, k):\n",
    "    convert = ''\n",
    "    while n >= 1:\n",
    "        n, r = divmod(n, k)\n",
    "        convert = str(r) + convert\n",
    "        \n",
    "    return convert"
   ]
  },
  {
   "cell_type": "code",
   "execution_count": 48,
   "id": "5f48d871",
   "metadata": {},
   "outputs": [],
   "source": [
    "def prime(n):\n",
    "    n = int(n)\n",
    "    \n",
    "    if n != 2 and n % 2 == 0:\n",
    "        return False\n",
    "    \n",
    "    for i in range(3, int(math.sqrt(n)) + 1, 2):\n",
    "        if n % i == 0:\n",
    "            return False\n",
    "        \n",
    "    return True"
   ]
  },
  {
   "cell_type": "code",
   "execution_count": 49,
   "id": "5054a1f0",
   "metadata": {},
   "outputs": [],
   "source": [
    "def solution(n, k):\n",
    "    answer = 0\n",
    "    convert = digit(n, k)\n",
    "    number = ''\n",
    "    numbers = []\n",
    "    for num in convert:\n",
    "        if num != '0':\n",
    "            number += num\n",
    "            \n",
    "        else:\n",
    "            if number != '1' and number != '':\n",
    "                numbers.append(number)\n",
    "            number = ''\n",
    "    \n",
    "    if number != '' and number != '1':\n",
    "        numbers.append(number)\n",
    "        \n",
    "    for num in numbers:\n",
    "        if prime(num):\n",
    "            answer += 1\n",
    "    return answer"
   ]
  },
  {
   "cell_type": "code",
   "execution_count": 50,
   "id": "75c55476",
   "metadata": {},
   "outputs": [
    {
     "data": {
      "text/plain": [
       "3"
      ]
     },
     "execution_count": 50,
     "metadata": {},
     "output_type": "execute_result"
    }
   ],
   "source": [
    "solution(437674,3)"
   ]
  }
 ],
 "metadata": {
  "kernelspec": {
   "display_name": "Python 3 (ipykernel)",
   "language": "python",
   "name": "python3"
  },
  "language_info": {
   "codemirror_mode": {
    "name": "ipython",
    "version": 3
   },
   "file_extension": ".py",
   "mimetype": "text/x-python",
   "name": "python",
   "nbconvert_exporter": "python",
   "pygments_lexer": "ipython3",
   "version": "3.8.10"
  }
 },
 "nbformat": 4,
 "nbformat_minor": 5
}
