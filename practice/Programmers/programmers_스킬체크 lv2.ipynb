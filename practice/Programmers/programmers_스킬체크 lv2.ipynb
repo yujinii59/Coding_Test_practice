{
 "cells": [
  {
   "cell_type": "markdown",
   "id": "dffce59c",
   "metadata": {},
   "source": [
    "#### 문제 설명\n",
    "사전에 알파벳 모음 'A', 'E', 'I', 'O', 'U'만을 사용하여 만들 수 있는, 길이 5 이하의 모든 단어가 수록되어 있습니다. 사전에서 첫 번째 단어는 \"A\"이고, 그다음은 \"AA\"이며, 마지막 단어는 \"UUUUU\"입니다.\n",
    "\n",
    "단어 하나 word가 매개변수로 주어질 때, 이 단어가 사전에서 몇 번째 단어인지 return 하도록 solution 함수를 완성해주세요.\n",
    "\n",
    "#### 제한사항\n",
    "word의 길이는 1 이상 5 이하입니다.\n",
    "word는 알파벳 대문자 'A', 'E', 'I', 'O', 'U'로만 이루어져 있습니다.\n",
    "\n",
    "##### 입출력 예\n",
    "word\tresult\n",
    "\n",
    "\"AAAAE\"\t6\n",
    "\n",
    "\"AAAE\"\t10\n",
    "\n",
    "\"I\"\t1563\n",
    "\n",
    "\"EIO\"\t1189\n",
    "\n",
    "\n",
    "##### 입출력 예 설명\n",
    "입출력 예 #1\n",
    "\n",
    "사전에서 첫 번째 단어는 \"A\"이고, 그다음은 \"AA\", \"AAA\", \"AAAA\", \"AAAAA\", \"AAAAE\", ... 와 같습니다. \"AAAAE\"는 \n",
    "\n",
    "사전에서 6번째 단어입니다.\n",
    "\n",
    "입출력 예 #2\n",
    "\n",
    "\"AAAE\"는 \"A\", \"AA\", \"AAA\", \"AAAA\", \"AAAAA\", \"AAAAE\", \"AAAAI\", \"AAAAO\", \"AAAAU\"의 다음인 10번째 단어입니다.\n",
    "\n",
    "입출력 예 #3\n",
    "\n",
    "\"I\"는 1563번째 단어입니다.\n",
    "\n",
    "입출력 예 #4\n",
    "\n",
    "\"EIO\"는 1189번째 단어입니다."
   ]
  },
  {
   "cell_type": "code",
   "execution_count": 1,
   "id": "73917309",
   "metadata": {},
   "outputs": [],
   "source": [
    "alphabets = ['A','E','I','O','U']"
   ]
  },
  {
   "cell_type": "code",
   "execution_count": 3,
   "id": "5a316b3c",
   "metadata": {},
   "outputs": [],
   "source": [
    "def solution(word):\n",
    "    cnt = 0\n",
    "    order_ls = {}\n",
    "    alphabets = ['A','E','I','O','U']\n",
    "    for first in alphabets:\n",
    "        cnt += 1\n",
    "        order_ls[first] = cnt\n",
    "        for second in alphabets:\n",
    "            cnt += 1\n",
    "            order_ls[first + second] = cnt\n",
    "            for third in alphabets:\n",
    "                cnt += 1\n",
    "                order_ls[first + second + third] = cnt\n",
    "                for fourth in alphabets:\n",
    "                    cnt += 1\n",
    "                    order_ls[first + second + third + fourth] = cnt\n",
    "                    for fifth in alphabets:\n",
    "                        cnt += 1\n",
    "                        order_ls[first + second + third + fourth + fifth] = cnt\n",
    "    return order_ls[word]"
   ]
  },
  {
   "cell_type": "code",
   "execution_count": 7,
   "id": "d734dd8a",
   "metadata": {},
   "outputs": [
    {
     "name": "stdout",
     "output_type": "stream",
     "text": [
      "1563\n"
     ]
    }
   ],
   "source": [
    "print(solution('I'))"
   ]
  },
  {
   "cell_type": "code",
   "execution_count": null,
   "id": "8f505e53",
   "metadata": {},
   "outputs": [],
   "source": []
  },
  {
   "cell_type": "code",
   "execution_count": null,
   "id": "d4894990",
   "metadata": {},
   "outputs": [],
   "source": []
  },
  {
   "cell_type": "markdown",
   "id": "3f929c7c",
   "metadata": {},
   "source": [
    "문제 설명\n",
    "n개의 송전탑이 전선을 통해 하나의 트리 형태로 연결되어 있습니다. 당신은 이 전선들 중 하나를 끊어서 현재의 전력망 네트워크를 2개로 분할하려고 합니다. 이때, 두 전력망이 갖게 되는 송전탑의 개수를 최대한 비슷하게 맞추고자 합니다.\n",
    "\n",
    "송전탑의 개수 n, 그리고 전선 정보 wires가 매개변수로 주어집니다. 전선들 중 하나를 끊어서 송전탑 개수가 가능한 비슷하도록 두 전력망으로 나누었을 때, 두 전력망이 가지고 있는 송전탑 개수의 차이(절대값)를 return 하도록 solution 함수를 완성해주세요.\n",
    "\n",
    "제한사항\n",
    "n은 2 이상 100 이하인 자연수입니다.\n",
    "wires는 길이가 n-1인 정수형 2차원 배열입니다.\n",
    "wires의 각 원소는 [v1, v2] 2개의 자연수로 이루어져 있으며, 이는 전력망의 v1번 송전탑과 v2번 송전탑이 전선으로 연결되어 있다는 것을 의미합니다.\n",
    "1 ≤ v1 < v2 ≤ n 입니다.\n",
    "전력망 네트워크가 하나의 트리 형태가 아닌 경우는 입력으로 주어지지 않습니다.\n",
    "입출력 예\n",
    "n\twires\tresult\n",
    "9\t[[1,3],[2,3],[3,4],[4,5],[4,6],[4,7],[7,8],[7,9]]\t3\n",
    "4\t[[1,2],[2,3],[3,4]]\t0\n",
    "7\t[[1,2],[2,7],[3,7],[3,4],[4,5],[6,7]]\t1\n",
    "입출력 예 설명\n",
    "입출력 예 #1\n",
    "\n",
    "다음 그림은 주어진 입력을 해결하는 방법 중 하나를 나타낸 것입니다.\n",
    "ex1.png\n",
    "4번과 7번을 연결하는 전선을 끊으면 두 전력망은 각 6개와 3개의 송전탑을 가지며, 이보다 더 비슷한 개수로 전력망을 나눌 수 없습니다.\n",
    "또 다른 방법으로는 3번과 4번을 연결하는 전선을 끊어도 최선의 정답을 도출할 수 있습니다.\n",
    "입출력 예 #2\n",
    "\n",
    "다음 그림은 주어진 입력을 해결하는 방법을 나타낸 것입니다.\n",
    "ex2.png\n",
    "2번과 3번을 연결하는 전선을 끊으면 두 전력망이 모두 2개의 송전탑을 가지게 되며, 이 방법이 최선입니다.\n",
    "입출력 예 #3\n",
    "\n",
    "다음 그림은 주어진 입력을 해결하는 방법을 나타낸 것입니다.\n",
    "ex3.png\n",
    "3번과 7번을 연결하는 전선을 끊으면 두 전력망이 각각 4개와 3개의 송전탑을 가지게 되며, 이 방법이 최선입니다."
   ]
  },
  {
   "cell_type": "code",
   "execution_count": 8,
   "id": "f7269439",
   "metadata": {},
   "outputs": [],
   "source": [
    "n_ls = [9,4,7]\n",
    "wires_ls = [\n",
    "    [[1,3],[2,3],[3,4],[4,5],[4,6],[4,7],[7,8],[7,9]],\n",
    "    [[1,2],[2,3],[3,4]],\n",
    "    [[1,2],[2,7],[3,7],[3,4],[4,5],[6,7]]\n",
    "]"
   ]
  },
  {
   "cell_type": "code",
   "execution_count": 9,
   "id": "f42d1765",
   "metadata": {},
   "outputs": [],
   "source": [
    "from collections import deque\n",
    "\n",
    "def solution(n, wires):\n",
    "    towers = {i: 0 for i in range(1, n + 1)}\n",
    "    routes = {i:[] for i in range(1, n + 1)}\n",
    "    \n",
    "    cnt = len(wires)\n",
    "    \n",
    "    for wire in wires:\n",
    "        a, b = wire\n",
    "        routes[a].append(b)\n",
    "        routes[b].append(a)\n",
    "    print(routes)\n",
    "    \n",
    "    q = deque()\n",
    "    q.append(1)\n",
    "    towers[1] = 1\n",
    "    while q:\n",
    "        loc = q.popleft()\n",
    "        for route in routes[loc]:\n",
    "            if towers[route] == 0:\n",
    "                q.append(route)\n",
    "            \n",
    "                \n",
    "    "
   ]
  },
  {
   "cell_type": "code",
   "execution_count": 10,
   "id": "366cb67b",
   "metadata": {},
   "outputs": [
    {
     "name": "stdout",
     "output_type": "stream",
     "text": [
      "{1: 1, 2: 1, 3: 3, 4: 4, 5: 1, 6: 1, 7: 3, 8: 1, 9: 1}\n",
      "{1: [3], 2: [3], 3: [1, 2, 4], 4: [3, 5, 6, 7], 5: [4], 6: [4], 7: [4, 8, 9], 8: [7], 9: [7]}\n",
      "{1: 1, 2: 2, 3: 2, 4: 1}\n",
      "{1: [2], 2: [1, 3], 3: [2, 4], 4: [3]}\n",
      "{1: 1, 2: 2, 3: 2, 4: 2, 5: 1, 6: 1, 7: 3}\n",
      "{1: [2], 2: [1, 7], 3: [7, 4], 4: [3, 5], 5: [4], 6: [7], 7: [2, 3, 6]}\n"
     ]
    }
   ],
   "source": [
    "for n, wires in zip(n_ls, wires_ls):\n",
    "    solution(n, wires)"
   ]
  },
  {
   "cell_type": "code",
   "execution_count": null,
   "id": "1a71fb66",
   "metadata": {},
   "outputs": [],
   "source": []
  }
 ],
 "metadata": {
  "kernelspec": {
   "display_name": "Python 3 (ipykernel)",
   "language": "python",
   "name": "python3"
  },
  "language_info": {
   "codemirror_mode": {
    "name": "ipython",
    "version": 3
   },
   "file_extension": ".py",
   "mimetype": "text/x-python",
   "name": "python",
   "nbconvert_exporter": "python",
   "pygments_lexer": "ipython3",
   "version": "3.8.10"
  }
 },
 "nbformat": 4,
 "nbformat_minor": 5
}
