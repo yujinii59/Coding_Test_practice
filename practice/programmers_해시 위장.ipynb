{
 "cells": [
  {
   "cell_type": "markdown",
   "id": "7eb05285",
   "metadata": {},
   "source": [
    "#### 문제 설명\n",
    "스파이들은 매일 다른 옷을 조합하여 입어 자신을 위장합니다.\n",
    "\n",
    "예를 들어 스파이가 가진 옷이 아래와 같고 오늘 스파이가 동그란 안경, 긴 코트, 파란색 티셔츠를 입었다면 다음날은 청바지를 추가로 입거나 동그란 안경 대신 검정 선글라스를 착용하거나 해야 합니다.\n",
    "\n",
    "종류\t이름\n",
    "얼굴\t동그란 안경, 검정 선글라스\n",
    "상의\t파란색 티셔츠\n",
    "하의\t청바지\n",
    "겉옷\t긴 코트\n",
    "스파이가 가진 의상들이 담긴 2차원 배열 clothes가 주어질 때 서로 다른 옷의 조합의 수를 return 하도록 solution 함수를 작성해주세요.\n",
    "\n",
    "#### 제한사항\n",
    "clothes의 각 행은 [의상의 이름, 의상의 종류]로 이루어져 있습니다.\n",
    "스파이가 가진 의상의 수는 1개 이상 30개 이하입니다.\n",
    "같은 이름을 가진 의상은 존재하지 않습니다.\n",
    "clothes의 모든 원소는 문자열로 이루어져 있습니다.\n",
    "모든 문자열의 길이는 1 이상 20 이하인 자연수이고 알파벳 소문자 또는 '_' 로만 이루어져 있습니다.\n",
    "스파이는 하루에 최소 한 개의 의상은 입습니다.\n",
    "\n",
    "#### 입출력 예\n",
    "clothes\n",
    "\n",
    "[[\"yellowhat\", \"headgear\"], [\"bluesunglasses\", \"eyewear\"], [\"green_turban\", \"headgear\"]]\n",
    "\n",
    "[[\"crowmask\", \"face\"], [\"bluesunglasses\", \"face\"], [\"smoky_makeup\", \"face\"]]\n",
    "\n",
    "#### 입출력 예 설명\n",
    "예제 #1\n",
    "\n",
    "headgear에 해당하는 의상이 yellow_hat, green_turban이고 eyewear에 해당하는 의상이 blue_sunglasses이므로 아래와 같이 5개의 조합이 가능합니다.\n",
    "\n",
    "1. yellow_hat\n",
    "2. blue_sunglasses\n",
    "3. green_turban\n",
    "4. yellow_hat + blue_sunglasses\n",
    "5. green_turban + blue_sunglasses\n",
    "\n",
    "\n",
    "예제 #2\n",
    "\n",
    "face에 해당하는 의상이 crow_mask, blue_sunglasses, smoky_makeup이므로 아래와 같이 3개의 조합이 가능합니다.\n",
    "\n",
    "1. crow_mask\n",
    "2. blue_sunglasses\n",
    "3. smoky_makeup"
   ]
  },
  {
   "cell_type": "code",
   "execution_count": 1,
   "id": "9a7303c0",
   "metadata": {},
   "outputs": [],
   "source": [
    "clothes = [\n",
    "    [\n",
    "        [\"yellowhat\", \"headgear\"], \n",
    "        [\"bluesunglasses\", \"eyewear\"], \n",
    "        [\"green_turban\", \"headgear\"]\n",
    "    ],\n",
    "    [\n",
    "        [\"crowmask\", \"face\"], \n",
    "        [\"bluesunglasses\", \"face\"], \n",
    "        [\"smoky_makeup\", \"face\"]\n",
    "    ]\n",
    "]"
   ]
  },
  {
   "cell_type": "code",
   "execution_count": 2,
   "id": "481726e4",
   "metadata": {},
   "outputs": [],
   "source": [
    "from itertools import combinations\n",
    "from collections import defaultdict"
   ]
  },
  {
   "cell_type": "code",
   "execution_count": 16,
   "id": "72c681bb",
   "metadata": {},
   "outputs": [],
   "source": [
    "def solution(clothes):\n",
    "    answer = 1\n",
    "    cloth_dict = defaultdict(int)\n",
    "    for cloth, kind in clothes:\n",
    "        cloth_dict[kind]+= 1\n",
    "    for num in cloth_dict.values():\n",
    "        answer *= (num + 1)\n",
    "    answer -= 1\n",
    "    return answer"
   ]
  },
  {
   "cell_type": "code",
   "execution_count": 17,
   "id": "03c6871c",
   "metadata": {},
   "outputs": [
    {
     "name": "stdout",
     "output_type": "stream",
     "text": [
      "5\n",
      "3\n"
     ]
    }
   ],
   "source": [
    "for cloth in clothes:\n",
    "    print(solution(cloth))"
   ]
  },
  {
   "cell_type": "code",
   "execution_count": null,
   "id": "93f2cb87",
   "metadata": {},
   "outputs": [],
   "source": []
  }
 ],
 "metadata": {
  "kernelspec": {
   "display_name": "Python 3 (ipykernel)",
   "language": "python",
   "name": "python3"
  },
  "language_info": {
   "codemirror_mode": {
    "name": "ipython",
    "version": 3
   },
   "file_extension": ".py",
   "mimetype": "text/x-python",
   "name": "python",
   "nbconvert_exporter": "python",
   "pygments_lexer": "ipython3",
   "version": "3.8.10"
  }
 },
 "nbformat": 4,
 "nbformat_minor": 5
}
