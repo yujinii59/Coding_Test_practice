{
 "cells": [
  {
   "cell_type": "markdown",
   "id": "11719626",
   "metadata": {},
   "source": [
    "#### 문제 설명\n",
    "정수 n이 매개변수로 주어집니다. 다음 그림과 같이 밑변의 길이와 높이가 n인 삼각형에서 맨 위 꼭짓점부터 반시계 방향으로 달팽이 채우기를 진행한 후, 첫 행부터 마지막 행까지 모두 순서대로 합친 새로운 배열을 return 하도록 solution 함수를 완성해주세요.\n",
    "\n",
    "examples.png\n",
    "\n",
    "#### 제한사항\n",
    "n은 1 이상 1,000 이하입니다.\n",
    "\n",
    "\n",
    "#### 입출력 예\n",
    "n\tresult\n",
    "\n",
    "4\t[1,2,9,3,10,8,4,5,6,7]\n",
    "\n",
    "5\t[1,2,12,3,13,11,4,14,15,10,5,6,7,8,9]\n",
    "\n",
    "6\t[1,2,15,3,16,14,4,17,21,13,5,18,19,20,12,6,7,8,9,10,11]"
   ]
  },
  {
   "cell_type": "code",
   "execution_count": 13,
   "id": "9c771bb0",
   "metadata": {},
   "outputs": [],
   "source": [
    "from collections import deque\n",
    "\n",
    "def solution(n):\n",
    "    if n == 1:\n",
    "        return [1]\n",
    "    arr = [[0] * i for i in range(1, n + 1)]\n",
    "    move = {'down':(1,0), 'go':(0,1), 'up':(-1, -1)}\n",
    "    turn = {'down':'go','go':'up','up':'down'}\n",
    "    direction = 'down'\n",
    "    q = deque()\n",
    "    q.append((0, 0))\n",
    "    i = 0\n",
    "    while q:\n",
    "        (row, col) = q.popleft()\n",
    "        \n",
    "        if arr[row][col] == 0:\n",
    "            i += 1\n",
    "            arr[row][col] = i\n",
    "            move_row, move_col = move[direction]\n",
    "            if row + move_row < 0 or row + move_row >= n or col + move_col < 0 or col + move_col >= n:\n",
    "                direction = turn[direction]\n",
    "                move_row, move_col = move[direction]\n",
    "            elif arr[row + move_row][col + move_col] != 0:\n",
    "                direction = turn[direction]\n",
    "                move_row, move_col = move[direction]\n",
    "            q.append((row + move_row, col + move_col))\n",
    "    \n",
    "    return sum(arr, [])\n",
    "        "
   ]
  }
 ],
 "metadata": {
  "kernelspec": {
   "display_name": "Python 3 (ipykernel)",
   "language": "python",
   "name": "python3"
  },
  "language_info": {
   "codemirror_mode": {
    "name": "ipython",
    "version": 3
   },
   "file_extension": ".py",
   "mimetype": "text/x-python",
   "name": "python",
   "nbconvert_exporter": "python",
   "pygments_lexer": "ipython3",
   "version": "3.8.10"
  }
 },
 "nbformat": 4,
 "nbformat_minor": 5
}
