{
 "cells": [
  {
   "cell_type": "markdown",
   "id": "5cfe11a8",
   "metadata": {},
   "source": [
    "#### 문제 설명\n",
    "프렌즈4블록\n",
    "\n",
    "블라인드 공채를 통과한 신입 사원 라이언은 신규 게임 개발 업무를 맡게 되었다. 이번에 출시할 게임 제목은 \"프렌즈4블록\".\n",
    "\n",
    "같은 모양의 카카오프렌즈 블록이 2\u0014×2 형태로 4개가 붙어있을 경우 사라지면서 점수를 얻는 게임이다.\n",
    "\n",
    "board map\n",
    "\n",
    "만약 판이 위와 같이 주어질 경우, 라이언이 2×2로 배치된 7개 블록과 콘이 2×2로 배치된 4개 블록이 지워진다. 같은 블록은 여러 2×2에 포함될 수 있으며, 지워지는 조건에 만족하는 2×2 모양이 여러 개 있다면 한꺼번에 지워진다.\n",
    "\n",
    "board map\n",
    "\n",
    "블록이 지워진 후에 위에 있는 블록이 아래로 떨어져 빈 공간을 채우게 된다.\n",
    "\n",
    "board map\n",
    "\n",
    "만약 빈 공간을 채운 후에 다시 2×2 형태로 같은 모양의 블록이 모이면 다시 지워지고 떨어지고를 반복하게 된다.\n",
    "\n",
    "board map\n",
    "\n",
    "위 초기 배치를 문자로 표시하면 아래와 같다.\n",
    "\n",
    "TTTANT\n",
    "\n",
    "RRFACC\n",
    "\n",
    "RRRFCC\n",
    "\n",
    "TRRRAA\n",
    "\n",
    "TTMMMF\n",
    "\n",
    "TMMTTJ\n",
    "\n",
    "각 문자는 라이언(R), 무지(M), 어피치(A), 프로도(F), 네오(N), 튜브(T), 제이지(J), 콘(C)을 의미한다\n",
    "\n",
    "입력으로 블록의 첫 배치가 주어졌을 때, 지워지는 블록은 모두 몇 개인지 판단하는 프로그램을 제작하라.\n",
    "\n",
    "#### 입력 형식\n",
    "입력으로 판의 높이 m, 폭 n과 판의 배치 정보 board가 들어온다.\n",
    "\n",
    "2 ≦ n, m ≦ 30\n",
    "\n",
    "board는 길이 n인 문자열 m개의 배열로 주어진다. 블록을 나타내는 문자는 대문자 A에서 Z가 사용된다.\n",
    "\n",
    "\n",
    "#### 출력 형식\n",
    "입력으로 주어진 판 정보를 가지고 몇 개의 블록이 지워질지 출력하라.\n",
    "\n",
    "#### 입출력 예제\n",
    "m\tn\tboard\tanswer\n",
    "\n",
    "4\t5\t[\"CCBDE\", \"AAADE\", \"AAABF\", \"CCBBF\"]\t14\n",
    "\n",
    "6\t6\t[\"TTTANT\", \"RRFACC\", \"RRRFCC\", \"TRRRAA\", \"TTMMMF\", \"TMMTTJ\"]\t15\n",
    "\n",
    "##### 예제에 대한 설명\n",
    "\n",
    "입출력 예제 1의 경우, 첫 번째에는 A 블록 6개가 지워지고, 두 번째에는 B 블록 4개와 C 블록 4개가 지워져, 모두 14개의 블록이 지워진다.\n",
    "\n",
    "입출력 예제 2는 본문 설명에 있는 그림을 옮긴 것이다. 11개와 4개의 블록이 차례로 지워지며, 모두 15개의 블록이 지워진다."
   ]
  },
  {
   "cell_type": "code",
   "execution_count": 2,
   "id": "3e5e8f12",
   "metadata": {},
   "outputs": [],
   "source": [
    "m_ls = [4, 6]\n",
    "n_ls = [5, 6]\n",
    "boards = [\n",
    "    [\"CCBDE\", \"AAADE\", \"AAABF\", \"CCBBF\"],\n",
    "    [\"TTTANT\", \"RRFACC\", \"RRRFCC\", \"TRRRAA\", \"TTMMMF\", \"TMMTTJ\"]\n",
    "]"
   ]
  },
  {
   "cell_type": "code",
   "execution_count": 64,
   "id": "0eeeae17",
   "metadata": {},
   "outputs": [],
   "source": [
    "def solution(m, n, board):\n",
    "    board_copy = board.copy()\n",
    "    cnt = 0\n",
    "    col_ls = [[] for _ in range(n)]\n",
    "    for b in board_copy:\n",
    "        for k in range(n):\n",
    "            col_ls[k].append(b[k])\n",
    "    while True:\n",
    "        remove_ls = list()\n",
    "        for i in range(n - 1):\n",
    "            for j in range(m - 1):\n",
    "                if col_ls[i][j] == col_ls[i + 1][j] == col_ls[i][j + 1] == col_ls[i + 1][j + 1] and col_ls[i][j] != '-':\n",
    "                    remove_ls.extend([(i, j), (i, j + 1), (i + 1, j), (i + 1, j + 1)])\n",
    "                    \n",
    "        if len(remove_ls) == 0:\n",
    "            break\n",
    "            \n",
    "        remove_set = sorted(set(remove_ls), reverse=True)\n",
    "        for coord in remove_set:\n",
    "            x, y= coord\n",
    "            col_ls[x].pop(y)\n",
    "\n",
    "        for i in range(n):\n",
    "            col = col_ls[i]\n",
    "            if len(col) < m:\n",
    "                col_ls[i] = ['-'] * (m - len(col)) + col\n",
    "                \n",
    "        cnt += len(remove_set)\n",
    "    return cnt"
   ]
  },
  {
   "cell_type": "code",
   "execution_count": 60,
   "id": "9ded6d58",
   "metadata": {},
   "outputs": [
    {
     "name": "stdout",
     "output_type": "stream",
     "text": [
      "[['C', 'A', 'A', 'C'], ['C', 'A', 'A', 'C'], ['B', 'A', 'A', 'B'], ['D', 'D', 'B', 'B'], ['E', 'E', 'F', 'F']]\n",
      "[(2, 2), (2, 1), (2, 0), (1, 2), (1, 1), (1, 0)]\n",
      "[['-', '-', 'C', 'C'], ['-', '-', 'C', 'C'], ['-', '-', 'B', 'B'], ['D', 'D', 'B', 'B'], ['E', 'E', 'F', 'F']]\n",
      "6\n",
      "None\n",
      "[['T', 'R', 'R', 'T', 'T', 'T'], ['T', 'R', 'R', 'R', 'T', 'M'], ['T', 'F', 'R', 'R', 'M', 'M'], ['A', 'A', 'F', 'R', 'M', 'T'], ['N', 'C', 'C', 'A', 'M', 'T'], ['T', 'C', 'C', 'A', 'F', 'J']]\n",
      "[(3, 2), (3, 1), (2, 5), (2, 4), (2, 2), (2, 1), (2, 0), (1, 5), (1, 4), (1, 1), (1, 0)]\n",
      "[['-', '-', 'T', 'T', 'T', 'T'], ['-', '-', '-', 'T', 'T', 'M'], ['-', '-', 'T', 'F', 'M', 'M'], ['A', 'A', 'F', 'R', 'M', 'T'], ['-', '-', 'N', 'A', 'M', 'T'], ['-', '-', 'T', 'A', 'F', 'J']]\n",
      "11\n",
      "None\n"
     ]
    }
   ],
   "source": [
    "for m, n, board in zip(m_ls, n_ls, boards):\n",
    "    print(solution(m, n, board))"
   ]
  },
  {
   "cell_type": "code",
   "execution_count": 65,
   "id": "72fc660b",
   "metadata": {},
   "outputs": [
    {
     "name": "stdout",
     "output_type": "stream",
     "text": [
      "[['C', 'A', 'A', 'C'], ['C', 'A', 'A', 'C'], ['B', 'A', 'A', 'B'], ['D', 'D', 'B', 'B'], ['E', 'E', 'F', 'F']]\n",
      "[(2, 2), (2, 1), (1, 2), (1, 1), (0, 2), (0, 1)]\n",
      "[['-', '-', 'C', 'C'], ['-', '-', 'C', 'C'], ['-', '-', 'B', 'B'], ['D', 'D', 'B', 'B'], ['E', 'E', 'F', 'F']]\n",
      "[(3, 3), (3, 2), (2, 3), (2, 2), (1, 3), (1, 2), (0, 3), (0, 2)]\n",
      "[['-', '-', '-', '-'], ['-', '-', '-', '-'], ['-', '-', '-', '-'], ['-', '-', 'D', 'D'], ['E', 'E', 'F', 'F']]\n",
      "14\n",
      "None\n",
      "[['T', 'R', 'R', 'T', 'T', 'T'], ['T', 'R', 'R', 'R', 'T', 'M'], ['T', 'F', 'R', 'R', 'M', 'M'], ['A', 'A', 'F', 'R', 'M', 'T'], ['N', 'C', 'C', 'A', 'M', 'T'], ['T', 'C', 'C', 'A', 'F', 'J']]\n",
      "[(5, 2), (5, 1), (4, 2), (4, 1), (2, 3), (2, 2), (1, 3), (1, 2), (1, 1), (0, 2), (0, 1)]\n",
      "[['-', '-', 'T', 'T', 'T', 'T'], ['-', '-', '-', 'T', 'T', 'M'], ['-', '-', 'T', 'F', 'M', 'M'], ['A', 'A', 'F', 'R', 'M', 'T'], ['-', '-', 'N', 'A', 'M', 'T'], ['-', '-', 'T', 'A', 'F', 'J']]\n",
      "[(1, 4), (1, 3), (0, 4), (0, 3)]\n",
      "[['-', '-', '-', '-', 'T', 'T'], ['-', '-', '-', '-', '-', 'M'], ['-', '-', 'T', 'F', 'M', 'M'], ['A', 'A', 'F', 'R', 'M', 'T'], ['-', '-', 'N', 'A', 'M', 'T'], ['-', '-', 'T', 'A', 'F', 'J']]\n",
      "15\n",
      "None\n"
     ]
    }
   ],
   "source": [
    "for m, n, board in zip(m_ls, n_ls, boards):\n",
    "    print(solution(m, n, board))"
   ]
  },
  {
   "cell_type": "code",
   "execution_count": 21,
   "id": "9125b1e8",
   "metadata": {},
   "outputs": [
    {
     "data": {
      "text/plain": [
       "array([[1, 2, 3, 4]])"
      ]
     },
     "execution_count": 21,
     "metadata": {},
     "output_type": "execute_result"
    }
   ],
   "source": [
    "import numpy as np\n",
    "arr = np.array([[1,2],[3,4]])\n",
    "arr.resize(1,4)\n",
    "arr"
   ]
  },
  {
   "cell_type": "code",
   "execution_count": null,
   "id": "13187b6c",
   "metadata": {},
   "outputs": [],
   "source": []
  }
 ],
 "metadata": {
  "kernelspec": {
   "display_name": "Python 3 (ipykernel)",
   "language": "python",
   "name": "python3"
  },
  "language_info": {
   "codemirror_mode": {
    "name": "ipython",
    "version": 3
   },
   "file_extension": ".py",
   "mimetype": "text/x-python",
   "name": "python",
   "nbconvert_exporter": "python",
   "pygments_lexer": "ipython3",
   "version": "3.8.10"
  }
 },
 "nbformat": 4,
 "nbformat_minor": 5
}
