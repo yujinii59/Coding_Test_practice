{
 "cells": [
  {
   "cell_type": "markdown",
   "id": "d197dd83",
   "metadata": {},
   "source": [
    "#### 문제 설명\n",
    "프로그래머스 팀에서는 기능 개선 작업을 수행 중입니다. 각 기능은 진도가 100%일 때 서비스에 반영할 수 있습니다.\n",
    "\n",
    "또, 각 기능의 개발속도는 모두 다르기 때문에 뒤에 있는 기능이 앞에 있는 기능보다 먼저 개발될 수 있고, 이때 뒤에 있는 기능은 앞에 있는 기능이 배포될 때 함께 배포됩니다.\n",
    "\n",
    "먼저 배포되어야 하는 순서대로 작업의 진도가 적힌 정수 배열 progresses와 각 작업의 개발 속도가 적힌 정수 배열 speeds가 주어질 때 각 배포마다 몇 개의 기능이 배포되는지를 return 하도록 solution 함수를 완성하세요.\n",
    "\n",
    "#### 제한 사항\n",
    "작업의 개수(progresses, speeds배열의 길이)는 100개 이하입니다.\n",
    "작업 진도는 100 미만의 자연수입니다.\n",
    "작업 속도는 100 이하의 자연수입니다.\n",
    "배포는 하루에 한 번만 할 수 있으며, 하루의 끝에 이루어진다고 가정합니다. 예를 들어 진도율이 95%인 작업의 개발 속도가 하루에 4%라면 배포는 2일 뒤에 이루어집니다.\n"
   ]
  },
  {
   "cell_type": "code",
   "execution_count": 10,
   "id": "f1baab35",
   "metadata": {},
   "outputs": [],
   "source": [
    "# 입출력 예\n",
    "# progresses\tspeeds\treturn\n",
    "progresses = [\n",
    "        [93, 30, 55],\n",
    "        [95, 90, 99, 99, 80, 99]\n",
    "    ]\n",
    "speeds = [\n",
    "        [1, 30, 5], \n",
    "        [1, 1, 1, 1, 1, 1]\n",
    "    ]\n",
    "# [2, 1], [1, 3, 2]"
   ]
  },
  {
   "cell_type": "code",
   "execution_count": 13,
   "id": "c0624ac9",
   "metadata": {},
   "outputs": [],
   "source": [
    "from collections import deque\n",
    "\n",
    "\n",
    "def solution(progresses, speeds):\n",
    "    answer = []\n",
    "    progresses = deque(progresses)\n",
    "    speeds = deque(speeds)\n",
    "    while progresses:\n",
    "        cnt = 0\n",
    "        c_progresses = progresses.copy()\n",
    "        c_speeds = speeds.copy()\n",
    "        for i, (progress, speed) in enumerate(zip(c_progresses, c_speeds)):\n",
    "            if progress + speed >= 100 and i == cnt:\n",
    "                if progresses == c_progresses:\n",
    "                    cnt += 1\n",
    "                else:\n",
    "                    progresses[i] += speed\n",
    "\n",
    "            else:\n",
    "                progresses[i] += speed\n",
    "        if cnt > 0:\n",
    "            answer.append(cnt)\n",
    "            for i in range(cnt):\n",
    "                progresses.popleft()\n",
    "                speeds.popleft()\n",
    "\n",
    "    return answer"
   ]
  },
  {
   "cell_type": "code",
   "execution_count": 14,
   "id": "68fbf217",
   "metadata": {},
   "outputs": [
    {
     "name": "stdout",
     "output_type": "stream",
     "text": [
      "[2, 1]\n",
      "[1, 3, 2]\n"
     ]
    }
   ],
   "source": [
    "for progress, speed in zip(progresses, speeds):\n",
    "    print(solution(progress, speed))"
   ]
  },
  {
   "cell_type": "code",
   "execution_count": null,
   "id": "45d6d5de",
   "metadata": {},
   "outputs": [],
   "source": []
  }
 ],
 "metadata": {
  "kernelspec": {
   "display_name": "Python 3 (ipykernel)",
   "language": "python",
   "name": "python3"
  },
  "language_info": {
   "codemirror_mode": {
    "name": "ipython",
    "version": 3
   },
   "file_extension": ".py",
   "mimetype": "text/x-python",
   "name": "python",
   "nbconvert_exporter": "python",
   "pygments_lexer": "ipython3",
   "version": "3.8.10"
  }
 },
 "nbformat": 4,
 "nbformat_minor": 5
}
