{
 "cells": [
  {
   "cell_type": "markdown",
   "id": "4843fa02",
   "metadata": {},
   "source": [
    "####문제 설명\n",
    "게임 캐릭터를 4가지 명령어를 통해 움직이려 합니다. 명령어는 다음과 같습니다.\n",
    "\n",
    "U: 위쪽으로 한 칸 가기\n",
    "\n",
    "D: 아래쪽으로 한 칸 가기\n",
    "\n",
    "R: 오른쪽으로 한 칸 가기\n",
    "\n",
    "L: 왼쪽으로 한 칸 가기\n",
    "\n",
    "캐릭터는 좌표평면의 (0, 0) 위치에서 시작합니다. 좌표평면의 경계는 왼쪽 위(-5, 5), 왼쪽 아래(-5, -5), 오른쪽 위(5, 5), 오른쪽 아래(5, -5)로 이루어져 있습니다.\n",
    "\n",
    "방문길이1_qpp9l3.png\n",
    "\n",
    "예를 들어, \"ULURRDLLU\"로 명령했다면\n",
    "\n",
    "방문길이2_lezmdo.png\n",
    "\n",
    "1번 명령어부터 7번 명령어까지 다음과 같이 움직입니다.\n",
    "\n",
    "방문길이3_sootjd.png\n",
    "\n",
    "8번 명령어부터 9번 명령어까지 다음과 같이 움직입니다.\n",
    "\n",
    "방문길이4_hlpiej.png\n",
    "\n",
    "이때, 우리는 게임 캐릭터가 지나간 길 중 캐릭터가 처음 걸어본 길의 길이를 구하려고 합니다. 예를 들어 위의 예시에서 게임 캐릭터가 움직인 길이는 9이지만, 캐릭터가 처음 걸어본 길의 길이는 7이 됩니다. (8, 9번 명령어에서 움직인 길은 2, 3번 명령어에서 이미 거쳐 간 길입니다)\n",
    "\n",
    "단, 좌표평면의 경계를 넘어가는 명령어는 무시합니다.\n",
    "\n",
    "예를 들어, \"LULLLLLLU\"로 명령했다면\n",
    "\n",
    "방문길이5_nitjwj.png\n",
    "\n",
    "1번 명령어부터 6번 명령어대로 움직인 후, 7, 8번 명령어는 무시합니다. 다시 9번 명령어대로 움직입니다.\n",
    "\n",
    "방문길이6_nzhumd.png\n",
    "\n",
    "이때 캐릭터가 처음 걸어본 길의 길이는 7이 됩니다.\n",
    "\n",
    "명령어가 매개변수 dirs로 주어질 때, 게임 캐릭터가 처음 걸어본 길의 길이를 구하여 return 하는 solution 함수를 완성해 주세요.\n",
    "\n",
    "#### 제한사항\n",
    "dirs는 string형으로 주어지며, 'U', 'D', 'R', 'L' 이외에 문자는 주어지지 않습니다.\n",
    "\n",
    "dirs의 길이는 500 이하의 자연수입니다.\n",
    "\n",
    "#### 입출력 예\n",
    "dirs\tanswer\n",
    "\n",
    "\"ULURRDLLU\"\t7\n",
    "\n",
    "\"LULLLLLLU\"\t7"
   ]
  },
  {
   "cell_type": "code",
   "execution_count": 1,
   "id": "a8cc8d0b",
   "metadata": {},
   "outputs": [],
   "source": [
    "dirs_ls = [\n",
    "    'ULURRDLLU',\n",
    "    'LULLLLLLU'\n",
    "]"
   ]
  },
  {
   "cell_type": "code",
   "execution_count": 12,
   "id": "9294eeb9",
   "metadata": {},
   "outputs": [],
   "source": [
    "directions = {'U': (0,1), 'D': (0, -1), 'L': (-1, 0), 'R': (1, 0)}\n",
    "def solution(dirs):\n",
    "    x, y = 0, 0\n",
    "    route = []\n",
    "    for d in dirs:\n",
    "        tmp_x = x + directions[d][0]\n",
    "        tmp_y = y + directions[d][1]\n",
    "        if tmp_x < -5 or tmp_x >5 or tmp_y < -5 or tmp_y > 5:\n",
    "            continue\n",
    "        else:\n",
    "            if d == 'U' or d == 'R':\n",
    "                if (x,y,tmp_x,tmp_y) not in route:\n",
    "                    route.append((x,y,tmp_x,tmp_y))\n",
    "            else:\n",
    "                if (tmp_x, tmp_y, x, y) not in route:\n",
    "                    route.append((tmp_x, tmp_y, x, y))\n",
    "            \n",
    "            x, y = tmp_x, tmp_y\n",
    "    \n",
    "    answer = len(route)\n",
    "    return answer    "
   ]
  },
  {
   "cell_type": "code",
   "execution_count": 13,
   "id": "b5852825",
   "metadata": {},
   "outputs": [
    {
     "name": "stdout",
     "output_type": "stream",
     "text": [
      "[(0, 0, 0, 1)] U 0 1 0 1\n",
      "[(0, 0, 0, 1), (-1, 1, 0, 1)] L -1 1 -1 1\n",
      "[(0, 0, 0, 1), (-1, 1, 0, 1), (-1, 1, -1, 2)] U -1 2 -1 2\n",
      "[(0, 0, 0, 1), (-1, 1, 0, 1), (-1, 1, -1, 2), (-1, 2, 0, 2)] R 0 2 0 2\n",
      "[(0, 0, 0, 1), (-1, 1, 0, 1), (-1, 1, -1, 2), (-1, 2, 0, 2), (0, 2, 1, 2)] R 1 2 1 2\n",
      "[(0, 0, 0, 1), (-1, 1, 0, 1), (-1, 1, -1, 2), (-1, 2, 0, 2), (0, 2, 1, 2), (1, 1, 1, 2)] D 1 1 1 1\n",
      "[(0, 0, 0, 1), (-1, 1, 0, 1), (-1, 1, -1, 2), (-1, 2, 0, 2), (0, 2, 1, 2), (1, 1, 1, 2), (0, 1, 1, 1)] L 0 1 0 1\n",
      "[(0, 0, 0, 1), (-1, 1, 0, 1), (-1, 1, -1, 2), (-1, 2, 0, 2), (0, 2, 1, 2), (1, 1, 1, 2), (0, 1, 1, 1)] L -1 1 -1 1\n",
      "[(0, 0, 0, 1), (-1, 1, 0, 1), (-1, 1, -1, 2), (-1, 2, 0, 2), (0, 2, 1, 2), (1, 1, 1, 2), (0, 1, 1, 1)] U -1 2 -1 2\n",
      "7\n",
      "[(-1, 0, 0, 0)] L -1 0 -1 0\n",
      "[(-1, 0, 0, 0), (-1, 0, -1, 1)] U -1 1 -1 1\n",
      "[(-1, 0, 0, 0), (-1, 0, -1, 1), (-2, 1, -1, 1)] L -2 1 -2 1\n",
      "[(-1, 0, 0, 0), (-1, 0, -1, 1), (-2, 1, -1, 1), (-3, 1, -2, 1)] L -3 1 -3 1\n",
      "[(-1, 0, 0, 0), (-1, 0, -1, 1), (-2, 1, -1, 1), (-3, 1, -2, 1), (-4, 1, -3, 1)] L -4 1 -4 1\n",
      "[(-1, 0, 0, 0), (-1, 0, -1, 1), (-2, 1, -1, 1), (-3, 1, -2, 1), (-4, 1, -3, 1), (-5, 1, -4, 1)] L -5 1 -5 1\n",
      "[(-1, 0, 0, 0), (-1, 0, -1, 1), (-2, 1, -1, 1), (-3, 1, -2, 1), (-4, 1, -3, 1), (-5, 1, -4, 1), (-5, 1, -5, 2)] U -5 2 -5 2\n",
      "7\n"
     ]
    }
   ],
   "source": [
    "for dirs in dirs_ls:\n",
    "    print(solution(dirs))"
   ]
  },
  {
   "cell_type": "code",
   "execution_count": null,
   "id": "5691f483",
   "metadata": {},
   "outputs": [],
   "source": []
  }
 ],
 "metadata": {
  "kernelspec": {
   "display_name": "Python 3 (ipykernel)",
   "language": "python",
   "name": "python3"
  },
  "language_info": {
   "codemirror_mode": {
    "name": "ipython",
    "version": 3
   },
   "file_extension": ".py",
   "mimetype": "text/x-python",
   "name": "python",
   "nbconvert_exporter": "python",
   "pygments_lexer": "ipython3",
   "version": "3.8.10"
  }
 },
 "nbformat": 4,
 "nbformat_minor": 5
}
