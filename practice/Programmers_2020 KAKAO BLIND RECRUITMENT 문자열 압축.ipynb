{
 "cells": [
  {
   "cell_type": "code",
   "execution_count": 1,
   "id": "648d33d7",
   "metadata": {},
   "outputs": [],
   "source": [
    "problems = [\"aabbaccc\",\t#7\n",
    "\"ababcdcdababcdcd\",\t#9\n",
    "\"abcabcdede\",\t#8\n",
    "\"abcabcabcabcdededededede\",\t#14\n",
    "\"xababcdcdababcdcd\"]\t#17"
   ]
  },
  {
   "cell_type": "code",
   "execution_count": 2,
   "id": "ab745e7f",
   "metadata": {},
   "outputs": [],
   "source": [
    "def solution(s:str):\n",
    "    answer = int(1e9)\n",
    "    for i in range(1, len(s) + 1):\n",
    "        bstr = ''\n",
    "        count = 1\n",
    "        string = ''\n",
    "        for j in range(len(s) // i):\n",
    "            if bstr == s[i * j: i * (j + 1)]:\n",
    "                count += 1\n",
    "            else:\n",
    "                if count != 1:\n",
    "                    string += str(count) + bstr\n",
    "                else:\n",
    "                    string += bstr\n",
    "                bstr = s[i * j: i * (j + 1)]\n",
    "                count = 1\n",
    "        if count != 1:\n",
    "            string += str(count) + bstr + s[i * (len(s) // i):]\n",
    "        else:\n",
    "            string += bstr + s[i * (len(s) // i):]\n",
    "        answer = min(answer, len(string))\n",
    "    return answer"
   ]
  },
  {
   "cell_type": "code",
   "execution_count": 3,
   "id": "28b22a3d",
   "metadata": {},
   "outputs": [
    {
     "name": "stdout",
     "output_type": "stream",
     "text": [
      "7\n",
      "9\n",
      "8\n",
      "14\n",
      "17\n"
     ]
    }
   ],
   "source": [
    "for string in problems:\n",
    "    print(solution(string))"
   ]
  },
  {
   "cell_type": "code",
   "execution_count": null,
   "id": "0d41dc19",
   "metadata": {},
   "outputs": [],
   "source": []
  }
 ],
 "metadata": {
  "kernelspec": {
   "display_name": "Python 3 (ipykernel)",
   "language": "python",
   "name": "python3"
  },
  "language_info": {
   "codemirror_mode": {
    "name": "ipython",
    "version": 3
   },
   "file_extension": ".py",
   "mimetype": "text/x-python",
   "name": "python",
   "nbconvert_exporter": "python",
   "pygments_lexer": "ipython3",
   "version": "3.8.10"
  }
 },
 "nbformat": 4,
 "nbformat_minor": 5
}
