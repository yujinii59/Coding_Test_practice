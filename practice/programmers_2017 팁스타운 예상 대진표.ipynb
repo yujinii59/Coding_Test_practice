{
 "cells": [
  {
   "cell_type": "markdown",
   "id": "93edd083",
   "metadata": {},
   "source": [
    "#### 문제 설명\n",
    "△△ 게임대회가 개최되었습니다. \n",
    "\n",
    "이 대회는 N명이 참가하고, 토너먼트 형식으로 진행됩니다. \n",
    "\n",
    "N명의 참가자는 각각 1부터 N번을 차례대로 배정받습니다. \n",
    "\n",
    "그리고, 1번↔2번, 3번↔4번, ... , N-1번↔N번의 참가자끼리 게임을 진행합니다. \n",
    "\n",
    "각 게임에서 이긴 사람은 다음 라운드에 진출할 수 있습니다. \n",
    "\n",
    "이때, 다음 라운드에 진출할 참가자의 번호는 다시 1번부터 N/2번을 차례대로 배정받습니다. \n",
    "\n",
    "만약 1번↔2번 끼리 겨루는 게임에서 2번이 승리했다면 다음 라운드에서 1번을 부여받고, 3번↔4번에서 겨루는 게임에서 3번이 승리했다면 다음 라운드에서 2번을 부여받게 됩니다. \n",
    "\n",
    "게임은 최종 한 명이 남을 때까지 진행됩니다.\n",
    "\n",
    "이때, 처음 라운드에서 A번을 가진 참가자는 경쟁자로 생각하는 B번 참가자와 몇 번째 라운드에서 만나는지 궁금해졌습니다. \n",
    "\n",
    "게임 참가자 수 N, 참가자 번호 A, 경쟁자 번호 B가 함수 solution의 매개변수로 주어질 때, 처음 라운드에서 A번을 가진 참가자는 경쟁자로 생각하는 B번 참가자와 몇 번째 라운드에서 만나는지 return 하는 solution 함수를 완성해 주세요. \n",
    "\n",
    "단, A번 참가자와 B번 참가자는 서로 붙게 되기 전까지 항상 이긴다고 가정합니다.\n",
    "\n",
    "#### 제한사항\n",
    "N : 2^1 이상 2^20 이하인 자연수 (2의 지수 승으로 주어지므로 부전승은 발생하지 않습니다.)\n",
    "\n",
    "A, B : N 이하인 자연수 (단, A ≠ B 입니다.)\n",
    "\n",
    "    \n",
    "#### 입출력 예\n",
    "N\tA\tB\tanswer\n",
    "\n",
    "8\t4\t7\t3\n",
    "\n",
    "##### 입출력 예 설명\n",
    "입출력 예 #1\n",
    "\n",
    "첫 번째 라운드에서 4번 참가자는 3번 참가자와 붙게 되고, 7번 참가자는 8번 참가자와 붙게 됩니다. \n",
    "\n",
    "항상 이긴다고 가정했으므로 4번 참가자는 다음 라운드에서 2번이 되고, 7번 참가자는 4번이 됩니다. \n",
    "\n",
    "두 번째 라운드에서 2번은 1번과 붙게 되고, 4번은 3번과 붙게 됩니다. \n",
    "\n",
    "항상 이긴다고 가정했으므로 2번은 다음 라운드에서 1번이 되고, 4번은 2번이 됩니다. \n",
    "\n",
    "세 번째 라운드에서 1번과 2번으로 두 참가자가 붙게 되므로 3을 return 하면 됩니다."
   ]
  },
  {
   "cell_type": "code",
   "execution_count": 1,
   "id": "cf987055",
   "metadata": {},
   "outputs": [],
   "source": [
    "n = 8\n",
    "a = 4\n",
    "b = 7"
   ]
  },
  {
   "cell_type": "code",
   "execution_count": 10,
   "id": "7da69728",
   "metadata": {},
   "outputs": [],
   "source": [
    "def solution(n, a, b):\n",
    "    i = 0\n",
    "    while n > 0:\n",
    "        i += 1\n",
    "        round_a = (a + 1) // 2\n",
    "        round_b = (b + 1) // 2\n",
    "        if round_a == round_b:\n",
    "            break\n",
    "        \n",
    "        a = (a + 1) // 2\n",
    "        b = (b + 1) // 2\n",
    "        n //= 2\n",
    "    \n",
    "    return i"
   ]
  },
  {
   "cell_type": "code",
   "execution_count": 11,
   "id": "407a9395",
   "metadata": {},
   "outputs": [
    {
     "name": "stdout",
     "output_type": "stream",
     "text": [
      "3 1 1\n"
     ]
    },
    {
     "data": {
      "text/plain": [
       "3"
      ]
     },
     "execution_count": 11,
     "metadata": {},
     "output_type": "execute_result"
    }
   ],
   "source": [
    "solution(n, a, b)"
   ]
  },
  {
   "cell_type": "code",
   "execution_count": null,
   "id": "11ca8949",
   "metadata": {},
   "outputs": [],
   "source": []
  }
 ],
 "metadata": {
  "kernelspec": {
   "display_name": "Python 3 (ipykernel)",
   "language": "python",
   "name": "python3"
  },
  "language_info": {
   "codemirror_mode": {
    "name": "ipython",
    "version": 3
   },
   "file_extension": ".py",
   "mimetype": "text/x-python",
   "name": "python",
   "nbconvert_exporter": "python",
   "pygments_lexer": "ipython3",
   "version": "3.8.10"
  }
 },
 "nbformat": 4,
 "nbformat_minor": 5
}
