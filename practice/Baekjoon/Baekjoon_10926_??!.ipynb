{
 "cells": [
  {
   "cell_type": "markdown",
   "id": "d25bbbf1",
   "metadata": {},
   "source": [
    "#### 문제\n",
    "준하는 사이트에 회원가입을 하다가 joonas라는 아이디가 이미 존재하는 것을 보고 놀랐다. 준하는 놀람을 ??!로 표현한다. 준하가 가입하려고 하는 사이트에 이미 존재하는 아이디가 주어졌을 때, 놀람을 표현하는 프로그램을 작성하시오.\n",
    "\n",
    "#### 입력\n",
    "첫째 줄에 준하가 가입하려고 하는 사이트에 이미 존재하는 아이디가 주어진다. 아이디는 알파벳 소문자로만 이루어져 있으며, 길이는 50자를 넘지 않는다.\n",
    "\n",
    "#### 출력\n",
    "첫째 줄에 준하의 놀람을 출력한다. 놀람은 아이디 뒤에 ??!를 붙여서 나타낸다.\n",
    "\n",
    "#### 예제 입력 1 \n",
    "joonas\n",
    "#### 예제 출력 1 \n",
    "joonas??!\n",
    "#### 예제 입력 2 \n",
    "baekjoon\n",
    "#### 예제 출력 2 \n",
    "baekjoon??!"
   ]
  },
  {
   "cell_type": "code",
   "execution_count": 1,
   "id": "91db5bbf",
   "metadata": {},
   "outputs": [
    {
     "name": "stdout",
     "output_type": "stream",
     "text": [
      "joonas\n",
      "joonas??!\n"
     ]
    }
   ],
   "source": [
    "s = input()\n",
    "print(s + '??!')"
   ]
  },
  {
   "cell_type": "code",
   "execution_count": null,
   "id": "43fab898",
   "metadata": {},
   "outputs": [],
   "source": []
  }
 ],
 "metadata": {
  "kernelspec": {
   "display_name": "Python 3 (ipykernel)",
   "language": "python",
   "name": "python3"
  },
  "language_info": {
   "codemirror_mode": {
    "name": "ipython",
    "version": 3
   },
   "file_extension": ".py",
   "mimetype": "text/x-python",
   "name": "python",
   "nbconvert_exporter": "python",
   "pygments_lexer": "ipython3",
   "version": "3.8.10"
  }
 },
 "nbformat": 4,
 "nbformat_minor": 5
}
