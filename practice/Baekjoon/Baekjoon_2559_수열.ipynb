{
 "cells": [
  {
   "cell_type": "markdown",
   "id": "9452b6bd",
   "metadata": {},
   "source": [
    "#### 문제\n",
    "매일 아침 9시에 학교에서 측정한 온도가 어떤 정수의 수열로 주어졌을 때, 연속적인 며칠 동안의 온도의 합이 가장 큰 값을 알아보고자 한다.\n",
    "\n",
    "예를 들어, 아래와 같이 10일 간의 온도가 주어졌을 때, \n",
    "\n",
    "3 -2 -4 -9 0 3 7 13 8 -3\n",
    "\n",
    "모든 연속적인 이틀간의 온도의 합은 아래와 같다.\n",
    "\n",
    "\n",
    "\n",
    "이때, 온도의 합이 가장 큰 값은 21이다. \n",
    "\n",
    "또 다른 예로 위와 같은 온도가 주어졌을 때, 모든 연속적인 5일 간의 온도의 합은 아래와 같으며, \n",
    "\n",
    "\n",
    "\n",
    "이때, 온도의 합이 가장 큰 값은 31이다.\n",
    "\n",
    "매일 측정한 온도가 정수의 수열로 주어졌을 때, 연속적인 며칠 동안의 온도의 합이 가장 큰 값을 계산하는 프로그램을 작성하시오. \n",
    "\n",
    "#### 입력\n",
    "첫째 줄에는 두 개의 정수 N과 K가 한 개의 공백을 사이에 두고 순서대로 주어진다. 첫 번째 정수 N은 온도를 측정한 전체 날짜의 수이다. N은 2 이상 100,000 이하이다. 두 번째 정수 K는 합을 구하기 위한 연속적인 날짜의 수이다. K는 1과 N 사이의 정수이다. 둘째 줄에는 매일 측정한 온도를 나타내는 N개의 정수가 빈칸을 사이에 두고 주어진다. 이 수들은 모두 -100 이상 100 이하이다. \n",
    "\n",
    "#### 출력\n",
    "첫째 줄에는 입력되는 온도의 수열에서 연속적인 K일의 온도의 합이 최대가 되는 값을 출력한다.\n",
    "\n",
    "#### 예제 입력 1 \n",
    "10 2\n",
    "\n",
    "3 -2 -4 -9 0 3 7 13 8 -3\n",
    "\n",
    "#### 예제 출력 1 \n",
    "21\n",
    "\n",
    "#### 예제 입력 2 \n",
    "10 5\n",
    "\n",
    "3 -2 -4 -9 0 3 7 13 8 -3\n",
    "\n",
    "#### 예제 출력 2 \n",
    "31"
   ]
  },
  {
   "cell_type": "code",
   "execution_count": 1,
   "id": "7fd7751d",
   "metadata": {},
   "outputs": [
    {
     "name": "stdout",
     "output_type": "stream",
     "text": [
      "10 2\n",
      "3 -2 -4 -9 0 3 7 13 8 -3\n"
     ]
    },
    {
     "ename": "TypeError",
     "evalue": "'>' not supported between instances of 'list' and 'int'",
     "output_type": "error",
     "traceback": [
      "\u001b[0;31m---------------------------------------------------------------------------\u001b[0m",
      "\u001b[0;31mTypeError\u001b[0m                                 Traceback (most recent call last)",
      "Input \u001b[0;32mIn [1]\u001b[0m, in \u001b[0;36m<module>\u001b[0;34m\u001b[0m\n\u001b[1;32m      3\u001b[0m max_total \u001b[38;5;241m=\u001b[39m \u001b[38;5;241m0\u001b[39m\n\u001b[1;32m      4\u001b[0m \u001b[38;5;28;01mfor\u001b[39;00m i \u001b[38;5;129;01min\u001b[39;00m \u001b[38;5;28mrange\u001b[39m(\u001b[38;5;241m1\u001b[39m, n):\n\u001b[0;32m----> 5\u001b[0m     max_total \u001b[38;5;241m=\u001b[39m \u001b[38;5;28;43mmax\u001b[39;49m\u001b[43m(\u001b[49m\u001b[43mmax_total\u001b[49m\u001b[43m,\u001b[49m\u001b[43m \u001b[49m\u001b[43mtemp\u001b[49m\u001b[43m[\u001b[49m\u001b[43mi\u001b[49m\u001b[43m \u001b[49m\u001b[38;5;241;43m-\u001b[39;49m\u001b[43m \u001b[49m\u001b[38;5;241;43m1\u001b[39;49m\u001b[43m \u001b[49m\u001b[43m:\u001b[49m\u001b[43m \u001b[49m\u001b[43mi\u001b[49m\u001b[43m \u001b[49m\u001b[38;5;241;43m+\u001b[39;49m\u001b[43m \u001b[49m\u001b[38;5;241;43m1\u001b[39;49m\u001b[43m]\u001b[49m\u001b[43m)\u001b[49m\n",
      "\u001b[0;31mTypeError\u001b[0m: '>' not supported between instances of 'list' and 'int'"
     ]
    }
   ],
   "source": [
    "n, k = map(int, input().split())\n",
    "temp = list(map(int, input().split()))\n",
    "prev = sum(temp[: k - 1])\n",
    "max_total = prev + temp[k - 1]\n",
    "for i in range(n - k + 1):\n",
    "    t = prev + temp[i + k - 1]\n",
    "    if max_total < t:\n",
    "        max_total = t\n",
    "    prev = t - temp[i]\n",
    "print(max_total)"
   ]
  }
 ],
 "metadata": {
  "kernelspec": {
   "display_name": "Python 3 (ipykernel)",
   "language": "python",
   "name": "python3"
  },
  "language_info": {
   "codemirror_mode": {
    "name": "ipython",
    "version": 3
   },
   "file_extension": ".py",
   "mimetype": "text/x-python",
   "name": "python",
   "nbconvert_exporter": "python",
   "pygments_lexer": "ipython3",
   "version": "3.8.10"
  }
 },
 "nbformat": 4,
 "nbformat_minor": 5
}
