{
 "cells": [
  {
   "cell_type": "markdown",
   "id": "3782b0dc",
   "metadata": {},
   "source": [
    "#### 문제\n",
    "두 정수 A와 B를 입력받은 다음, A+B를 출력하는 프로그램을 작성하시오.\n",
    "\n",
    "#### 입력\n",
    "첫째 줄에 테스트 케이스의 개수 T가 주어진다.\n",
    "\n",
    "각 테스트 케이스는 한 줄로 이루어져 있으며, 각 줄에 A와 B가 주어진다. (0 < A, B < 10)\n",
    "\n",
    "#### 출력\n",
    "각 테스트 케이스마다 \"Case #x: \"를 출력한 다음, A+B를 출력한다. 테스트 케이스 번호는 1부터 시작한다.\n",
    "\n",
    "#### 예제 입력 1 \n",
    "5\n",
    "\n",
    "1 1\n",
    "\n",
    "2 3\n",
    "\n",
    "3 4\n",
    "\n",
    "9 8\n",
    "\n",
    "5 2\n",
    "\n",
    "#### 예제 출력 1 \n",
    "\n",
    "Case #1: 2\n",
    "\n",
    "Case #2: 5\n",
    "\n",
    "Case #3: 7\n",
    "\n",
    "Case #4: 17\n",
    "\n",
    "Case #5: 7"
   ]
  },
  {
   "cell_type": "code",
   "execution_count": null,
   "id": "f3145702",
   "metadata": {},
   "outputs": [],
   "source": [
    "n = int(input())\n",
    "for i in range(n):\n",
    "    a, b = map(int, input().split())\n",
    "    print(f'Case #{i + 1}: {a + b}')"
   ]
  }
 ],
 "metadata": {
  "kernelspec": {
   "display_name": "Python 3 (ipykernel)",
   "language": "python",
   "name": "python3"
  },
  "language_info": {
   "codemirror_mode": {
    "name": "ipython",
    "version": 3
   },
   "file_extension": ".py",
   "mimetype": "text/x-python",
   "name": "python",
   "nbconvert_exporter": "python",
   "pygments_lexer": "ipython3",
   "version": "3.8.10"
  }
 },
 "nbformat": 4,
 "nbformat_minor": 5
}
