{
 "cells": [
  {
   "cell_type": "markdown",
   "id": "704ab0e4",
   "metadata": {},
   "source": [
    "#### 문제\n",
    "서울의 오늘 날짜를 출력하는 프로그램을 작성하시오.\n",
    "\n",
    "#### 입력\n",
    "입력은 없다.\n",
    "\n",
    "#### 출력\n",
    "서울의 오늘 날짜를 \"YYYY-MM-DD\" 형식으로 출력한다.\n",
    "\n",
    "#### 예제 입력 1 \n",
    "#### 예제 출력 1 \n",
    "2015-01-24"
   ]
  },
  {
   "cell_type": "code",
   "execution_count": 3,
   "id": "2a125a6a",
   "metadata": {},
   "outputs": [
    {
     "name": "stdout",
     "output_type": "stream",
     "text": [
      "2022-06-06\n"
     ]
    }
   ],
   "source": [
    "import datetime\n",
    "print(datetime.date.today())"
   ]
  },
  {
   "cell_type": "code",
   "execution_count": null,
   "id": "26c3bfb0",
   "metadata": {},
   "outputs": [],
   "source": []
  }
 ],
 "metadata": {
  "kernelspec": {
   "display_name": "Python 3 (ipykernel)",
   "language": "python",
   "name": "python3"
  },
  "language_info": {
   "codemirror_mode": {
    "name": "ipython",
    "version": 3
   },
   "file_extension": ".py",
   "mimetype": "text/x-python",
   "name": "python",
   "nbconvert_exporter": "python",
   "pygments_lexer": "ipython3",
   "version": "3.8.10"
  }
 },
 "nbformat": 4,
 "nbformat_minor": 5
}
