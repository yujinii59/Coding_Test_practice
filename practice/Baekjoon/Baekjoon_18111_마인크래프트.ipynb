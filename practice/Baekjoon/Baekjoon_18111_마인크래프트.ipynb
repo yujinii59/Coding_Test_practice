{
 "cells": [
  {
   "cell_type": "markdown",
   "id": "a3d4f73f",
   "metadata": {},
   "source": [
    "#### 문제\n",
    "팀 레드시프트는 대회 준비를 하다가 지루해져서 샌드박스 게임인 ‘마인크래프트’를 켰다. 마인크래프트는 1 × 1 × 1(세로, 가로, 높이) 크기의 블록들로 이루어진 3차원 세계에서 자유롭게 땅을 파거나 집을 지을 수 있는 게임이다.\n",
    "\n",
    "목재를 충분히 모은 lvalue는 집을 짓기로 하였다. 하지만 고르지 않은 땅에는 집을 지을 수 없기 때문에 땅의 높이를 모두 동일하게 만드는 ‘땅 고르기’ 작업을 해야 한다.\n",
    "\n",
    "lvalue는 세로 N, 가로 M 크기의 집터를 골랐다. 집터 맨 왼쪽 위의 좌표는 (0, 0)이다. 우리의 목적은 이 집터 내의 땅의 높이를 일정하게 바꾸는 것이다. 우리는 다음과 같은 두 종류의 작업을 할 수 있다.\n",
    "\n",
    "좌표 (i, j)의 가장 위에 있는 블록을 제거하여 인벤토리에 넣는다.\n",
    "\n",
    "인벤토리에서 블록 하나를 꺼내어 좌표 (i, j)의 가장 위에 있는 블록 위에 놓는다.\n",
    "\n",
    "1번 작업은 2초가 걸리며, 2번 작업은 1초가 걸린다. 밤에는 무서운 몬스터들이 나오기 때문에 최대한 빨리 땅 고르기 작업을 마쳐야 한다. ‘땅 고르기’ 작업에 걸리는 최소 시간과 그 경우 땅의 높이를 출력하시오.\n",
    "\n",
    "단, 집터 아래에 동굴 등 빈 공간은 존재하지 않으며, 집터 바깥에서 블록을 가져올 수 없다. 또한, 작업을 시작할 때 인벤토리에는 B개의 블록이 들어 있다. 땅의 높이는 256블록을 초과할 수 없으며, 음수가 될 수 없다.\n",
    "\n",
    "#### 입력\n",
    "첫째 줄에 N, M, B가 주어진다. (1 ≤ M, N ≤ 500, 0 ≤ B ≤ 6.4 × 107)\n",
    "\n",
    "둘째 줄부터 N개의 줄에 각각 M개의 정수로 땅의 높이가 주어진다. (i + 2)번째 줄의 (j + 1)번째 수는 좌표 (i, j)에서의 땅의 높이를 나타낸다. 땅의 높이는 256보다 작거나 같은 자연수 또는 0이다.\n",
    "\n",
    "#### 출력\n",
    "첫째 줄에 땅을 고르는 데 걸리는 시간과 땅의 높이를 출력하시오. 답이 여러 개 있다면 그중에서 땅의 높이가 가장 높은 것을 출력하시오.\n",
    "\n",
    "##### 예제 입력 1 \n",
    "3 4 99\n",
    "\n",
    "0 0 0 0\n",
    "\n",
    "0 0 0 0\n",
    "\n",
    "0 0 0 1\n",
    "\n",
    "##### 예제 출력 1 \n",
    "2 0\n",
    "\n",
    "맨 오른쪽 아래의 블록을 제거하면 모두 높이가 0으로 고른 상태가 된다. 따라서 블럭을 한 번 제거하는 시간 2초가 소요된다.\n",
    "\n",
    "##### 예제 입력 2 \n",
    "3 4 1\n",
    "\n",
    "64 64 64 64\n",
    "\n",
    "64 64 64 64\n",
    "\n",
    "64 64 64 63\n",
    "\n",
    "##### 예제 출력 2 \n",
    "1 64"
   ]
  },
  {
   "cell_type": "code",
   "execution_count": 37,
   "id": "f7fb5379",
   "metadata": {},
   "outputs": [
    {
     "name": "stdout",
     "output_type": "stream",
     "text": [
      "1 3 99\n",
      "0 0 1\n"
     ]
    }
   ],
   "source": [
    "from collections import Counter\n",
    "\n",
    "n, m, b = map(int, input().split())\n",
    "grounds = []\n",
    "for _ in range(n):\n",
    "    grounds.extend(list(map(int, input().split())))\n",
    "    \n",
    "count = Counter(grounds)"
   ]
  },
  {
   "cell_type": "code",
   "execution_count": 14,
   "id": "fd64f556",
   "metadata": {},
   "outputs": [],
   "source": [
    "count = sorted(count.items(), key=lambda x: x[1], reverse = True)\n"
   ]
  },
  {
   "cell_type": "code",
   "execution_count": 8,
   "id": "0430923b",
   "metadata": {},
   "outputs": [
    {
     "name": "stdout",
     "output_type": "stream",
     "text": [
      "[0] 11\n"
     ]
    }
   ],
   "source": [
    "print(mode, prev)"
   ]
  },
  {
   "cell_type": "code",
   "execution_count": 39,
   "id": "74c083c8",
   "metadata": {},
   "outputs": [
    {
     "name": "stdout",
     "output_type": "stream",
     "text": [
      "2 1\n"
     ]
    }
   ],
   "source": [
    "total = sum(grounds)\n",
    "time, height = 256 * n * m * 2, -1\n",
    "\n",
    "for i in range(max(grounds) + 1):\n",
    "    times = 0\n",
    "    if i * (n * m) > total + b:\n",
    "        continue\n",
    "    else:\n",
    "        for hgt, num in count.items():\n",
    "            if hgt != i:\n",
    "                if hgt > i:\n",
    "                    times += 2 * (hgt - i) * num\n",
    "                elif hgt < i:\n",
    "                    times += (i - hgt) * num\n",
    "            if times > time:\n",
    "                break\n",
    "        if times < time:\n",
    "            time, height = times, i\n",
    "        elif times == time:\n",
    "            height = max(height, i)\n",
    "            \n",
    "print(time, height)\n",
    "                "
   ]
  },
  {
   "cell_type": "code",
   "execution_count": null,
   "id": "27cb0730",
   "metadata": {},
   "outputs": [],
   "source": []
  }
 ],
 "metadata": {
  "kernelspec": {
   "display_name": "Python 3 (ipykernel)",
   "language": "python",
   "name": "python3"
  },
  "language_info": {
   "codemirror_mode": {
    "name": "ipython",
    "version": 3
   },
   "file_extension": ".py",
   "mimetype": "text/x-python",
   "name": "python",
   "nbconvert_exporter": "python",
   "pygments_lexer": "ipython3",
   "version": "3.8.10"
  }
 },
 "nbformat": 4,
 "nbformat_minor": 5
}
