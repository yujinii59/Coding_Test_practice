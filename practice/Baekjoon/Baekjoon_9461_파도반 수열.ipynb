{
 "cells": [
  {
   "cell_type": "markdown",
   "id": "c390ea08",
   "metadata": {},
   "source": [
    "#### 문제\n",
    "오른쪽 그림과 같이 삼각형이 나선 모양으로 놓여져 있다. 첫 삼각형은 정삼각형으로 변의 길이는 1이다. 그 다음에는 다음과 같은 과정으로 정삼각형을 계속 추가한다. 나선에서 가장 긴 변의 길이를 k라 했을 때, 그 변에 길이가 k인 정삼각형을 추가한다.\n",
    "\n",
    "파도반 수열 P(N)은 나선에 있는 정삼각형의 변의 길이이다. P(1)부터 P(10)까지 첫 10개 숫자는 1, 1, 1, 2, 2, 3, 4, 5, 7, 9이다.\n",
    "\n",
    "N이 주어졌을 때, P(N)을 구하는 프로그램을 작성하시오.\n",
    "\n",
    "#### 입력\n",
    "첫째 줄에 테스트 케이스의 개수 T가 주어진다. 각 테스트 케이스는 한 줄로 이루어져 있고, N이 주어진다. (1 ≤ N ≤ 100)\n",
    "\n",
    "#### 출력\n",
    "각 테스트 케이스마다 P(N)을 출력한다.\n",
    "\n",
    "#### 예제 입력 1 \n",
    "2\n",
    "\n",
    "6\n",
    "\n",
    "12\n",
    "\n",
    "#### 예제 출력 1 \n",
    "3\n",
    "\n",
    "16"
   ]
  },
  {
   "cell_type": "code",
   "execution_count": 23,
   "id": "2fc6a286",
   "metadata": {},
   "outputs": [],
   "source": [
    "def padovan_seq(num):\n",
    "    add_ls = [0,0,0,1,0]\n",
    "    l = 1\n",
    "    i = 0\n",
    "    while len(add_ls) < num:\n",
    "        l += add_ls[i]\n",
    "        add_ls.append(l)\n",
    "        i += 1\n",
    "    return 1 + sum(add_ls[:num])"
   ]
  },
  {
   "cell_type": "code",
   "execution_count": 26,
   "id": "bcc415d4",
   "metadata": {},
   "outputs": [
    {
     "name": "stdout",
     "output_type": "stream",
     "text": [
      "2\n",
      "6\n",
      "3\n",
      "12\n",
      "16\n"
     ]
    }
   ],
   "source": [
    "t = int(input())\n",
    "for _ in range(t):\n",
    "    print(padovan_seq(int(input())))"
   ]
  },
  {
   "cell_type": "code",
   "execution_count": 25,
   "id": "f2f796fd",
   "metadata": {},
   "outputs": [],
   "source": [
    "def padovan_seq(num):\n",
    "    if num <= 3:\n",
    "        return 1\n",
    "    else:\n",
    "        return padovan_seq(num - 3) + padovan_seq(num - 2)"
   ]
  },
  {
   "cell_type": "code",
   "execution_count": null,
   "id": "9cba049a",
   "metadata": {},
   "outputs": [],
   "source": []
  }
 ],
 "metadata": {
  "kernelspec": {
   "display_name": "Python 3 (ipykernel)",
   "language": "python",
   "name": "python3"
  },
  "language_info": {
   "codemirror_mode": {
    "name": "ipython",
    "version": 3
   },
   "file_extension": ".py",
   "mimetype": "text/x-python",
   "name": "python",
   "nbconvert_exporter": "python",
   "pygments_lexer": "ipython3",
   "version": "3.8.10"
  }
 },
 "nbformat": 4,
 "nbformat_minor": 5
}
