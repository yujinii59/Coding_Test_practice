{
 "cells": [
  {
   "cell_type": "markdown",
   "id": "eb1b22b0",
   "metadata": {},
   "source": [
    "#### 문제\n",
    "병든 나이트가 N × M 크기 체스판의 가장 왼쪽아래 칸에 위치해 있다. 병든 나이트는 건강한 보통 체스의 나이트와 다르게 4가지로만 움직일 수 있다.\n",
    "\n",
    "2칸 위로, 1칸 오른쪽\n",
    "\n",
    "1칸 위로, 2칸 오른쪽\n",
    "\n",
    "1칸 아래로, 2칸 오른쪽\n",
    "\n",
    "2칸 아래로, 1칸 오른쪽\n",
    "\n",
    "병든 나이트는 여행을 시작하려고 하고, 여행을 하면서 방문한 칸의 수를 최대로 하려고 한다. 병든 나이트의 이동 횟수가 4번보다 적지 않다면, 이동 방법을 모두 한 번씩 사용해야 한다. 이동 횟수가 4번보다 적은 경우(방문한 칸이 5개 미만)에는 이동 방법에 대한 제약이 없다.\n",
    "\n",
    "체스판의 크기가 주어졌을 때, 병든 나이트가 여행에서 방문할 수 있는 칸의 최대 개수를 구해보자.\n",
    "\n",
    "#### 입력\n",
    "첫째 줄에 체스판의 세로 길이 N와 가로 길이 M이 주어진다. N과 M은 2,000,000,000보다 작거나 같은 자연수이다.\n",
    "\n",
    "#### 출력\n",
    "병든 나이트가 여행에서 방문할 수 있는 칸의 개수중 최댓값을 출력한다.\n",
    "\n",
    "#### 예제 입력 1 \n",
    "100 50\n",
    "#### 예제 출력 1 \n",
    "48\n",
    "#### 예제 입력 2 \n",
    "1 1\n",
    "#### 예제 출력 2 \n",
    "1\n",
    "#### 예제 입력 3 \n",
    "17 5\n",
    "#### 예제 출력 3 \n",
    "4\n",
    "#### 예제 입력 4 \n",
    "2 4\n",
    "#### 예제 출력 4 \n",
    "2\n",
    "#### 예제 입력 5 \n",
    "20 4\n",
    "#### 예제 출력 5 \n",
    "4"
   ]
  },
  {
   "cell_type": "code",
   "execution_count": 16,
   "id": "4722c9d3",
   "metadata": {},
   "outputs": [
    {
     "name": "stdout",
     "output_type": "stream",
     "text": [
      "2 44\n",
      "22\n"
     ]
    }
   ],
   "source": [
    "moves = [(-2, 1), (-1, 2), (1, 2), (2, 1)]\n",
    "n, m = map(int, input().split())\n",
    "if n == 1:\n",
    "    print(1)\n",
    "elif n == 2:\n",
    "    mv = (m-1) // 2 + 1\n",
    "    if mv > 4:\n",
    "        print(4)\n",
    "    else:\n",
    "        print(mv)\n",
    "else:\n",
    "    if m > 4:\n",
    "        if m == 5:\n",
    "            print(m - 1)\n",
    "        else:\n",
    "            print(m - 2)\n",
    "    else:\n",
    "        print(m)"
   ]
  }
 ],
 "metadata": {
  "kernelspec": {
   "display_name": "Python 3 (ipykernel)",
   "language": "python",
   "name": "python3"
  },
  "language_info": {
   "codemirror_mode": {
    "name": "ipython",
    "version": 3
   },
   "file_extension": ".py",
   "mimetype": "text/x-python",
   "name": "python",
   "nbconvert_exporter": "python",
   "pygments_lexer": "ipython3",
   "version": "3.8.10"
  }
 },
 "nbformat": 4,
 "nbformat_minor": 5
}
