{
 "cells": [
  {
   "cell_type": "markdown",
   "id": "17f5398c",
   "metadata": {},
   "source": [
    "#### 문제\n",
    "N*M크기의 행렬 A와 M*K크기의 행렬 B가 주어졌을 때, 두 행렬을 곱하는 프로그램을 작성하시오.\n",
    "\n",
    "#### 입력\n",
    "첫째 줄에 행렬 A의 크기 N 과 M이 주어진다. 둘째 줄부터 N개의 줄에 행렬 A의 원소 M개가 순서대로 주어진다. 그 다음 줄에는 행렬 B의 크기 M과 K가 주어진다. 이어서 M개의 줄에 행렬 B의 원소 K개가 차례대로 주어진다. N과 M, 그리고 K는 100보다 작거나 같고, 행렬의 원소는 절댓값이 100보다 작거나 같은 정수이다.\n",
    "\n",
    "#### 출력\n",
    "첫째 줄부터 N개의 줄에 행렬 A와 B를 곱한 행렬을 출력한다. 행렬의 각 원소는 공백으로 구분한다.\n",
    "\n",
    "#### 예제 입력 1 \n",
    "3 2\n",
    "\n",
    "1 2\n",
    "\n",
    "3 4\n",
    "\n",
    "5 6\n",
    "\n",
    "2 3\n",
    "\n",
    "-1 -2 0\n",
    "\n",
    "0 0 3\n",
    "#### 예제 출력 1 \n",
    "-1 -2 6\n",
    "\n",
    "-3 -6 12\n",
    "\n",
    "-5 -10 18"
   ]
  },
  {
   "cell_type": "code",
   "execution_count": 5,
   "id": "d1ba9146",
   "metadata": {},
   "outputs": [
    {
     "name": "stdout",
     "output_type": "stream",
     "text": [
      "-1 -2 6 \n",
      "-3 -6 12 \n",
      "-5 -10 18 \n"
     ]
    }
   ],
   "source": [
    "n, m = map(int, input().split())\n",
    "A = [list(map(int, input().split())) for _ in range(n)]\n",
    "m, k = map(int, input().split())\n",
    "B = [list(map(int, input().split())) for _ in range(m)]\n",
    "rst = [[0 for _ in range(k)] for _ in range(n)]\n",
    "for i in range(n):\n",
    "    for j in range(m):\n",
    "        for l in range(k):\n",
    "            rst[i][l] += A[i][j] * B[j][l]\n",
    "         \n",
    "for i in range(n):\n",
    "    for j in range(k):\n",
    "        print(rst[i][j], end=' ')\n",
    "    print()"
   ]
  },
  {
   "cell_type": "code",
   "execution_count": 2,
   "id": "c95a2e1a",
   "metadata": {},
   "outputs": [
    {
     "name": "stdout",
     "output_type": "stream",
     "text": [
      "3 2\n",
      "1 2\n",
      "3 4 \n",
      "5 6\n",
      "2 3\n",
      "-1 -2 0\n",
      "0 0 3\n",
      "-1 -2 \n",
      "-3 -6 \n",
      "-5 -10 \n"
     ]
    }
   ],
   "source": [
    "import numpy as np\n",
    "\n",
    "n, m = map(int, input().split())\n",
    "A = [list(map(int, input().split())) for _ in range(n)]\n",
    "m, k = map(int, input().split())\n",
    "B = [list(map(int, input().split())) for _ in range(m)]\n",
    "A = np.array(A)\n",
    "B = np.array(B)\n",
    "matrix = np.matmul(A, B)\n",
    "for i in range(n):\n",
    "    for j in range(k):\n",
    "        print(matrix[i,j], end=' ')\n",
    "    print()"
   ]
  },
  {
   "cell_type": "code",
   "execution_count": null,
   "id": "dcba8a42",
   "metadata": {},
   "outputs": [],
   "source": []
  }
 ],
 "metadata": {
  "kernelspec": {
   "display_name": "Python 3 (ipykernel)",
   "language": "python",
   "name": "python3"
  },
  "language_info": {
   "codemirror_mode": {
    "name": "ipython",
    "version": 3
   },
   "file_extension": ".py",
   "mimetype": "text/x-python",
   "name": "python",
   "nbconvert_exporter": "python",
   "pygments_lexer": "ipython3",
   "version": "3.8.10"
  }
 },
 "nbformat": 4,
 "nbformat_minor": 5
}
