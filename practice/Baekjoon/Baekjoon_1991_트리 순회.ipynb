{
 "cells": [
  {
   "cell_type": "markdown",
   "id": "e2089ef2",
   "metadata": {},
   "source": [
    "#### 문제\n",
    "이진 트리를 입력받아 전위 순회(preorder traversal), 중위 순회(inorder traversal), 후위 순회(postorder traversal)한 결과를 출력하는 프로그램을 작성하시오.\n",
    "\n",
    "\n",
    "\n",
    "예를 들어 위와 같은 이진 트리가 입력되면,\n",
    "\n",
    "전위 순회한 결과 : ABDCEFG // (루트) (왼쪽 자식) (오른쪽 자식)\n",
    "\n",
    "중위 순회한 결과 : DBAECFG // (왼쪽 자식) (루트) (오른쪽 자식)\n",
    "\n",
    "후위 순회한 결과 : DBEGFCA // (왼쪽 자식) (오른쪽 자식) (루트)\n",
    "\n",
    "가 된다.\n",
    "\n",
    "#### 입력\n",
    "첫째 줄에는 이진 트리의 노드의 개수 N(1 ≤ N ≤ 26)이 주어진다. 둘째 줄부터 N개의 줄에 걸쳐 각 노드와 그의 왼쪽 자식 노드, 오른쪽 자식 노드가 주어진다. 노드의 이름은 A부터 차례대로 알파벳 대문자로 매겨지며, 항상 A가 루트 노드가 된다. 자식 노드가 없는 경우에는 .으로 표현한다.\n",
    "\n",
    "#### 출력\n",
    "첫째 줄에 전위 순회, 둘째 줄에 중위 순회, 셋째 줄에 후위 순회한 결과를 출력한다. 각 줄에 N개의 알파벳을 공백 없이 출력하면 된다.\n",
    "\n",
    "#### 예제 입력 1 \n",
    "7\n",
    "\n",
    "A B C\n",
    "\n",
    "B D .\n",
    "\n",
    "C E F\n",
    "\n",
    "E . .\n",
    "\n",
    "F . G\n",
    "\n",
    "D . .\n",
    "\n",
    "G . .\n",
    "\n",
    "#### 예제 출력 1 \n",
    "ABDCEFG\n",
    "\n",
    "DBAECFG\n",
    "\n",
    "DBEGFCA"
   ]
  },
  {
   "cell_type": "code",
   "execution_count": 4,
   "id": "53344783",
   "metadata": {},
   "outputs": [],
   "source": [
    "preorder = []\n",
    "inorder = []\n",
    "postorder = []\n",
    "def traversal(parent):\n",
    "    left, right = tree[parent]\n",
    "    preorder.append(parent)\n",
    "    if left != '.':\n",
    "        traversal(left)\n",
    "    inorder.append(parent)\n",
    "    if right != '.':\n",
    "        traversal(right)\n",
    "    postorder.append(parent)"
   ]
  },
  {
   "cell_type": "code",
   "execution_count": 5,
   "id": "94121d18",
   "metadata": {},
   "outputs": [
    {
     "name": "stdout",
     "output_type": "stream",
     "text": [
      "7\n",
      "A B C\n",
      "B D .\n",
      "C E F\n",
      "E . .\n",
      "F . G\n",
      "D . .\n",
      "G . .\n",
      "A [] [] []\n",
      "B ['A'] [] []\n",
      "D ['A', 'B'] [] []\n",
      "C ['A', 'B', 'D'] ['D', 'B', 'A'] ['D', 'B']\n",
      "E ['A', 'B', 'D', 'C'] ['D', 'B', 'A'] ['D', 'B']\n",
      "F ['A', 'B', 'D', 'C', 'E'] ['D', 'B', 'A', 'E', 'C'] ['D', 'B', 'E']\n",
      "G ['A', 'B', 'D', 'C', 'E', 'F'] ['D', 'B', 'A', 'E', 'C', 'F'] ['D', 'B', 'E']\n",
      "['A', 'B', 'D', 'C', 'E', 'F', 'G']\n",
      "['D', 'B', 'A', 'E', 'C', 'F', 'G']\n",
      "['D', 'B', 'E', 'G', 'F', 'C', 'A']\n"
     ]
    }
   ],
   "source": [
    "n = int(input())\n",
    "tree = {}\n",
    "for _ in range(n):\n",
    "    parent, left, right = input().split()\n",
    "    tree[parent] = [left, right]\n",
    "\n",
    "traversal('A')    \n",
    "print(''.join(preorder))\n",
    "print(''.join(inorder))\n",
    "print(''.join(postorder))"
   ]
  }
 ],
 "metadata": {
  "kernelspec": {
   "display_name": "Python 3 (ipykernel)",
   "language": "python",
   "name": "python3"
  },
  "language_info": {
   "codemirror_mode": {
    "name": "ipython",
    "version": 3
   },
   "file_extension": ".py",
   "mimetype": "text/x-python",
   "name": "python",
   "nbconvert_exporter": "python",
   "pygments_lexer": "ipython3",
   "version": "3.8.10"
  }
 },
 "nbformat": 4,
 "nbformat_minor": 5
}
