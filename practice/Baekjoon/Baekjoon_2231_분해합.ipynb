{
 "cells": [
  {
   "cell_type": "markdown",
   "id": "b818fbeb",
   "metadata": {},
   "source": [
    "#### 문제\n",
    "어떤 자연수 N이 있을 때, 그 자연수 N의 분해합은 N과 N을 이루는 각 자리수의 합을 의미한다. 어떤 자연수 M의 분해합이 N인 경우, M을 N의 생성자라 한다. 예를 들어, 245의 분해합은 256(=245+2+4+5)이 된다. 따라서 245는 256의 생성자가 된다. 물론, 어떤 자연수의 경우에는 생성자가 없을 수도 있다. 반대로, 생성자가 여러 개인 자연수도 있을 수 있다.\n",
    "\n",
    "자연수 N이 주어졌을 때, N의 가장 작은 생성자를 구해내는 프로그램을 작성하시오.\n",
    "\n",
    "#### 입력\n",
    "첫째 줄에 자연수 N(1 ≤ N ≤ 1,000,000)이 주어진다.\n",
    "\n",
    "#### 출력\n",
    "첫째 줄에 답을 출력한다. 생성자가 없는 경우에는 0을 출력한다.\n",
    "\n",
    "예제 입력 1 \n",
    "\n",
    "216\n",
    "\n",
    "예제 출력 1 \n",
    "\n",
    "198"
   ]
  },
  {
   "cell_type": "code",
   "execution_count": 15,
   "id": "930c5652",
   "metadata": {},
   "outputs": [
    {
     "name": "stdout",
     "output_type": "stream",
     "text": [
      "97234\n",
      "97208\n"
     ]
    }
   ],
   "source": [
    "from collections import deque\n",
    "\n",
    "n = input()\n",
    "length = len(n)\n",
    "n = int(n)\n",
    "q = deque()\n",
    "q.append((length, n, ''))\n",
    "\n",
    "min_num = n\n",
    "while q:\n",
    "    m, num, numbers = q.popleft()\n",
    "    first = int(str(num)[0])\n",
    "    if m != 1:\n",
    "        for i in range(first - 1, first + 1):\n",
    "            nums = numbers\n",
    "            minus = (10 ** (m - 1) + 1) * i\n",
    "            if num - minus < 0:\n",
    "                break\n",
    "\n",
    "            if (9 * (int('1' * (m - 1)) + (m - 1))) > num - minus:\n",
    "                nums += str(i)\n",
    "                q.append((m - 1, num - minus, nums))\n",
    "    else:\n",
    "        if num % 2 == 0:\n",
    "            numbers += str(num // 2)\n",
    "            if int(numbers) < min_num:\n",
    "                min_num = int(numbers)\n",
    "\n",
    "if min_num == n:\n",
    "    print(0)\n",
    "else:\n",
    "    print(min_num)"
   ]
  },
  {
   "cell_type": "code",
   "execution_count": 35,
   "id": "2186b0e0",
   "metadata": {},
   "outputs": [
    {
     "name": "stdout",
     "output_type": "stream",
     "text": [
      "25\n",
      "17\n"
     ]
    }
   ],
   "source": [
    "n = int(input())\n",
    "l = len(str(n)) - 1\n",
    "\n",
    "exist = False\n",
    "if l == 0:\n",
    "    if n % 2 == 0:\n",
    "        exist = True\n",
    "        num = n // 2\n",
    "    \n",
    "else:\n",
    "    least = 9 * (int('1' * l) + l)\n",
    "    if n < least:\n",
    "        start = 0\n",
    "    else:\n",
    "        start = n - least\n",
    "    for num in range(start, n):\n",
    "        total = num + sum(map(int, str(num)))\n",
    "        if total == n:\n",
    "            exist = True\n",
    "            break\n",
    "        \n",
    "if exist:\n",
    "    print(num)\n",
    "else:\n",
    "    print(0)"
   ]
  }
 ],
 "metadata": {
  "kernelspec": {
   "display_name": "Python 3 (ipykernel)",
   "language": "python",
   "name": "python3"
  },
  "language_info": {
   "codemirror_mode": {
    "name": "ipython",
    "version": 3
   },
   "file_extension": ".py",
   "mimetype": "text/x-python",
   "name": "python",
   "nbconvert_exporter": "python",
   "pygments_lexer": "ipython3",
   "version": "3.8.10"
  }
 },
 "nbformat": 4,
 "nbformat_minor": 5
}
