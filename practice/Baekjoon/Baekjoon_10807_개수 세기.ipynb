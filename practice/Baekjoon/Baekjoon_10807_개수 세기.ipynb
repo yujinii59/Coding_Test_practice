{
 "cells": [
  {
   "cell_type": "markdown",
   "id": "ccec03a4",
   "metadata": {},
   "source": [
    "#### 문제\n",
    "총 N개의 정수가 주어졌을 때, 정수 v가 몇 개인지 구하는 프로그램을 작성하시오.\n",
    "\n",
    "#### 입력\n",
    "첫째 줄에 정수의 개수 N(1 ≤ N ≤ 100)이 주어진다. 둘째 줄에는 정수가 공백으로 구분되어져있다. 셋째 줄에는 찾으려고 하는 정수 v가 주어진다. 입력으로 주어지는 정수와 v는 -100보다 크거나 같으며, 100보다 작거나 같다.\n",
    "\n",
    "#### 출력\n",
    "첫째 줄에 입력으로 주어진 N개의 정수 중에 v가 몇 개인지 출력한다.\n",
    "\n",
    "#### 예제 입력 1 \n",
    "11\n",
    "\n",
    "1 4 1 2 4 2 4 2 3 4 4\n",
    "\n",
    "2\n",
    "\n",
    "#### 예제 출력 1 \n",
    "3\n",
    "\n",
    "#### 예제 입력 2 \n",
    "11\n",
    "\n",
    "1 4 1 2 4 2 4 2 3 4 4\n",
    "\n",
    "5\n",
    "\n",
    "#### 예제 출력 2 \n",
    "0"
   ]
  },
  {
   "cell_type": "code",
   "execution_count": 1,
   "id": "c32c9efb",
   "metadata": {},
   "outputs": [
    {
     "name": "stdout",
     "output_type": "stream",
     "text": [
      "11\n",
      "1 4 1 2 4 2 4 2 3 4 4\n",
      "2\n",
      "3\n"
     ]
    }
   ],
   "source": [
    "num_dict = {i:0 for i in range(-100, 101)}\n",
    "\n",
    "n = int(input())\n",
    "ls = list(map(int, input().split()))\n",
    "for i in ls:\n",
    "    num_dict[i] += 1\n",
    "\n",
    "print(num_dict[int(input())])"
   ]
  },
  {
   "cell_type": "code",
   "execution_count": null,
   "id": "8a6fdb65",
   "metadata": {},
   "outputs": [],
   "source": []
  }
 ],
 "metadata": {
  "kernelspec": {
   "display_name": "Python 3 (ipykernel)",
   "language": "python",
   "name": "python3"
  },
  "language_info": {
   "codemirror_mode": {
    "name": "ipython",
    "version": 3
   },
   "file_extension": ".py",
   "mimetype": "text/x-python",
   "name": "python",
   "nbconvert_exporter": "python",
   "pygments_lexer": "ipython3",
   "version": "3.8.10"
  }
 },
 "nbformat": 4,
 "nbformat_minor": 5
}
