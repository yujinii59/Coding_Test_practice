{
 "cells": [
  {
   "cell_type": "markdown",
   "id": "857d6dd7",
   "metadata": {},
   "source": [
    "#### 문제\n",
    "0과 1로만 이루어진 수를 이진수라 한다. 이러한 이진수 중 특별한 성질을 갖는 것들이 있는데, 이들을 이친수(pinary number)라 한다. 이친수는 다음의 성질을 만족한다.\n",
    "\n",
    "이친수는 0으로 시작하지 않는다.\n",
    "\n",
    "이친수에서는 1이 두 번 연속으로 나타나지 않는다. 즉, 11을 부분 문자열로 갖지 않는다.\n",
    "\n",
    "예를 들면 1, 10, 100, 101, 1000, 1001 등이 이친수가 된다. 하지만 0010101이나 101101은 각각 1, 2번 규칙에 위배되므로 이친수가 아니다.\n",
    "\n",
    "N(1 ≤ N ≤ 90)이 주어졌을 때, N자리 이친수의 개수를 구하는 프로그램을 작성하시오.\n",
    "\n",
    "#### 입력\n",
    "첫째 줄에 N이 주어진다.\n",
    "\n",
    "#### 출력\n",
    "첫째 줄에 N자리 이친수의 개수를 출력한다.\n",
    "\n",
    "#### 예제 입력 1 \n",
    "3\n",
    "#### 예제 출력 1 \n",
    "2"
   ]
  },
  {
   "cell_type": "code",
   "execution_count": 2,
   "id": "cc4c8ee3",
   "metadata": {},
   "outputs": [
    {
     "name": "stdout",
     "output_type": "stream",
     "text": [
      "3\n",
      "2\n"
     ]
    }
   ],
   "source": [
    "def fibonacci(num):\n",
    "    if num <= 2:\n",
    "        fibo[num] = 1\n",
    "    else:\n",
    "        fibo[num] = fibo[num-1] + fibo[num-2]\n",
    "        \n",
    "\n",
    "n = int(input())\n",
    "fibo = [0 for _ in range(n+1)]\n",
    "for i in range(1, n+1):\n",
    "    fibonacci(i)\n",
    "print(fibo[n])"
   ]
  }
 ],
 "metadata": {
  "kernelspec": {
   "display_name": "Python 3 (ipykernel)",
   "language": "python",
   "name": "python3"
  },
  "language_info": {
   "codemirror_mode": {
    "name": "ipython",
    "version": 3
   },
   "file_extension": ".py",
   "mimetype": "text/x-python",
   "name": "python",
   "nbconvert_exporter": "python",
   "pygments_lexer": "ipython3",
   "version": "3.8.10"
  }
 },
 "nbformat": 4,
 "nbformat_minor": 5
}
