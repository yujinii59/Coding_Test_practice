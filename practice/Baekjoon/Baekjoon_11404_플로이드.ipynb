{
 "cells": [
  {
   "cell_type": "markdown",
   "id": "6bd2584c",
   "metadata": {},
   "source": [
    "#### 문제\n",
    "n(2 ≤ n ≤ 100)개의 도시가 있다. 그리고 한 도시에서 출발하여 다른 도시에 도착하는 m(1 ≤ m ≤ 100,000)개의 버스가 있다. 각 버스는 한 번 사용할 때 필요한 비용이 있다.\n",
    "\n",
    "모든 도시의 쌍 (A, B)에 대해서 도시 A에서 B로 가는데 필요한 비용의 최솟값을 구하는 프로그램을 작성하시오.\n",
    "\n",
    "#### 입력\n",
    "첫째 줄에 도시의 개수 n이 주어지고 둘째 줄에는 버스의 개수 m이 주어진다. 그리고 셋째 줄부터 m+2줄까지 다음과 같은 버스의 정보가 주어진다. 먼저 처음에는 그 버스의 출발 도시의 번호가 주어진다. 버스의 정보는 버스의 시작 도시 a, 도착 도시 b, 한 번 타는데 필요한 비용 c로 이루어져 있다. 시작 도시와 도착 도시가 같은 경우는 없다. 비용은 100,000보다 작거나 같은 자연수이다.\n",
    "\n",
    "시작 도시와 도착 도시를 연결하는 노선은 하나가 아닐 수 있다.\n",
    "\n",
    "#### 출력\n",
    "n개의 줄을 출력해야 한다. i번째 줄에 출력하는 j번째 숫자는 도시 i에서 j로 가는데 필요한 최소 비용이다. 만약, i에서 j로 갈 수 없는 경우에는 그 자리에 0을 출력한다.\n",
    "\n",
    "#### 예제 입력 1 \n",
    "5\n",
    "\n",
    "14\n",
    "\n",
    "1 2 2\n",
    "\n",
    "1 3 3\n",
    "\n",
    "1 4 1\n",
    "\n",
    "1 5 10\n",
    "\n",
    "2 4 2\n",
    "\n",
    "3 4 1\n",
    "\n",
    "3 5 1\n",
    "\n",
    "4 5 3\n",
    "\n",
    "3 5 10\n",
    "\n",
    "3 1 8\n",
    "\n",
    "1 4 2\n",
    "\n",
    "5 1 7\n",
    "\n",
    "3 4 2\n",
    "\n",
    "5 2 4\n",
    "#### 예제 출력 1 \n",
    "0 2 3 1 4\n",
    "\n",
    "12 0 15 2 5\n",
    "\n",
    "8 5 0 1 1\n",
    "\n",
    "10 7 13 0 3\n",
    "\n",
    "7 4 10 6 0"
   ]
  },
  {
   "cell_type": "code",
   "execution_count": 26,
   "id": "d9c3875b",
   "metadata": {},
   "outputs": [
    {
     "name": "stdout",
     "output_type": "stream",
     "text": [
      "5\n",
      "14\n",
      "1 2 2\n",
      "1 3 3\n",
      "1 4 1\n",
      "1 5 10\n",
      "2 4 2\n",
      "3 4 1\n",
      "3 5 1\n",
      "4 5 3\n",
      "3 5 10\n",
      "3 1 8\n",
      "1 4 2\n",
      "5 1 7\n",
      "3 4 2\n",
      "5 2 4\n"
     ]
    }
   ],
   "source": [
    "n = int(input())\n",
    "m = int(input())\n",
    "costs = [[0 for _ in range(n+1)] for _ in range(n+1)]\n",
    "for _ in range(m):\n",
    "    a, b, cost = map(int, input().split())\n",
    "    if costs[a][b] > 0:\n",
    "        costs[a][b] = min(costs[a][b], cost)\n",
    "    else:    \n",
    "        costs[a][b] = cost\n",
    "for k in range(1, n+1):\n",
    "    for i in range(1, n+1):\n",
    "        for j in range(1, n+1):\n",
    "            if i != j and i != k and j != k and costs[i][k] > 0 and costs[k][j] > 0:\n",
    "                cost = costs[i][k] + costs[k][j]\n",
    "                if costs[i][j] > 0:\n",
    "                    costs[i][j] = min(costs[i][j], cost)\n",
    "                else:\n",
    "                    costs[i][j] = cost\n",
    "                \n",
    "for i in range(n):\n",
    "    for j in range(n):\n",
    "        print(costs[i+1][j+1], end=' ')\n",
    "    print()"
   ]
  },
  {
   "cell_type": "code",
   "execution_count": 27,
   "id": "bdb0a45c",
   "metadata": {},
   "outputs": [],
   "source": [
    "from copy import deepcopy\n",
    "cost_tmp = deepcopy(costs)\n"
   ]
  },
  {
   "cell_type": "code",
   "execution_count": 28,
   "id": "4379f6ad",
   "metadata": {},
   "outputs": [],
   "source": [
    "costs = deepcopy(cost_tmp)"
   ]
  },
  {
   "cell_type": "code",
   "execution_count": 30,
   "id": "561f39bf",
   "metadata": {},
   "outputs": [
    {
     "name": "stdout",
     "output_type": "stream",
     "text": [
      "0 2 3 1 4 \n",
      "12 0 15 2 5 \n",
      "8 5 0 1 1 \n",
      "10 7 13 0 3 \n",
      "7 4 10 6 0 \n"
     ]
    }
   ],
   "source": [
    "for k in range(1, n+1):\n",
    "    for i in range(1, n+1):\n",
    "        for j in range(1, n+1):\n",
    "            if i != j and i != k and j != k and costs[i][k] > 0 and costs[k][j] > 0:\n",
    "                cost = costs[i][k] + costs[k][j]\n",
    "                if costs[i][j] > 0:\n",
    "                    costs[i][j] = min(costs[i][j], cost)\n",
    "                else:\n",
    "                    costs[i][j] = cost\n",
    "                \n",
    "for i in range(n):\n",
    "    for j in range(n):\n",
    "        print(costs[i+1][j+1], end=' ')\n",
    "    print()"
   ]
  },
  {
   "cell_type": "code",
   "execution_count": 24,
   "id": "aced5719",
   "metadata": {},
   "outputs": [
    {
     "data": {
      "text/plain": [
       "[[0, 0, 0, 0, 0, 0],\n",
       " [0, 0, 2, 3, 2, 10],\n",
       " [0, 0, 0, 0, 2, 0],\n",
       " [0, 8, 0, 0, 2, 10],\n",
       " [0, 0, 0, 0, 0, 3],\n",
       " [0, 7, 4, 0, 0, 0]]"
      ]
     },
     "execution_count": 24,
     "metadata": {},
     "output_type": "execute_result"
    }
   ],
   "source": [
    "cost_tmp"
   ]
  },
  {
   "cell_type": "code",
   "execution_count": null,
   "id": "fca92319",
   "metadata": {},
   "outputs": [],
   "source": []
  }
 ],
 "metadata": {
  "kernelspec": {
   "display_name": "Python 3 (ipykernel)",
   "language": "python",
   "name": "python3"
  },
  "language_info": {
   "codemirror_mode": {
    "name": "ipython",
    "version": 3
   },
   "file_extension": ".py",
   "mimetype": "text/x-python",
   "name": "python",
   "nbconvert_exporter": "python",
   "pygments_lexer": "ipython3",
   "version": "3.8.10"
  }
 },
 "nbformat": 4,
 "nbformat_minor": 5
}
