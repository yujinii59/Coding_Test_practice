{
 "cells": [
  {
   "cell_type": "markdown",
   "id": "b261bc84",
   "metadata": {},
   "source": [
    "#### 문제\n",
    "오르막 수는 수의 자리가 오름차순을 이루는 수를 말한다. 이때, 인접한 수가 같아도 오름차순으로 친다.\n",
    "\n",
    "예를 들어, 2234와 3678, 11119는 오르막 수이지만, 2232, 3676, 91111은 오르막 수가 아니다.\n",
    "\n",
    "수의 길이 N이 주어졌을 때, 오르막 수의 개수를 구하는 프로그램을 작성하시오. 수는 0으로 시작할 수 있다.\n",
    "\n",
    "#### 입력\n",
    "첫째 줄에 N (1 ≤ N ≤ 1,000)이 주어진다.\n",
    "\n",
    "#### 출력\n",
    "첫째 줄에 길이가 N인 오르막 수의 개수를 10,007로 나눈 나머지를 출력한다.\n",
    "\n",
    "#### 예제 입력 1 \n",
    "1\n",
    "#### 예제 출력 1 \n",
    "10\n",
    "#### 예제 입력 2 \n",
    "2\n",
    "#### 예제 출력 2 \n",
    "55\n",
    "#### 예제 입력 3 \n",
    "3\n",
    "#### 예제 출력 3 \n",
    "220"
   ]
  },
  {
   "cell_type": "code",
   "execution_count": null,
   "id": "63b58ada",
   "metadata": {},
   "outputs": [],
   "source": [
    "n = int(input())\n",
    "rst = 10\n",
    "ls = [1 for _ in range(9)]\n",
    "for i in range(n-1):\n",
    "    for j in range(1, 9):\n",
    "        ls[j] = ls[j-1] + ls[j]\n",
    "        \n",
    "    rst += sum(ls)\n",
    "print(rst % 10007)        "
   ]
  }
 ],
 "metadata": {
  "kernelspec": {
   "display_name": "Python 3 (ipykernel)",
   "language": "python",
   "name": "python3"
  },
  "language_info": {
   "codemirror_mode": {
    "name": "ipython",
    "version": 3
   },
   "file_extension": ".py",
   "mimetype": "text/x-python",
   "name": "python",
   "nbconvert_exporter": "python",
   "pygments_lexer": "ipython3",
   "version": "3.8.10"
  }
 },
 "nbformat": 4,
 "nbformat_minor": 5
}
