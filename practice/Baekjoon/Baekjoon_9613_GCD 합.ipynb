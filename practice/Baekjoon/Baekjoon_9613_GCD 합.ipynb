{
 "cells": [
  {
   "cell_type": "markdown",
   "id": "96bb6f58",
   "metadata": {},
   "source": [
    "#### 문제\n",
    "양의 정수 n개가 주어졌을 때, 가능한 모든 쌍의 GCD의 합을 구하는 프로그램을 작성하시오.\n",
    "\n",
    "#### 입력\n",
    "첫째 줄에 테스트 케이스의 개수 t (1 ≤ t ≤ 100)이 주어진다. 각 테스트 케이스는 한 줄로 이루어져 있다. 각 테스트 케이스는 수의 개수 n (1 < n ≤ 100)가 주어지고, 다음에는 n개의 수가 주어진다. 입력으로 주어지는 수는 1,000,000을 넘지 않는다.\n",
    "\n",
    "#### 출력\n",
    "각 테스트 케이스마다 가능한 모든 쌍의 GCD의 합을 출력한다.\n",
    "\n",
    "#### 예제 입력 1 \n",
    "3\n",
    "\n",
    "4 10 20 30 40\n",
    "\n",
    "3 7 5 12\n",
    "\n",
    "3 125 15 25\n",
    "#### 예제 출력 1 \n",
    "\n",
    "70\n",
    "\n",
    "3\n",
    "\n",
    "35"
   ]
  },
  {
   "cell_type": "code",
   "execution_count": 4,
   "id": "6916df98",
   "metadata": {},
   "outputs": [
    {
     "name": "stdout",
     "output_type": "stream",
     "text": [
      "3\n",
      "4 10 20 30 40 \n",
      "70\n",
      "3 7 5 12\n",
      "3\n",
      "3 125 15 25\n",
      "35\n"
     ]
    }
   ],
   "source": [
    "from itertools import combinations\n",
    "from math import gcd\n",
    "\n",
    "t = int(input())\n",
    "for _ in range(t):\n",
    "    nums = list(map(int, input().split()))\n",
    "    n = nums[0]\n",
    "    nums = nums[1:]\n",
    "    cases = combinations(nums, 2)\n",
    "    gcd_ls = list(gcd(c1, c2) for c1, c2 in cases)\n",
    "    print(sum(gcd_ls))"
   ]
  },
  {
   "cell_type": "code",
   "execution_count": null,
   "id": "1fafe937",
   "metadata": {},
   "outputs": [],
   "source": []
  }
 ],
 "metadata": {
  "kernelspec": {
   "display_name": "Python 3 (ipykernel)",
   "language": "python",
   "name": "python3"
  },
  "language_info": {
   "codemirror_mode": {
    "name": "ipython",
    "version": 3
   },
   "file_extension": ".py",
   "mimetype": "text/x-python",
   "name": "python",
   "nbconvert_exporter": "python",
   "pygments_lexer": "ipython3",
   "version": "3.8.10"
  }
 },
 "nbformat": 4,
 "nbformat_minor": 5
}
