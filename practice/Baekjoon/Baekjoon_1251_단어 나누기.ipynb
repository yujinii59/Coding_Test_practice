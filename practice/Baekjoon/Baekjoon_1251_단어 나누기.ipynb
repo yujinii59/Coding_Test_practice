{
 "cells": [
  {
   "cell_type": "markdown",
   "id": "60f47753",
   "metadata": {},
   "source": [
    "#### 문제\n",
    "알파벳 소문자로 이루어진 단어를 가지고 아래와 같은 과정을 해 보려고 한다.\n",
    "\n",
    "먼저 단어에서 임의의 두 부분을 골라서 단어를 쪼갠다. 즉, 주어진 단어를 세 개의 더 작은 단어로 나누는 것이다. 각각은 적어도 길이가 1 이상인 단어여야 한다. 이제 이렇게 나눈 세 개의 작은 단어들을 앞뒤를 뒤집고, 이를 다시 원래의 순서대로 합친다.\n",
    "\n",
    "예를 들어,\n",
    "\n",
    "단어 : arrested\n",
    "\n",
    "세 단어로 나누기 : ar / rest / ed\n",
    "\n",
    "각각 뒤집기 : ra / tser / de\n",
    "\n",
    "합치기 : ratserde\n",
    "\n",
    "단어가 주어지면, 이렇게 만들 수 있는 단어 중에서 사전순으로 가장 앞서는 단어를 출력하는 프로그램을 작성하시오.\n",
    "\n",
    "#### 입력\n",
    "첫째 줄에 영어 소문자로 된 단어가 주어진다. 길이는 3 이상 50 이하이다.\n",
    "\n",
    "#### 출력\n",
    "첫째 줄에 구하고자 하는 단어를 출력하면 된다.\n",
    "\n",
    "#### 예제 입력 1 \n",
    "mobitel\n",
    "#### 예제 출력 1 \n",
    "bometil"
   ]
  },
  {
   "cell_type": "code",
   "execution_count": 11,
   "id": "2f26f4dc",
   "metadata": {},
   "outputs": [
    {
     "name": "stdout",
     "output_type": "stream",
     "text": [
      "mobitel\n",
      "bometil\n"
     ]
    }
   ],
   "source": [
    "from itertools import combinations\n",
    "word = input()\n",
    "length = len(word)\n",
    "cases = combinations(list(range(length - 1)), 2)\n",
    "rst = 'z'*length\n",
    "for cut in cases:\n",
    "    rst = min(rst, word[:cut[0]+1][::-1]+word[cut[0]+1:cut[1]+1][::-1]+word[cut[1]+1:][::-1])\n",
    "print(rst)"
   ]
  },
  {
   "cell_type": "code",
   "execution_count": null,
   "id": "5eed642a",
   "metadata": {},
   "outputs": [],
   "source": []
  }
 ],
 "metadata": {
  "kernelspec": {
   "display_name": "Python 3 (ipykernel)",
   "language": "python",
   "name": "python3"
  },
  "language_info": {
   "codemirror_mode": {
    "name": "ipython",
    "version": 3
   },
   "file_extension": ".py",
   "mimetype": "text/x-python",
   "name": "python",
   "nbconvert_exporter": "python",
   "pygments_lexer": "ipython3",
   "version": "3.8.10"
  }
 },
 "nbformat": 4,
 "nbformat_minor": 5
}
