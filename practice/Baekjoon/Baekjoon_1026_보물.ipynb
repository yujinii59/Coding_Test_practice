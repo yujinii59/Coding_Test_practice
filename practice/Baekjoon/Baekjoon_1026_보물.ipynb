{
 "cells": [
  {
   "cell_type": "markdown",
   "id": "0fda624e",
   "metadata": {},
   "source": [
    "#### 문제\n",
    "옛날 옛적에 수학이 항상 큰 골칫거리였던 나라가 있었다. 이 나라의 국왕 김지민은 다음과 같은 문제를 내고 큰 상금을 걸었다.\n",
    "\n",
    "길이가 N인 정수 배열 A와 B가 있다. 다음과 같이 함수 S를 정의하자.\n",
    "\n",
    "S = A[0] × B[0] + ... + A[N-1] × B[N-1]\n",
    "\n",
    "S의 값을 가장 작게 만들기 위해 A의 수를 재배열하자. 단, B에 있는 수는 재배열하면 안 된다.\n",
    "\n",
    "S의 최솟값을 출력하는 프로그램을 작성하시오.\n",
    "\n",
    "#### 입력\n",
    "첫째 줄에 N이 주어진다. 둘째 줄에는 A에 있는 N개의 수가 순서대로 주어지고, 셋째 줄에는 B에 있는 수가 순서대로 주어진다. N은 50보다 작거나 같은 자연수이고, A와 B의 각 원소는 100보다 작거나 같은 음이 아닌 정수이다.\n",
    "\n",
    "#### 출력\n",
    "첫째 줄에 S의 최솟값을 출력한다.\n",
    "\n",
    "#### 예제 입력 1 \n",
    "5\n",
    "\n",
    "1 1 1 6 0\n",
    "\n",
    "2 7 8 3 1\n",
    "#### 예제 출력 1 \n",
    "18\n",
    "#### 예제 입력 2 \n",
    "3\n",
    "\n",
    "1 1 3\n",
    "\n",
    "10 30 20\n",
    "#### 예제 출력 2 \n",
    "80\n",
    "#### 예제 입력 3 \n",
    "9\n",
    "\n",
    "5 15 100 31 39 0 0 3 26\n",
    "\n",
    "11 12 13 2 3 4 5 9 1\n",
    "#### 예제 출력 3 \n",
    "528\n",
    "#### #힌트\n",
    "예제 1의 경우 A를 {1, 1, 0, 1, 6}과 같이 재배열하면 된다."
   ]
  },
  {
   "cell_type": "code",
   "execution_count": null,
   "id": "f92026e2",
   "metadata": {},
   "outputs": [],
   "source": [
    "n = int(input())\n",
    "a = sorted(list(map(int, input().split())))\n",
    "b = sorted(list(map(int, input().split())), reverse=True)\n",
    "total = 0\n",
    "for i in range(n):\n",
    "    total += a[i] * b[i]\n",
    "    \n",
    "print(total)"
   ]
  }
 ],
 "metadata": {
  "kernelspec": {
   "display_name": "Python 3 (ipykernel)",
   "language": "python",
   "name": "python3"
  },
  "language_info": {
   "codemirror_mode": {
    "name": "ipython",
    "version": 3
   },
   "file_extension": ".py",
   "mimetype": "text/x-python",
   "name": "python",
   "nbconvert_exporter": "python",
   "pygments_lexer": "ipython3",
   "version": "3.8.10"
  }
 },
 "nbformat": 4,
 "nbformat_minor": 5
}
