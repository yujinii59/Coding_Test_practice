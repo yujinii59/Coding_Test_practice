{
 "cells": [
  {
   "cell_type": "code",
   "execution_count": 1,
   "id": "74ea3fd8",
   "metadata": {},
   "outputs": [],
   "source": [
    "strings = [\n",
    "            'Mississipi', #?\n",
    "            'zZa', #Z\n",
    "            'z', #Z\n",
    "            'baaa' #A\n",
    "    ]"
   ]
  },
  {
   "cell_type": "code",
   "execution_count": 11,
   "id": "7617f74b",
   "metadata": {},
   "outputs": [
    {
     "name": "stdout",
     "output_type": "stream",
     "text": [
      "?\n",
      "Z\n",
      "Z\n",
      "A\n"
     ]
    }
   ],
   "source": [
    "from collections import Counter\n",
    "for string in strings:\n",
    "    string = string.upper()\n",
    "    if len(string) == 1:\n",
    "        print(string)\n",
    "    else:\n",
    "        cnt_dict = Counter(list(string))\n",
    "        dict = sorted(cnt_dict.items(),key=lambda x: x[1], reverse=True)\n",
    "        if dict[0][1] == dict[1][1]:\n",
    "            print('?')\n",
    "        else:\n",
    "            print(dict[0][0])"
   ]
  },
  {
   "cell_type": "code",
   "execution_count": 34,
   "id": "5d2f46e0",
   "metadata": {},
   "outputs": [],
   "source": [
    "n = 9\n",
    "scores = list(map(int, '10 20 30 40 50 60 70 80 90'.split()))"
   ]
  },
  {
   "cell_type": "code",
   "execution_count": 35,
   "id": "b2be3a04",
   "metadata": {},
   "outputs": [
    {
     "name": "stdout",
     "output_type": "stream",
     "text": [
      "[10, 20, 30, 40, 50, 60, 70, 80, 90]\n",
      "55.55555555555556\n"
     ]
    }
   ],
   "source": [
    "print(scores)\n",
    "max_score = max(scores)\n",
    "\n",
    "total = 0\n",
    "for score in scores:\n",
    "    total += (score / max_score) * 100\n",
    "    \n",
    "print(total / n)"
   ]
  },
  {
   "cell_type": "code",
   "execution_count": null,
   "id": "dd04c448",
   "metadata": {},
   "outputs": [],
   "source": []
  },
  {
   "cell_type": "code",
   "execution_count": 40,
   "id": "1b764cb0",
   "metadata": {},
   "outputs": [
    {
     "name": "stdout",
     "output_type": "stream",
     "text": [
      "81\n",
      "8\n"
     ]
    }
   ],
   "source": [
    "numbers = list(map(int, '0 4 2 5 6'.split()))\n",
    "\n",
    "total = 0\n",
    "for number in numbers:\n",
    "    total += number ** 2\n",
    "print(total)    \n",
    "print(total  10)"
   ]
  },
  {
   "cell_type": "code",
   "execution_count": 42,
   "id": "dd366a4d",
   "metadata": {},
   "outputs": [],
   "source": [
    "from collections import Counter\n",
    "cnt = Counter('1234567123')"
   ]
  },
  {
   "cell_type": "code",
   "execution_count": 55,
   "id": "aff49e88",
   "metadata": {},
   "outputs": [
    {
     "data": {
      "text/plain": [
       "7"
      ]
     },
     "execution_count": 55,
     "metadata": {},
     "output_type": "execute_result"
    }
   ],
   "source": [
    "cnt[str(0)]\n",
    "len(cnt)"
   ]
  },
  {
   "cell_type": "code",
   "execution_count": 49,
   "id": "d7d94834",
   "metadata": {},
   "outputs": [
    {
     "name": "stdout",
     "output_type": "stream",
     "text": [
      "5\n"
     ]
    }
   ],
   "source": [
    "n = int(input())\n",
    "\n",
    "for i in range(5):\n",
    "    print(i)"
   ]
  },
  {
   "cell_type": "code",
   "execution_count": 53,
   "id": "72da5199",
   "metadata": {},
   "outputs": [
    {
     "name": "stdout",
     "output_type": "stream",
     "text": [
      "0 30\n",
      "23   45\n"
     ]
    }
   ],
   "source": [
    "h, m = map(int, input().split())\n",
    "\n",
    "if m >= 45:\n",
    "    m -= 45\n",
    "else:\n",
    "    if h == 0:\n",
    "        h = 23\n",
    "    else:\n",
    "        h -= 1\n",
    "    m += 60 - 45\n",
    "print(h, ' ', m)"
   ]
  },
  {
   "cell_type": "code",
   "execution_count": 54,
   "id": "e8676722",
   "metadata": {},
   "outputs": [
    {
     "name": "stdout",
     "output_type": "stream",
     "text": [
      "734 893\n",
      "437\n"
     ]
    }
   ],
   "source": [
    "num1, num2 = input().split()\n",
    "\n",
    "num1_ls = reversed(list(num1))\n",
    "num2_ls = reversed(list(num2))\n",
    "\n",
    "num1 = int(''.join(num1_ls))\n",
    "num2 = int(''.join(num2_ls))\n",
    "\n",
    "if num1 >= num2:\n",
    "    print(num1)\n",
    "elif num1 < num2:\n",
    "    print(num2)\n"
   ]
  },
  {
   "cell_type": "code",
   "execution_count": 56,
   "id": "fd4ab8df",
   "metadata": {},
   "outputs": [
    {
     "ename": "SyntaxError",
     "evalue": "invalid syntax (1536972001.py, line 8)",
     "output_type": "error",
     "traceback": [
      "\u001b[0;36m  Input \u001b[0;32mIn [56]\u001b[0;36m\u001b[0m\n\u001b[0;31m    if s = 'O':\u001b[0m\n\u001b[0m         ^\u001b[0m\n\u001b[0;31mSyntaxError\u001b[0m\u001b[0;31m:\u001b[0m invalid syntax\n"
     ]
    }
   ],
   "source": [
    "n = int(input())\n",
    "\n",
    "for _ in range(n):\n",
    "    string = input()\n",
    "    cnt = 0\n",
    "    score = 0\n",
    "    for s in string:\n",
    "        if s = 'O':\n",
    "            cnt += 1\n",
    "            score += cnt\n",
    "        else:\n",
    "            cnt = 0\n",
    "    print(score)"
   ]
  },
  {
   "cell_type": "code",
   "execution_count": 58,
   "id": "3f879dde",
   "metadata": {},
   "outputs": [
    {
     "name": "stdout",
     "output_type": "stream",
     "text": [
      "\\    /\\\n",
      " )  ( ')\n",
      "(  /  )\n",
      " \\(__)|\n"
     ]
    }
   ],
   "source": [
    "print('\\    /\\\\')\n",
    "print(\" )  ( ')\")\n",
    "print(\"(  /  )\")\n",
    "print(' \\(__)|')"
   ]
  },
  {
   "cell_type": "code",
   "execution_count": 67,
   "id": "31f186b9",
   "metadata": {},
   "outputs": [
    {
     "name": "stdout",
     "output_type": "stream",
     "text": [
      "10 1\n",
      "1 10 4 9 2 3 8 5 7 6\n",
      "\n"
     ]
    }
   ],
   "source": [
    "import numpy as np\n",
    "\n",
    "n, x = map(int, input().split())\n",
    "num_ls = list(map(int, input().split()))\n",
    "num_ls = np.array(num_ls)\n",
    "less_ls = num_ls[num_ls < x]\n",
    "\n",
    "if len(less_ls) == 0:\n",
    "    print()\n",
    "else:\n",
    "    for num in less_ls:\n",
    "        print(num, end=' ')"
   ]
  },
  {
   "cell_type": "code",
   "execution_count": 68,
   "id": "79d8f430",
   "metadata": {},
   "outputs": [
    {
     "data": {
      "text/plain": [
       "True"
      ]
     },
     "execution_count": 68,
     "metadata": {},
     "output_type": "execute_result"
    }
   ],
   "source": [
    "1== 1==1"
   ]
  },
  {
   "cell_type": "code",
   "execution_count": 70,
   "id": "2a114188",
   "metadata": {},
   "outputs": [
    {
     "data": {
      "text/plain": [
       "[1, 1]"
      ]
     },
     "execution_count": 70,
     "metadata": {},
     "output_type": "execute_result"
    }
   ],
   "source": [
    "list(map(int, ['1','1']))"
   ]
  },
  {
   "cell_type": "code",
   "execution_count": null,
   "id": "c9754dce",
   "metadata": {},
   "outputs": [],
   "source": []
  }
 ],
 "metadata": {
  "kernelspec": {
   "display_name": "Python 3 (ipykernel)",
   "language": "python",
   "name": "python3"
  },
  "language_info": {
   "codemirror_mode": {
    "name": "ipython",
    "version": 3
   },
   "file_extension": ".py",
   "mimetype": "text/x-python",
   "name": "python",
   "nbconvert_exporter": "python",
   "pygments_lexer": "ipython3",
   "version": "3.8.10"
  }
 },
 "nbformat": 4,
 "nbformat_minor": 5
}
