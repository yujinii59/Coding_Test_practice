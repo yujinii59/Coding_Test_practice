{
 "cells": [
  {
   "cell_type": "markdown",
   "id": "ec3686ea",
   "metadata": {},
   "source": [
    "#### 문제\n",
    "상근이는 요즘 설탕공장에서 설탕을 배달하고 있다. 상근이는 지금 사탕가게에 설탕을 정확하게 N킬로그램을 배달해야 한다. 설탕공장에서 만드는 설탕은 봉지에 담겨져 있다. 봉지는 3킬로그램 봉지와 5킬로그램 봉지가 있다.\n",
    "\n",
    "상근이는 귀찮기 때문에, 최대한 적은 봉지를 들고 가려고 한다. 예를 들어, 18킬로그램 설탕을 배달해야 할 때, 3킬로그램 봉지 6개를 가져가도 되지만, 5킬로그램 3개와 3킬로그램 1개를 배달하면, 더 적은 개수의 봉지를 배달할 수 있다.\n",
    "\n",
    "상근이가 설탕을 정확하게 N킬로그램 배달해야 할 때, 봉지 몇 개를 가져가면 되는지 그 수를 구하는 프로그램을 작성하시오.\n",
    "\n",
    "#### 입력\n",
    "첫째 줄에 N이 주어진다. (3 ≤ N ≤ 5000)\n",
    "\n",
    "#### 출력\n",
    "상근이가 배달하는 봉지의 최소 개수를 출력한다. 만약, 정확하게 N킬로그램을 만들 수 없다면 -1을 출력한다.\n",
    "\n",
    "예제 입력 1 \n",
    "\n",
    "18\n",
    "\n",
    "예제 출력 1 \n",
    "\n",
    "4\n",
    "\n",
    "예제 입력 2 \n",
    "\n",
    "4\n",
    "\n",
    "예제 출력 2 \n",
    "\n",
    "-1\n",
    "\n",
    "예제 입력 3 \n",
    "\n",
    "6\n",
    "\n",
    "예제 출력 3 \n",
    "\n",
    "2\n",
    "\n",
    "예제 입력 4 \n",
    "\n",
    "9\n",
    "\n",
    "예제 출력 4 \n",
    "\n",
    "3\n",
    "\n",
    "예제 입력 5 \n",
    "\n",
    "11\n",
    "\n",
    "예제 출력 5 \n",
    "\n",
    "3"
   ]
  },
  {
   "cell_type": "code",
   "execution_count": 9,
   "id": "c4f6d364",
   "metadata": {},
   "outputs": [
    {
     "name": "stdout",
     "output_type": "stream",
     "text": [
      "11\n",
      "3\n"
     ]
    }
   ],
   "source": [
    "n = int(input())\n",
    "i = n // 5\n",
    "cnt = -1\n",
    "for j in range(i, -1, -1):\n",
    "    rm = n - (5 * j)\n",
    "    if rm % 3 == 0:\n",
    "        cnt = j + rm // 3\n",
    "        print(cnt)\n",
    "        break\n",
    "if cnt == -1:\n",
    "    print(-1)"
   ]
  },
  {
   "cell_type": "code",
   "execution_count": null,
   "id": "05a1469c",
   "metadata": {},
   "outputs": [],
   "source": []
  },
  {
   "cell_type": "code",
   "execution_count": null,
   "id": "0758397e",
   "metadata": {},
   "outputs": [],
   "source": []
  }
 ],
 "metadata": {
  "kernelspec": {
   "display_name": "Python 3 (ipykernel)",
   "language": "python",
   "name": "python3"
  },
  "language_info": {
   "codemirror_mode": {
    "name": "ipython",
    "version": 3
   },
   "file_extension": ".py",
   "mimetype": "text/x-python",
   "name": "python",
   "nbconvert_exporter": "python",
   "pygments_lexer": "ipython3",
   "version": "3.8.10"
  }
 },
 "nbformat": 4,
 "nbformat_minor": 5
}
