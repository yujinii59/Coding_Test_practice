{
 "cells": [
  {
   "cell_type": "markdown",
   "id": "3eccde9f",
   "metadata": {},
   "source": [
    "#### 문제\n",
    "세 개의 장대가 있고 첫 번째 장대에는 반경이 서로 다른 n개의 원판이 쌓여 있다. 각 원판은 반경이 큰 순서대로 쌓여있다. 이제 수도승들이 다음 규칙에 따라 첫 번째 장대에서 세 번째 장대로 옮기려 한다.\n",
    "\n",
    "한 번에 한 개의 원판만을 다른 탑으로 옮길 수 있다.\n",
    "\n",
    "쌓아 놓은 원판은 항상 위의 것이 아래의 것보다 작아야 한다.\n",
    "\n",
    "이 작업을 수행하는데 필요한 이동 순서를 출력하는 프로그램을 작성하라. 단, 이동 횟수는 최소가 되어야 한다.\n",
    "\n",
    "아래 그림은 원판이 5개인 경우의 예시이다.\n",
    "\n",
    "\n",
    "\n",
    "#### 입력\n",
    "첫째 줄에 첫 번째 장대에 쌓인 원판의 개수 N (1 ≤ N ≤ 20)이 주어진다.\n",
    "\n",
    "#### 출력\n",
    "첫째 줄에 옮긴 횟수 K를 출력한다.\n",
    "\n",
    "두 번째 줄부터 수행 과정을 출력한다. 두 번째 줄부터 K개의 줄에 걸쳐 두 정수 A B를 빈칸을 사이에 두고 출력하는데, 이는 A번째 탑의 가장 위에 있는 원판을 B번째 탑의 가장 위로 옮긴다는 뜻이다.\n",
    "\n",
    "#### 예제 입력 1 \n",
    "3\n",
    "#### 예제 출력 1 \n",
    "7\n",
    "\n",
    "1 3\n",
    "\n",
    "1 2\n",
    "\n",
    "3 2\n",
    "\n",
    "1 3\n",
    "\n",
    "2 1\n",
    "\n",
    "2 3\n",
    "\n",
    "1 3\n"
   ]
  },
  {
   "cell_type": "code",
   "execution_count": 4,
   "id": "7c54386e",
   "metadata": {},
   "outputs": [],
   "source": [
    "def hanoi(num, start, by, end, move):\n",
    "    if num == 1:\n",
    "        move.append((start, end))\n",
    "    else:\n",
    "        move = hanoi(num - 1, start, end, by, move)\n",
    "        move.append((start, end))\n",
    "        move = hanoi(num - 1, by, start, end, move)\n",
    "    return move"
   ]
  },
  {
   "cell_type": "code",
   "execution_count": 6,
   "id": "571771d0",
   "metadata": {},
   "outputs": [
    {
     "name": "stdout",
     "output_type": "stream",
     "text": [
      "2\n",
      "3\n",
      "1 2\n",
      "1 3\n",
      "2 3\n"
     ]
    }
   ],
   "source": [
    "n = int(input())\n",
    "moves = hanoi(n, 1, 2, 3, [])\n",
    "\n",
    "print(len(moves))\n",
    "for move in moves:\n",
    "    print(move[0], move[1])"
   ]
  },
  {
   "cell_type": "code",
   "execution_count": null,
   "id": "868996c8",
   "metadata": {},
   "outputs": [],
   "source": []
  }
 ],
 "metadata": {
  "kernelspec": {
   "display_name": "Python 3 (ipykernel)",
   "language": "python",
   "name": "python3"
  },
  "language_info": {
   "codemirror_mode": {
    "name": "ipython",
    "version": 3
   },
   "file_extension": ".py",
   "mimetype": "text/x-python",
   "name": "python",
   "nbconvert_exporter": "python",
   "pygments_lexer": "ipython3",
   "version": "3.8.10"
  }
 },
 "nbformat": 4,
 "nbformat_minor": 5
}
