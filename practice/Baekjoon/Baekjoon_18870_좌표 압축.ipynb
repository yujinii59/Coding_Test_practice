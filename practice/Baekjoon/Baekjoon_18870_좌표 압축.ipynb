{
 "cells": [
  {
   "cell_type": "markdown",
   "id": "16f803d0",
   "metadata": {},
   "source": [
    "#### 문제\n",
    "수직선 위에 N개의 좌표 X1, X2, ..., XN이 있다. 이 좌표에 좌표 압축을 적용하려고 한다.\n",
    "\n",
    "Xi를 좌표 압축한 결과 X'i의 값은 Xi > Xj를 만족하는 서로 다른 좌표의 개수와 같아야 한다.\n",
    "\n",
    "X1, X2, ..., XN에 좌표 압축을 적용한 결과 X'1, X'2, ..., X'N를 출력해보자.\n",
    "\n",
    "#### 입력\n",
    "첫째 줄에 N이 주어진다.\n",
    "\n",
    "둘째 줄에는 공백 한 칸으로 구분된 X1, X2, ..., XN이 주어진다.\n",
    "\n",
    "#### 출력\n",
    "첫째 줄에 X'1, X'2, ..., X'N을 공백 한 칸으로 구분해서 출력한다.\n",
    "\n",
    "#### 제한\n",
    "1 ≤ N ≤ 1,000,000\n",
    "\n",
    "-109 ≤ Xi ≤ 109\n",
    "\n",
    "##### 예제 입력 1 \n",
    "5\n",
    "\n",
    "2 4 -10 4 -9\n",
    "\n",
    "##### 예제 출력 1 \n",
    "2 3 0 3 1\n",
    "\n",
    "##### 예제 입력 2 \n",
    "6\n",
    "\n",
    "1000 999 1000 999 1000 999\n",
    "\n",
    "##### 예제 출력 2 \n",
    "1 0 1 0 1 0"
   ]
  },
  {
   "cell_type": "code",
   "execution_count": 12,
   "id": "9cbce68b",
   "metadata": {},
   "outputs": [
    {
     "name": "stdout",
     "output_type": "stream",
     "text": [
      "6\n",
      "2 4 4 5 -10 -9\n",
      "2 3 3 5 0 1 "
     ]
    }
   ],
   "source": [
    "n = int(input())\n",
    "coord = list(map(int, input().split()))\n",
    "sort_coord = sorted(set(coord))\n",
    "\n",
    "dic = {}\n",
    "for i, v in enumerate(sort_coord):\n",
    "    if v not in dic:\n",
    "        dic[v] = i\n",
    "\n",
    "for i in coord:\n",
    "    print(dic[i], end=' ')"
   ]
  },
  {
   "cell_type": "code",
   "execution_count": 8,
   "id": "48ded4be",
   "metadata": {},
   "outputs": [],
   "source": [
    "def bisect(ls, num, start, end):\n",
    "    if start == end:\n",
    "        ls = ls[:start] + [num] + ls[end:]\n",
    "    else:\n",
    "        mid = (start + end) // 2\n",
    "        if ls[mid] > num:\n",
    "            ls = bisect(ls, num, start, mid)\n",
    "        elif ls[mid] < num:\n",
    "            ls = bisect(ls, num, mid + 1, end)\n",
    "        else:\n",
    "            ls = ls[:mid] + [num] + ls[mid:]\n",
    "    return ls\n",
    "    "
   ]
  },
  {
   "cell_type": "code",
   "execution_count": 9,
   "id": "4f6883e3",
   "metadata": {},
   "outputs": [
    {
     "name": "stdout",
     "output_type": "stream",
     "text": [
      "6\n",
      "2 4 5 -10 4 -9\n"
     ]
    }
   ],
   "source": [
    "n = int(input())\n",
    "coord = list(map(int, input().split()))\n",
    "\n",
    "for i, p in enumerate(coord):\n",
    "    if i == 0:\n",
    "        ls = [p]\n",
    "    else:\n",
    "        ls = bisect(ls, p, 0, i)"
   ]
  },
  {
   "cell_type": "code",
   "execution_count": 10,
   "id": "3c8546ec",
   "metadata": {},
   "outputs": [
    {
     "data": {
      "text/plain": [
       "[-10, -9, 2, 4, 4, 5]"
      ]
     },
     "execution_count": 10,
     "metadata": {},
     "output_type": "execute_result"
    }
   ],
   "source": [
    "ls"
   ]
  },
  {
   "cell_type": "code",
   "execution_count": null,
   "id": "45aee168",
   "metadata": {},
   "outputs": [],
   "source": []
  }
 ],
 "metadata": {
  "kernelspec": {
   "display_name": "Python 3 (ipykernel)",
   "language": "python",
   "name": "python3"
  },
  "language_info": {
   "codemirror_mode": {
    "name": "ipython",
    "version": 3
   },
   "file_extension": ".py",
   "mimetype": "text/x-python",
   "name": "python",
   "nbconvert_exporter": "python",
   "pygments_lexer": "ipython3",
   "version": "3.8.10"
  }
 },
 "nbformat": 4,
 "nbformat_minor": 5
}
