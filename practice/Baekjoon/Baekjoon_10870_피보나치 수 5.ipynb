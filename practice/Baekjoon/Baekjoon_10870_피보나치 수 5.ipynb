{
 "cells": [
  {
   "cell_type": "markdown",
   "id": "fec64b00",
   "metadata": {},
   "source": [
    "#### 문제\n",
    "피보나치 수는 0과 1로 시작한다. 0번째 피보나치 수는 0이고, 1번째 피보나치 수는 1이다. 그 다음 2번째 부터는 바로 앞 두 피보나치 수의 합이 된다.\n",
    "\n",
    "이를 식으로 써보면 Fn = Fn-1 + Fn-2 (n ≥ 2)가 된다.\n",
    "\n",
    "n=17일때 까지 피보나치 수를 써보면 다음과 같다.\n",
    "\n",
    "0, 1, 1, 2, 3, 5, 8, 13, 21, 34, 55, 89, 144, 233, 377, 610, 987, 1597\n",
    "\n",
    "n이 주어졌을 때, n번째 피보나치 수를 구하는 프로그램을 작성하시오.\n",
    "\n",
    "#### 입력\n",
    "첫째 줄에 n이 주어진다. n은 20보다 작거나 같은 자연수 또는 0이다.\n",
    "\n",
    "#### 출력\n",
    "첫째 줄에 n번째 피보나치 수를 출력한다.\n",
    "\n",
    "#### 예제 입력 1 \n",
    "10\n",
    "#### 예제 출력 1 \n",
    "55"
   ]
  },
  {
   "cell_type": "code",
   "execution_count": 2,
   "id": "ca2df287",
   "metadata": {},
   "outputs": [],
   "source": [
    "def fibonacci(num):\n",
    "    if num == 1:\n",
    "        return 1\n",
    "    elif num == 2:\n",
    "        return 1\n",
    "    else:\n",
    "        return fibonacci(num - 1) + fibonacci(num - 2)"
   ]
  },
  {
   "cell_type": "code",
   "execution_count": 3,
   "id": "84caebdc",
   "metadata": {},
   "outputs": [
    {
     "name": "stdout",
     "output_type": "stream",
     "text": [
      "10\n",
      "55\n"
     ]
    }
   ],
   "source": [
    "print(fibonacci(int(input())))"
   ]
  },
  {
   "cell_type": "code",
   "execution_count": 2,
   "id": "198a8b7e",
   "metadata": {},
   "outputs": [
    {
     "name": "stdin",
     "output_type": "stream",
     "text": [
      " 10\n"
     ]
    },
    {
     "name": "stdout",
     "output_type": "stream",
     "text": [
      "55\n"
     ]
    }
   ],
   "source": [
    "fibo_dict = {}\n",
    "def fibonacci(num):\n",
    "    if num in fibo_dict:\n",
    "        return fibo_dict[num]\n",
    "    \n",
    "    if num == 1:\n",
    "        fibo_dict[num] = 1\n",
    "    elif num == 2:\n",
    "        fibo_dict[num] = 1\n",
    "    else:\n",
    "        fibo1 = fibonacci(num - 1)\n",
    "        fibo2 = fibonacci(num - 2)\n",
    "            \n",
    "        fibo_dict[num] = fibo1 + fibo2\n",
    "    return fibo_dict[num]\n",
    "    \n",
    "print(fibonacci(int(input())))"
   ]
  },
  {
   "cell_type": "code",
   "execution_count": null,
   "id": "f7d2ec0e-cbf2-45b2-949b-c37ec726f11d",
   "metadata": {},
   "outputs": [],
   "source": [
    "d = [0] * 21\n",
    "def pibo(x):\n",
    "    if x == 0:\n",
    "        return 0\n",
    "    if x == 1 or x == 2:\n",
    "        return 1\n",
    "    if d[x] != 0:\n",
    "        return d[x]\n",
    "    d[x] = pibo(x-1) + pibo(x-2)\n",
    "    return d[x]\n",
    "\n",
    "n = int(input())\n",
    "print(pibo(n))"
   ]
  }
 ],
 "metadata": {
  "kernelspec": {
   "display_name": "Python 3 (ipykernel)",
   "language": "python",
   "name": "python3"
  },
  "language_info": {
   "codemirror_mode": {
    "name": "ipython",
    "version": 3
   },
   "file_extension": ".py",
   "mimetype": "text/x-python",
   "name": "python",
   "nbconvert_exporter": "python",
   "pygments_lexer": "ipython3",
   "version": "3.8.10"
  }
 },
 "nbformat": 4,
 "nbformat_minor": 5
}
