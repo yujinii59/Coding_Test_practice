{
 "cells": [
  {
   "cell_type": "code",
   "execution_count": 1,
   "id": "c645779a",
   "metadata": {},
   "outputs": [
    {
     "name": "stdout",
     "output_type": "stream",
     "text": [
      "10\n",
      "1 100 2 50 60 3 5 6 7 8\n",
      "113\n"
     ]
    }
   ],
   "source": [
    "n = int(input())\n",
    "seq = list(map(int, input().split()))\n",
    "dp = {}\n",
    "max_val = 0\n",
    "for i in seq:\n",
    "    dp[i] = i\n",
    "    for num in dp:\n",
    "        if num < i:\n",
    "            dp[i] = max(dp[i], dp[num] + i)\n",
    "            \n",
    "    max_val = max(max_val, dp[i])\n",
    "print(max_val)"
   ]
  },
  {
   "cell_type": "code",
   "execution_count": null,
   "id": "9b294331",
   "metadata": {},
   "outputs": [],
   "source": []
  }
 ],
 "metadata": {
  "kernelspec": {
   "display_name": "Python 3 (ipykernel)",
   "language": "python",
   "name": "python3"
  },
  "language_info": {
   "codemirror_mode": {
    "name": "ipython",
    "version": 3
   },
   "file_extension": ".py",
   "mimetype": "text/x-python",
   "name": "python",
   "nbconvert_exporter": "python",
   "pygments_lexer": "ipython3",
   "version": "3.8.10"
  }
 },
 "nbformat": 4,
 "nbformat_minor": 5
}
