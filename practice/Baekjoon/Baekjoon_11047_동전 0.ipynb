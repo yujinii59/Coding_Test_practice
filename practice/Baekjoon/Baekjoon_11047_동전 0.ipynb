{
 "cells": [
  {
   "cell_type": "markdown",
   "id": "1248f4d3",
   "metadata": {},
   "source": [
    "#### 문제\n",
    "준규가 가지고 있는 동전은 총 N종류이고, 각각의 동전을 매우 많이 가지고 있다.\n",
    "\n",
    "동전을 적절히 사용해서 그 가치의 합을 K로 만들려고 한다. 이때 필요한 동전 개수의 최솟값을 구하는 프로그램을 작성하시오.\n",
    "\n",
    "####입력\n",
    "첫째 줄에 N과 K가 주어진다. (1 ≤ N ≤ 10, 1 ≤ K ≤ 100,000,000)\n",
    "\n",
    "둘째 줄부터 N개의 줄에 동전의 가치 Ai가 오름차순으로 주어진다. (1 ≤ Ai ≤ 1,000,000, A1 = 1, i ≥ 2인 경우에 Ai는 Ai-1의 배수)\n",
    "\n",
    "#### 출력\n",
    "첫째 줄에 K원을 만드는데 필요한 동전 개수의 최솟값을 출력한다.\n",
    "\n",
    "##### 예제 입력 1 \n",
    "10 4200\n",
    "\n",
    "1\n",
    "\n",
    "5\n",
    "\n",
    "10\n",
    "\n",
    "50\n",
    "\n",
    "100\n",
    "\n",
    "500\n",
    "\n",
    "1000\n",
    "\n",
    "5000\n",
    "\n",
    "10000\n",
    "\n",
    "50000\n",
    "\n",
    "##### 예제 출력 1 \n",
    "6\n",
    "\n",
    "##### 예제 입력 2 \n",
    "10 4790\n",
    "\n",
    "1\n",
    "\n",
    "5\n",
    "\n",
    "10\n",
    "\n",
    "50\n",
    "\n",
    "100\n",
    "\n",
    "500\n",
    "\n",
    "1000\n",
    "\n",
    "5000\n",
    "\n",
    "10000\n",
    "\n",
    "50000\n",
    "\n",
    "##### 예제 출력 2 \n",
    "12"
   ]
  },
  {
   "cell_type": "code",
   "execution_count": 7,
   "id": "14e74c7b",
   "metadata": {},
   "outputs": [
    {
     "name": "stdout",
     "output_type": "stream",
     "text": [
      "10 4200\n",
      "1\n",
      "5\n",
      "10\n",
      "50\n",
      "100\n",
      "500\n",
      "1000\n",
      "5000\n",
      "10000\n",
      "50000\n"
     ]
    }
   ],
   "source": [
    "n, m = map(int, input().split())\n",
    "coins = []\n",
    "for _ in range(n):\n",
    "    coins.append(int(input()))\n",
    "    \n",
    "cnt = 0\n",
    "for i in range(n - 1, -1, -1):\n",
    "    cnt += m // coins[i]\n",
    "    m %= coins[i]\n",
    "    if m == 0:\n",
    "        break\n",
    "print(cnt)"
   ]
  }
 ],
 "metadata": {
  "kernelspec": {
   "display_name": "Python 3 (ipykernel)",
   "language": "python",
   "name": "python3"
  },
  "language_info": {
   "codemirror_mode": {
    "name": "ipython",
    "version": 3
   },
   "file_extension": ".py",
   "mimetype": "text/x-python",
   "name": "python",
   "nbconvert_exporter": "python",
   "pygments_lexer": "ipython3",
   "version": "3.8.10"
  }
 },
 "nbformat": 4,
 "nbformat_minor": 5
}
