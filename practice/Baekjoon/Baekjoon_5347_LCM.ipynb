{
 "cells": [
  {
   "cell_type": "markdown",
   "id": "6f5e14db",
   "metadata": {},
   "source": [
    "#### 문제\n",
    "두 수 a와 b가 주어졌을 때, a와 b의 최소 공배수를 구하는 프로그램을 작성하시오.\n",
    "\n",
    "#### 입력\n",
    "첫째 줄에 테스트 케이스의 개수 n이 주어진다. 다음 n개 줄에는 a와 b가 주어진다. a와 b사이에는 공백이 하나 이상 있다. 두 수는 백만보다 작거나 같은 자연수이다.\n",
    "\n",
    "#### 출력\n",
    "각 테스트 케이스에 대해서 입력으로 주어진 두 수의 최소공배수를 출력한다.\n",
    "\n",
    "#### 예제 입력 1 \n",
    "3\n",
    "\n",
    "15 21\n",
    "\n",
    "33 22\n",
    "\n",
    "9 10\n",
    "#### 예제 출력 1 \n",
    "105\n",
    "\n",
    "66\n",
    "\n",
    "90"
   ]
  },
  {
   "cell_type": "code",
   "execution_count": 11,
   "id": "56750e83",
   "metadata": {},
   "outputs": [
    {
     "name": "stdout",
     "output_type": "stream",
     "text": [
      "3\n",
      "15 21\n",
      "105\n",
      "33 22\n",
      "66\n",
      "9 10\n",
      "90\n"
     ]
    }
   ],
   "source": [
    "from math import gcd\n",
    "\n",
    "n = int(input())\n",
    "for _ in range(n):\n",
    "    a, b = map(int, input().split())\n",
    "    print(a * b // gcd(a, b))"
   ]
  },
  {
   "cell_type": "code",
   "execution_count": null,
   "id": "b31cac57",
   "metadata": {},
   "outputs": [],
   "source": []
  }
 ],
 "metadata": {
  "kernelspec": {
   "display_name": "Python 3 (ipykernel)",
   "language": "python",
   "name": "python3"
  },
  "language_info": {
   "codemirror_mode": {
    "name": "ipython",
    "version": 3
   },
   "file_extension": ".py",
   "mimetype": "text/x-python",
   "name": "python",
   "nbconvert_exporter": "python",
   "pygments_lexer": "ipython3",
   "version": "3.8.10"
  }
 },
 "nbformat": 4,
 "nbformat_minor": 5
}
