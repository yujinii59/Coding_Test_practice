{
 "cells": [
  {
   "cell_type": "markdown",
   "id": "ac5e655d",
   "metadata": {},
   "source": [
    "#### 문제\n",
    "N개의 수가 주어졌을 때, 이를 오름차순으로 정렬하는 프로그램을 작성하시오.\n",
    "\n",
    "#### 입력\n",
    "첫째 줄에 수의 개수 N(1 ≤ N ≤ 10,000,000)이 주어진다. 둘째 줄부터 N개의 줄에는 수가 주어진다. 이 수는 10,000보다 작거나 같은 자연수이다.\n",
    "\n",
    "#### 출력\n",
    "첫째 줄부터 N개의 줄에 오름차순으로 정렬한 결과를 한 줄에 하나씩 출력한다.\n",
    "\n",
    "##### 예제 입력 1 \n",
    "10\n",
    "\n",
    "5\n",
    "\n",
    "2\n",
    "\n",
    "3\n",
    "\n",
    "1\n",
    "\n",
    "4\n",
    "\n",
    "2\n",
    "\n",
    "3\n",
    "\n",
    "5\n",
    "\n",
    "1\n",
    "\n",
    "7\n",
    "\n",
    "##### 예제 출력 1 \n",
    "1\n",
    "\n",
    "1\n",
    "\n",
    "2\n",
    "\n",
    "2\n",
    "\n",
    "3\n",
    "\n",
    "3\n",
    "\n",
    "4\n",
    "\n",
    "5\n",
    "\n",
    "5\n",
    "\n",
    "7"
   ]
  },
  {
   "cell_type": "code",
   "execution_count": null,
   "id": "6a9dceb3",
   "metadata": {},
   "outputs": [],
   "source": [
    "import sys\n",
    "\n",
    "n = int(sys.stdin.readline())\n",
    "ls = []\n",
    "nums = [0] * 10001\n",
    "for _ in range(n):\n",
    "    nums[int(sys.stdin.readline())] += 1\n",
    "    \n",
    "for i in range(10001):\n",
    "    for j in range(nums[i]):\n",
    "        print(i)"
   ]
  }
 ],
 "metadata": {
  "kernelspec": {
   "display_name": "Python 3 (ipykernel)",
   "language": "python",
   "name": "python3"
  },
  "language_info": {
   "codemirror_mode": {
    "name": "ipython",
    "version": 3
   },
   "file_extension": ".py",
   "mimetype": "text/x-python",
   "name": "python",
   "nbconvert_exporter": "python",
   "pygments_lexer": "ipython3",
   "version": "3.8.10"
  }
 },
 "nbformat": 4,
 "nbformat_minor": 5
}
