{
 "cells": [
  {
   "cell_type": "markdown",
   "id": "10aa9ad9",
   "metadata": {},
   "source": [
    "#### 문제\n",
    "에라토스테네스의 체는 N보다 작거나 같은 모든 소수를 찾는 유명한 알고리즘이다.\n",
    "\n",
    "이 알고리즘은 다음과 같다.\n",
    "\n",
    "2부터 N까지 모든 정수를 적는다.\n",
    "아직 지우지 않은 수 중 가장 작은 수를 찾는다. 이것을 P라고 하고, 이 수는 소수이다.\n",
    "P를 지우고, 아직 지우지 않은 P의 배수를 크기 순서대로 지운다.\n",
    "아직 모든 수를 지우지 않았다면, 다시 2번 단계로 간다.\n",
    "N, K가 주어졌을 때, K번째 지우는 수를 구하는 프로그램을 작성하시오.\n",
    "\n",
    "#### 입력\n",
    "첫째 줄에 N과 K가 주어진다. (1 ≤ K < N, max(1, K) < N ≤ 1000)\n",
    "\n",
    "#### 출력\n",
    "첫째 줄에 K번째 지워진 수를 출력한다.\n",
    "\n",
    "#### 예제 입력 1 \n",
    "7 3\n",
    "#### 예제 출력 1 \n",
    "6\n",
    "#### 예제 입력 2 \n",
    "15 12\n",
    "#### 예제 출력 2 \n",
    "7\n",
    "#### 예제 입력 3 \n",
    "10 7\n",
    "#### 예제 출력 3 \n",
    "9\n",
    "\n",
    "##### 설명\n",
    "2, 4, 6, 8, 10, 3, 9, 5, 7 순서대로 지워진다. 7번째 지워진 수는 9이다."
   ]
  },
  {
   "cell_type": "code",
   "execution_count": 6,
   "id": "4b43f1d7",
   "metadata": {},
   "outputs": [
    {
     "name": "stdout",
     "output_type": "stream",
     "text": [
      "15 12\n",
      "2 0\n",
      "4 1\n",
      "6 2\n",
      "8 3\n",
      "10 4\n",
      "12 5\n",
      "14 6\n",
      "3 7\n",
      "6 8\n",
      "9 8\n",
      "12 9\n",
      "15 9\n",
      "5 10\n",
      "10 11\n",
      "15 11\n",
      "7 11\n",
      "7\n"
     ]
    }
   ],
   "source": [
    "n, k = map(int, input().split())\n",
    "removed = [0 for _ in range(n+1)]\n",
    "i = 0\n",
    "b = True\n",
    "for j in range(2, n+1):\n",
    "    if b and removed[j] == 0:\n",
    "        loc = j\n",
    "        while loc < n + 1:\n",
    "            if removed[loc] == 0:\n",
    "                i += 1\n",
    "                removed[loc] = 1\n",
    "                if i == k:\n",
    "                    b = False\n",
    "                    break\n",
    "            \n",
    "            loc += j\n",
    "print(loc)\n",
    "                "
   ]
  },
  {
   "cell_type": "code",
   "execution_count": null,
   "id": "8152a3dc",
   "metadata": {},
   "outputs": [],
   "source": []
  }
 ],
 "metadata": {
  "kernelspec": {
   "display_name": "Python 3 (ipykernel)",
   "language": "python",
   "name": "python3"
  },
  "language_info": {
   "codemirror_mode": {
    "name": "ipython",
    "version": 3
   },
   "file_extension": ".py",
   "mimetype": "text/x-python",
   "name": "python",
   "nbconvert_exporter": "python",
   "pygments_lexer": "ipython3",
   "version": "3.8.10"
  }
 },
 "nbformat": 4,
 "nbformat_minor": 5
}
