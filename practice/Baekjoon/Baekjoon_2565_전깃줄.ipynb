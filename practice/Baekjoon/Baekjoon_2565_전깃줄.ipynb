{
 "cells": [
  {
   "cell_type": "markdown",
   "id": "20819997",
   "metadata": {},
   "source": [
    "#### 문제\n",
    "두 전봇대 A와 B 사이에 하나 둘씩 전깃줄을 추가하다 보니 전깃줄이 서로 교차하는 경우가 발생하였다. 합선의 위험이 있어 이들 중 몇 개의 전깃줄을 없애 전깃줄이 교차하지 않도록 만들려고 한다.\n",
    "\n",
    "예를 들어, < 그림 1 >과 같이 전깃줄이 연결되어 있는 경우 A의 1번 위치와 B의 8번 위치를 잇는 전깃줄, A의 3번 위치와 B의 9번 위치를 잇는 전깃줄, A의 4번 위치와 B의 1번 위치를 잇는 전깃줄을 없애면 남아있는 모든 전깃줄이 서로 교차하지 않게 된다.\n",
    "\n",
    "\n",
    "\n",
    "< 그림 1 >\n",
    "\n",
    "전깃줄이 전봇대에 연결되는 위치는 전봇대 위에서부터 차례대로 번호가 매겨진다. 전깃줄의 개수와 전깃줄들이 두 전봇대에 연결되는 위치의 번호가 주어질 때, 남아있는 모든 전깃줄이 서로 교차하지 않게 하기 위해 없애야 하는 전깃줄의 최소 개수를 구하는 프로그램을 작성하시오.\n",
    "\n",
    "#### 입력\n",
    "첫째 줄에는 두 전봇대 사이의 전깃줄의 개수가 주어진다. 전깃줄의 개수는 100 이하의 자연수이다. 둘째 줄부터 한 줄에 하나씩 전깃줄이 A전봇대와 연결되는 위치의 번호와 B전봇대와 연결되는 위치의 번호가 차례로 주어진다. 위치의 번호는 500 이하의 자연수이고, 같은 위치에 두 개 이상의 전깃줄이 연결될 수 없다.\n",
    "\n",
    "#### 출력\n",
    "첫째 줄에 남아있는 모든 전깃줄이 서로 교차하지 않게 하기 위해 없애야 하는 전깃줄의 최소 개수를 출력한다.\n",
    "\n",
    "#### 예제 입력 1 \n",
    "8\n",
    "\n",
    "1 8\n",
    "\n",
    "3 9\n",
    "\n",
    "2 2\n",
    "\n",
    "4 1\n",
    "\n",
    "6 4\n",
    "\n",
    "10 10\n",
    "\n",
    "9 7\n",
    "\n",
    "7 6\n",
    "\n",
    "#### 예제 출력 1 \n",
    "3"
   ]
  },
  {
   "cell_type": "code",
   "execution_count": null,
   "id": "9e06e0d7",
   "metadata": {},
   "outputs": [],
   "source": [
    "n = int(input())\n",
    "conn = [-1 for _ in range(501)]\n",
    "for _ in range(n):\n",
    "    a, b = map(int, input().split())\n",
    "    conn[a] = b\n",
    "    \n",
    "max_cnt = 1 \n",
    "cases = []\n",
    "for c in conn[1:]:\n",
    "    if c != -1:\n",
    "        if (c, 1) not in cases:\n",
    "            cases.append((c, 1))\n",
    "\n",
    "        for case in cases:\n",
    "            loc, cnt = case\n",
    "            if c > loc and (c, cnt + 1) not in cases:\n",
    "                cases.append((c, cnt + 1))\n",
    "                if max_cnt < cnt + 1:\n",
    "                    max_cnt = cnt + 1\n",
    "print(n - max_cnt)"
   ]
  }
 ],
 "metadata": {
  "kernelspec": {
   "display_name": "Python 3 (ipykernel)",
   "language": "python",
   "name": "python3"
  },
  "language_info": {
   "codemirror_mode": {
    "name": "ipython",
    "version": 3
   },
   "file_extension": ".py",
   "mimetype": "text/x-python",
   "name": "python",
   "nbconvert_exporter": "python",
   "pygments_lexer": "ipython3",
   "version": "3.8.10"
  }
 },
 "nbformat": 4,
 "nbformat_minor": 5
}
