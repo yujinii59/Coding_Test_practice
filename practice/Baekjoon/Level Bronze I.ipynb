{
 "cells": [
  {
   "cell_type": "markdown",
   "id": "e4a5df3d",
   "metadata": {},
   "source": [
    "#### 1356 유진수"
   ]
  },
  {
   "cell_type": "code",
   "execution_count": null,
   "id": "ffd2e1d5",
   "metadata": {},
   "outputs": [],
   "source": [
    "def multiply_list(nums):\n",
    "    result = 1\n",
    "    for number in nums:\n",
    "        result *= int(number)\n",
    "    \n",
    "    return result\n",
    "\n",
    "number = input()\n",
    "flag = 'NO'\n",
    "for i in range(1, len(number)):\n",
    "    forward = number[:i]\n",
    "    backward = number[i:]\n",
    "    if multiply_list(list(forward)) == multiply_list(list(backward)):\n",
    "        flag = 'YES'\n",
    "        break\n",
    "\n",
    "print(flag)"
   ]
  },
  {
   "cell_type": "markdown",
   "id": "9bde4ddd",
   "metadata": {},
   "source": [
    "#### 1292 쉽게 푸는 문제"
   ]
  },
  {
   "cell_type": "code",
   "execution_count": null,
   "id": "f0270a8e",
   "metadata": {},
   "outputs": [],
   "source": [
    "seq = []\n",
    "i = 0\n",
    "while len(seq) < 1000:\n",
    "    i += 1\n",
    "    seq.extend([i] * i)\n",
    "start, end = map(int, input().split())\n",
    "print(sum(seq[start-1:end]))"
   ]
  },
  {
   "cell_type": "markdown",
   "id": "f32c239b",
   "metadata": {},
   "source": [
    "#### 1357 뒤집힌 덧셈"
   ]
  },
  {
   "cell_type": "code",
   "execution_count": null,
   "id": "be6eb962",
   "metadata": {},
   "outputs": [],
   "source": [
    "def rev(num):\n",
    "    return int(str(num)[::-1])\n",
    "x, y = map(int, input().split())\n",
    "print(rev(rev(x) + rev(y)))"
   ]
  },
  {
   "cell_type": "markdown",
   "id": "f480948d",
   "metadata": {},
   "source": [
    "#### 1924 2007년"
   ]
  },
  {
   "cell_type": "code",
   "execution_count": null,
   "id": "3a3a5d43",
   "metadata": {},
   "outputs": [],
   "source": [
    "import datetime as dt\n",
    "week = ['MON','TUE','WED', 'THU', 'FRI', 'SAT', 'SUN']\n",
    "m, d = map(int, input().split())\n",
    "day = dt.date(2007, m, d).weekday()\n",
    "print(week[day])"
   ]
  },
  {
   "cell_type": "markdown",
   "id": "76ed2ac9",
   "metadata": {},
   "source": [
    "#### 1371 가장 많은 글자"
   ]
  },
  {
   "cell_type": "code",
   "execution_count": 1,
   "id": "b6553561",
   "metadata": {},
   "outputs": [
    {
     "name": "stdout",
     "output_type": "stream",
     "text": [
      "english\n",
      "\n"
     ]
    },
    {
     "ename": "IndexError",
     "evalue": "string index out of range",
     "output_type": "error",
     "traceback": [
      "\u001b[0;31m---------------------------------------------------------------------------\u001b[0m",
      "\u001b[0;31mIndexError\u001b[0m                                Traceback (most recent call last)",
      "Input \u001b[0;32mIn [1]\u001b[0m, in \u001b[0;36m<module>\u001b[0;34m\u001b[0m\n\u001b[1;32m      9\u001b[0m     counter\u001b[38;5;241m.\u001b[39mupdate(inp)\n\u001b[1;32m     10\u001b[0m     i \u001b[38;5;241m+\u001b[39m\u001b[38;5;241m=\u001b[39m \u001b[38;5;241m1\u001b[39m\n\u001b[0;32m---> 11\u001b[0m counter \u001b[38;5;241m=\u001b[39m \u001b[38;5;28;43msorted\u001b[39;49m\u001b[43m(\u001b[49m\u001b[43mcounter\u001b[49m\u001b[43m,\u001b[49m\u001b[43m \u001b[49m\u001b[43mkey\u001b[49m\u001b[38;5;241;43m=\u001b[39;49m\u001b[38;5;28;43;01mlambda\u001b[39;49;00m\u001b[43m \u001b[49m\u001b[43mx\u001b[49m\u001b[43m:\u001b[49m\u001b[43m(\u001b[49m\u001b[38;5;241;43m-\u001b[39;49m\u001b[43mx\u001b[49m\u001b[43m[\u001b[49m\u001b[38;5;241;43m1\u001b[39;49m\u001b[43m]\u001b[49m\u001b[43m,\u001b[49m\u001b[43m \u001b[49m\u001b[43mx\u001b[49m\u001b[43m[\u001b[49m\u001b[38;5;241;43m0\u001b[39;49m\u001b[43m]\u001b[49m\u001b[43m)\u001b[49m\u001b[43m)\u001b[49m\n\u001b[1;32m     12\u001b[0m rst \u001b[38;5;241m=\u001b[39m \u001b[38;5;124m'\u001b[39m\u001b[38;5;124m'\u001b[39m\n\u001b[1;32m     13\u001b[0m max_count \u001b[38;5;241m=\u001b[39m counter[\u001b[38;5;241m0\u001b[39m][\u001b[38;5;241m1\u001b[39m]\n",
      "Input \u001b[0;32mIn [1]\u001b[0m, in \u001b[0;36m<lambda>\u001b[0;34m(x)\u001b[0m\n\u001b[1;32m      9\u001b[0m     counter\u001b[38;5;241m.\u001b[39mupdate(inp)\n\u001b[1;32m     10\u001b[0m     i \u001b[38;5;241m+\u001b[39m\u001b[38;5;241m=\u001b[39m \u001b[38;5;241m1\u001b[39m\n\u001b[0;32m---> 11\u001b[0m counter \u001b[38;5;241m=\u001b[39m \u001b[38;5;28msorted\u001b[39m(counter, key\u001b[38;5;241m=\u001b[39m\u001b[38;5;28;01mlambda\u001b[39;00m x:(\u001b[38;5;241m-\u001b[39m\u001b[43mx\u001b[49m\u001b[43m[\u001b[49m\u001b[38;5;241;43m1\u001b[39;49m\u001b[43m]\u001b[49m, x[\u001b[38;5;241m0\u001b[39m]))\n\u001b[1;32m     12\u001b[0m rst \u001b[38;5;241m=\u001b[39m \u001b[38;5;124m'\u001b[39m\u001b[38;5;124m'\u001b[39m\n\u001b[1;32m     13\u001b[0m max_count \u001b[38;5;241m=\u001b[39m counter[\u001b[38;5;241m0\u001b[39m][\u001b[38;5;241m1\u001b[39m]\n",
      "\u001b[0;31mIndexError\u001b[0m: string index out of range"
     ]
    }
   ],
   "source": [
    "from collections import Counter\n",
    "counter = Counter()\n",
    "i = 0\n",
    "while i < 50:\n",
    "    try:\n",
    "        inp=input().replace(' ','')\n",
    "        counter.update(inp)\n",
    "        i += 1\n",
    "    except:\n",
    "        break\n",
    "counter = sorted(counter.items(), key=lambda x:(-x[1], x[0]))\n",
    "rst = ''\n",
    "max_count = counter[0][1]\n",
    "for k, v in counter:\n",
    "    if v == max_count:\n",
    "        rst += k\n",
    "        \n",
    "print(rst)"
   ]
  },
  {
   "cell_type": "code",
   "execution_count": null,
   "id": "b886096d",
   "metadata": {},
   "outputs": [],
   "source": []
  },
  {
   "cell_type": "code",
   "execution_count": null,
   "id": "7307b86d",
   "metadata": {},
   "outputs": [],
   "source": []
  },
  {
   "cell_type": "code",
   "execution_count": null,
   "id": "0b49d262",
   "metadata": {},
   "outputs": [],
   "source": []
  },
  {
   "cell_type": "code",
   "execution_count": null,
   "id": "126899e9",
   "metadata": {},
   "outputs": [],
   "source": []
  },
  {
   "cell_type": "code",
   "execution_count": null,
   "id": "d99b23b4",
   "metadata": {},
   "outputs": [],
   "source": []
  },
  {
   "cell_type": "code",
   "execution_count": null,
   "id": "653119d6",
   "metadata": {},
   "outputs": [],
   "source": []
  }
 ],
 "metadata": {
  "kernelspec": {
   "display_name": "Python 3 (ipykernel)",
   "language": "python",
   "name": "python3"
  },
  "language_info": {
   "codemirror_mode": {
    "name": "ipython",
    "version": 3
   },
   "file_extension": ".py",
   "mimetype": "text/x-python",
   "name": "python",
   "nbconvert_exporter": "python",
   "pygments_lexer": "ipython3",
   "version": "3.8.10"
  }
 },
 "nbformat": 4,
 "nbformat_minor": 5
}
