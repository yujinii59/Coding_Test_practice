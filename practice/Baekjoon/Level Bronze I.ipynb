{
 "cells": [
  {
   "cell_type": "markdown",
   "id": "e4a5df3d",
   "metadata": {},
   "source": [
    "#### 1356 유진수"
   ]
  },
  {
   "cell_type": "code",
   "execution_count": null,
   "id": "ffd2e1d5",
   "metadata": {},
   "outputs": [],
   "source": [
    "def multiply_list(nums):\n",
    "    result = 1\n",
    "    for number in nums:\n",
    "        result *= int(number)\n",
    "    \n",
    "    return result\n",
    "\n",
    "number = input()\n",
    "flag = 'NO'\n",
    "for i in range(1, len(number)):\n",
    "    forward = number[:i]\n",
    "    backward = number[i:]\n",
    "    if multiply_list(list(forward)) == multiply_list(list(backward)):\n",
    "        flag = 'YES'\n",
    "        break\n",
    "\n",
    "print(flag)"
   ]
  },
  {
   "cell_type": "markdown",
   "id": "9bde4ddd",
   "metadata": {},
   "source": [
    "#### 1292 쉽게 푸는 문제"
   ]
  },
  {
   "cell_type": "code",
   "execution_count": 17,
   "id": "f0270a8e",
   "metadata": {},
   "outputs": [
    {
     "name": "stdout",
     "output_type": "stream",
     "text": [
      "3 7\n",
      "15\n"
     ]
    }
   ],
   "source": [
    "seq = []\n",
    "i = 0\n",
    "while len(seq) < 1000:\n",
    "    i += 1\n",
    "    seq.extend([i] * i)\n",
    "start, end = map(int, input().split())\n",
    "print(sum(seq[start-1:end]))"
   ]
  },
  {
   "cell_type": "markdown",
   "id": "f32c239b",
   "metadata": {},
   "source": [
    "#### 1357 뒤집힌 덧셈"
   ]
  },
  {
   "cell_type": "code",
   "execution_count": 18,
   "id": "be6eb962",
   "metadata": {},
   "outputs": [
    {
     "name": "stdout",
     "output_type": "stream",
     "text": [
      "123 100\n",
      "223\n"
     ]
    }
   ],
   "source": [
    "def rev(num):\n",
    "    return int(str(num)[::-1])\n",
    "x, y = map(int, input().split())\n",
    "print(rev(rev(x) + rev(y)))"
   ]
  },
  {
   "cell_type": "markdown",
   "id": "f480948d",
   "metadata": {},
   "source": [
    "#### 1924 2007년"
   ]
  },
  {
   "cell_type": "code",
   "execution_count": 24,
   "id": "3a3a5d43",
   "metadata": {},
   "outputs": [
    {
     "name": "stdout",
     "output_type": "stream",
     "text": [
      "12 25\n",
      "TUE\n"
     ]
    }
   ],
   "source": [
    "import datetime as dt\n",
    "week = ['MON','TUE','WED', 'THU', 'FRI', 'SAT', 'SUN']\n",
    "m, d = map(int, input().split())\n",
    "day = dt.date(2007, m, d).weekday()\n",
    "print(week[day])"
   ]
  },
  {
   "cell_type": "markdown",
   "id": "76ed2ac9",
   "metadata": {},
   "source": [
    "#### "
   ]
  },
  {
   "cell_type": "code",
   "execution_count": null,
   "id": "b6553561",
   "metadata": {},
   "outputs": [],
   "source": []
  }
 ],
 "metadata": {
  "kernelspec": {
   "display_name": "Python 3 (ipykernel)",
   "language": "python",
   "name": "python3"
  },
  "language_info": {
   "codemirror_mode": {
    "name": "ipython",
    "version": 3
   },
   "file_extension": ".py",
   "mimetype": "text/x-python",
   "name": "python",
   "nbconvert_exporter": "python",
   "pygments_lexer": "ipython3",
   "version": "3.8.10"
  }
 },
 "nbformat": 4,
 "nbformat_minor": 5
}
