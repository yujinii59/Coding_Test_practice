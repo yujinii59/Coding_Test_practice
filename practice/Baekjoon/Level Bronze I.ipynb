{
 "cells": [
  {
   "cell_type": "markdown",
   "id": "6eb19a7d",
   "metadata": {},
   "source": [
    "#### 2309 일곱 난쟁이"
   ]
  },
  {
   "cell_type": "code",
   "execution_count": null,
   "id": "7490c94d",
   "metadata": {},
   "outputs": [],
   "source": [
    "from itertools import combinations\n",
    "\n",
    "heights = [int(input()) for _ in range(9)]\n",
    "cases = combinations(heights, 7)\n",
    "for case in cases:\n",
    "    total = sum(case)\n",
    "    if total == 100 and len(set(case)) == 7:\n",
    "        case = sorted(case)\n",
    "        print(*case, sep='\\n')\n",
    "        break"
   ]
  },
  {
   "cell_type": "markdown",
   "id": "67185060",
   "metadata": {},
   "source": [
    "#### 3845 잔디깎기"
   ]
  },
  {
   "cell_type": "code",
   "execution_count": null,
   "id": "24e813e2",
   "metadata": {},
   "outputs": [],
   "source": [
    "while True:\n",
    "    nx, ny, m = map(float, input().split())\n",
    "    if nx == 0 and ny == 0 and m == 0:\n",
    "        break\n",
    "    xi = sorted(list(map(float, input().split())))\n",
    "    yi = sorted(list(map(float, input().split())))\n",
    "    if 75 // nx > m or 100 // ny > m:\n",
    "        print('NO')\n",
    "    else:\n",
    "        start = 0\n",
    "        half = m / 2\n",
    "        ok_x = True\n",
    "        ok_y = True\n",
    "        for x in xi:\n",
    "            if start < x - half:\n",
    "                ok_x = False\n",
    "                break\n",
    "            start = x + half\n",
    "        if start < 75:\n",
    "            ok_x = False\n",
    "        \n",
    "        if ok_x:\n",
    "            start = 0\n",
    "            for y in yi:\n",
    "                if start < y - half:\n",
    "                    ok_y = False\n",
    "                    break\n",
    "                start = y + half\n",
    "            if start < 100:\n",
    "                ok_y = False\n",
    "                \n",
    "            if ok_y:\n",
    "                print('YES')\n",
    "            else:\n",
    "                print('NO')\n",
    "                \n",
    "        else:\n",
    "            print('NO')\n",
    "                \n",
    "            "
   ]
  },
  {
   "cell_type": "markdown",
   "id": "e4a5df3d",
   "metadata": {},
   "source": [
    "#### 1356 유진수"
   ]
  },
  {
   "cell_type": "code",
   "execution_count": null,
   "id": "ffd2e1d5",
   "metadata": {},
   "outputs": [],
   "source": [
    "def multiply_list(nums):\n",
    "    result = 1\n",
    "    for number in nums:\n",
    "        result *= int(number)\n",
    "    \n",
    "    return result\n",
    "\n",
    "number = input()\n",
    "flag = 'NO'\n",
    "for i in range(1, len(number)):\n",
    "    forward = number[:i]\n",
    "    backward = number[i:]\n",
    "    if multiply_list(list(forward)) == multiply_list(list(backward)):\n",
    "        flag = 'YES'\n",
    "        break\n",
    "\n",
    "print(flag)"
   ]
  },
  {
   "cell_type": "markdown",
   "id": "9bde4ddd",
   "metadata": {},
   "source": [
    "#### 1292 쉽게 푸는 문제"
   ]
  },
  {
   "cell_type": "code",
   "execution_count": null,
   "id": "f0270a8e",
   "metadata": {},
   "outputs": [],
   "source": [
    "seq = []\n",
    "i = 0\n",
    "while len(seq) < 1000:\n",
    "    i += 1\n",
    "    seq.extend([i] * i)\n",
    "start, end = map(int, input().split())\n",
    "print(sum(seq[start-1:end]))"
   ]
  },
  {
   "cell_type": "markdown",
   "id": "f32c239b",
   "metadata": {},
   "source": [
    "#### 1357 뒤집힌 덧셈"
   ]
  },
  {
   "cell_type": "code",
   "execution_count": null,
   "id": "be6eb962",
   "metadata": {},
   "outputs": [],
   "source": [
    "def rev(num):\n",
    "    return int(str(num)[::-1])\n",
    "x, y = map(int, input().split())\n",
    "print(rev(rev(x) + rev(y)))"
   ]
  },
  {
   "cell_type": "markdown",
   "id": "f480948d",
   "metadata": {},
   "source": [
    "#### 1924 2007년"
   ]
  },
  {
   "cell_type": "code",
   "execution_count": null,
   "id": "3a3a5d43",
   "metadata": {},
   "outputs": [],
   "source": [
    "import datetime as dt\n",
    "week = ['MON','TUE','WED', 'THU', 'FRI', 'SAT', 'SUN']\n",
    "m, d = map(int, input().split())\n",
    "day = dt.date(2007, m, d).weekday()\n",
    "print(week[day])"
   ]
  },
  {
   "cell_type": "markdown",
   "id": "76ed2ac9",
   "metadata": {},
   "source": [
    "#### 1371 가장 많은 글자"
   ]
  },
  {
   "cell_type": "code",
   "execution_count": null,
   "id": "b6553561",
   "metadata": {},
   "outputs": [],
   "source": [
    "from collections import Counter\n",
    "counter = Counter()\n",
    "i = 0\n",
    "while i < 50:\n",
    "    try:\n",
    "        inp=input().replace(' ','')\n",
    "        counter.update(inp)\n",
    "        i += 1\n",
    "    except:\n",
    "        break\n",
    "counter = sorted(counter.items(), key=lambda x:(-x[1], x[0]))\n",
    "rst = ''\n",
    "max_count = counter[0][1]\n",
    "for k, v in counter:\n",
    "    if v == max_count:\n",
    "        rst += k\n",
    "        \n",
    "print(rst)"
   ]
  },
  {
   "cell_type": "markdown",
   "id": "9e3f5bc5",
   "metadata": {},
   "source": [
    "#### 5089 Travelling Salesman"
   ]
  },
  {
   "cell_type": "code",
   "execution_count": null,
   "id": "7307b86d",
   "metadata": {},
   "outputs": [],
   "source": [
    "i = 0\n",
    "while True:\n",
    "    i += 1\n",
    "    n = int(input())\n",
    "    if n == 0:\n",
    "        break\n",
    "    visit = []\n",
    "    for _ in range(n):\n",
    "        town = input()\n",
    "        if town not in visit:\n",
    "            visit.append(town)\n",
    "    print(f'Week {i} {len(visit)}')"
   ]
  },
  {
   "cell_type": "markdown",
   "id": "6bbb5730",
   "metadata": {},
   "source": [
    "#### 2748 피보나치 수 2"
   ]
  },
  {
   "cell_type": "code",
   "execution_count": null,
   "id": "126899e9",
   "metadata": {},
   "outputs": [],
   "source": [
    "def fibonacci(num):\n",
    "    if num < 2:\n",
    "        dp[num] = num\n",
    "    else:\n",
    "        dp[num] = dp[num-1] + dp[num-2]\n",
    "\n",
    "n = int(input())\n",
    "dp = [0 for _ in range(n+1)]\n",
    "for i in range(1,n+1):\n",
    "    fibonacci(i)\n",
    "    \n",
    "print(dp[n])"
   ]
  },
  {
   "cell_type": "markdown",
   "id": "b6e76e5e",
   "metadata": {},
   "source": [
    "#### 4482 Tetrahedral Stacks of Cannonballs"
   ]
  },
  {
   "cell_type": "code",
   "execution_count": null,
   "id": "653119d6",
   "metadata": {},
   "outputs": [],
   "source": [
    "n = int(input())\n",
    "for j in range(n):\n",
    "    num = int(input())\n",
    "    total = 0\n",
    "    dp = [0 for _ in range(num+1)]\n",
    "    for i in range(1, num+1):\n",
    "        total += (i * (i+1)) // 2\n",
    "    print(f'{j+1}: {num} {total}')"
   ]
  },
  {
   "cell_type": "markdown",
   "id": "6cd8a3b6",
   "metadata": {},
   "source": [
    "#### 8689 Gra"
   ]
  },
  {
   "cell_type": "code",
   "execution_count": null,
   "id": "5e69f0d5",
   "metadata": {},
   "outputs": [],
   "source": [
    "n = int(input())\n",
    "boards = list(map(int, input().split()))\n",
    "for i in range(n):\n",
    "    if i == 0:\n",
    "        continue\n",
    "    if i - 6 < 0:\n",
    "        max_prev = max(boards[:i])\n",
    "    else:\n",
    "        max_prev = max(boards[i-6:i])\n",
    "    boards[i] += max_prev\n",
    "print(boards[n-1])"
   ]
  },
  {
   "cell_type": "markdown",
   "id": "3814542f",
   "metadata": {},
   "source": [
    "#### 9625 BABBA"
   ]
  },
  {
   "cell_type": "code",
   "execution_count": null,
   "id": "c87c5456",
   "metadata": {},
   "outputs": [],
   "source": [
    "def machine(num):\n",
    "    if num == 0:\n",
    "        dp[num] = [1, 0]\n",
    "    elif num == 1:\n",
    "        dp[num] = [0, 1]\n",
    "    else:\n",
    "        dp[num] = [dp[num-1][0] + dp[num-2][0], dp[num-1][1] + dp[num-2][1]]\n",
    "        \n",
    "    return dp[num][0], dp[num][1]\n",
    "\n",
    "n = int(input())\n",
    "dp = [[] for _ in range(n+1)]\n",
    "for i in range(n+1):\n",
    "    a, b = machine(i)\n",
    "    \n",
    "print(a, b)"
   ]
  },
  {
   "cell_type": "markdown",
   "id": "4c1cced0",
   "metadata": {},
   "source": [
    "#### 17202 핸드폰 번호 궁합"
   ]
  },
  {
   "cell_type": "code",
   "execution_count": null,
   "id": "6757eade",
   "metadata": {},
   "outputs": [],
   "source": [
    "a = list(map(int, list(input())))\n",
    "b = list(map(int, list(input())))\n",
    "\n",
    "numbers = []\n",
    "for i in range(8):\n",
    "    numbers.append(a[i])\n",
    "    numbers.append(b[i])\n",
    "    \n",
    "while len(numbers) > 2:\n",
    "    tmp = []\n",
    "    for i in range(len(numbers)-1):\n",
    "        tmp.append((numbers[i] + numbers[i+1]) % 10)\n",
    "    numbers = tmp\n",
    "    \n",
    "print(str(numbers[0] * 10 + numbers[1]).zfill(2))"
   ]
  },
  {
   "cell_type": "code",
   "execution_count": null,
   "id": "42bdf541",
   "metadata": {},
   "outputs": [],
   "source": []
  }
 ],
 "metadata": {
  "kernelspec": {
   "display_name": "Python 3 (ipykernel)",
   "language": "python",
   "name": "python3"
  },
  "language_info": {
   "codemirror_mode": {
    "name": "ipython",
    "version": 3
   },
   "file_extension": ".py",
   "mimetype": "text/x-python",
   "name": "python",
   "nbconvert_exporter": "python",
   "pygments_lexer": "ipython3",
   "version": "3.8.10"
  }
 },
 "nbformat": 4,
 "nbformat_minor": 5
}
