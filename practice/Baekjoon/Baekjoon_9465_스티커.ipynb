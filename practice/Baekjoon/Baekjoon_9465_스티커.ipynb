{
 "cells": [
  {
   "cell_type": "markdown",
   "id": "2f6e1732",
   "metadata": {},
   "source": [
    "#### 문제\n",
    "상근이의 여동생 상냥이는 문방구에서 스티커 2n개를 구매했다. 스티커는 그림 (a)와 같이 2행 n열로 배치되어 있다. 상냥이는 스티커를 이용해 책상을 꾸미려고 한다.\n",
    "\n",
    "상냥이가 구매한 스티커의 품질은 매우 좋지 않다. 스티커 한 장을 떼면, 그 스티커와 변을 공유하는 스티커는 모두 찢어져서 사용할 수 없게 된다. 즉, 뗀 스티커의 왼쪽, 오른쪽, 위, 아래에 있는 스티커는 사용할 수 없게 된다.\n",
    "\n",
    "\n",
    "\n",
    "모든 스티커를 붙일 수 없게된 상냥이는 각 스티커에 점수를 매기고, 점수의 합이 최대가 되게 스티커를 떼어내려고 한다. 먼저, 그림 (b)와 같이 각 스티커에 점수를 매겼다. 상냥이가 뗄 수 있는 스티커의 점수의 최댓값을 구하는 프로그램을 작성하시오. 즉, 2n개의 스티커 중에서 점수의 합이 최대가 되면서 서로 변을 공유 하지 않는 스티커 집합을 구해야 한다.\n",
    "\n",
    "위의 그림의 경우에 점수가 50, 50, 100, 60인 스티커를 고르면, 점수는 260이 되고 이 것이 최대 점수이다. 가장 높은 점수를 가지는 두 스티커 (100과 70)은 변을 공유하기 때문에, 동시에 뗄 수 없다.\n",
    "\n",
    "#### 입력\n",
    "첫째 줄에 테스트 케이스의 개수 T가 주어진다. 각 테스트 케이스의 첫째 줄에는 n (1 ≤ n ≤ 100,000)이 주어진다. 다음 두 줄에는 n개의 정수가 주어지며, 각 정수는 그 위치에 해당하는 스티커의 점수이다. 연속하는 두 정수 사이에는 빈 칸이 하나 있다. 점수는 0보다 크거나 같고, 100보다 작거나 같은 정수이다. \n",
    "\n",
    "#### 출력\n",
    "각 테스트 케이스 마다, 2n개의 스티커 중에서 두 변을 공유하지 않는 스티커 점수의 최댓값을 출력한다.\n",
    "\n",
    "#### 예제 입력 1 \n",
    "2\n",
    "\n",
    "5\n",
    "\n",
    "50 10 100 20 40\n",
    "\n",
    "30 50 70 10 60\n",
    "\n",
    "7\n",
    "\n",
    "10 30 10 50 100 20 40\n",
    "\n",
    "20 40 30 50 60 20 80\n",
    "\n",
    "#### 예제 출력 1 \n",
    "\n",
    "260\n",
    "\n",
    "290"
   ]
  },
  {
   "cell_type": "code",
   "execution_count": 4,
   "id": "765bd5b2",
   "metadata": {},
   "outputs": [
    {
     "name": "stdout",
     "output_type": "stream",
     "text": [
      "2\n",
      "5\n",
      "50 10 100 20 40\n",
      "30 50 70 10 60\n",
      "[50, 30]\n",
      "[50, 100]\n",
      "[200, 120]\n",
      "[200, 210]\n",
      "[250, 260]\n",
      "260\n",
      "7\n",
      "10 30 10 50 100 20 40\n",
      "20 40 30 50 60 20 80\n",
      "[10, 20]\n",
      "[50, 50]\n",
      "[60, 80]\n",
      "[130, 110]\n",
      "[210, 190]\n",
      "[210, 230]\n",
      "[270, 290]\n",
      "290\n"
     ]
    }
   ],
   "source": [
    "t = int(input())\n",
    "for _ in range(t):\n",
    "    n = int(input())\n",
    "    scores = []\n",
    "    for _ in range(2):\n",
    "        scores.append(list(map(int, input().split())))\n",
    "    \n",
    "    score = [0,0]\n",
    "    for i in range(n):\n",
    "        score[0], score[1] = max(score[0], score[1] + scores[0][i]), max(score[1], score[0] + scores[1][i])\n",
    "    \n",
    "    print(max(score))"
   ]
  },
  {
   "cell_type": "code",
   "execution_count": null,
   "id": "8f8607d1",
   "metadata": {},
   "outputs": [],
   "source": []
  }
 ],
 "metadata": {
  "kernelspec": {
   "display_name": "Python 3 (ipykernel)",
   "language": "python",
   "name": "python3"
  },
  "language_info": {
   "codemirror_mode": {
    "name": "ipython",
    "version": 3
   },
   "file_extension": ".py",
   "mimetype": "text/x-python",
   "name": "python",
   "nbconvert_exporter": "python",
   "pygments_lexer": "ipython3",
   "version": "3.8.10"
  }
 },
 "nbformat": 4,
 "nbformat_minor": 5
}
