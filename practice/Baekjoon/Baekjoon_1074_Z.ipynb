{
 "cells": [
  {
   "cell_type": "markdown",
   "id": "bcb4a74f",
   "metadata": {},
   "source": [
    "#### 문제\n",
    "한수는 크기가 2N × 2N인 2차원 배열을 Z모양으로 탐색하려고 한다. 예를 들어, 2×2배열을 왼쪽 위칸, 오른쪽 위칸, 왼쪽 아래칸, 오른쪽 아래칸 순서대로 방문하면 Z모양이다.\n",
    "\n",
    "\n",
    "\n",
    "N > 1인 경우, 배열을 크기가 2N-1 × 2N-1로 4등분 한 후에 재귀적으로 순서대로 방문한다.\n",
    "\n",
    "다음 예는 22 × 22 크기의 배열을 방문한 순서이다.\n",
    "\n",
    "\n",
    "\n",
    "N이 주어졌을 때, r행 c열을 몇 번째로 방문하는지 출력하는 프로그램을 작성하시오.\n",
    "\n",
    "다음은 N=3일 때의 예이다.\n",
    "\n",
    "\n",
    "\n",
    "#### 입력\n",
    "첫째 줄에 정수 N, r, c가 주어진다.\n",
    "\n",
    "#### 출력\n",
    "r행 c열을 몇 번째로 방문했는지 출력한다.\n",
    "\n",
    "#### 제한\n",
    "1 ≤ N ≤ 15\n",
    "\n",
    "0 ≤ r, c < 2N\n",
    "#### 예제 입력 1 \n",
    "2 3 1\n",
    "#### 예제 출력 1 \n",
    "11\n",
    "#### 예제 입력 2 \n",
    "3 7 7\n",
    "#### 예제 출력 2 \n",
    "63\n",
    "#### 예제 입력 3 \n",
    "1 0 0\n",
    "#### 예제 출력 3 \n",
    "0\n",
    "#### 예제 입력 4 \n",
    "4 7 7\n",
    "#### 예제 출력 4 \n",
    "63\n",
    "#### 예제 입력 5 \n",
    "10 511 511\n",
    "#### 예제 출력 5 \n",
    "262143\n",
    "#### 예제 입력 6 \n",
    "10 512 512\n",
    "#### 예제 출력 6 \n",
    "786432"
   ]
  },
  {
   "cell_type": "code",
   "execution_count": 28,
   "id": "723be080",
   "metadata": {},
   "outputs": [
    {
     "name": "stdout",
     "output_type": "stream",
     "text": [
      "10 511 511\n",
      "262143\n"
     ]
    }
   ],
   "source": [
    "n, r, c = map(int, input().split())\n",
    "n = 2 ** n\n",
    "moves = {(0,0):0,(0,1):1,(1,0):2,(1,1):3}\n",
    "x, y = 0, 0\n",
    "cnt = 0\n",
    "while n > 1:\n",
    "    n //= 2\n",
    "    loc_x = (r - x) // n\n",
    "    loc_y = (c - y) // n\n",
    "    cnt += moves[(loc_x, loc_y)] * (n ** 2)\n",
    "    x = x + n * loc_x\n",
    "    y = y + n * loc_y\n",
    "print(cnt)"
   ]
  },
  {
   "cell_type": "code",
   "execution_count": 11,
   "id": "8c4b456f",
   "metadata": {},
   "outputs": [],
   "source": [
    "def recur(n, x, y, target_x, target_y, cnt, b, moves):\n",
    "    print(n, x, y)\n",
    "    if n == 1:\n",
    "        print(x, y)\n",
    "        cnt += 1\n",
    "        if x == target_x and y == target_y:\n",
    "            b = False\n",
    "\n",
    "    else:\n",
    "        n //= 2\n",
    "        for move in moves:\n",
    "            if b:\n",
    "                move_x = x + n * move[0]\n",
    "                move_y = y + n * move[1]\n",
    "                cnt, b = recur(n, move_x, move_y, target_x, target_y, cnt, b, moves)\n",
    "    \n",
    "    \n",
    "    return cnt, b    "
   ]
  },
  {
   "cell_type": "code",
   "execution_count": 17,
   "id": "8804e01b",
   "metadata": {},
   "outputs": [
    {
     "name": "stdout",
     "output_type": "stream",
     "text": [
      "2 3 1\n",
      "4 0 0\n",
      "2 0 0\n",
      "1 0 0\n",
      "0 0\n",
      "1 0 1\n",
      "0 1\n",
      "1 1 0\n",
      "1 0\n",
      "1 1 1\n",
      "1 1\n",
      "2 0 2\n",
      "1 0 2\n",
      "0 2\n",
      "1 0 3\n",
      "0 3\n",
      "1 1 2\n",
      "1 2\n",
      "1 1 3\n",
      "1 3\n",
      "2 2 0\n",
      "1 2 0\n",
      "2 0\n",
      "1 2 1\n",
      "2 1\n",
      "1 3 0\n",
      "3 0\n",
      "1 3 1\n",
      "3 1\n",
      "12\n"
     ]
    }
   ],
   "source": [
    "n, r, c = map(int, input().split())\n",
    "moves = [(0,0),(0,1),(1,0),(1,1)]\n",
    "cnt, b = recur(2 ** n, 0, 0, r, c, 0, True, moves)\n",
    "print(cnt - 1)"
   ]
  },
  {
   "cell_type": "code",
   "execution_count": null,
   "id": "c604f805",
   "metadata": {},
   "outputs": [],
   "source": []
  }
 ],
 "metadata": {
  "kernelspec": {
   "display_name": "Python 3 (ipykernel)",
   "language": "python",
   "name": "python3"
  },
  "language_info": {
   "codemirror_mode": {
    "name": "ipython",
    "version": 3
   },
   "file_extension": ".py",
   "mimetype": "text/x-python",
   "name": "python",
   "nbconvert_exporter": "python",
   "pygments_lexer": "ipython3",
   "version": "3.8.10"
  }
 },
 "nbformat": 4,
 "nbformat_minor": 5
}
