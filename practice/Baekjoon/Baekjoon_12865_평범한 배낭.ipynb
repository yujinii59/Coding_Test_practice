{
 "cells": [
  {
   "cell_type": "markdown",
   "id": "59c3ac28",
   "metadata": {},
   "source": [
    "#### 문제\n",
    "이 문제는 아주 평범한 배낭에 관한 문제이다.\n",
    "\n",
    "한 달 후면 국가의 부름을 받게 되는 준서는 여행을 가려고 한다. 세상과의 단절을 슬퍼하며 최대한 즐기기 위한 여행이기 때문에, 가지고 다닐 배낭 또한 최대한 가치 있게 싸려고 한다.\n",
    "\n",
    "준서가 여행에 필요하다고 생각하는 N개의 물건이 있다. 각 물건은 무게 W와 가치 V를 가지는데, 해당 물건을 배낭에 넣어서 가면 준서가 V만큼 즐길 수 있다. 아직 행군을 해본 적이 없는 준서는 최대 K만큼의 무게만을 넣을 수 있는 배낭만 들고 다닐 수 있다. 준서가 최대한 즐거운 여행을 하기 위해 배낭에 넣을 수 있는 물건들의 가치의 최댓값을 알려주자.\n",
    "\n",
    "#### 입력\n",
    "첫 줄에 물품의 수 N(1 ≤ N ≤ 100)과 준서가 버틸 수 있는 무게 K(1 ≤ K ≤ 100,000)가 주어진다. 두 번째 줄부터 N개의 줄에 거쳐 각 물건의 무게 W(1 ≤ W ≤ 100,000)와 해당 물건의 가치 V(0 ≤ V ≤ 1,000)가 주어진다.\n",
    "\n",
    "입력으로 주어지는 모든 수는 정수이다.\n",
    "\n",
    "#### 출력\n",
    "한 줄에 배낭에 넣을 수 있는 물건들의 가치합의 최댓값을 출력한다.\n",
    "\n",
    "#### 예제 입력 1 \n",
    "4 7\n",
    "\n",
    "6 13\n",
    "\n",
    "4 8\n",
    "\n",
    "3 6\n",
    "\n",
    "5 12\n",
    "#### 예제 출력 1 \n",
    "14"
   ]
  },
  {
   "cell_type": "code",
   "execution_count": 22,
   "id": "0a8d3e16",
   "metadata": {},
   "outputs": [
    {
     "name": "stdout",
     "output_type": "stream",
     "text": [
      "15 100000\n",
      "61803\n"
     ]
    },
    {
     "ename": "ValueError",
     "evalue": "not enough values to unpack (expected 2, got 1)",
     "output_type": "error",
     "traceback": [
      "\u001b[0;31m---------------------------------------------------------------------------\u001b[0m",
      "\u001b[0;31mValueError\u001b[0m                                Traceback (most recent call last)",
      "Input \u001b[0;32mIn [22]\u001b[0m, in \u001b[0;36m<module>\u001b[0;34m\u001b[0m\n\u001b[1;32m      3\u001b[0m max_value \u001b[38;5;241m=\u001b[39m \u001b[38;5;241m0\u001b[39m\n\u001b[1;32m      4\u001b[0m \u001b[38;5;28;01mfor\u001b[39;00m _ \u001b[38;5;129;01min\u001b[39;00m \u001b[38;5;28mrange\u001b[39m(n):\n\u001b[0;32m----> 5\u001b[0m     w, v \u001b[38;5;241m=\u001b[39m \u001b[38;5;28mmap\u001b[39m(\u001b[38;5;28mint\u001b[39m, \u001b[38;5;28minput\u001b[39m()\u001b[38;5;241m.\u001b[39msplit())\n\u001b[1;32m      6\u001b[0m     dp_tmp \u001b[38;5;241m=\u001b[39m dp\u001b[38;5;241m.\u001b[39mcopy()\n\u001b[1;32m      7\u001b[0m     \u001b[38;5;28;01mfor\u001b[39;00m wgt, val \u001b[38;5;129;01min\u001b[39;00m dp_tmp\u001b[38;5;241m.\u001b[39mitems():\n",
      "\u001b[0;31mValueError\u001b[0m: not enough values to unpack (expected 2, got 1)"
     ]
    }
   ],
   "source": [
    "n, k = map(int, input().split())\n",
    "dp = {}\n",
    "max_value = 0\n",
    "for _ in range(n):\n",
    "    w, v = map(int, input().split())\n",
    "    dp_tmp = dp.copy()\n",
    "    for wgt, val in dp_tmp.items():\n",
    "        if wgt + w <= k:\n",
    "            if wgt + w in dp:\n",
    "                dp[wgt + w] = max(dp[wgt + w], val + v)\n",
    "            else:\n",
    "                dp[wgt + w] = val + v\n",
    "            max_value = max(max_value, val + v)\n",
    "    if w <= k:\n",
    "        if w in dp:\n",
    "            dp[w] = max(dp[w], v)\n",
    "        else:\n",
    "            dp[w] = v\n",
    "        max_value = max(max_value, v)\n",
    "\n",
    "print(max_value)"
   ]
  }
 ],
 "metadata": {
  "kernelspec": {
   "display_name": "Python 3 (ipykernel)",
   "language": "python",
   "name": "python3"
  },
  "language_info": {
   "codemirror_mode": {
    "name": "ipython",
    "version": 3
   },
   "file_extension": ".py",
   "mimetype": "text/x-python",
   "name": "python",
   "nbconvert_exporter": "python",
   "pygments_lexer": "ipython3",
   "version": "3.8.10"
  }
 },
 "nbformat": 4,
 "nbformat_minor": 5
}
