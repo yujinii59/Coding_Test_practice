{
 "cells": [
  {
   "cell_type": "markdown",
   "id": "5c147253",
   "metadata": {},
   "source": [
    "#### 24751 Betting"
   ]
  },
  {
   "cell_type": "code",
   "execution_count": 2,
   "id": "97fef219",
   "metadata": {},
   "outputs": [
    {
     "name": "stdout",
     "output_type": "stream",
     "text": [
      "20\n",
      "4.0\n"
     ]
    }
   ],
   "source": [
    "rate = int(input())\n",
    "print(1 + (100-rate) / rate)\n",
    "print(1 + rate / (100-rate))"
   ]
  },
  {
   "cell_type": "markdown",
   "id": "2dbd9da7",
   "metadata": {},
   "source": [
    "#### 13597 Tri-du"
   ]
  },
  {
   "cell_type": "code",
   "execution_count": null,
   "id": "df27cc35",
   "metadata": {},
   "outputs": [],
   "source": [
    "cards = list(map(int, input().split()))\n",
    "l = len(set(cards))\n",
    "if l == 1:\n",
    "    print(cards[0])\n",
    "else:\n",
    "    print(max(cards))"
   ]
  },
  {
   "cell_type": "markdown",
   "id": "bf077497",
   "metadata": {},
   "source": [
    "#### 17356 욱 제"
   ]
  },
  {
   "cell_type": "code",
   "execution_count": 3,
   "id": "0b6d81c5",
   "metadata": {},
   "outputs": [
    {
     "name": "stdout",
     "output_type": "stream",
     "text": [
      "2000 1800\n",
      "0.7597469266479578\n"
     ]
    }
   ],
   "source": [
    "a, b = map(int, input().split())\n",
    "m = (b-a)/400\n",
    "print(1 / (1 + (10 ** m)))"
   ]
  },
  {
   "cell_type": "markdown",
   "id": "9639613d",
   "metadata": {},
   "source": [
    "#### 15610 Abbey Courtyard"
   ]
  },
  {
   "cell_type": "code",
   "execution_count": 1,
   "id": "7c20dd47",
   "metadata": {},
   "outputs": [
    {
     "name": "stdout",
     "output_type": "stream",
     "text": [
      "1234\n",
      "140.51334456200237\n"
     ]
    }
   ],
   "source": [
    "a = int(input()) ** 0.5\n",
    "print(4 * a)"
   ]
  },
  {
   "cell_type": "markdown",
   "id": "573f0a79",
   "metadata": {},
   "source": [
    "#### 16486 운동장 한 바퀴"
   ]
  },
  {
   "cell_type": "code",
   "execution_count": 2,
   "id": "3def9ce5",
   "metadata": {},
   "outputs": [
    {
     "name": "stdout",
     "output_type": "stream",
     "text": [
      "13\n",
      "8\n",
      "76.265472\n"
     ]
    }
   ],
   "source": [
    "d1 = int(input())\n",
    "d2 = int(input())\n",
    "print(2 * d1 + 2 * 3.141592 * d2)"
   ]
  },
  {
   "cell_type": "markdown",
   "id": "cce79f9e",
   "metadata": {},
   "source": [
    "#### 2440 별 찍기 - 3"
   ]
  },
  {
   "cell_type": "code",
   "execution_count": null,
   "id": "9d658f53",
   "metadata": {},
   "outputs": [],
   "source": [
    "n = int(input())\n",
    "for i in range(n, 0, -1):\n",
    "    print('*' * i)"
   ]
  },
  {
   "cell_type": "markdown",
   "id": "8004f57c",
   "metadata": {},
   "source": [
    "#### 10039 평균 점수"
   ]
  },
  {
   "cell_type": "code",
   "execution_count": null,
   "id": "c0488caa",
   "metadata": {},
   "outputs": [],
   "source": [
    "total = 0\n",
    "for _ in range(5):\n",
    "    score = int(input())\n",
    "    if score < 40:\n",
    "        score = 40\n",
    "    total += score\n",
    "print(total // 5)"
   ]
  },
  {
   "cell_type": "markdown",
   "id": "c4cee3a9",
   "metadata": {},
   "source": [
    "#### 5543 상근날드"
   ]
  },
  {
   "cell_type": "code",
   "execution_count": null,
   "id": "683c1e79",
   "metadata": {},
   "outputs": [],
   "source": [
    "burger = min([int(input()) for _ in range(3)])\n",
    "beverage = min([int(input()) for _ in range(2)])\n",
    "print(burger + beverage - 50)"
   ]
  },
  {
   "cell_type": "markdown",
   "id": "0dea3382",
   "metadata": {},
   "source": [
    "#### 3046 R2"
   ]
  },
  {
   "cell_type": "code",
   "execution_count": null,
   "id": "1cd5e8f7",
   "metadata": {},
   "outputs": [],
   "source": [
    "r1, s = map(int, input().split())\n",
    "print(2 * s - r1)"
   ]
  },
  {
   "cell_type": "markdown",
   "id": "e59d713e",
   "metadata": {},
   "source": [
    "#### 10808 알파벳 개수"
   ]
  },
  {
   "cell_type": "code",
   "execution_count": null,
   "id": "441095cf",
   "metadata": {},
   "outputs": [],
   "source": [
    "from string import ascii_lowercase\n",
    "\n",
    "s = input()\n",
    "alpha = {a:0 for a in ascii_lowercase}\n",
    "for ss in s:\n",
    "    alpha[ss] += 1\n",
    "    \n",
    "for cnt in alpha.values():\n",
    "    print(cnt, end=' ')"
   ]
  },
  {
   "cell_type": "markdown",
   "id": "b7ad81c6",
   "metadata": {},
   "source": [
    "#### 2752 세수정렬"
   ]
  },
  {
   "cell_type": "code",
   "execution_count": null,
   "id": "0080b608",
   "metadata": {},
   "outputs": [],
   "source": [
    "ls = list(map(int, input().split()))\n",
    "ls = list(map(str, sorted(ls)))\n",
    "print(' '.join(ls))\n"
   ]
  },
  {
   "cell_type": "markdown",
   "id": "1921078e",
   "metadata": {},
   "source": [
    "#### 10797 10부제"
   ]
  },
  {
   "cell_type": "code",
   "execution_count": null,
   "id": "b929c94e",
   "metadata": {},
   "outputs": [],
   "source": [
    "num = int(input())\n",
    "cars = list(map(int, input().split()))\n",
    "print(cars.count(num))"
   ]
  },
  {
   "cell_type": "markdown",
   "id": "07808bbf",
   "metadata": {},
   "source": [
    "#### 10162 전자레인지"
   ]
  },
  {
   "cell_type": "code",
   "execution_count": null,
   "id": "e846cb23",
   "metadata": {},
   "outputs": [],
   "source": [
    "times = [300, 60, 10]\n",
    "rst = ''\n",
    "t = int(input())\n",
    "for time in times:\n",
    "    rst += str(t // time) + ' '\n",
    "    t %= time\n",
    "\n",
    "if t > 0:\n",
    "    print(-1)\n",
    "else:\n",
    "    print(rst.rstrip())"
   ]
  },
  {
   "cell_type": "markdown",
   "id": "77c175d8",
   "metadata": {},
   "source": [
    "#### 15873 공백 없는 A+B"
   ]
  },
  {
   "cell_type": "code",
   "execution_count": null,
   "id": "8d7c0609",
   "metadata": {},
   "outputs": [],
   "source": [
    "nums = input()\n",
    "l = len(nums)\n",
    "if l == 4:\n",
    "    print(int(nums[:2]) + int(nums[2:]))\n",
    "elif l == 3:\n",
    "    if nums[0] == '1':\n",
    "        print(int(nums[:2]) + int(nums[2:]))\n",
    "    else:\n",
    "        print(int(nums[:1]) + int(nums[1:]))\n",
    "elif l == 2:\n",
    "    print(int(nums[0]) + int(nums[1]))"
   ]
  },
  {
   "cell_type": "markdown",
   "id": "f5efed6c",
   "metadata": {},
   "source": [
    "#### 2441 별 찍기 - 4"
   ]
  },
  {
   "cell_type": "code",
   "execution_count": null,
   "id": "52c79a7e",
   "metadata": {},
   "outputs": [],
   "source": [
    "n = int(input())\n",
    "for i in range(n, 0, -1):\n",
    "    print(' ' * (n-i) + '*' * i)"
   ]
  },
  {
   "cell_type": "markdown",
   "id": "f640a64a",
   "metadata": {},
   "source": [
    "#### 2442 별 찍기 - 5"
   ]
  },
  {
   "cell_type": "code",
   "execution_count": null,
   "id": "5cc6ca9f",
   "metadata": {},
   "outputs": [],
   "source": [
    "n = int(input())\n",
    "for i in range(1, n+1):\n",
    "    print(' ' * (n-i) + '*' * (2 * i - 1))"
   ]
  },
  {
   "cell_type": "markdown",
   "id": "15d81003",
   "metadata": {},
   "source": [
    "#### 2576 홀수"
   ]
  },
  {
   "cell_type": "code",
   "execution_count": null,
   "id": "e4c52d84",
   "metadata": {},
   "outputs": [],
   "source": [
    "oddsum = 0\n",
    "min_odd = 100\n",
    "while True:\n",
    "    try:\n",
    "        num = int(input())\n",
    "        if num % 2 == 1:\n",
    "            oddsum += num\n",
    "            min_odd = min(min_odd, num)\n",
    "    except:\n",
    "        break\n",
    "        \n",
    "if oddsum == 0:\n",
    "    print(-1)\n",
    "else:\n",
    "    print(oddsum)\n",
    "    print(min_odd)"
   ]
  },
  {
   "cell_type": "markdown",
   "id": "0c71e766",
   "metadata": {},
   "source": [
    "#### 11365 !밀비 급일"
   ]
  },
  {
   "cell_type": "code",
   "execution_count": null,
   "id": "ac0f7cd8",
   "metadata": {},
   "outputs": [],
   "source": [
    "while True:\n",
    "    s = input()\n",
    "    if s == 'END':\n",
    "        break\n",
    "    print(s[::-1])"
   ]
  },
  {
   "cell_type": "markdown",
   "id": "e2711843",
   "metadata": {},
   "source": [
    "#### 5575 타임 카드"
   ]
  },
  {
   "cell_type": "code",
   "execution_count": null,
   "id": "3855418b",
   "metadata": {},
   "outputs": [],
   "source": [
    "for _ in range(3):\n",
    "    ls = list(map(int, input().split()))\n",
    "    start, end = ls[:3], ls[3:]\n",
    "    diff = 0\n",
    "    rst = ''\n",
    "    for i in range(2, -1, -1):\n",
    "        e = end[i] - diff\n",
    "        s = start[i]\n",
    "        if s > e:\n",
    "            e += 60\n",
    "            diff = 1\n",
    "        else:\n",
    "            diff = 0\n",
    "        rst = str(e - s) + ' ' + rst\n",
    "        \n",
    "    print(rst)\n"
   ]
  },
  {
   "cell_type": "code",
   "execution_count": null,
   "id": "fc0bff47",
   "metadata": {},
   "outputs": [],
   "source": [
    "import datetime as dt\n",
    "for _ in range(3):\n",
    "    ls = input().split()\n",
    "    start, end = ls[:3], ls[3:]\n",
    "    start = dt.datetime.strptime(':'.join(start), '%H:%M:%S')\n",
    "    end = dt.datetime.strptime(':'.join(end), '%H:%M:%S')\n",
    "    diff = end - start\n",
    "    second=diff.total_seconds()\n",
    "    for i in range(3):\n",
    "        print(int(second // (60 ** (2 - i))), end=' ')\n",
    "        second %= (60 ** (2 - i))"
   ]
  },
  {
   "cell_type": "markdown",
   "id": "60e23886",
   "metadata": {},
   "source": [
    "#### 25206 너의 평점은"
   ]
  },
  {
   "cell_type": "code",
   "execution_count": null,
   "id": "3c0d151c",
   "metadata": {},
   "outputs": [],
   "source": [
    "grades = {'A+':4.5, 'A0':4.0,'B+':3.5,'B0':3.0,'C+':2.5,'C0':2.0,'D+':1.5,'D0':1.0,'F':0.0}\n",
    "cnt = 0\n",
    "total = 0\n",
    "for _ in range(20):\n",
    "    name, class_grade, grade = input().split()\n",
    "    if grade == 'P':\n",
    "        continue\n",
    "    cnt += float(class_grade)\n",
    "    total += float(class_grade) * grades[grade]\n",
    "    \n",
    "print(total / cnt)"
   ]
  },
  {
   "cell_type": "markdown",
   "id": "1195dd0b",
   "metadata": {},
   "source": [
    "#### 1264 모음의 개수"
   ]
  },
  {
   "cell_type": "code",
   "execution_count": null,
   "id": "a0e2a417",
   "metadata": {},
   "outputs": [],
   "source": [
    "alpha = ['a','e','i','o','u']\n",
    "while True:\n",
    "    s = input().lower()\n",
    "    if s == '#':\n",
    "        break\n",
    "    cnt = 0\n",
    "    for ss in s:\n",
    "        if ss in alpha:\n",
    "            cnt += 1\n",
    "    print(cnt)"
   ]
  },
  {
   "cell_type": "markdown",
   "id": "6486012b",
   "metadata": {},
   "source": [
    "#### 2530 인공지능 시계"
   ]
  },
  {
   "cell_type": "code",
   "execution_count": null,
   "id": "08b6fc84",
   "metadata": {},
   "outputs": [],
   "source": [
    "import datetime as dt\n",
    "now = dt.datetime.strptime(':'.join(input().split()), '%H:%M:%S')\n",
    "add = dt.timedelta(seconds=int(input()))\n",
    "end = now + add\n",
    "print(end.hour, end.minute, end.second)"
   ]
  },
  {
   "cell_type": "markdown",
   "id": "8b768677",
   "metadata": {},
   "source": [
    "#### 2845 파티가 끝나고 난 뒤"
   ]
  },
  {
   "cell_type": "code",
   "execution_count": null,
   "id": "7fd93d82",
   "metadata": {},
   "outputs": [],
   "source": [
    "L, P = map(int, input().split())\n",
    "nums = L * P\n",
    "rst = [str(article - nums) for article in list(map(int, input().split()))]\n",
    "print(' '.join(rst))"
   ]
  },
  {
   "cell_type": "markdown",
   "id": "eb3967c0",
   "metadata": {},
   "source": [
    "#### 5532 방학 숙제"
   ]
  },
  {
   "cell_type": "code",
   "execution_count": null,
   "id": "fc638ecd",
   "metadata": {},
   "outputs": [],
   "source": [
    "from math import ceil\n",
    "\n",
    "L = int(input())\n",
    "A = int(input())\n",
    "B = int(input())\n",
    "C = int(input())\n",
    "D = int(input())\n",
    "korean = ceil(A / C)\n",
    "math = ceil(B / D)\n",
    "\n",
    "print(L - max(korean, math))"
   ]
  },
  {
   "cell_type": "markdown",
   "id": "0af0631e",
   "metadata": {},
   "source": [
    "#### 6764 Sounds fishy!"
   ]
  },
  {
   "cell_type": "code",
   "execution_count": null,
   "id": "feb7efbf",
   "metadata": {},
   "outputs": [],
   "source": [
    "stat = '.'\n",
    "prev = 0\n",
    "for _ in range(4):\n",
    "    depth = int(input())\n",
    "    if prev != 0:\n",
    "        if stat == '+':\n",
    "            if prev >= depth:\n",
    "                stat = 'x'\n",
    "        elif stat == '-':\n",
    "            if prev <= depth:\n",
    "                stat = 'x'\n",
    "        elif stat == '.':\n",
    "            if prev < depth:\n",
    "                stat = '+'\n",
    "            elif prev > depth:\n",
    "                stat = '-'\n",
    "    prev = depth\n",
    "    \n",
    "if stat == 'x':\n",
    "    print('No Fish')\n",
    "elif stat == '+':\n",
    "    print('Fish Rising')\n",
    "elif stat == '-':\n",
    "    print('Fish Diving')\n",
    "elif stat == '.':\n",
    "    print('Fish At Constant Depth')"
   ]
  },
  {
   "cell_type": "markdown",
   "id": "7e9d5b4d",
   "metadata": {},
   "source": [
    "#### 6763 Speed fines are not fine!"
   ]
  },
  {
   "cell_type": "code",
   "execution_count": null,
   "id": "8a6904d8",
   "metadata": {},
   "outputs": [],
   "source": [
    "diff = - int(input()) + int(input())\n",
    "if diff <= 0:\n",
    "    print('Congratulations, you are within the speed limit!')\n",
    "elif diff <= 20:\n",
    "    print('You are speeding and your fine is $100.')\n",
    "elif diff <= 30:\n",
    "    print('You are speeding and your fine is $270.')\n",
    "else:\n",
    "    print('You are speeding and your fine is $500.')"
   ]
  },
  {
   "cell_type": "markdown",
   "id": "642fa9b6",
   "metadata": {},
   "source": [
    "#### 6749 Next in line"
   ]
  },
  {
   "cell_type": "code",
   "execution_count": null,
   "id": "57b93b00",
   "metadata": {},
   "outputs": [],
   "source": [
    "youngest = int(input())\n",
    "middle = int(input())\n",
    "print(middle + (middle - youngest))"
   ]
  },
  {
   "cell_type": "markdown",
   "id": "ade0546d",
   "metadata": {},
   "source": [
    "#### 5928 Contest Timing"
   ]
  },
  {
   "cell_type": "code",
   "execution_count": null,
   "id": "c69c439d",
   "metadata": {},
   "outputs": [],
   "source": [
    "import datetime as dt\n",
    "start = dt.datetime(2011, 11, 11, 11, 11)\n",
    "inp = list(map(int, input().split()))\n",
    "end = dt.datetime(2011, 11, inp[0], inp[1], inp[2])\n",
    "diff = end - start\n",
    "minutes = diff.days * 24 * 60 + diff.seconds // 60\n",
    "if minutes < 0:\n",
    "    print(-1)\n",
    "else:\n",
    "    print(minutes)"
   ]
  },
  {
   "cell_type": "markdown",
   "id": "0355fae0",
   "metadata": {},
   "source": [
    "#### 5554 심부름 가는 길"
   ]
  },
  {
   "cell_type": "code",
   "execution_count": null,
   "id": "118f4a86",
   "metadata": {},
   "outputs": [],
   "source": [
    "total = int(input()) + int(input()) + int(input()) + int(input())\n",
    "print(total // 60)\n",
    "print(total % 60)"
   ]
  },
  {
   "cell_type": "markdown",
   "id": "7d128b84",
   "metadata": {},
   "source": [
    "#### 5893 17배"
   ]
  },
  {
   "cell_type": "code",
   "execution_count": 10,
   "id": "186d38d1",
   "metadata": {},
   "outputs": [
    {
     "name": "stdout",
     "output_type": "stream",
     "text": [
      "10110111\n",
      "110000100111\n"
     ]
    }
   ],
   "source": [
    "inp = input()\n",
    "num = 0\n",
    "for i in range(len(inp)):\n",
    "    num += int(inp[len(inp) - i - 1]) * (2 ** i)\n",
    "n = bin(num * 17)[2:]\n",
    "print(n)"
   ]
  },
  {
   "cell_type": "markdown",
   "id": "6c1aaac5",
   "metadata": {},
   "source": [
    "#### 5596 시험 점수"
   ]
  },
  {
   "cell_type": "code",
   "execution_count": null,
   "id": "f4a969a6",
   "metadata": {},
   "outputs": [],
   "source": [
    "mingook = sum(map(int, input().split()))\n",
    "manse = sum(map(int, input().split()))\n",
    "print(max(mingook, manse))"
   ]
  },
  {
   "cell_type": "markdown",
   "id": "eef6c593",
   "metadata": {},
   "source": [
    "#### 3578 Holes"
   ]
  },
  {
   "cell_type": "code",
   "execution_count": null,
   "id": "4881ba40",
   "metadata": {},
   "outputs": [],
   "source": [
    "n = int(input())\n",
    "s = ''\n",
    "if n % 2  == 1:\n",
    "    s += '4'\n",
    "if n // 2 == 0:\n",
    "    print((n+1) % 2)\n",
    "else:\n",
    "    s += '8' * (n // 2)\n",
    "    print(s)"
   ]
  },
  {
   "cell_type": "markdown",
   "id": "baba1e7c",
   "metadata": {},
   "source": [
    "#### 4589 Gnome Sequencing"
   ]
  },
  {
   "cell_type": "code",
   "execution_count": 2,
   "id": "effdeea4",
   "metadata": {},
   "outputs": [
    {
     "name": "stdout",
     "output_type": "stream",
     "text": [
      "1\n",
      "0 0 0 \n",
      "Ordered\n"
     ]
    }
   ],
   "source": [
    "n = int(input())\n",
    "print('Gnomes:')\n",
    "for _ in range(n):\n",
    "    inp = list(map(int, input().split()))\n",
    "    if inp == sorted(inp) or inp == sorted(inp,reverse=True):\n",
    "        print('Ordered')\n",
    "    else:\n",
    "        print('Unordered')\n",
    "            "
   ]
  },
  {
   "cell_type": "markdown",
   "id": "51c9e0cf",
   "metadata": {},
   "source": [
    "#### 6778 Which Alien?"
   ]
  },
  {
   "cell_type": "code",
   "execution_count": null,
   "id": "d86d8b05",
   "metadata": {},
   "outputs": [],
   "source": [
    "antenna = int(input())\n",
    "eyes = int(input())\n",
    "if antenna >= 3 and eyes <= 4:\n",
    "    print('TroyMartian')\n",
    "if antenna <= 6 and eyes >= 2:\n",
    "    print('VladSaturnian')\n",
    "if antenna <= 2 and eyes <= 3:\n",
    "    print('GraemeMercurian')"
   ]
  },
  {
   "cell_type": "markdown",
   "id": "c51edd10",
   "metadata": {},
   "source": [
    "#### 6810 ISBN"
   ]
  },
  {
   "cell_type": "code",
   "execution_count": null,
   "id": "d1fe0451",
   "metadata": {},
   "outputs": [],
   "source": [
    "total = 91\n",
    "mult = [1, 3, 1]\n",
    "for i in range(3):\n",
    "    total += mult[i] * int(input())\n",
    "print(f'The 1-3-sum is {total}')"
   ]
  },
  {
   "cell_type": "markdown",
   "id": "7c973351",
   "metadata": {},
   "source": [
    "#### 7891 Can you add this?"
   ]
  },
  {
   "cell_type": "code",
   "execution_count": null,
   "id": "54a1bed7",
   "metadata": {},
   "outputs": [],
   "source": [
    "n = int(input())\n",
    "for _ in range(n):\n",
    "    print(sum(map(int, input().split())))"
   ]
  },
  {
   "cell_type": "markdown",
   "id": "8b6aeb8c",
   "metadata": {},
   "source": [
    "#### 8558 Silnia"
   ]
  },
  {
   "cell_type": "code",
   "execution_count": null,
   "id": "2a511cdf",
   "metadata": {},
   "outputs": [],
   "source": [
    "from math import factorial\n",
    "n = int(input())\n",
    "print(factorial(n)%10)"
   ]
  },
  {
   "cell_type": "markdown",
   "id": "3519b36a",
   "metadata": {},
   "source": [
    "#### 8674 Tabliczka"
   ]
  },
  {
   "cell_type": "code",
   "execution_count": 8,
   "id": "53f88b0c",
   "metadata": {},
   "outputs": [
    {
     "name": "stdout",
     "output_type": "stream",
     "text": [
      "4 2\n",
      "2\n"
     ]
    }
   ],
   "source": [
    "a, b = map(int, input().split())\n",
    "if (a % 2 == 0 and b % 2 == 0) or (a % 2 == 1 and b % 2 == 1):\n",
    "    print(min(a, b))\n",
    "else:\n",
    "    print(0)"
   ]
  },
  {
   "cell_type": "markdown",
   "id": "1ff9a5ba",
   "metadata": {},
   "source": [
    "#### 8710 Koszykarz"
   ]
  },
  {
   "cell_type": "code",
   "execution_count": 9,
   "id": "2d4406f4",
   "metadata": {},
   "outputs": [
    {
     "name": "stdout",
     "output_type": "stream",
     "text": [
      "180 202 10\n",
      "3\n"
     ]
    }
   ],
   "source": [
    "from math import ceil\n",
    "k, w, m = map(int, input().split())\n",
    "print(ceil((w - k) / m))"
   ]
  },
  {
   "cell_type": "markdown",
   "id": "9d973a97",
   "metadata": {},
   "source": [
    "####  8718 Bałwanek"
   ]
  },
  {
   "cell_type": "code",
   "execution_count": 10,
   "id": "f7cc0b68",
   "metadata": {},
   "outputs": [
    {
     "name": "stdout",
     "output_type": "stream",
     "text": [
      "10 2\n",
      "7000\n"
     ]
    }
   ],
   "source": [
    "x, k = map(int, input().split())\n",
    "\n",
    "if 7 * k <= x:\n",
    "    print(7 * k * 1000)\n",
    "elif 7 * k / 2 <= x:\n",
    "    print(7 * k * 500)\n",
    "elif 7 * k / 4 <= x:\n",
    "    print(7 * k * 250)\n",
    "else:\n",
    "    print(0)"
   ]
  },
  {
   "cell_type": "markdown",
   "id": "be51836f",
   "metadata": {},
   "source": [
    "#### 8723번 Patyki"
   ]
  },
  {
   "cell_type": "code",
   "execution_count": null,
   "id": "31246177",
   "metadata": {},
   "outputs": [],
   "source": [
    "lengths = sorted(list(map(int, input().split())))\n",
    "a, b, c = lengths\n",
    "if a == b == c:\n",
    "    print(2)\n",
    "elif a ** 2 + b ** 2 == c ** 2:\n",
    "    print(1)\n",
    "else:\n",
    "    print(0)"
   ]
  },
  {
   "cell_type": "markdown",
   "id": "257c1f8a",
   "metadata": {},
   "source": [
    "#### 8760 Schronisko"
   ]
  },
  {
   "cell_type": "code",
   "execution_count": null,
   "id": "5f8b435c",
   "metadata": {},
   "outputs": [],
   "source": []
  }
 ],
 "metadata": {
  "kernelspec": {
   "display_name": "Python 3 (ipykernel)",
   "language": "python",
   "name": "python3"
  },
  "language_info": {
   "codemirror_mode": {
    "name": "ipython",
    "version": 3
   },
   "file_extension": ".py",
   "mimetype": "text/x-python",
   "name": "python",
   "nbconvert_exporter": "python",
   "pygments_lexer": "ipython3",
   "version": "3.8.10"
  }
 },
 "nbformat": 4,
 "nbformat_minor": 5
}
