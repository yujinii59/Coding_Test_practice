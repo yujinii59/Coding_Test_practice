{
 "cells": [
  {
   "cell_type": "markdown",
   "id": "cce79f9e",
   "metadata": {},
   "source": [
    "#### 2440 별 찍기 - 3"
   ]
  },
  {
   "cell_type": "code",
   "execution_count": null,
   "id": "9d658f53",
   "metadata": {},
   "outputs": [],
   "source": [
    "n = int(input())\n",
    "for i in range(n, 0, -1):\n",
    "    print('*' * i)"
   ]
  },
  {
   "cell_type": "markdown",
   "id": "8004f57c",
   "metadata": {},
   "source": [
    "#### 10039 평균 점수"
   ]
  },
  {
   "cell_type": "code",
   "execution_count": null,
   "id": "c0488caa",
   "metadata": {},
   "outputs": [],
   "source": [
    "total = 0\n",
    "for _ in range(5):\n",
    "    score = int(input())\n",
    "    if score < 40:\n",
    "        score = 40\n",
    "    total += score\n",
    "print(total // 5)"
   ]
  },
  {
   "cell_type": "markdown",
   "id": "c4cee3a9",
   "metadata": {},
   "source": [
    "#### 5543 상근날드"
   ]
  },
  {
   "cell_type": "code",
   "execution_count": null,
   "id": "683c1e79",
   "metadata": {},
   "outputs": [],
   "source": [
    "burger = min([int(input()) for _ in range(3)])\n",
    "beverage = min([int(input()) for _ in range(2)])\n",
    "print(burger + beverage - 50)"
   ]
  },
  {
   "cell_type": "markdown",
   "id": "0dea3382",
   "metadata": {},
   "source": [
    "#### 3046 R2"
   ]
  },
  {
   "cell_type": "code",
   "execution_count": null,
   "id": "1cd5e8f7",
   "metadata": {},
   "outputs": [],
   "source": [
    "r1, s = map(int, input().split())\n",
    "print(2 * s - r1)"
   ]
  },
  {
   "cell_type": "markdown",
   "id": "e59d713e",
   "metadata": {},
   "source": [
    "#### 10808 알파벳 개수"
   ]
  },
  {
   "cell_type": "code",
   "execution_count": null,
   "id": "441095cf",
   "metadata": {},
   "outputs": [],
   "source": [
    "from string import ascii_lowercase\n",
    "\n",
    "s = input()\n",
    "alpha = {a:0 for a in ascii_lowercase}\n",
    "for ss in s:\n",
    "    alpha[ss] += 1\n",
    "    \n",
    "for cnt in alpha.values():\n",
    "    print(cnt, end=' ')"
   ]
  },
  {
   "cell_type": "markdown",
   "id": "b7ad81c6",
   "metadata": {},
   "source": [
    "#### 2752 세수정렬"
   ]
  },
  {
   "cell_type": "code",
   "execution_count": null,
   "id": "0080b608",
   "metadata": {},
   "outputs": [],
   "source": [
    "ls = list(map(int, input().split()))\n",
    "ls = list(map(str, sorted(ls)))\n",
    "print(' '.join(ls))\n"
   ]
  },
  {
   "cell_type": "markdown",
   "id": "1921078e",
   "metadata": {},
   "source": [
    "#### 10797 10부제"
   ]
  },
  {
   "cell_type": "code",
   "execution_count": null,
   "id": "b929c94e",
   "metadata": {},
   "outputs": [],
   "source": [
    "num = int(input())\n",
    "cars = list(map(int, input().split()))\n",
    "print(cars.count(num))"
   ]
  },
  {
   "cell_type": "markdown",
   "id": "07808bbf",
   "metadata": {},
   "source": [
    "#### 10162 전자레인지"
   ]
  },
  {
   "cell_type": "code",
   "execution_count": null,
   "id": "e846cb23",
   "metadata": {},
   "outputs": [],
   "source": [
    "times = [300, 60, 10]\n",
    "rst = ''\n",
    "t = int(input())\n",
    "for time in times:\n",
    "    rst += str(t // time) + ' '\n",
    "    t %= time\n",
    "\n",
    "if t > 0:\n",
    "    print(-1)\n",
    "else:\n",
    "    print(rst.rstrip())"
   ]
  },
  {
   "cell_type": "markdown",
   "id": "405900f0",
   "metadata": {},
   "source": [
    "#### 15873 공백 없는 A+B"
   ]
  },
  {
   "cell_type": "code",
   "execution_count": null,
   "id": "7f97ff4e",
   "metadata": {},
   "outputs": [],
   "source": [
    "nums = input()\n",
    "l = len(nums)\n",
    "if l == 4:\n",
    "    print(int(nums[:2]) + int(nums[2:]))\n",
    "elif l == 3:\n",
    "    if nums[0] == '1':\n",
    "        print(int(nums[:2]) + int(nums[2:]))\n",
    "    else:\n",
    "        print(int(nums[:1]) + int(nums[1:]))\n",
    "elif l == 2:\n",
    "    print(int(nums[0]) + int(nums[1]))"
   ]
  },
  {
   "cell_type": "markdown",
   "id": "9664801c",
   "metadata": {},
   "source": [
    "#### 2441 별 찍기 - 4"
   ]
  },
  {
   "cell_type": "code",
   "execution_count": null,
   "id": "d9d8e967",
   "metadata": {},
   "outputs": [],
   "source": [
    "n = int(input())\n",
    "for i in range(n, 0, -1):\n",
    "    print(' ' * (n-i) + '*' * i)"
   ]
  },
  {
   "cell_type": "markdown",
   "id": "0e26dde2",
   "metadata": {},
   "source": [
    "#### 2442 별 찍기 - 5"
   ]
  },
  {
   "cell_type": "code",
   "execution_count": null,
   "id": "3aeff6ee",
   "metadata": {},
   "outputs": [],
   "source": [
    "n = int(input())\n",
    "for i in range(1, n+1):\n",
    "    print(' ' * (n-i) + '*' * (2 * i - 1))"
   ]
  },
  {
   "cell_type": "markdown",
   "id": "5652e13f",
   "metadata": {},
   "source": [
    "#### 2576 홀수"
   ]
  },
  {
   "cell_type": "code",
   "execution_count": null,
   "id": "65eab215",
   "metadata": {},
   "outputs": [],
   "source": [
    "oddsum = 0\n",
    "min_odd = 100\n",
    "while True:\n",
    "    try:\n",
    "        num = int(input())\n",
    "        if num % 2 == 1:\n",
    "            oddsum += num\n",
    "            min_odd = min(min_odd, num)\n",
    "    except:\n",
    "        break\n",
    "        \n",
    "if oddsum == 0:\n",
    "    print(-1)\n",
    "else:\n",
    "    print(oddsum)\n",
    "    print(min_odd)"
   ]
  },
  {
   "cell_type": "markdown",
   "id": "d5e7d54f",
   "metadata": {},
   "source": [
    "#### 11365 !밀비 급일"
   ]
  },
  {
   "cell_type": "code",
   "execution_count": null,
   "id": "3b687941",
   "metadata": {},
   "outputs": [],
   "source": [
    "while True:\n",
    "    s = input()\n",
    "    if s == 'END':\n",
    "        break\n",
    "    print(s[::-1])"
   ]
  },
  {
   "cell_type": "markdown",
   "id": "31405e0f",
   "metadata": {},
   "source": [
    "#### 5575 타임 카드"
   ]
  },
  {
   "cell_type": "code",
   "execution_count": null,
   "id": "681087e9",
   "metadata": {},
   "outputs": [],
   "source": [
    "for _ in range(3):\n",
    "    ls = list(map(int, input().split()))\n",
    "    start, end = ls[:3], ls[3:]\n",
    "    diff = 0\n",
    "    rst = ''\n",
    "    for i in range(2, -1, -1):\n",
    "        e = end[i] - diff\n",
    "        s = start[i]\n",
    "        if s > e:\n",
    "            e += 60\n",
    "            diff = 1\n",
    "        else:\n",
    "            diff = 0\n",
    "        rst = str(e - s) + ' ' + rst\n",
    "        \n",
    "    print(rst)\n"
   ]
  },
  {
   "cell_type": "code",
   "execution_count": null,
   "id": "67f44323",
   "metadata": {},
   "outputs": [],
   "source": [
    "import datetime as dt\n",
    "for _ in range(3):\n",
    "    ls = input().split()\n",
    "    start, end = ls[:3], ls[3:]\n",
    "    start = dt.datetime.strptime(':'.join(start), '%H:%M:%S')\n",
    "    end = dt.datetime.strptime(':'.join(end), '%H:%M:%S')\n",
    "    diff = end - start\n",
    "    second=diff.total_seconds()\n",
    "    for i in range(3):\n",
    "        print(int(second // (60 ** (2 - i))), end=' ')\n",
    "        second %= (60 ** (2 - i))"
   ]
  },
  {
   "cell_type": "markdown",
   "id": "24d963f7",
   "metadata": {},
   "source": [
    "#### 25206 너의 평점은"
   ]
  },
  {
   "cell_type": "code",
   "execution_count": 1,
   "id": "7eda1382",
   "metadata": {},
   "outputs": [],
   "source": [
    "grades = {'A+':4.5, 'A0':4.0,'B+':3.5,'B0':3.0,'C+':2.5,'C0':2.0,'D+':1.5,'D0':1.0,'F':0.0}\n",
    "cnt = 0\n",
    "total = 0\n",
    "for _ in range(20):\n",
    "    name, class_grade, grade = input().split()\n",
    "    if grade == 'P':\n",
    "        continue\n",
    "    cnt += float(class_grade)\n",
    "    total += float(class_grade) * grades[grade]\n",
    "    \n",
    "print(total / cnt)"
   ]
  }
 ],
 "metadata": {
  "kernelspec": {
   "display_name": "Python 3 (ipykernel)",
   "language": "python",
   "name": "python3"
  },
  "language_info": {
   "codemirror_mode": {
    "name": "ipython",
    "version": 3
   },
   "file_extension": ".py",
   "mimetype": "text/x-python",
   "name": "python",
   "nbconvert_exporter": "python",
   "pygments_lexer": "ipython3",
   "version": "3.8.10"
  }
 },
 "nbformat": 4,
 "nbformat_minor": 5
}
