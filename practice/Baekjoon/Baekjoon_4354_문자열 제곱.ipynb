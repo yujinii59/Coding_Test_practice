{
 "cells": [
  {
   "cell_type": "markdown",
   "id": "634d4f3d",
   "metadata": {},
   "source": [
    "#### 문제\n",
    "알파벳 소문자로 이루어진 두 문자열 a와 b가 주어졌을 때, a*b는 두 문자열을 이어붙이는 것을 뜻한다. 예를 들어, a=\"abc\", b=\"def\"일 때, a*b=\"abcdef\"이다.\n",
    "\n",
    "이러한 이어 붙이는 것을 곱셈으로 생각한다면, 음이 아닌 정수의 제곱도 정의할 수 있다.\n",
    "\n",
    "a^0 = \"\" (빈 문자열)\n",
    "\n",
    "a^(n+1) = a*(a^n)\n",
    "\n",
    "문자열 s가 주어졌을 때, 어떤 문자열 a에 대해서 s=a^n을 만족하는 가장 큰 n을 찾는 프로그램을 작성하시오.\n",
    "\n",
    "#### 입력\n",
    "입력은 10개 이하의 테스트 케이스로 이루어져 있다. 각각의 테스트 케이스는 s를 포함한 한 줄로 이루어져 있다. s의 길이는 적어도 1이며, 백만글자를 넘지 않는다. 마지막 테스트 케이스의 다음 줄은 마침표이다.\n",
    "\n",
    "#### 출력\n",
    "각각의 테스트 케이스에 대해, s=a^n을 만족하는 가장 큰 n을 찾은 뒤 출력한다.\n",
    "\n",
    "#### 예제 입력 1 \n",
    "abcd\n",
    "\n",
    "aaaa\n",
    "\n",
    "ababab\n",
    "\n",
    ".\n",
    "#### 예제 출력 1 \n",
    "1\n",
    "\n",
    "4\n",
    "\n",
    "3"
   ]
  },
  {
   "cell_type": "code",
   "execution_count": 6,
   "id": "3d343717",
   "metadata": {},
   "outputs": [
    {
     "name": "stdout",
     "output_type": "stream",
     "text": [
      "abcd\n",
      "1\n",
      "aaaa\n",
      "4\n",
      "ababab\n",
      "3\n",
      ".\n"
     ]
    }
   ],
   "source": [
    "while True:\n",
    "    s = input()\n",
    "    if s == '.':\n",
    "        break\n",
    "    n = len(s)\n",
    "    for i in range(1, n + 1):\n",
    "        if n % i == 0:\n",
    "            rp = n // i\n",
    "            if s[:i] * rp == s:\n",
    "                break\n",
    "    print(n // i)"
   ]
  },
  {
   "cell_type": "code",
   "execution_count": 4,
   "id": "7801137f",
   "metadata": {},
   "outputs": [
    {
     "data": {
      "text/plain": [
       "'abababab'"
      ]
     },
     "execution_count": 4,
     "metadata": {},
     "output_type": "execute_result"
    }
   ],
   "source": [
    "\"ab\" * 4"
   ]
  },
  {
   "cell_type": "code",
   "execution_count": null,
   "id": "b11d7f7a",
   "metadata": {},
   "outputs": [],
   "source": []
  }
 ],
 "metadata": {
  "kernelspec": {
   "display_name": "Python 3 (ipykernel)",
   "language": "python",
   "name": "python3"
  },
  "language_info": {
   "codemirror_mode": {
    "name": "ipython",
    "version": 3
   },
   "file_extension": ".py",
   "mimetype": "text/x-python",
   "name": "python",
   "nbconvert_exporter": "python",
   "pygments_lexer": "ipython3",
   "version": "3.8.10"
  }
 },
 "nbformat": 4,
 "nbformat_minor": 5
}
