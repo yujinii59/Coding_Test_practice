{
 "cells": [
  {
   "cell_type": "markdown",
   "id": "0c00075a",
   "metadata": {},
   "source": [
    "#### 문제\n",
    "우리는 사람의 덩치를 키와 몸무게, 이 두 개의 값으로 표현하여 그 등수를 매겨보려고 한다. 어떤 사람의 몸무게가 x kg이고 키가 y cm라면 이 사람의 덩치는 (x, y)로 표시된다. 두 사람 A 와 B의 덩치가 각각 (x, y), (p, q)라고 할 때 x > p 그리고 y > q 이라면 우리는 A의 덩치가 B의 덩치보다 \"더 크다\"고 말한다. 예를 들어 어떤 A, B 두 사람의 덩치가 각각 (56, 177), (45, 165) 라고 한다면 A의 덩치가 B보다 큰 셈이 된다. 그런데 서로 다른 덩치끼리 크기를 정할 수 없는 경우도 있다. 예를 들어 두 사람 C와 D의 덩치가 각각 (45, 181), (55, 173)이라면 몸무게는 D가 C보다 더 무겁고, 키는 C가 더 크므로, \"덩치\"로만 볼 때 C와 D는 누구도 상대방보다 더 크다고 말할 수 없다.\n",
    "\n",
    "N명의 집단에서 각 사람의 덩치 등수는 자신보다 더 \"큰 덩치\"의 사람의 수로 정해진다. 만일 자신보다 더 큰 덩치의 사람이 k명이라면 그 사람의 덩치 등수는 k+1이 된다. 이렇게 등수를 결정하면 같은 덩치 등수를 가진 사람은 여러 명도 가능하다. 아래는 5명으로 이루어진 집단에서 각 사람의 덩치와 그 등수가 표시된 표이다.\n",
    "\n",
    "이름\t(몸무게, 키)\t덩치 등수\n",
    "\n",
    "A\t(55, 185)\t2\n",
    "\n",
    "B\t(58, 183)\t2\n",
    "\n",
    "C\t(88, 186)\t1\n",
    "\n",
    "D\t(60, 175)\t2\n",
    "\n",
    "E\t(46, 155)\t5\n",
    "\n",
    "위 표에서 C보다 더 큰 덩치의 사람이 없으므로 C는 1등이 된다. 그리고 A, B, D 각각의 덩치보다 큰 사람은 C뿐이므로 이들은 모두 2등이 된다. 그리고 E보다 큰 덩치는 A, B, C, D 이렇게 4명이므로 E의 덩치는 5등이 된다. 위 경우에 3등과 4등은 존재하지 않는다. 여러분은 학생 N명의 몸무게와 키가 담긴 입력을 읽어서 각 사람의 덩치 등수를 계산하여 출력해야 한다.\n",
    "\n",
    "#### 입력\n",
    "첫 줄에는 전체 사람의 수 N이 주어진다. 그리고 이어지는 N개의 줄에는 각 사람의 몸무게와 키를 나타내는 양의 정수 x와 y가 하나의 공백을 두고 각각 나타난다.\n",
    "\n",
    "#### 출력\n",
    "여러분은 입력에 나열된 사람의 덩치 등수를 구해서 그 순서대로 첫 줄에 출력해야 한다. 단, 각 덩치 등수는 공백문자로 분리되어야 한다.\n",
    "\n",
    "#### 제한\n",
    "2 ≤ N ≤ 50\n",
    "\n",
    "10 ≤ x, y ≤ 200\n",
    "\n",
    "##### 예제 입력 1 \n",
    "5\n",
    "\n",
    "55 185\n",
    "\n",
    "58 183\n",
    "\n",
    "88 186\n",
    "\n",
    "60 175\n",
    "\n",
    "46 155\n",
    "\n",
    "##### 예제 출력 1 \n",
    "2 2 1 2 5"
   ]
  },
  {
   "cell_type": "code",
   "execution_count": 14,
   "id": "730cd0c6",
   "metadata": {},
   "outputs": [
    {
     "name": "stdout",
     "output_type": "stream",
     "text": [
      "5\n",
      "55 185\n",
      "55 185\n",
      "88 186\n",
      "60 175\n",
      "46 155\n",
      "[(46, 155), (88, 186), (55, 185), (60, 175)]\n",
      "2 2 1 2 4 "
     ]
    }
   ],
   "source": [
    "n = int(input())\n",
    "sizes = []\n",
    "rnk = {}\n",
    "for i in range(n):\n",
    "    weight, height = map(int, input().split())\n",
    "    sizes.append((weight, height))\n",
    "    rnk[(weight, height)] = 1\n",
    "\n",
    "cases = list(set(sizes))\n",
    "for j in range(len(cases)):\n",
    "    w, h = cases[j]\n",
    "    for case in (cases[j + 1:]):\n",
    "        case_w, case_h = case\n",
    "        if case_w > w and case_h > h:\n",
    "            rnk[(w, h)] += 1\n",
    "        elif case_w < w and case_h < h:\n",
    "            rnk[(case_w, case_h)] += 1\n",
    "for wgt, hgt in sizes:\n",
    "    rank = rnk[(wgt, hgt)]\n",
    "    print(rank, end=' ')"
   ]
  },
  {
   "cell_type": "code",
   "execution_count": null,
   "id": "cba0659c",
   "metadata": {},
   "outputs": [],
   "source": []
  },
  {
   "cell_type": "code",
   "execution_count": null,
   "id": "812ab6c0",
   "metadata": {},
   "outputs": [],
   "source": []
  }
 ],
 "metadata": {
  "kernelspec": {
   "display_name": "Python 3 (ipykernel)",
   "language": "python",
   "name": "python3"
  },
  "language_info": {
   "codemirror_mode": {
    "name": "ipython",
    "version": 3
   },
   "file_extension": ".py",
   "mimetype": "text/x-python",
   "name": "python",
   "nbconvert_exporter": "python",
   "pygments_lexer": "ipython3",
   "version": "3.8.10"
  }
 },
 "nbformat": 4,
 "nbformat_minor": 5
}
