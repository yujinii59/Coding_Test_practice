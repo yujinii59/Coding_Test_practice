{
 "cells": [
  {
   "cell_type": "markdown",
   "id": "6cbaa83a",
   "metadata": {},
   "source": [
    "#### 문제\n",
    "한 개의 회의실이 있는데 이를 사용하고자 하는 N개의 회의에 대하여 회의실 사용표를 만들려고 한다. 각 회의 I에 대해 시작시간과 끝나는 시간이 주어져 있고, 각 회의가 겹치지 않게 하면서 회의실을 사용할 수 있는 회의의 최대 개수를 찾아보자. 단, 회의는 한번 시작하면 중간에 중단될 수 없으며 한 회의가 끝나는 것과 동시에 다음 회의가 시작될 수 있다. 회의의 시작시간과 끝나는 시간이 같을 수도 있다. 이 경우에는 시작하자마자 끝나는 것으로 생각하면 된다.\n",
    "\n",
    "#### 입력\n",
    "첫째 줄에 회의의 수 N(1 ≤ N ≤ 100,000)이 주어진다. 둘째 줄부터 N+1 줄까지 각 회의의 정보가 주어지는데 이것은 공백을 사이에 두고 회의의 시작시간과 끝나는 시간이 주어진다. 시작 시간과 끝나는 시간은 2^(31)-1보다 작거나 같은 자연수 또는 0이다.\n",
    "\n",
    "#### 출력\n",
    "첫째 줄에 최대 사용할 수 있는 회의의 최대 개수를 출력한다.\n",
    "\n",
    "#### 예제 입력 1 \n",
    "11\n",
    "\n",
    "1 4\n",
    "\n",
    "3 5\n",
    "\n",
    "0 6\n",
    "\n",
    "5 7\n",
    "\n",
    "3 8\n",
    "\n",
    "5 9\n",
    "\n",
    "6 10\n",
    "\n",
    "8 11\n",
    "\n",
    "8 12\n",
    "\n",
    "2 13\n",
    "\n",
    "12 14\n",
    "\n",
    "#### 예제 출력 1 \n",
    "4\n",
    "\n",
    "#### 힌트\n",
    "(1,4), (5,7), (8,11), (12,14) 를 이용할 수 있다."
   ]
  },
  {
   "cell_type": "code",
   "execution_count": 8,
   "id": "e25223b0",
   "metadata": {},
   "outputs": [
    {
     "name": "stdout",
     "output_type": "stream",
     "text": [
      "5\n",
      "1 1\n",
      "1 1\n",
      "1 1\n",
      "1 1\n",
      "1 1\n",
      "-1 -1 1 1\n",
      "1 1 1 1\n",
      "1 1 1 1\n",
      "1 1 1 1\n",
      "1 1 1 1\n",
      "1\n"
     ]
    }
   ],
   "source": [
    "n = int(input())\n",
    "meetings = []\n",
    "for _ in range(n):\n",
    "    start, end = map(int, input().split())\n",
    "    meetings.append((end, start))\n",
    "    \n",
    "meetings = sorted(meetings, key=lambda x:(x[0], x[1]))    \n",
    "cnt = 0\n",
    "s, e = -1, -1\n",
    "while meetings:\n",
    "    end, start = meetings.pop(0)\n",
    "    if start >= e:\n",
    "        cnt += 1\n",
    "        s, e = start, end\n",
    "        \n",
    "print(cnt)"
   ]
  },
  {
   "cell_type": "code",
   "execution_count": null,
   "id": "3639165c",
   "metadata": {},
   "outputs": [],
   "source": []
  },
  {
   "cell_type": "code",
   "execution_count": null,
   "id": "9a3870b0",
   "metadata": {},
   "outputs": [],
   "source": []
  }
 ],
 "metadata": {
  "kernelspec": {
   "display_name": "Python 3 (ipykernel)",
   "language": "python",
   "name": "python3"
  },
  "language_info": {
   "codemirror_mode": {
    "name": "ipython",
    "version": 3
   },
   "file_extension": ".py",
   "mimetype": "text/x-python",
   "name": "python",
   "nbconvert_exporter": "python",
   "pygments_lexer": "ipython3",
   "version": "3.8.10"
  }
 },
 "nbformat": 4,
 "nbformat_minor": 5
}
