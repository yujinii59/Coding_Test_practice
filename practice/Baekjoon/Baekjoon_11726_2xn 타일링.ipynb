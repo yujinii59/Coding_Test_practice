{
 "cells": [
  {
   "cell_type": "markdown",
   "id": "e1263a99",
   "metadata": {},
   "source": [
    "#### 문제\n",
    "2×n 크기의 직사각형을 1×2, 2×1 타일로 채우는 방법의 수를 구하는 프로그램을 작성하시오.\n",
    "\n",
    "아래 그림은 2×5 크기의 직사각형을 채운 한 가지 방법의 예이다.\n",
    "\n",
    "\n",
    "\n",
    "#### 입력\n",
    "첫째 줄에 n이 주어진다. (1 ≤ n ≤ 1,000)\n",
    "\n",
    "#### 출력\n",
    "첫째 줄에 2×n 크기의 직사각형을 채우는 방법의 수를 10,007로 나눈 나머지를 출력한다.\n",
    "\n",
    "#### 예제 입력 1 \n",
    "2\n",
    "#### 예제 출력 1 \n",
    "2\n",
    "#### 예제 입력 2 \n",
    "9\n",
    "#### 예제 출력 2 \n",
    "55"
   ]
  },
  {
   "cell_type": "code",
   "execution_count": 2,
   "id": "54204e66",
   "metadata": {},
   "outputs": [
    {
     "name": "stdout",
     "output_type": "stream",
     "text": [
      "9\n",
      "[1, 1, 2, 3, 5, 8, 13, 21, 34, 55]\n"
     ]
    }
   ],
   "source": [
    "n = int(input())\n",
    "case = [1]\n",
    "for i in range(1, n + 1):\n",
    "    if i == 1:\n",
    "        case.append(1)\n",
    "    else:\n",
    "        case.append(case[i - 1] + case[i - 2])\n",
    "        \n",
    "print(case[n] % 10007)"
   ]
  },
  {
   "cell_type": "code",
   "execution_count": null,
   "id": "7394ac4a",
   "metadata": {},
   "outputs": [],
   "source": []
  }
 ],
 "metadata": {
  "kernelspec": {
   "display_name": "Python 3 (ipykernel)",
   "language": "python",
   "name": "python3"
  },
  "language_info": {
   "codemirror_mode": {
    "name": "ipython",
    "version": 3
   },
   "file_extension": ".py",
   "mimetype": "text/x-python",
   "name": "python",
   "nbconvert_exporter": "python",
   "pygments_lexer": "ipython3",
   "version": "3.8.10"
  }
 },
 "nbformat": 4,
 "nbformat_minor": 5
}
