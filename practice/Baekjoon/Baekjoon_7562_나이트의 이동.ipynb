{
 "cells": [
  {
   "cell_type": "markdown",
   "id": "7e51ee34",
   "metadata": {},
   "source": [
    "#### 문제\n",
    "체스판 위에 한 나이트가 놓여져 있다. 나이트가 한 번에 이동할 수 있는 칸은 아래 그림에 나와있다. 나이트가 이동하려고 하는 칸이 주어진다. 나이트는 몇 번 움직이면 이 칸으로 이동할 수 있을까?\n",
    "\n",
    "\n",
    "\n",
    "#### 입력\n",
    "입력의 첫째 줄에는 테스트 케이스의 개수가 주어진다.\n",
    "\n",
    "각 테스트 케이스는 세 줄로 이루어져 있다. 첫째 줄에는 체스판의 한 변의 길이 l(4 ≤ l ≤ 300)이 주어진다. 체스판의 크기는 l × l이다. 체스판의 각 칸은 두 수의 쌍 {0, ..., l-1} × {0, ..., l-1}로 나타낼 수 있다. 둘째 줄과 셋째 줄에는 나이트가 현재 있는 칸, 나이트가 이동하려고 하는 칸이 주어진다.\n",
    "\n",
    "#### 출력\n",
    "각 테스트 케이스마다 나이트가 최소 몇 번만에 이동할 수 있는지 출력한다.\n",
    "\n",
    "#### 예제 입력 1 \n",
    "3\n",
    "\n",
    "8\n",
    "\n",
    "0 0\n",
    "\n",
    "7 0\n",
    "\n",
    "100\n",
    "\n",
    "0 0\n",
    "\n",
    "30 50\n",
    "\n",
    "10\n",
    "\n",
    "1 1\n",
    "\n",
    "1 1\n",
    "#### 예제 출력 1 \n",
    "5\n",
    "\n",
    "28\n",
    "\n",
    "0"
   ]
  },
  {
   "cell_type": "code",
   "execution_count": 2,
   "id": "6f1a1262",
   "metadata": {},
   "outputs": [
    {
     "name": "stdout",
     "output_type": "stream",
     "text": [
      "3\n",
      "8\n",
      "0 0\n",
      "7 0\n",
      "5\n",
      "100\n",
      "0 0\n",
      "30 50\n",
      "28\n",
      "10\n",
      "1 1\n",
      "1 1\n",
      "0\n"
     ]
    }
   ],
   "source": [
    "from collections import deque\n",
    "moves = [(-2, -1), (-2, 1), (-1, -2), (-1, 2), (2, -1), (2, 1), (1, -2), (1, 2)]\n",
    "t = int(input())\n",
    "for _ in range(t):\n",
    "    l = int(input())\n",
    "    now_x, now_y = map(int, input().split())\n",
    "    target = list(map(int, input().split()))\n",
    "    visited = [[0 for _ in range(l)] for _ in range(l)]\n",
    "    q = deque()\n",
    "    q.append((now_x, now_y, 0))\n",
    "    visited[now_x][now_y] = 1\n",
    "    while q:\n",
    "        x, y, cnt = q.popleft()\n",
    "        if x == target[0] and y == target[1]:\n",
    "            print(cnt)\n",
    "            break\n",
    "            \n",
    "        for move in moves:\n",
    "            move_x = x + move[0]\n",
    "            move_y = y + move[1]\n",
    "            if move_x < 0 or move_x >= l or move_y < 0 or move_y >= l:\n",
    "                continue\n",
    "            \n",
    "            if visited[move_x][move_y] == 0:\n",
    "                q.append((move_x, move_y, cnt + 1))\n",
    "                visited[move_x][move_y] = 1\n",
    "                        "
   ]
  },
  {
   "cell_type": "code",
   "execution_count": null,
   "id": "c07f286d",
   "metadata": {},
   "outputs": [],
   "source": []
  }
 ],
 "metadata": {
  "kernelspec": {
   "display_name": "Python 3 (ipykernel)",
   "language": "python",
   "name": "python3"
  },
  "language_info": {
   "codemirror_mode": {
    "name": "ipython",
    "version": 3
   },
   "file_extension": ".py",
   "mimetype": "text/x-python",
   "name": "python",
   "nbconvert_exporter": "python",
   "pygments_lexer": "ipython3",
   "version": "3.8.10"
  }
 },
 "nbformat": 4,
 "nbformat_minor": 5
}
