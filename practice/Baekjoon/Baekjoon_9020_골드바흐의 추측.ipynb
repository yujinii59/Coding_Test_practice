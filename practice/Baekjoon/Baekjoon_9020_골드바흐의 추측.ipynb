{
 "cells": [
  {
   "cell_type": "markdown",
   "id": "d12adb5d",
   "metadata": {},
   "source": [
    "#### 문제\n",
    "1보다 큰 자연수 중에서  1과 자기 자신을 제외한 약수가 없는 자연수를 소수라고 한다. 예를 들어, 5는 1과 5를 제외한 약수가 없기 때문에 소수이다. 하지만, 6은 6 = 2 × 3 이기 때문에 소수가 아니다.\n",
    "\n",
    "골드바흐의 추측은 유명한 정수론의 미해결 문제로, 2보다 큰 모든 짝수는 두 소수의 합으로 나타낼 수 있다는 것이다. 이러한 수를 골드바흐 수라고 한다. 또, 짝수를 두 소수의 합으로 나타내는 표현을 그 수의 골드바흐 파티션이라고 한다. 예를 들면, 4 = 2 + 2, 6 = 3 + 3, 8 = 3 + 5, 10 = 5 + 5, 12 = 5 + 7, 14 = 3 + 11, 14 = 7 + 7이다. 10000보다 작거나 같은 모든 짝수 n에 대한 골드바흐 파티션은 존재한다.\n",
    "\n",
    "2보다 큰 짝수 n이 주어졌을 때, n의 골드바흐 파티션을 출력하는 프로그램을 작성하시오. 만약 가능한 n의 골드바흐 파티션이 여러 가지인 경우에는 두 소수의 차이가 가장 작은 것을 출력한다.\n",
    "\n",
    "#### 입력\n",
    "첫째 줄에 테스트 케이스의 개수 T가 주어진다. 각 테스트 케이스는 한 줄로 이루어져 있고 짝수 n이 주어진다.\n",
    "\n",
    "#### 출력\n",
    "각 테스트 케이스에 대해서 주어진 n의 골드바흐 파티션을 출력한다. 출력하는 소수는 작은 것부터 먼저 출력하며, 공백으로 구분한다.\n",
    "\n",
    "#### 제한\n",
    "4 ≤ n ≤ 10,000\n",
    "\n",
    "#### 예제 입력 1 \n",
    "\n",
    "3\n",
    "\n",
    "8\n",
    "\n",
    "10\n",
    "\n",
    "16\n",
    "\n",
    "#### 예제 출력 1 \n",
    "\n",
    "3 5\n",
    "\n",
    "5 5\n",
    "\n",
    "5 11"
   ]
  },
  {
   "cell_type": "code",
   "execution_count": 2,
   "id": "be9237b1",
   "metadata": {},
   "outputs": [],
   "source": [
    "from math import sqrt\n",
    "def prime_number(num):\n",
    "    primes = set(range(2, num + 1))\n",
    "    rm = list(range(2 * 2, num + 1, 2))\n",
    "    for i in range(3, int(sqrt(num)) + 1, 2):\n",
    "        rm.extend(list(range(i * 2, num + 1, i)))\n",
    "        \n",
    "    primes = sorted(list(primes - set(rm)))       \n",
    "    return primes"
   ]
  },
  {
   "cell_type": "code",
   "execution_count": 6,
   "id": "bf5f63be",
   "metadata": {},
   "outputs": [
    {
     "name": "stdout",
     "output_type": "stream",
     "text": [
      "8\n",
      "8\n",
      "3 5\n",
      "s\n"
     ]
    },
    {
     "ename": "ValueError",
     "evalue": "invalid literal for int() with base 10: 's'",
     "output_type": "error",
     "traceback": [
      "\u001b[0;31m---------------------------------------------------------------------------\u001b[0m",
      "\u001b[0;31mValueError\u001b[0m                                Traceback (most recent call last)",
      "Input \u001b[0;32mIn [6]\u001b[0m, in \u001b[0;36m<module>\u001b[0;34m\u001b[0m\n\u001b[1;32m      2\u001b[0m primes \u001b[38;5;241m=\u001b[39m prime_number(\u001b[38;5;241m10000\u001b[39m)\n\u001b[1;32m      3\u001b[0m \u001b[38;5;28;01mfor\u001b[39;00m _ \u001b[38;5;129;01min\u001b[39;00m \u001b[38;5;28mrange\u001b[39m(n):\n\u001b[0;32m----> 4\u001b[0m     m \u001b[38;5;241m=\u001b[39m \u001b[38;5;28;43mint\u001b[39;49m\u001b[43m(\u001b[49m\u001b[38;5;28;43minput\u001b[39;49m\u001b[43m(\u001b[49m\u001b[43m)\u001b[49m\u001b[43m)\u001b[49m\n\u001b[1;32m      5\u001b[0m     start \u001b[38;5;241m=\u001b[39m m \u001b[38;5;241m/\u001b[39m\u001b[38;5;241m/\u001b[39m \u001b[38;5;241m2\u001b[39m\n\u001b[1;32m      6\u001b[0m     \u001b[38;5;28;01mfor\u001b[39;00m i \u001b[38;5;129;01min\u001b[39;00m \u001b[38;5;28mrange\u001b[39m(start):\n",
      "\u001b[0;31mValueError\u001b[0m: invalid literal for int() with base 10: 's'"
     ]
    }
   ],
   "source": [
    "n = int(input())\n",
    "primes = prime_number(10000)\n",
    "for _ in range(n):\n",
    "    m = int(input())\n",
    "    start = m // 2\n",
    "    for i in range(start):\n",
    "        p1, p2 = start - i, start + i\n",
    "        if p1 in primes and p2 in primes:\n",
    "            print(p1, p2)\n",
    "            break\n",
    "       "
   ]
  },
  {
   "cell_type": "code",
   "execution_count": null,
   "id": "1eb3c63f",
   "metadata": {},
   "outputs": [],
   "source": []
  }
 ],
 "metadata": {
  "kernelspec": {
   "display_name": "Python 3 (ipykernel)",
   "language": "python",
   "name": "python3"
  },
  "language_info": {
   "codemirror_mode": {
    "name": "ipython",
    "version": 3
   },
   "file_extension": ".py",
   "mimetype": "text/x-python",
   "name": "python",
   "nbconvert_exporter": "python",
   "pygments_lexer": "ipython3",
   "version": "3.8.10"
  }
 },
 "nbformat": 4,
 "nbformat_minor": 5
}
