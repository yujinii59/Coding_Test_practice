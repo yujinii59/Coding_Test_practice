{
 "cells": [
  {
   "cell_type": "markdown",
   "id": "e375ccb9",
   "metadata": {},
   "source": [
    "#### 문제\n",
    "캠프에 오게 된 송유진은 캠프가 너무 지루해서 오늘로부터 캠프가 끝날 때 까지 며칠이나 남았는지 알아보고 싶었다. 그런데 캠프는 비상식적으로 길지도 몰라서 (윤년을 포함할지도 모른다) 손으로 하나하나 세기에는 힘들어 보였다.\n",
    "\n",
    "더욱 정확한 계산을 위해, 유진이는 윤년이 정해지는 기준을 찾아보았고, 그것은 다음과 같았다.\n",
    "\n",
    "서력기원 연수가 4로 나누어떨어지는 해는 우선 윤년으로 한다. (2004년, 2008년, …)\n",
    "\n",
    "100으로 나누어떨어지는 해는 평년으로 한다. (2100년, 2200년, …)\n",
    "\n",
    "400으로 나누어떨어지는 해는 다시 윤년으로 한다. (1600년, 2000년, …)\n",
    "\n",
    "그런데 캠프가 너무 길 경우, 사춘기인 유진이는 캠프에 무단으로 빠질지도 모른다.\n",
    "\n",
    "#### 입력\n",
    "첫째 줄에 오늘의 날짜가 주어지고, 두 번째 줄에 D-Day인 날의 날짜가 주어진다. 날짜는 연도, 월, 일순으로 주어지며, 공백으로 구분한다. 입력 범위는 1년 1월 1일부터 9999년 12월 31일 까지 이다. 오늘의 날짜는 항상 D-Day보다 앞에 있다.\n",
    "\n",
    "#### 출력\n",
    "오늘부터 D-Day까지 x일이 남았다면, \"D-\"를 출력하고 그 뒤에 공백 없이 x를 출력한다. 만약 캠프가 천년 이상 지속된다면 (오늘이 y년 m월 d일이고, D-Day가 y+1000년 m월 d일과 같거나 늦다면) 대신 \"gg\"를 출력한다. 오늘이 2월 29일인 경우는 주어지지 않는다.\n",
    "\n",
    "#### 예제 입력 1 \n",
    "2008 12 27\n",
    "\n",
    "2009 1 22\n",
    "#### 예제 출력 1 \n",
    "D-26"
   ]
  },
  {
   "cell_type": "code",
   "execution_count": 6,
   "id": "85957ed4",
   "metadata": {},
   "outputs": [
    {
     "name": "stdout",
     "output_type": "stream",
     "text": [
      "2008 12 27\n",
      "2009 1 22\n",
      "D-26\n"
     ]
    }
   ],
   "source": [
    "import datetime as dt\n",
    "y, m, d = map(int,input().split())\n",
    "today = dt.date(y, m, d)\n",
    "\n",
    "y, m, d = map(int,input().split())\n",
    "dday = dt.date(y, m, d)\n",
    "\n",
    "giveup = dt.date(today.year + 1000, today.month, today.day)\n",
    "diff = (dday - today).days\n",
    "giveup_diff = (giveup - today).days\n",
    "if diff < giveup_diff:\n",
    "    print(f'D-{diff}')\n",
    "else:\n",
    "    print('gg')"
   ]
  },
  {
   "cell_type": "code",
   "execution_count": null,
   "id": "9c1ab3bb",
   "metadata": {},
   "outputs": [],
   "source": []
  }
 ],
 "metadata": {
  "kernelspec": {
   "display_name": "Python 3 (ipykernel)",
   "language": "python",
   "name": "python3"
  },
  "language_info": {
   "codemirror_mode": {
    "name": "ipython",
    "version": 3
   },
   "file_extension": ".py",
   "mimetype": "text/x-python",
   "name": "python",
   "nbconvert_exporter": "python",
   "pygments_lexer": "ipython3",
   "version": "3.8.10"
  }
 },
 "nbformat": 4,
 "nbformat_minor": 5
}
