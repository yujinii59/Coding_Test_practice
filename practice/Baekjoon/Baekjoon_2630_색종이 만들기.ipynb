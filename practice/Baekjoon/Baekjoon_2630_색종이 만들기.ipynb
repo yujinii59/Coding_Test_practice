{
 "cells": [
  {
   "cell_type": "markdown",
   "metadata": {
    "collapsed": true,
    "pycharm": {
     "name": "#%% md\n"
    }
   },
   "source": [
    "#### 문제\n",
    "아래 <그림 1>과 같이 여러개의 정사각형칸들로 이루어진 정사각형 모양의 종이가 주어져 있고, 각 정사각형들은 하얀색으로 칠해져 있거나 파란색으로 칠해져 있다. 주어진 종이를 일정한 규칙에 따라 잘라서 다양한 크기를 가진 정사각형 모양의 하얀색 또는 파란색 색종이를 만들려고 한다.\n",
    "\n",
    "\n",
    "\n",
    "전체 종이의 크기가 N×N(N=2k, k는 1 이상 7 이하의 자연수) 이라면 종이를 자르는 규칙은 다음과 같다.\n",
    "\n",
    "전체 종이가 모두 같은 색으로 칠해져 있지 않으면 가로와 세로로 중간 부분을 잘라서 <그림 2>의 I, II, III, IV와 같이 똑같은 크기의 네 개의 N/2 × N/2색종이로 나눈다. 나누어진 종이 I, II, III, IV 각각에 대해서도 앞에서와 마찬가지로 모두 같은 색으로 칠해져 있지 않으면 같은 방법으로 똑같은 크기의 네 개의 색종이로 나눈다. 이와 같은 과정을 잘라진 종이가 모두 하얀색 또는 모두 파란색으로 칠해져 있거나, 하나의 정사각형 칸이 되어 더 이상 자를 수 없을 때까지 반복한다.\n",
    "\n",
    "위와 같은 규칙에 따라 잘랐을 때 <그림 3>은 <그림 1>의 종이를 처음 나눈 후의 상태를, <그림 4>는 두 번째 나눈 후의 상태를, <그림 5>는 최종적으로 만들어진 다양한 크기의 9장의 하얀색 색종이와 7장의 파란색 색종이를 보여주고 있다.\n",
    "\n",
    "\n",
    "\n",
    "입력으로 주어진 종이의 한 변의 길이 N과 각 정사각형칸의 색(하얀색 또는 파란색)이 주어질 때 잘라진 하얀색 색종이와 파란색 색종이의 개수를 구하는 프로그램을 작성하시오.\n",
    "\n",
    "#### 입력\n",
    "첫째 줄에는 전체 종이의 한 변의 길이 N이 주어져 있다. N은 2, 4, 8, 16, 32, 64, 128 중 하나이다. 색종이의 각 가로줄의 정사각형칸들의 색이 윗줄부터 차례로 둘째 줄부터 마지막 줄까지 주어진다. 하얀색으로 칠해진 칸은 0, 파란색으로 칠해진 칸은 1로 주어지며, 각 숫자 사이에는 빈칸이 하나씩 있다.\n",
    "\n",
    "#### 출력\n",
    "첫째 줄에는 잘라진 햐얀색 색종이의 개수를 출력하고, 둘째 줄에는 파란색 색종이의 개수를 출력한다.\n",
    "\n",
    "#### 예제 입력 1\n",
    "8\n",
    "\n",
    "1 1 0 0 0 0 1 1\n",
    "\n",
    "1 1 0 0 0 0 1 1\n",
    "\n",
    "0 0 0 0 1 1 0 0\n",
    "\n",
    "0 0 0 0 1 1 0 0\n",
    "\n",
    "1 0 0 0 1 1 1 1\n",
    "\n",
    "0 1 0 0 1 1 1 1\n",
    "\n",
    "0 0 1 1 1 1 1 1\n",
    "\n",
    "0 0 1 1 1 1 1 1\n",
    "\n",
    "#### 예제 출력 1\n",
    "\n",
    "9\n",
    "\n",
    "7"
   ]
  },
  {
   "cell_type": "code",
   "execution_count": null,
   "metadata": {},
   "outputs": [],
   "source": [
    "from collections import deque\n",
    "\n",
    "n = int(input())\n",
    "\n",
    "cut_case = [[0, 0], [0, 1], [1, 0], [1, 1]]\n",
    "papers = []\n",
    "paper_cnt = {0: 0, 1: 0}\n",
    "for _ in range(n):\n",
    "    papers.extend(list(map(int, input().split())))\n",
    "\n",
    "q = deque()\n",
    "q.append([papers, n])\n",
    "\n",
    "while q:\n",
    "    paper, length = q.popleft()\n",
    "    paper_set = set(paper)\n",
    "    if len(paper_set) == 1:\n",
    "        paper_cnt[paper[0]] += 1\n",
    "\n",
    "    else:\n",
    "        cut_length = length // 2\n",
    "        if cut_length == 1:\n",
    "            for i in range(4):\n",
    "                q.append([[paper[i]], cut_length])\n",
    "        else:\n",
    "            for case in cut_case:\n",
    "                x, y = case\n",
    "                p = []\n",
    "                for i in range(cut_length * x, cut_length * (x + 1)):\n",
    "                    p.extend(paper[length * i + cut_length * y: length * i + cut_length * (y + 1)])\n",
    "                q.append([p, cut_length])\n",
    "\n",
    "for v in paper_cnt.values():\n",
    "    print(v)"
   ]
  },
  {
   "cell_type": "code",
   "execution_count": 2,
   "metadata": {},
   "outputs": [],
   "source": [
    "from collections import deque"
   ]
  },
  {
   "cell_type": "code",
   "execution_count": 1,
   "metadata": {
    "pycharm": {
     "name": "#%%\n"
    }
   },
   "outputs": [
    {
     "name": "stdout",
     "output_type": "stream",
     "text": [
      "8\n"
     ]
    }
   ],
   "source": [
    "n = int(input())"
   ]
  },
  {
   "cell_type": "code",
   "execution_count": null,
   "metadata": {
    "pycharm": {
     "name": "#%%\n"
    }
   },
   "outputs": [],
   "source": [
    "cut_case = [[0,0],[0,1],[1,0],[1,1]]\n",
    "papers = []\n",
    "paper_cnt = {0:0, 1:0}\n",
    "for _ in range(n):\n",
    "    papers.extend(list(map(int, input().split())))\n",
    "    \n",
    "q = deque()\n",
    "q.append([papers, n])\n",
    "\n",
    "while q:\n",
    "    paper, length = q.popleft()\n",
    "    paper_set = set(paper)\n",
    "    if len(paper_set) == 1:\n",
    "        paper_cnt[paper[0]] += 1\n",
    "\n",
    "    else:\n",
    "        cut_length = length // 2\n",
    "        if cut_length == 1:\n",
    "            for i in range(4):\n",
    "                q.append([[paper[i]], cut_length])\n",
    "        for case in cut_case:\n",
    "            x, y = case\n",
    "            p = []\n",
    "            for i in range(cut_length * x, cut_length * (x + 1)):\n",
    "                p.extend(paper[length * i + cut_length * y: length * i + cut_length * (y + 1)])\n",
    "            q.append([p, cut_length])\n",
    "    \n",
    "    "
   ]
  }
 ],
 "metadata": {
  "kernelspec": {
   "display_name": "Python 3 (ipykernel)",
   "language": "python",
   "name": "python3"
  },
  "language_info": {
   "codemirror_mode": {
    "name": "ipython",
    "version": 3
   },
   "file_extension": ".py",
   "mimetype": "text/x-python",
   "name": "python",
   "nbconvert_exporter": "python",
   "pygments_lexer": "ipython3",
   "version": "3.8.10"
  }
 },
 "nbformat": 4,
 "nbformat_minor": 1
}
