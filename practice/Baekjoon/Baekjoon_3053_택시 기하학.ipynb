{
 "cells": [
  {
   "cell_type": "markdown",
   "id": "101d5cea",
   "metadata": {},
   "source": [
    "#### 문제\n",
    "19세기 독일 수학자 헤르만 민코프스키는 비유클리드 기하학 중 택시 기하학을 고안했다.\n",
    "\n",
    "택시 기하학에서 두 점 T1(x1,y1), T2(x2,y2) 사이의 거리는 다음과 같이 구할 수 있다.\n",
    "\n",
    "$D(T1,T2) = |x1-x2| + |y1-y2|$\n",
    "\n",
    "두 점 사이의 거리를 제외한 나머지 정의는 유클리드 기하학에서의 정의와 같다.\n",
    "\n",
    "따라서 택시 기하학에서 원의 정의는 유클리드 기하학에서 원의 정의와 같다.\n",
    "\n",
    "원: 평면 상의 어떤 점에서 거리가 일정한 점들의 집합\n",
    "\n",
    "반지름 R이 주어졌을 때, 유클리드 기하학에서 원의 넓이와, 택시 기하학에서 원의 넓이를 구하는 프로그램을 작성하시오.\n",
    "\n",
    "#### 입력\n",
    "첫째 줄에 반지름 R이 주어진다. R은 10,000보다 작거나 같은 자연수이다.\n",
    "\n",
    "#### 출력\n",
    "첫째 줄에는 유클리드 기하학에서 반지름이 R인 원의 넓이를, 둘째 줄에는 택시 기하학에서 반지름이 R인 원의 넓이를 출력한다. 정답과의 오차는 0.0001까지 허용한다.\n",
    "\n",
    "#### 예제 입력 1 \n",
    "1\n",
    "\n",
    "#### 예제 출력 1 \n",
    "3.141593\n",
    "\n",
    "2.000000\n",
    "\n",
    "#### 예제 입력 2 \n",
    "21\n",
    "\n",
    "#### 예제 출력 2 \n",
    "1385.442360\n",
    "\n",
    "882.000000\n",
    "\n",
    "#### 예제 입력 3 \n",
    "42\n",
    "\n",
    "#### 예제 출력 3 \n",
    "5541.769441\n",
    "\n",
    "3528.000000"
   ]
  },
  {
   "cell_type": "code",
   "execution_count": 4,
   "id": "80c921d8",
   "metadata": {},
   "outputs": [
    {
     "name": "stdout",
     "output_type": "stream",
     "text": [
      "21\n",
      "1385.442360\n",
      "882.000000\n"
     ]
    }
   ],
   "source": [
    "from math import pi, sqrt\n",
    "\n",
    "r = int(input())\n",
    "print(f'{pi * r ** 2:.6f}')\n",
    "print(f'{sqrt(2 * r ** 2) ** 2:.6f}')"
   ]
  },
  {
   "cell_type": "code",
   "execution_count": null,
   "id": "18c8d517",
   "metadata": {},
   "outputs": [],
   "source": []
  },
  {
   "cell_type": "code",
   "execution_count": null,
   "id": "96c34907",
   "metadata": {},
   "outputs": [],
   "source": [
    "21\n"
   ]
  }
 ],
 "metadata": {
  "kernelspec": {
   "display_name": "Python 3 (ipykernel)",
   "language": "python",
   "name": "python3"
  },
  "language_info": {
   "codemirror_mode": {
    "name": "ipython",
    "version": 3
   },
   "file_extension": ".py",
   "mimetype": "text/x-python",
   "name": "python",
   "nbconvert_exporter": "python",
   "pygments_lexer": "ipython3",
   "version": "3.8.10"
  }
 },
 "nbformat": 4,
 "nbformat_minor": 5
}
