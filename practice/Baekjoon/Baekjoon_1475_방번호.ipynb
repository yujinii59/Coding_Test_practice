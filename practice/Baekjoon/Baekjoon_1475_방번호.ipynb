{
 "cells": [
  {
   "cell_type": "markdown",
   "id": "87150632",
   "metadata": {},
   "source": [
    "#### 문제\n",
    "다솜이는 은진이의 옆집에 새로 이사왔다. 다솜이는 자기 방 번호를 예쁜 플라스틱 숫자로 문에 붙이려고 한다.\n",
    "\n",
    "다솜이의 옆집에서는 플라스틱 숫자를 한 세트로 판다. 한 세트에는 0번부터 9번까지 숫자가 하나씩 들어있다. 다솜이의 방 번호가 주어졌을 때, 필요한 세트의 개수의 최솟값을 출력하시오. (6은 9를 뒤집어서 이용할 수 있고, 9는 6을 뒤집어서 이용할 수 있다.)\n",
    "\n",
    "#### 입력\n",
    "첫째 줄에 다솜이의 방 번호 N이 주어진다. N은 1,000,000보다 작거나 같은 자연수이다.\n",
    "\n",
    "#### 출력\n",
    "첫째 줄에 필요한 세트의 개수를 출력한다.\n",
    "\n",
    "#### 예제 입력 1 \n",
    "9999\n",
    "#### 예제 출력 1 \n",
    "2\n",
    "#### 예제 입력 2 \n",
    "122\n",
    "#### 예제 출력 2 \n",
    "2\n",
    "#### 예제 입력 3 \n",
    "12635\n",
    "#### 예제 출력 3 \n",
    "1\n",
    "#### 예제 입력 4 \n",
    "888888\n",
    "#### 예제 출력 4 \n",
    "6"
   ]
  },
  {
   "cell_type": "code",
   "execution_count": 6,
   "id": "33b9e656",
   "metadata": {},
   "outputs": [
    {
     "name": "stdout",
     "output_type": "stream",
     "text": [
      "888888\n",
      "6\n"
     ]
    }
   ],
   "source": [
    "from collections import Counter\n",
    "import math\n",
    "num = input().replace('9','6')\n",
    "cnt = Counter(num)\n",
    "cnt['6'] = math.ceil(cnt['6'] / 2)\n",
    "print(max(cnt.values()))"
   ]
  },
  {
   "cell_type": "code",
   "execution_count": null,
   "id": "7f9a1fc0",
   "metadata": {},
   "outputs": [],
   "source": []
  }
 ],
 "metadata": {
  "kernelspec": {
   "display_name": "Python 3 (ipykernel)",
   "language": "python",
   "name": "python3"
  },
  "language_info": {
   "codemirror_mode": {
    "name": "ipython",
    "version": 3
   },
   "file_extension": ".py",
   "mimetype": "text/x-python",
   "name": "python",
   "nbconvert_exporter": "python",
   "pygments_lexer": "ipython3",
   "version": "3.8.10"
  }
 },
 "nbformat": 4,
 "nbformat_minor": 5
}
