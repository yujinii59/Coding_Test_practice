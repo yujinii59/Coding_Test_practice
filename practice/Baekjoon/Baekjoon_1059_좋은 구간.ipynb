{
 "cells": [
  {
   "cell_type": "markdown",
   "id": "c39b293b",
   "metadata": {},
   "source": [
    "#### 문제\n",
    "정수 집합 S가 주어졌을때, 다음 조건을 만족하는 구간 [A, B]를 좋은 구간이라고 한다.\n",
    "\n",
    "A와 B는 양의 정수이고, A < B를 만족한다.\n",
    "\n",
    "A ≤ x ≤ B를 만족하는 모든 정수 x가 집합 S에 속하지 않는다.\n",
    "\n",
    "집합 S와 n이 주어졌을 때, n을 포함하는 좋은 구간의 개수를 구해보자.\n",
    "\n",
    "#### 입력\n",
    "첫째 줄에 집합 S의 크기 L이 주어진다. 둘째 줄에는 집합에 포함된 정수가 주어진다. 셋째 줄에는 n이 주어진다.\n",
    "\n",
    "#### 출력\n",
    "첫째 줄에 n을 포함하는 좋은 구간의 개수를 출력한다.\n",
    "\n",
    "#### 제한\n",
    "1 ≤ L ≤ 50\n",
    "\n",
    "집합 S에는 중복되는 정수가 없다.\n",
    "\n",
    "집합 S에 포함된 모든 정수는 1보다 크거나 같고, 1,000보다 작거나 같다.\n",
    "\n",
    "1 ≤ n ≤ (집합 S에서 가장 큰 정수)\n",
    "#### 예제 입력 1 \n",
    "4\n",
    "\n",
    "1 7 14 10\n",
    "\n",
    "2\n",
    "#### 예제 출력 1 \n",
    "4\n",
    "##### 예제 설명\n",
    "[2,3], [2,4], [2,5], [2, 6]\n",
    "\n",
    "#### 예제 입력 2 \n",
    "5\n",
    "\n",
    "4 8 13 24 30\n",
    "\n",
    "10\n",
    "#### 예제 출력 2 \n",
    "5\n",
    "##### 예제 설명\n",
    "[9, 10], [9, 11], [9, 12], [10, 11], [10, 12]\n",
    "\n",
    "#### 예제 입력 3 \n",
    "5\n",
    "\n",
    "10 20 30 40 50\n",
    "\n",
    "30\n",
    "#### 예제 출력 3 \n",
    "0\n",
    "#### 예제 입력 4 \n",
    "8\n",
    "\n",
    "3 7 12 18 25 100 33 1000\n",
    "\n",
    "59\n",
    "#### 예제 출력 4 \n",
    "1065"
   ]
  },
  {
   "cell_type": "code",
   "execution_count": 11,
   "id": "4a9eb7b3",
   "metadata": {},
   "outputs": [
    {
     "name": "stdout",
     "output_type": "stream",
     "text": [
      "5\n",
      "10 20 30 40 50\n",
      "30\n"
     ]
    }
   ],
   "source": [
    "l = int(input())\n",
    "s = sorted(list(map(int, input().split())))\n",
    "n = int(input())\n",
    "le = 0\n",
    "ge = 1000\n",
    "for elem in s:\n",
    "    if elem < n:\n",
    "        le = max(le, elem)\n",
    "    elif elem > n:\n",
    "        ge = elem\n",
    "        break\n",
    "    else:\n",
    "        le = elem\n",
    "        ge = elem\n",
    "        break\n",
    "if le == ge:\n",
    "    print(0)\n",
    "else:\n",
    "    print((n - le) * (ge - n) - 1)        "
   ]
  }
 ],
 "metadata": {
  "kernelspec": {
   "display_name": "Python 3 (ipykernel)",
   "language": "python",
   "name": "python3"
  },
  "language_info": {
   "codemirror_mode": {
    "name": "ipython",
    "version": 3
   },
   "file_extension": ".py",
   "mimetype": "text/x-python",
   "name": "python",
   "nbconvert_exporter": "python",
   "pygments_lexer": "ipython3",
   "version": "3.8.10"
  }
 },
 "nbformat": 4,
 "nbformat_minor": 5
}
