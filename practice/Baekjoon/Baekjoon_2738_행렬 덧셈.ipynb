{
 "cells": [
  {
   "cell_type": "markdown",
   "id": "29a86307",
   "metadata": {},
   "source": [
    "#### 문제\n",
    "N*M크기의 두 행렬 A와 B가 주어졌을 때, 두 행렬을 더하는 프로그램을 작성하시오.\n",
    "\n",
    "#### 입력\n",
    "첫째 줄에 행렬의 크기 N 과 M이 주어진다. 둘째 줄부터 N개의 줄에 행렬 A의 원소 M개가 차례대로 주어진다. 이어서 N개의 줄에 행렬 B의 원소 M개가 차례대로 주어진다. N과 M은 100보다 작거나 같고, 행렬의 원소는 절댓값이 100보다 작거나 같은 정수이다.\n",
    "\n",
    "#### 출력\n",
    "첫째 줄부터 N개의 줄에 행렬 A와 B를 더한 행렬을 출력한다. 행렬의 각 원소는 공백으로 구분한다.\n",
    "\n",
    "#### 예제 입력 1 \n",
    "3 3\n",
    "\n",
    "1 1 1\n",
    "\n",
    "2 2 2\n",
    "\n",
    "0 1 0\n",
    "\n",
    "3 3 3\n",
    "\n",
    "4 4 4\n",
    "\n",
    "5 5 100\n",
    "\n",
    "#### 예제 출력 1 \n",
    "4 4 4\n",
    "\n",
    "6 6 6\n",
    "\n",
    "5 6 100"
   ]
  },
  {
   "cell_type": "code",
   "execution_count": 2,
   "id": "9bf2e122",
   "metadata": {
    "collapsed": true
   },
   "outputs": [
    {
     "name": "stdout",
     "output_type": "stream",
     "text": [
      "ㄴㅁ\n"
     ]
    },
    {
     "ename": "ValueError",
     "evalue": "invalid literal for int() with base 10: 'ㄴㅁ'",
     "output_type": "error",
     "traceback": [
      "\u001b[0;31m---------------------------------------------------------------------------\u001b[0m",
      "\u001b[0;31mValueError\u001b[0m                                Traceback (most recent call last)",
      "Input \u001b[0;32mIn [2]\u001b[0m, in \u001b[0;36m<cell line: 1>\u001b[0;34m()\u001b[0m\n\u001b[0;32m----> 1\u001b[0m n, m \u001b[38;5;241m=\u001b[39m \u001b[38;5;28mmap\u001b[39m(\u001b[38;5;28mint\u001b[39m, \u001b[38;5;28minput\u001b[39m()\u001b[38;5;241m.\u001b[39msplit())\n\u001b[1;32m      2\u001b[0m mat \u001b[38;5;241m=\u001b[39m []\n\u001b[1;32m      4\u001b[0m mat_n \u001b[38;5;241m=\u001b[39m []\n",
      "\u001b[0;31mValueError\u001b[0m: invalid literal for int() with base 10: 'ㄴㅁ'"
     ]
    }
   ],
   "source": [
    "n, m = map(int, input().split())\n",
    "mat = []\n",
    "\n",
    "mat_n = []\n",
    "mat_m = []\n",
    "for _ in range(n):\n",
    "    mat_n.append(list(map(int, input().split())))\n",
    "    \n",
    "for _ in range(n):\n",
    "    mat_m.append(list(map(int, input().split())))\n",
    "    \n",
    "for line_n, line_m in zip(mat_n, mat_m):\n",
    "    line = []\n",
    "    for i, j in zip(line_n, line_m):\n",
    "        line.append(str(i+j))\n",
    "    print(' '.join(line))"
   ]
  }
 ],
 "metadata": {
  "kernelspec": {
   "display_name": "Python 3 (ipykernel)",
   "language": "python",
   "name": "python3"
  },
  "language_info": {
   "codemirror_mode": {
    "name": "ipython",
    "version": 3
   },
   "file_extension": ".py",
   "mimetype": "text/x-python",
   "name": "python",
   "nbconvert_exporter": "python",
   "pygments_lexer": "ipython3",
   "version": "3.8.10"
  }
 },
 "nbformat": 4,
 "nbformat_minor": 5
}
