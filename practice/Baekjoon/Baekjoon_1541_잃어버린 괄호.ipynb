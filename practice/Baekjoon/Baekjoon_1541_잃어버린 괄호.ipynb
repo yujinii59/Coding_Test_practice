{
 "cells": [
  {
   "cell_type": "markdown",
   "id": "5c210581",
   "metadata": {},
   "source": [
    "#### 문제\n",
    "세준이는 양수와 +, -, 그리고 괄호를 가지고 식을 만들었다. 그리고 나서 세준이는 괄호를 모두 지웠다.\n",
    "\n",
    "그리고 나서 세준이는 괄호를 적절히 쳐서 이 식의 값을 최소로 만들려고 한다.\n",
    "\n",
    "괄호를 적절히 쳐서 이 식의 값을 최소로 만드는 프로그램을 작성하시오.\n",
    "\n",
    "#### 입력\n",
    "첫째 줄에 식이 주어진다. 식은 ‘0’~‘9’, ‘+’, 그리고 ‘-’만으로 이루어져 있고, 가장 처음과 마지막 문자는 숫자이다. 그리고 연속해서 두 개 이상의 연산자가 나타나지 않고, 5자리보다 많이 연속되는 숫자는 없다. 수는 0으로 시작할 수 있다. 입력으로 주어지는 식의 길이는 50보다 작거나 같다.\n",
    "\n",
    "#### 출력\n",
    "첫째 줄에 정답을 출력한다.\n",
    "\n",
    "##### 예제 입력 1 \n",
    "55-50+40\n",
    "##### 예제 출력 1 \n",
    "-35\n",
    "##### 예제 입력 2 \n",
    "10+20+30+40\n",
    "##### 예제 출력 2 \n",
    "100\n",
    "##### 예제 입력 3 \n",
    "00009-00009\n",
    "##### 예제 출력 3 \n",
    "0"
   ]
  },
  {
   "cell_type": "code",
   "execution_count": 5,
   "id": "81b6aecf",
   "metadata": {},
   "outputs": [
    {
     "name": "stdout",
     "output_type": "stream",
     "text": [
      "10+20+30+40\n",
      "100\n"
     ]
    }
   ],
   "source": [
    "eq = input()\n",
    "nums = []\n",
    "sub_loc = []\n",
    "num = ''\n",
    "for i in eq:\n",
    "    if i.isnumeric():\n",
    "        num += i\n",
    "    else:\n",
    "        nums.append(int(num))\n",
    "        num = ''\n",
    "        if i == '-':\n",
    "            sub_loc.append(len(nums))\n",
    "nums.append(int(num))\n",
    "\n",
    "start = 0\n",
    "calc = 0\n",
    "for i in sub_loc:\n",
    "    if start == 0:\n",
    "        calc += sum(nums[start:i])\n",
    "    else:\n",
    "        calc -= sum(nums[start:i])\n",
    "    start = i\n",
    "if start == 0:\n",
    "    calc += sum(nums[start:])\n",
    "else:\n",
    "    calc -= sum(nums[start:])\n",
    "print(calc)"
   ]
  },
  {
   "cell_type": "code",
   "execution_count": null,
   "id": "8160df85",
   "metadata": {},
   "outputs": [],
   "source": []
  }
 ],
 "metadata": {
  "kernelspec": {
   "display_name": "Python 3 (ipykernel)",
   "language": "python",
   "name": "python3"
  },
  "language_info": {
   "codemirror_mode": {
    "name": "ipython",
    "version": 3
   },
   "file_extension": ".py",
   "mimetype": "text/x-python",
   "name": "python",
   "nbconvert_exporter": "python",
   "pygments_lexer": "ipython3",
   "version": "3.8.10"
  }
 },
 "nbformat": 4,
 "nbformat_minor": 5
}
