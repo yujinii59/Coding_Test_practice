{
 "cells": [
  {
   "attachments": {},
   "cell_type": "markdown",
   "id": "d6df2486",
   "metadata": {},
   "source": [
    "#### 문제\n",
    "(세 자리 수) × (세 자리 수)는 다음과 같은 과정을 통하여 이루어진다.\n",
    "\n",
    "`------------\n",
    "       4 7 2  ---- (1)      \n",
    "     x 3 8 5  ---- (2)\n",
    "ㅡㅡㅡㅡㅡㅡㅡㅡㅡ\n",
    "     2 3 6 0  ---- (3)\n",
    "   3 7 7 6    ---- (4)\n",
    " 1 4 1 6      ---- (5)\n",
    "ㅡㅡㅡㅡㅡㅡㅡㅡㅡ\n",
    " 1 8 1 7 2 0  ---- (6)\n",
    "`\n",
    "\n",
    "(1)과 (2)위치에 들어갈 세 자리 자연수가 주어질 때 (3), (4), (5), (6)위치에 들어갈 값을 구하는 프로그램을 작성하시오.\n",
    "\n",
    "#### 입력\n",
    "첫째 줄에 (1)의 위치에 들어갈 세 자리 자연수가, 둘째 줄에 (2)의 위치에 들어갈 세자리 자연수가 주어진다.\n",
    "\n",
    "#### 출력\n",
    "첫째 줄부터 넷째 줄까지 차례대로 (3), (4), (5), (6)에 들어갈 값을 출력한다.\n",
    "\n",
    "#### 예제 입력 1 \n",
    "472\n",
    "\n",
    "385\n",
    "#### 예제 출력 1 \n",
    "2360\n",
    "\n",
    "3776\n",
    "\n",
    "1416\n",
    "\n",
    "181720"
   ]
  },
  {
   "cell_type": "code",
   "execution_count": 2,
   "id": "41a216d5",
   "metadata": {},
   "outputs": [
    {
     "name": "stdout",
     "output_type": "stream",
     "text": [
      "472\n",
      "385\n",
      "2360\n",
      "3776\n",
      "1416\n",
      "181720\n"
     ]
    }
   ],
   "source": [
    "n = int(input())\n",
    "m_ls = input()\n",
    "\n",
    "calc = 0\n",
    "for i in range(2, -1, -1):\n",
    "    mult = n * int(m_ls[i])\n",
    "    calc += mult * (10 ** (2 - i))\n",
    "    print(mult)\n",
    "    \n",
    "print(calc)"
   ]
  },
  {
   "cell_type": "code",
   "execution_count": null,
   "id": "5c451869",
   "metadata": {},
   "outputs": [],
   "source": []
  }
 ],
 "metadata": {
  "kernelspec": {
   "display_name": "Python 3 (ipykernel)",
   "language": "python",
   "name": "python3"
  },
  "language_info": {
   "codemirror_mode": {
    "name": "ipython",
    "version": 3
   },
   "file_extension": ".py",
   "mimetype": "text/x-python",
   "name": "python",
   "nbconvert_exporter": "python",
   "pygments_lexer": "ipython3",
   "version": "3.8.10"
  }
 },
 "nbformat": 4,
 "nbformat_minor": 5
}
