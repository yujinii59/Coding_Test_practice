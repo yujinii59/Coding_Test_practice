{
 "cells": [
  {
   "cell_type": "markdown",
   "id": "1980750c",
   "metadata": {},
   "source": [
    "#### 문제\n",
    "가중치 없는 방향 그래프 G가 주어졌을 때, 모든 정점 (i, j)에 대해서, i에서 j로 가는 경로가 있는지 없는지 구하는 프로그램을 작성하시오.\n",
    "\n",
    "#### 입력\n",
    "첫째 줄에 정점의 개수 N (1 ≤ N ≤ 100)이 주어진다. 둘째 줄부터 N개 줄에는 그래프의 인접 행렬이 주어진다. i번째 줄의 j번째 숫자가 1인 경우에는 i에서 j로 가는 간선이 존재한다는 뜻이고, 0인 경우는 없다는 뜻이다. i번째 줄의 i번째 숫자는 항상 0이다.\n",
    "\n",
    "#### 출력\n",
    "총 N개의 줄에 걸쳐서 문제의 정답을 인접행렬 형식으로 출력한다. 정점 i에서 j로 가는 경로가 있으면 i번째 줄의 j번째 숫자를 1로, 없으면 0으로 출력해야 한다.\n",
    "\n",
    "##### 예제 입력 1 \n",
    "3\n",
    "\n",
    "0 1 0\n",
    "\n",
    "0 0 1\n",
    "\n",
    "1 0 0\n",
    "\n",
    "##### 예제 출력 1 \n",
    "1 1 1\n",
    "\n",
    "1 1 1\n",
    "\n",
    "1 1 1\n",
    "\n",
    "##### 예제 입력 2 \n",
    "7\n",
    "\n",
    "0 0 0 1 0 0 0\n",
    "\n",
    "0 0 0 0 0 0 1\n",
    "\n",
    "0 0 0 0 0 0 0\n",
    "\n",
    "0 0 0 0 1 1 0\n",
    "\n",
    "1 0 0 0 0 0 0\n",
    "\n",
    "0 0 0 0 0 0 1\n",
    "\n",
    "0 0 1 0 0 0 0\n",
    "\n",
    "##### 예제 출력 2 \n",
    "1 0 1 1 1 1 1\n",
    "\n",
    "0 0 1 0 0 0 1\n",
    "\n",
    "0 0 0 0 0 0 0\n",
    "\n",
    "1 0 1 1 1 1 1\n",
    "\n",
    "1 0 1 1 1 1 1\n",
    "\n",
    "0 0 1 0 0 0 1\n",
    "\n",
    "0 0 1 0 0 0 0\n"
   ]
  },
  {
   "cell_type": "code",
   "execution_count": 12,
   "id": "2a93e9ac",
   "metadata": {},
   "outputs": [
    {
     "name": "stdout",
     "output_type": "stream",
     "text": [
      "3\n",
      "0 1 0\n",
      "0 0 1\n",
      "1 0 0\n",
      "111\n",
      "111\n",
      "111\n"
     ]
    }
   ],
   "source": [
    "n = int(input())\n",
    "roads = []\n",
    "for _ in range(n):\n",
    "    roads.append(list(map(int, input().split())))\n",
    "\n",
    "for k in range(n):\n",
    "    for i in range(n):\n",
    "        for j in range(n):\n",
    "                route = roads[i][k] + roads[k][j]\n",
    "                if route >= 2:\n",
    "                    roads[i][j] = 1\n",
    "for road in roads:\n",
    "    for r in road:\n",
    "        print(r, end=' ')\n",
    "    print()"
   ]
  },
  {
   "cell_type": "code",
   "execution_count": null,
   "id": "30faabdb",
   "metadata": {},
   "outputs": [],
   "source": []
  }
 ],
 "metadata": {
  "kernelspec": {
   "display_name": "Python 3 (ipykernel)",
   "language": "python",
   "name": "python3"
  },
  "language_info": {
   "codemirror_mode": {
    "name": "ipython",
    "version": 3
   },
   "file_extension": ".py",
   "mimetype": "text/x-python",
   "name": "python",
   "nbconvert_exporter": "python",
   "pygments_lexer": "ipython3",
   "version": "3.8.10"
  }
 },
 "nbformat": 4,
 "nbformat_minor": 5
}
