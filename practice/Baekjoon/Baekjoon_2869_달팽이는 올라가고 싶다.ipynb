{
 "cells": [
  {
   "cell_type": "markdown",
   "id": "421c3d29",
   "metadata": {},
   "source": [
    "#### 문제\n",
    "땅 위에 달팽이가 있다. 이 달팽이는 높이가 V미터인 나무 막대를 올라갈 것이다.\n",
    "\n",
    "달팽이는 낮에 A미터 올라갈 수 있다. 하지만, 밤에 잠을 자는 동안 B미터 미끄러진다. 또, 정상에 올라간 후에는 미끄러지지 않는다.\n",
    "\n",
    "달팽이가 나무 막대를 모두 올라가려면, 며칠이 걸리는지 구하는 프로그램을 작성하시오.\n",
    "\n",
    "#### 입력\n",
    "첫째 줄에 세 정수 A, B, V가 공백으로 구분되어서 주어진다. (1 ≤ B < A ≤ V ≤ 1,000,000,000)\n",
    "\n",
    "#### 출력\n",
    "첫째 줄에 달팽이가 나무 막대를 모두 올라가는데 며칠이 걸리는지 출력한다.\n",
    "\n",
    "##### 예제 입력 1 \n",
    "2 1 5\n",
    "##### 예제 출력 1 \n",
    "4\n",
    "##### 예제 입력 2 \n",
    "5 1 6\n",
    "##### 예제 출력 2 \n",
    "2\n",
    "##### 예제 입력 3 \n",
    "100 99 1000000000\n",
    "##### 예제 출력 3 \n",
    "999999901"
   ]
  },
  {
   "cell_type": "code",
   "execution_count": 9,
   "id": "fc16d53f",
   "metadata": {},
   "outputs": [
    {
     "name": "stdout",
     "output_type": "stream",
     "text": [
      "100 99 1000000000\n",
      "999999901\n"
     ]
    }
   ],
   "source": [
    "a, b, v = map(int, input().split())\n",
    "day_climb = a - b\n",
    "loc = day_climb * ((v - a) // day_climb)\n",
    "for i in range((v - a) // day_climb + 1, v):\n",
    "    loc += a\n",
    "    if loc >= v:\n",
    "        print(i)\n",
    "        break\n",
    "    loc -= b"
   ]
  }
 ],
 "metadata": {
  "kernelspec": {
   "display_name": "Python 3 (ipykernel)",
   "language": "python",
   "name": "python3"
  },
  "language_info": {
   "codemirror_mode": {
    "name": "ipython",
    "version": 3
   },
   "file_extension": ".py",
   "mimetype": "text/x-python",
   "name": "python",
   "nbconvert_exporter": "python",
   "pygments_lexer": "ipython3",
   "version": "3.8.10"
  }
 },
 "nbformat": 4,
 "nbformat_minor": 5
}
