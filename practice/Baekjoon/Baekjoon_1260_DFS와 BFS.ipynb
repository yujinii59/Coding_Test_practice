{
 "cells": [
  {
   "cell_type": "markdown",
   "id": "912b1acc",
   "metadata": {},
   "source": [
    "#### 문제\n",
    "그래프를 DFS로 탐색한 결과와 BFS로 탐색한 결과를 출력하는 프로그램을 작성하시오. 단, 방문할 수 있는 정점이 여러 개인 경우에는 정점 번호가 작은 것을 먼저 방문하고, 더 이상 방문할 수 있는 점이 없는 경우 종료한다. 정점 번호는 1번부터 N번까지이다.\n",
    "\n",
    "#### 입력\n",
    "첫째 줄에 정점의 개수 N(1 ≤ N ≤ 1,000), 간선의 개수 M(1 ≤ M ≤ 10,000), 탐색을 시작할 정점의 번호 V가 주어진다. 다음 M개의 줄에는 간선이 연결하는 두 정점의 번호가 주어진다. 어떤 두 정점 사이에 여러 개의 간선이 있을 수 있다. 입력으로 주어지는 간선은 양방향이다.\n",
    "\n",
    "#### 출력\n",
    "첫째 줄에 DFS를 수행한 결과를, 그 다음 줄에는 BFS를 수행한 결과를 출력한다. V부터 방문된 점을 순서대로 출력하면 된다.\n",
    "\n",
    "#### 예제 입력 1 \n",
    "4 5 1\n",
    "\n",
    "1 2\n",
    "\n",
    "1 3\n",
    "\n",
    "1 4\n",
    "\n",
    "2 4\n",
    "\n",
    "3 4\n",
    "\n",
    "#### 예제 출력 1 \n",
    "1 2 4 3\n",
    "\n",
    "1 2 3 4\n",
    "\n",
    "#### 예제 입력 2 \n",
    "5 5 3\n",
    "\n",
    "5 4\n",
    "\n",
    "5 2\n",
    "\n",
    "1 2\n",
    "\n",
    "3 4\n",
    "\n",
    "3 1\n",
    "\n",
    "#### 예제 출력 2 \n",
    "3 1 2 5 4\n",
    "\n",
    "3 1 4 2 5\n",
    "\n",
    "#### 예제 입력 3 \n",
    "1000 1 1000\n",
    "\n",
    "999 1000\n",
    "\n",
    "#### 예제 출력 3 \n",
    "1000 999\n",
    "\n",
    "1000 999"
   ]
  },
  {
   "cell_type": "code",
   "execution_count": 10,
   "id": "11bc302d",
   "metadata": {},
   "outputs": [],
   "source": [
    "def dfs_func(n, start, infos, visited, point):\n",
    "    for i in range(1, n + 1):\n",
    "        if infos[start][i] == 1 and visited[i] == 0:\n",
    "            visited[i] = 1\n",
    "            point.append(str(i))\n",
    "            point, visited = dfs_func(n, i, points, visited, point)\n",
    "            \n",
    "    return point, visited\n",
    "            "
   ]
  },
  {
   "cell_type": "code",
   "execution_count": 20,
   "id": "f89e1554",
   "metadata": {},
   "outputs": [
    {
     "name": "stdout",
     "output_type": "stream",
     "text": [
      "5 5 3\n",
      "5 4\n",
      "5 2\n",
      "1 2\n",
      "3 4\n",
      "3 1\n",
      "3 1 2 5 4\n",
      "3 1 4 2 5\n"
     ]
    }
   ],
   "source": [
    "from collections import deque\n",
    "n, m, v = map(int, input().split())\n",
    "points = [[0 for _ in range(n + 1)] for _ in range(n + 1)]\n",
    "visited_dfs = [0 for _ in range(n + 1)]\n",
    "visited_bfs = [0 for _ in range(n + 1)]\n",
    "\n",
    "for _ in range(m):\n",
    "    a, b = map(int, input().split())\n",
    "    points[a][b] = 1\n",
    "    points[b][a] = 1\n",
    "    \n",
    "for i in range(1, n + 1):\n",
    "    points[i][i] = 1\n",
    "\n",
    "visited_dfs[v] = 1\n",
    "dfs, visited_dfs = dfs_func(n, v, points, visited_dfs, [str(v)])\n",
    "    \n",
    "q = deque()\n",
    "q.append(v)\n",
    "visited_bfs[v] = 1\n",
    "bfs = []\n",
    "while q:\n",
    "    p = q.popleft()\n",
    "    bfs.append(str(p))\n",
    "    for j in range(1, n + 1):\n",
    "        if visited_bfs[j] == 0 and points[p][j] == 1:\n",
    "            visited_bfs[j] = 1\n",
    "            q.append(j)\n",
    "            \n",
    "print(' '.join(dfs))\n",
    "print(' '.join(bfs))"
   ]
  }
 ],
 "metadata": {
  "kernelspec": {
   "display_name": "Python 3 (ipykernel)",
   "language": "python",
   "name": "python3"
  },
  "language_info": {
   "codemirror_mode": {
    "name": "ipython",
    "version": 3
   },
   "file_extension": ".py",
   "mimetype": "text/x-python",
   "name": "python",
   "nbconvert_exporter": "python",
   "pygments_lexer": "ipython3",
   "version": "3.8.10"
  }
 },
 "nbformat": 4,
 "nbformat_minor": 5
}
