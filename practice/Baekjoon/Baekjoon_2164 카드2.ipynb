{
 "cells": [
  {
   "cell_type": "markdown",
   "id": "c199607f",
   "metadata": {},
   "source": [
    "#### 문제\n",
    "N장의 카드가 있다. 각각의 카드는 차례로 1부터 N까지의 번호가 붙어 있으며, 1번 카드가 제일 위에, N번 카드가 제일 아래인 상태로 순서대로 카드가 놓여 있다.\n",
    "\n",
    "이제 다음과 같은 동작을 카드가 한 장 남을 때까지 반복하게 된다. 우선, 제일 위에 있는 카드를 바닥에 버린다. 그 다음, 제일 위에 있는 카드를 제일 아래에 있는 카드 밑으로 옮긴다.\n",
    "\n",
    "예를 들어 N=4인 경우를 생각해 보자. 카드는 제일 위에서부터 1234 의 순서로 놓여있다. 1을 버리면 234가 남는다. 여기서 2를 제일 아래로 옮기면 342가 된다. 3을 버리면 42가 되고, 4를 밑으로 옮기면 24가 된다. 마지막으로 2를 버리고 나면, 남는 카드는 4가 된다.\n",
    "\n",
    "N이 주어졌을 때, 제일 마지막에 남게 되는 카드를 구하는 프로그램을 작성하시오.\n",
    "\n",
    "#### 입력\n",
    "첫째 줄에 정수 N(1 ≤ N ≤ 500,000)이 주어진다.\n",
    "\n",
    "#### 출력\n",
    "첫째 줄에 남게 되는 카드의 번호를 출력한다.\n",
    "\n",
    "##### 예제 입력 1 \n",
    "6\n",
    "##### 예제 출력 1 \n",
    "4"
   ]
  },
  {
   "cell_type": "code",
   "execution_count": 1,
   "id": "a1fccd89",
   "metadata": {},
   "outputs": [
    {
     "name": "stdout",
     "output_type": "stream",
     "text": [
      "6\n",
      "4\n"
     ]
    }
   ],
   "source": [
    "n = int(input())\n",
    "\n",
    "cards = list(range(1, n + 1))\n",
    "\n",
    "while len(cards) > 1:\n",
    "    cards.pop(0)\n",
    "    card = cards.pop(0)\n",
    "    cards.append(card)\n",
    "print(cards[0])"
   ]
  },
  {
   "cell_type": "code",
   "execution_count": 18,
   "id": "c75a733a",
   "metadata": {},
   "outputs": [
    {
     "name": "stdout",
     "output_type": "stream",
     "text": [
      "7\n",
      "6\n"
     ]
    }
   ],
   "source": [
    "n = int(input())\n",
    "\n",
    "cards = list(range(1, n + 1))\n",
    "\n",
    "while len(cards) > 1:\n",
    "    n = len(cards)\n",
    "    if n % 2 == 1:\n",
    "        ls = cards[1:n:2]\n",
    "        if len(ls) != 1:\n",
    "            p = ls.pop(0)\n",
    "            ls.append(p)\n",
    "        cards = ls\n",
    "    else:\n",
    "        if n == 2:\n",
    "            cards.pop(0)\n",
    "        else:\n",
    "            cards = cards[1:n:2]\n",
    "print(cards[0])"
   ]
  },
  {
   "cell_type": "code",
   "execution_count": null,
   "id": "ebede0e1",
   "metadata": {},
   "outputs": [],
   "source": []
  },
  {
   "cell_type": "code",
   "execution_count": null,
   "id": "e990f72d",
   "metadata": {},
   "outputs": [],
   "source": []
  }
 ],
 "metadata": {
  "kernelspec": {
   "display_name": "Python 3 (ipykernel)",
   "language": "python",
   "name": "python3"
  },
  "language_info": {
   "codemirror_mode": {
    "name": "ipython",
    "version": 3
   },
   "file_extension": ".py",
   "mimetype": "text/x-python",
   "name": "python",
   "nbconvert_exporter": "python",
   "pygments_lexer": "ipython3",
   "version": "3.8.10"
  }
 },
 "nbformat": 4,
 "nbformat_minor": 5
}
