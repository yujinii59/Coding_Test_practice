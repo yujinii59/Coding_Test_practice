{
 "cells": [
  {
   "cell_type": "markdown",
   "id": "f9db90a7",
   "metadata": {},
   "source": [
    "#### 문제\n",
    "N개의 도시가 있다. 그리고 한 도시에서 출발하여 다른 도시에 도착하는 M개의 버스가 있다. 우리는 A번째 도시에서 B번째 도시까지 가는데 드는 버스 비용을 최소화 시키려고 한다. A번째 도시에서 B번째 도시까지 가는데 드는 최소비용을 출력하여라. 도시의 번호는 1부터 N까지이다.\n",
    "\n",
    "#### 입력\n",
    "첫째 줄에 도시의 개수 N(1 ≤ N ≤ 1,000)이 주어지고 둘째 줄에는 버스의 개수 M(1 ≤ M ≤ 100,000)이 주어진다. 그리고 셋째 줄부터 M+2줄까지 다음과 같은 버스의 정보가 주어진다. 먼저 처음에는 그 버스의 출발 도시의 번호가 주어진다. 그리고 그 다음에는 도착지의 도시 번호가 주어지고 또 그 버스 비용이 주어진다. 버스 비용은 0보다 크거나 같고, 100,000보다 작은 정수이다.\n",
    "\n",
    "그리고 M+3째 줄에는 우리가 구하고자 하는 구간 출발점의 도시번호와 도착점의 도시번호가 주어진다. 출발점에서 도착점을 갈 수 있는 경우만 입력으로 주어진다.\n",
    "\n",
    "#### 출력\n",
    "첫째 줄에 출발 도시에서 도착 도시까지 가는데 드는 최소 비용을 출력한다.\n",
    "\n",
    "#### 예제 입력 1 \n",
    "5\n",
    "\n",
    "8\n",
    "\n",
    "1 2 2\n",
    "\n",
    "1 3 3\n",
    "\n",
    "1 4 1\n",
    "\n",
    "1 5 10\n",
    "\n",
    "2 4 2\n",
    "\n",
    "3 4 1\n",
    "\n",
    "3 5 1\n",
    "\n",
    "4 5 3\n",
    "\n",
    "1 5\n",
    "#### 예제 출력 1 \n",
    "4"
   ]
  },
  {
   "cell_type": "code",
   "execution_count": 1,
   "id": "6404e811",
   "metadata": {},
   "outputs": [
    {
     "name": "stdout",
     "output_type": "stream",
     "text": [
      "5\n",
      "8\n",
      "1 2 2\n",
      "1 3 3\n",
      "1 4 1\n",
      "1 5 10\n",
      "2 4 2\n",
      "3 4 1\n",
      "3 5 1\n",
      "4 5 3\n",
      "1 5\n",
      "4\n"
     ]
    }
   ],
   "source": [
    "import heapq\n",
    "\n",
    "n = int(input())\n",
    "m = int(input())\n",
    "routes = {i+1: [] for i in range(n)}\n",
    "for _ in range(m):\n",
    "    a, b, cost = map(int, input().split())\n",
    "    routes[a].append((cost, b))\n",
    "    \n",
    "a, b = map(int, input().split())\n",
    "\n",
    "visited = [0 for _ in range(n+1)]\n",
    "q = []\n",
    "heapq.heappush(q, (0, a))\n",
    "while q:\n",
    "    cost, city = heapq.heappop(q)\n",
    "    if city == b:\n",
    "        print(cost)\n",
    "        break\n",
    "    \n",
    "    if visited[city] == 0:\n",
    "        visited[city] = 1\n",
    "        \n",
    "        for c, to in routes[city]:\n",
    "            if visited[to] == 0:\n",
    "                heapq.heappush(q, (cost + c, to))\n",
    "                "
   ]
  },
  {
   "cell_type": "code",
   "execution_count": null,
   "id": "9d88528c",
   "metadata": {},
   "outputs": [],
   "source": []
  }
 ],
 "metadata": {
  "kernelspec": {
   "display_name": "Python 3 (ipykernel)",
   "language": "python",
   "name": "python3"
  },
  "language_info": {
   "codemirror_mode": {
    "name": "ipython",
    "version": 3
   },
   "file_extension": ".py",
   "mimetype": "text/x-python",
   "name": "python",
   "nbconvert_exporter": "python",
   "pygments_lexer": "ipython3",
   "version": "3.8.10"
  }
 },
 "nbformat": 4,
 "nbformat_minor": 5
}
