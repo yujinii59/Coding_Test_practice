{
 "cells": [
  {
   "cell_type": "markdown",
   "id": "a4e92ced",
   "metadata": {},
   "source": [
    "#### 문제\n",
    "주어진 수 N개 중에서 소수가 몇 개인지 찾아서 출력하는 프로그램을 작성하시오.\n",
    "\n",
    "#### 입력\n",
    "첫 줄에 수의 개수 N이 주어진다. N은 100이하이다. 다음으로 N개의 수가 주어지는데 수는 1,000 이하의 자연수이다.\n",
    "\n",
    "#### 출력\n",
    "주어진 수들 중 소수의 개수를 출력한다.\n",
    "\n",
    "예제 입력 1 \n",
    "\n",
    "4\n",
    "\n",
    "1 3 5 7\n",
    "\n",
    "예제 출력 1 \n",
    "\n",
    "3"
   ]
  },
  {
   "cell_type": "code",
   "execution_count": 1,
   "id": "a21eb1a6",
   "metadata": {},
   "outputs": [
    {
     "name": "stdout",
     "output_type": "stream",
     "text": [
      "4\n",
      "1 3 5 7\n",
      "3\n"
     ]
    }
   ],
   "source": [
    "def prime_num(n):\n",
    "    if n < 2:\n",
    "        return 0\n",
    "    elif n % 2 == 0:\n",
    "        if n == 2:\n",
    "            return 1\n",
    "        return 0\n",
    "    else:\n",
    "        for i in range(3, n, 2):\n",
    "            if n % i == 0:\n",
    "                return 0\n",
    "        return 1\n",
    "n = int(input())\n",
    "nums = list(map(int, input().split()))\n",
    "cnt = 0\n",
    "for num in nums:\n",
    "    cnt += prime_num(num)\n",
    "print(cnt)"
   ]
  },
  {
   "cell_type": "code",
   "execution_count": null,
   "id": "fe9129e3",
   "metadata": {},
   "outputs": [],
   "source": []
  }
 ],
 "metadata": {
  "kernelspec": {
   "display_name": "Python 3 (ipykernel)",
   "language": "python",
   "name": "python3"
  },
  "language_info": {
   "codemirror_mode": {
    "name": "ipython",
    "version": 3
   },
   "file_extension": ".py",
   "mimetype": "text/x-python",
   "name": "python",
   "nbconvert_exporter": "python",
   "pygments_lexer": "ipython3",
   "version": "3.8.10"
  }
 },
 "nbformat": 4,
 "nbformat_minor": 5
}
