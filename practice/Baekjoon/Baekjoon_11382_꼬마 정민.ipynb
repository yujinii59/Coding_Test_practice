{
 "cells": [
  {
   "cell_type": "markdown",
   "id": "618bae05",
   "metadata": {},
   "source": [
    "#### 문제\n",
    "꼬마 정민이는 이제 A + B 정도는 쉽게 계산할 수 있다. 이제 A + B + C를 계산할 차례이다!\n",
    "\n",
    "#### 입력\n",
    "첫 번째 줄에 A, B, C (1 ≤ A, B, C ≤ 1012)이 공백을 사이에 두고 주어진다.\n",
    "\n",
    "#### 출력\n",
    "A+B+C의 값을 출력한다.\n",
    "\n",
    "#### 예제 입력 1 \n",
    "77 77 7777\n",
    "\n",
    "#### 예제 출력 1 \n",
    "7931"
   ]
  },
  {
   "cell_type": "code",
   "execution_count": 1,
   "id": "302b9c9f",
   "metadata": {},
   "outputs": [
    {
     "name": "stdout",
     "output_type": "stream",
     "text": [
      "77 77 7777\n",
      "7931\n"
     ]
    }
   ],
   "source": [
    "print(sum(map(int, input().split())))"
   ]
  },
  {
   "cell_type": "code",
   "execution_count": null,
   "id": "de6b98e8",
   "metadata": {},
   "outputs": [],
   "source": []
  }
 ],
 "metadata": {
  "kernelspec": {
   "display_name": "Python 3 (ipykernel)",
   "language": "python",
   "name": "python3"
  },
  "language_info": {
   "codemirror_mode": {
    "name": "ipython",
    "version": 3
   },
   "file_extension": ".py",
   "mimetype": "text/x-python",
   "name": "python",
   "nbconvert_exporter": "python",
   "pygments_lexer": "ipython3",
   "version": "3.8.10"
  }
 },
 "nbformat": 4,
 "nbformat_minor": 5
}
