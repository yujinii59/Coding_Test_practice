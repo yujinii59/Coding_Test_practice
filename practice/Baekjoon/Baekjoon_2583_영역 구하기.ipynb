{
 "cells": [
  {
   "cell_type": "markdown",
   "id": "95a0343e",
   "metadata": {},
   "source": [
    "#### 문제\n",
    "눈금의 간격이 1인 M×N(M,N≤100)크기의 모눈종이가 있다. 이 모눈종이 위에 눈금에 맞추어 K개의 직사각형을 그릴 때, 이들 K개의 직사각형의 내부를 제외한 나머지 부분이 몇 개의 분리된 영역으로 나누어진다.\n",
    "\n",
    "예를 들어 M=5, N=7 인 모눈종이 위에 <그림 1>과 같이 직사각형 3개를 그렸다면, 그 나머지 영역은 <그림 2>와 같이 3개의 분리된 영역으로 나누어지게 된다.\n",
    "\n",
    "\n",
    "\n",
    "<그림 2>와 같이 분리된 세 영역의 넓이는 각각 1, 7, 13이 된다.\n",
    "\n",
    "M, N과 K 그리고 K개의 직사각형의 좌표가 주어질 때, K개의 직사각형 내부를 제외한 나머지 부분이 몇 개의 분리된 영역으로 나누어지는지, 그리고 분리된 각 영역의 넓이가 얼마인지를 구하여 이를 출력하는 프로그램을 작성하시오.\n",
    "\n",
    "#### 입력\n",
    "첫째 줄에 M과 N, 그리고 K가 빈칸을 사이에 두고 차례로 주어진다. M, N, K는 모두 100 이하의 자연수이다. 둘째 줄부터 K개의 줄에는 한 줄에 하나씩 직사각형의 왼쪽 아래 꼭짓점의 x, y좌표값과 오른쪽 위 꼭짓점의 x, y좌표값이 빈칸을 사이에 두고 차례로 주어진다. 모눈종이의 왼쪽 아래 꼭짓점의 좌표는 (0,0)이고, 오른쪽 위 꼭짓점의 좌표는(N,M)이다. 입력되는 K개의 직사각형들이 모눈종이 전체를 채우는 경우는 없다.\n",
    "\n",
    "#### 출력\n",
    "첫째 줄에 분리되어 나누어지는 영역의 개수를 출력한다. 둘째 줄에는 각 영역의 넓이를 오름차순으로 정렬하여 빈칸을 사이에 두고 출력한다.\n",
    "\n",
    "#### 예제 입력 1 \n",
    "5 7 3\n",
    "\n",
    "0 2 4 4\n",
    "\n",
    "1 1 2 5\n",
    "\n",
    "4 0 6 2\n",
    "#### 예제 출력 1 \n",
    "3\n",
    "\n",
    "1 7 13"
   ]
  },
  {
   "cell_type": "code",
   "execution_count": null,
   "id": "2f6a1cda",
   "metadata": {},
   "outputs": [],
   "source": [
    "from collections import deque\n",
    "moves = [(-1,0),(1,0),(0,-1),(0,1)]\n",
    "def bfs(row, col):\n",
    "    area = 0\n",
    "    visited[row][col] = 1\n",
    "    q = deque()\n",
    "    q.append((row, col))\n",
    "    while q:\n",
    "        r, c = q.popleft()\n",
    "        area += 1\n",
    "        for move in moves:\n",
    "            move_r = r + move[0]\n",
    "            move_c = c + move[1]\n",
    "            if move_r < 0 or move_r >= m or move_c < 0 or move_c >= n:\n",
    "                continue\n",
    "            if visited[move_r][move_c] == 0:\n",
    "                visited[move_r][move_c] = 1\n",
    "                q.append((move_r, move_c))\n",
    "    return area\n",
    "\n",
    "m, n, k = map(int, input().split())\n",
    "visited = [[0 for _ in range(n)] for _ in range(m)]\n",
    "for _ in range(k):\n",
    "    sc,sr,ec,er = map(int, input().split())\n",
    "    visit = [1] * (ec - sc)\n",
    "    for i in range(sr, er):\n",
    "        visited[i][sc:ec] = visit[:]\n",
    "\n",
    "cnt = 0        \n",
    "areas = []\n",
    "for i in range(m):\n",
    "    for j in range(n):\n",
    "        if visited[i][j] == 0:\n",
    "            cnt += 1\n",
    "            areas.append(bfs(i, j))\n",
    "print(cnt)        \n",
    "print(' '.join(list(map(str, sorted(areas)))))"
   ]
  }
 ],
 "metadata": {
  "kernelspec": {
   "display_name": "Python 3 (ipykernel)",
   "language": "python",
   "name": "python3"
  },
  "language_info": {
   "codemirror_mode": {
    "name": "ipython",
    "version": 3
   },
   "file_extension": ".py",
   "mimetype": "text/x-python",
   "name": "python",
   "nbconvert_exporter": "python",
   "pygments_lexer": "ipython3",
   "version": "3.8.10"
  }
 },
 "nbformat": 4,
 "nbformat_minor": 5
}
