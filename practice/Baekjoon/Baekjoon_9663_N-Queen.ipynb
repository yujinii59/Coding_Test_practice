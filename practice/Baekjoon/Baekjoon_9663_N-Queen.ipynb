{
 "cells": [
  {
   "cell_type": "markdown",
   "id": "582f81a1",
   "metadata": {},
   "source": [
    "#### 문제\n",
    "N-Queen 문제는 크기가 N × N인 체스판 위에 퀸 N개를 서로 공격할 수 없게 놓는 문제이다.\n",
    "\n",
    "N이 주어졌을 때, 퀸을 놓는 방법의 수를 구하는 프로그램을 작성하시오.\n",
    "\n",
    "#### 입력\n",
    "첫째 줄에 N이 주어진다. (1 ≤ N < 15)\n",
    "\n",
    "#### 출력\n",
    "첫째 줄에 퀸 N개를 서로 공격할 수 없게 놓는 경우의 수를 출력한다.\n",
    "\n",
    "#### 예제 입력 1 \n",
    "8\n",
    "#### 예제 출력 1 \n",
    "92"
   ]
  },
  {
   "cell_type": "code",
   "execution_count": 1,
   "id": "ef636a08",
   "metadata": {},
   "outputs": [
    {
     "name": "stdout",
     "output_type": "stream",
     "text": [
      "10\n",
      "724\n"
     ]
    }
   ],
   "source": [
    "def nqueen(n, q_list):\n",
    "    l = len(q_list)\n",
    "    cnt = 0\n",
    "    if l == n:\n",
    "        cnt = 1\n",
    "    for j in range(n):\n",
    "        b = True\n",
    "        for i, q in enumerate(q_list):\n",
    "            if l - j == i - q or l + j == i + q or j == q:\n",
    "                b = False\n",
    "                break\n",
    "        \n",
    "        if b:\n",
    "            cnt += nqueen(n, q_list + [j])\n",
    "    return cnt\n",
    "\n",
    "n = int(input())\n",
    "cnt = 0\n",
    "for i in range(n):\n",
    "    ls = [i]\n",
    "    cnt += nqueen(n, ls)\n",
    "    \n",
    "print(cnt)"
   ]
  },
  {
   "cell_type": "code",
   "execution_count": null,
   "id": "ed475d0e",
   "metadata": {},
   "outputs": [],
   "source": []
  }
 ],
 "metadata": {
  "kernelspec": {
   "display_name": "Python 3 (ipykernel)",
   "language": "python",
   "name": "python3"
  },
  "language_info": {
   "codemirror_mode": {
    "name": "ipython",
    "version": 3
   },
   "file_extension": ".py",
   "mimetype": "text/x-python",
   "name": "python",
   "nbconvert_exporter": "python",
   "pygments_lexer": "ipython3",
   "version": "3.8.10"
  }
 },
 "nbformat": 4,
 "nbformat_minor": 5
}
