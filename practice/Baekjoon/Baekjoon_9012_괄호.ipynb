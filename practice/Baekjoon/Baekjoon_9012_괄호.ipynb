{
 "cells": [
  {
   "cell_type": "markdown",
   "id": "21fae3f7",
   "metadata": {},
   "source": [
    "#### 문제\n",
    "괄호 문자열(Parenthesis String, PS)은 두 개의 괄호 기호인 ‘(’ 와 ‘)’ 만으로 구성되어 있는 문자열이다. 그 중에서 괄호의 모양이 바르게 구성된 문자열을 올바른 괄호 문자열(Valid PS, VPS)이라고 부른다. 한 쌍의 괄호 기호로 된 “( )” 문자열은 기본 VPS 이라고 부른다. 만일 x 가 VPS 라면 이것을 하나의 괄호에 넣은 새로운 문자열 “(x)”도 VPS 가 된다. 그리고 두 VPS x 와 y를 접합(concatenation)시킨 새로운 문자열 xy도 VPS 가 된다. 예를 들어 “(())()”와 “((()))” 는 VPS 이지만 “(()(”, “(())()))” , 그리고 “(()” 는 모두 VPS 가 아닌 문자열이다. \n",
    "\n",
    "여러분은 입력으로 주어진 괄호 문자열이 VPS 인지 아닌지를 판단해서 그 결과를 YES 와 NO 로 나타내어야 한다. \n",
    "\n",
    "#### 입력\n",
    "입력 데이터는 표준 입력을 사용한다. 입력은 T개의 테스트 데이터로 주어진다. 입력의 첫 번째 줄에는 입력 데이터의 수를 나타내는 정수 T가 주어진다. 각 테스트 데이터의 첫째 줄에는 괄호 문자열이 한 줄에 주어진다. 하나의 괄호 문자열의 길이는 2 이상 50 이하이다. \n",
    "\n",
    "#### 출력\n",
    "출력은 표준 출력을 사용한다. 만일 입력 괄호 문자열이 올바른 괄호 문자열(VPS)이면 “YES”, 아니면 “NO”를 한 줄에 하나씩 차례대로 출력해야 한다. \n",
    "\n",
    "##### 예제 입력 1 \n",
    "\n",
    "6\n",
    "\n",
    "(())())\n",
    "\n",
    "(((()())()\n",
    "\n",
    "(()())((()))\n",
    "\n",
    "((()()(()))(((())))()\n",
    "\n",
    "()()()()(()()())()\n",
    "\n",
    "(()((())()(\n",
    "\n",
    "##### 예제 출력 1 \n",
    "NO\n",
    "\n",
    "NO\n",
    "\n",
    "YES\n",
    "\n",
    "NO\n",
    "\n",
    "YES\n",
    "\n",
    "NO\n",
    "\n",
    "##### 예제 입력 2 \n",
    "3\n",
    "\n",
    "((\n",
    "\n",
    "))\n",
    "\n",
    "())(()\n",
    "\n",
    "##### 예제 출력 2 \n",
    "NO\n",
    "\n",
    "NO\n",
    "\n",
    "NO"
   ]
  },
  {
   "cell_type": "code",
   "execution_count": 2,
   "id": "76a21784",
   "metadata": {},
   "outputs": [
    {
     "name": "stdout",
     "output_type": "stream",
     "text": [
      "3\n",
      "((\n",
      "))\n",
      "())(()\n",
      "NO\n",
      "NO\n",
      "NO\n"
     ]
    }
   ],
   "source": [
    "n = int(input())\n",
    "answer = []\n",
    "for _ in range(n):\n",
    "    inp = input()\n",
    "    p = 0\n",
    "    for i in inp:\n",
    "        if i == '(':\n",
    "            p += 1\n",
    "        elif i == ')':\n",
    "            p -= 1\n",
    "            \n",
    "        if p < 0:\n",
    "            break\n",
    "    if p == 0:\n",
    "        answer.append(True)\n",
    "    else:\n",
    "        answer.append(False)\n",
    "\n",
    "for ans in answer:\n",
    "    if ans:\n",
    "        print('YES')\n",
    "    else:\n",
    "        print('NO')"
   ]
  },
  {
   "cell_type": "code",
   "execution_count": null,
   "id": "480a8acc",
   "metadata": {},
   "outputs": [],
   "source": []
  }
 ],
 "metadata": {
  "kernelspec": {
   "display_name": "Python 3 (ipykernel)",
   "language": "python",
   "name": "python3"
  },
  "language_info": {
   "codemirror_mode": {
    "name": "ipython",
    "version": 3
   },
   "file_extension": ".py",
   "mimetype": "text/x-python",
   "name": "python",
   "nbconvert_exporter": "python",
   "pygments_lexer": "ipython3",
   "version": "3.8.10"
  }
 },
 "nbformat": 4,
 "nbformat_minor": 5
}
