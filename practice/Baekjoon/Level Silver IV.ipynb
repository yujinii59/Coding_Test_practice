{
 "cells": [
  {
   "cell_type": "markdown",
   "id": "090bdfe8",
   "metadata": {},
   "source": [
    "#### 2217 로프"
   ]
  },
  {
   "cell_type": "code",
   "execution_count": 2,
   "id": "8e6ec0e6",
   "metadata": {},
   "outputs": [
    {
     "name": "stdout",
     "output_type": "stream",
     "text": [
      "2\n",
      "10\n",
      "15\n",
      "20\n"
     ]
    }
   ],
   "source": [
    "n = int(input())\n",
    "rope = sorted([int(input()) for _ in range(n)])\n",
    "max_weight = 0\n",
    "for i in range(n):\n",
    "    max_weight = max(max_weight, (n-i) * rope[i])\n",
    "print(max_weight)"
   ]
  },
  {
   "cell_type": "markdown",
   "id": "cc07922a",
   "metadata": {},
   "source": [
    "#### 10610 30"
   ]
  },
  {
   "cell_type": "code",
   "execution_count": 5,
   "id": "fc607998",
   "metadata": {},
   "outputs": [
    {
     "name": "stdout",
     "output_type": "stream",
     "text": [
      "2930\n",
      "-1\n"
     ]
    }
   ],
   "source": [
    "num_ls = list(map(int, list(input())))\n",
    "if sum(num_ls) % 3 > 0:\n",
    "    print(-1)\n",
    "else:\n",
    "    num_dict = {i:0 for i in range(9, -1, -1)}\n",
    "    for num in num_ls:\n",
    "        num_dict[num] += 1\n",
    "    if num_dict[0] == 0:\n",
    "        print(-1)\n",
    "    else:\n",
    "        for n, cnt in num_dict.items():\n",
    "            print(str(n) * cnt, end='')"
   ]
  },
  {
   "cell_type": "markdown",
   "id": "3a74b359",
   "metadata": {},
   "source": [
    "#### 1049 기타줄"
   ]
  },
  {
   "cell_type": "code",
   "execution_count": 17,
   "id": "57483214",
   "metadata": {},
   "outputs": [
    {
     "name": "stdout",
     "output_type": "stream",
     "text": [
      "9 16\n",
      "21 25\n",
      "77 23\n",
      "23 88\n",
      "95 43\n",
      "96 19\n",
      "59 36\n",
      "80 13\n",
      "51 24\n",
      "15 8\n",
      "25 61\n",
      "21 22\n",
      "3 9\n",
      "68 68\n",
      "67 100\n",
      "83 98\n",
      "96 57\n",
      "6\n"
     ]
    }
   ],
   "source": [
    "from math import ceil\n",
    "\n",
    "n, m = map(int, input().split())\n",
    "whole_strings = 1000\n",
    "each_of_strings = 1000\n",
    "for _ in range(m):\n",
    "    whole, each = map(int, input().split())\n",
    "    whole_strings = min(whole_strings, whole)\n",
    "    each_of_strings = min(each_of_strings, each)\n",
    "\n",
    "if whole_strings < each_of_strings * 6:\n",
    "    money = whole_strings * (n // 6)\n",
    "    if whole_strings < each_of_strings * (n % 6):\n",
    "        money += whole_strings\n",
    "    else:\n",
    "        money += each_of_strings * (n % 6)\n",
    "else:\n",
    "    money = each_of_strings * n\n",
    "    \n",
    "print(money)"
   ]
  },
  {
   "cell_type": "code",
   "execution_count": null,
   "id": "b9ce7722",
   "metadata": {},
   "outputs": [],
   "source": []
  }
 ],
 "metadata": {
  "kernelspec": {
   "display_name": "Python 3 (ipykernel)",
   "language": "python",
   "name": "python3"
  },
  "language_info": {
   "codemirror_mode": {
    "name": "ipython",
    "version": 3
   },
   "file_extension": ".py",
   "mimetype": "text/x-python",
   "name": "python",
   "nbconvert_exporter": "python",
   "pygments_lexer": "ipython3",
   "version": "3.8.10"
  }
 },
 "nbformat": 4,
 "nbformat_minor": 5
}
