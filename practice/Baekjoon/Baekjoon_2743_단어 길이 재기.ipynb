{
 "cells": [
  {
   "cell_type": "markdown",
   "id": "fd24fc2a",
   "metadata": {},
   "source": [
    "#### 문제\n",
    "알파벳으로만 이루어진 단어를 입력받아, 그 길이를 출력하는 프로그램을 작성하시오.\n",
    "\n",
    "#### 입력\n",
    "첫째 줄에 영어 소문자와 대문자로만 이루어진 단어가 주어진다. 단어의 길이는 최대 100이다.\n",
    "\n",
    "#### 출력\n",
    "첫째 줄에 입력으로 주어진 단어의 길이를 출력한다.\n",
    "\n",
    "#### 예제 입력 1 \n",
    "pulljima\n",
    "#### 예제 출력 1 \n",
    "8"
   ]
  },
  {
   "cell_type": "code",
   "execution_count": null,
   "id": "712a373d",
   "metadata": {},
   "outputs": [],
   "source": [
    "a = input()\n",
    "print(len(a))"
   ]
  }
 ],
 "metadata": {
  "kernelspec": {
   "display_name": "Python 3 (ipykernel)",
   "language": "python",
   "name": "python3"
  },
  "language_info": {
   "codemirror_mode": {
    "name": "ipython",
    "version": 3
   },
   "file_extension": ".py",
   "mimetype": "text/x-python",
   "name": "python",
   "nbconvert_exporter": "python",
   "pygments_lexer": "ipython3",
   "version": "3.8.10"
  }
 },
 "nbformat": 4,
 "nbformat_minor": 5
}
