{
 "cells": [
  {
   "cell_type": "markdown",
   "id": "32c7b79d",
   "metadata": {},
   "source": [
    "#### 문제\n",
    " \n",
    "$n \\choose m$의 끝자리 $0$의 개수를 출력하는 프로그램을 작성하시오.\n",
    "\n",
    "#### 입력\n",
    "첫째 줄에 정수 $n$, $m$ ($0 \\le m \\le n \\le 2,000,000,000$, $n \\ne 0$)이 들어온다.\n",
    "\n",
    "#### 출력\n",
    "첫째 줄에 \n",
    "$n \\choose m$의 끝자리 $0$의 개수를 출력한다.\n",
    "\n",
    "#### 예제 입력 1 \n",
    "25 12\n",
    "#### 예제 출력 1 \n",
    "2"
   ]
  },
  {
   "cell_type": "code",
   "execution_count": 1,
   "id": "390d0aff",
   "metadata": {},
   "outputs": [
    {
     "name": "stdout",
     "output_type": "stream",
     "text": [
      "25 12\n",
      "2\n"
     ]
    }
   ],
   "source": [
    "n, m = map(int, input().split())\n",
    "\n",
    "m1 = m\n",
    "m2 = n - m\n",
    "\n",
    "ls = [n, m1, m2]\n",
    "div_2 = []\n",
    "div_5 = []\n",
    "for num in ls:\n",
    "    num_2 = num\n",
    "    num_5 = num\n",
    "    d_2 = 0\n",
    "    d_5 = 0\n",
    "    while num_2 > 1:\n",
    "        num_2 //= 2\n",
    "        d_2 += num_2\n",
    "    div_2.append(d_2)\n",
    "    \n",
    "    while num_5 > 1:\n",
    "        num_5 //= 5\n",
    "        d_5 += num_5\n",
    "    div_5.append(d_5)\n",
    "    \n",
    "print(min(div_2[0] - div_2[1] - div_2[2], div_5[0] - div_5[1] - div_5[2]))\n",
    "\n"
   ]
  },
  {
   "cell_type": "code",
   "execution_count": null,
   "id": "c0ce2cfe",
   "metadata": {},
   "outputs": [],
   "source": []
  }
 ],
 "metadata": {
  "kernelspec": {
   "display_name": "Python 3 (ipykernel)",
   "language": "python",
   "name": "python3"
  },
  "language_info": {
   "codemirror_mode": {
    "name": "ipython",
    "version": 3
   },
   "file_extension": ".py",
   "mimetype": "text/x-python",
   "name": "python",
   "nbconvert_exporter": "python",
   "pygments_lexer": "ipython3",
   "version": "3.8.10"
  }
 },
 "nbformat": 4,
 "nbformat_minor": 5
}
