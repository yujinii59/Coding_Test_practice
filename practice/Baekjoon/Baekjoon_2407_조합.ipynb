{
 "cells": [
  {
   "cell_type": "markdown",
   "id": "9ca11bef",
   "metadata": {},
   "source": [
    "#### 문제\n",
    "nCm을 출력한다.\n",
    "\n",
    "#### 입력\n",
    "n과 m이 주어진다. (5 ≤ n ≤ 100, 5 ≤ m ≤ 100, m ≤ n)\n",
    "\n",
    "#### 출력\n",
    "nCm을 출력한다.\n",
    "\n",
    "#### 예제 입력 1 \n",
    "100 6\n",
    "#### 예제 출력 1 \n",
    "1192052400"
   ]
  },
  {
   "cell_type": "code",
   "execution_count": null,
   "id": "084f2cb3",
   "metadata": {},
   "outputs": [],
   "source": [
    "from math import factorial\n",
    "\n",
    "n, m = map(int, input().split())\n",
    "print(factorial(n) // (factorial(m) * factorial(n-m)))"
   ]
  }
 ],
 "metadata": {
  "kernelspec": {
   "display_name": "Python 3 (ipykernel)",
   "language": "python",
   "name": "python3"
  },
  "language_info": {
   "codemirror_mode": {
    "name": "ipython",
    "version": 3
   },
   "file_extension": ".py",
   "mimetype": "text/x-python",
   "name": "python",
   "nbconvert_exporter": "python",
   "pygments_lexer": "ipython3",
   "version": "3.8.10"
  }
 },
 "nbformat": 4,
 "nbformat_minor": 5
}
