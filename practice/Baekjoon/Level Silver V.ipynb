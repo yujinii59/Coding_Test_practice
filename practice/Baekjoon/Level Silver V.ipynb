{
 "cells": [
  {
   "cell_type": "markdown",
   "id": "baa7862a",
   "metadata": {},
   "source": [
    "#### 23253 자료구조는 정말 최고야"
   ]
  },
  {
   "cell_type": "code",
   "execution_count": 6,
   "id": "9d2cdebb",
   "metadata": {},
   "outputs": [
    {
     "name": "stdout",
     "output_type": "stream",
     "text": [
      "5 2\n",
      "3\n",
      "3 5 1\n",
      "False\n",
      "2 \n",
      "4 2\n",
      "False\n",
      "No\n"
     ]
    }
   ],
   "source": [
    "n, m = map(int, input().split())\n",
    "b = True\n",
    "for _ in range(m):\n",
    "    k = int(input())\n",
    "    books = list(map(int, input().split()))\n",
    "    if b:\n",
    "        for i in range(k-1):\n",
    "            if books[i] < books[i+1]:\n",
    "                b = False\n",
    "                break\n",
    "    \n",
    "\n",
    "if b:\n",
    "    print('Yes')\n",
    "else:\n",
    "    print('No')"
   ]
  },
  {
   "cell_type": "markdown",
   "id": "f90af363",
   "metadata": {},
   "source": [
    "#### 2161 카드1"
   ]
  },
  {
   "cell_type": "code",
   "execution_count": 3,
   "id": "e6421c78",
   "metadata": {},
   "outputs": [
    {
     "name": "stdout",
     "output_type": "stream",
     "text": [
      "7\n",
      "1 3 5 7 4 2 6 "
     ]
    }
   ],
   "source": [
    "from collections import deque\n",
    "n = int(input())\n",
    "cards = deque(list(range(1, n+1)))\n",
    "i = 0\n",
    "while cards:\n",
    "    card = cards.popleft()\n",
    "    if i % 2 == 0:\n",
    "        print(card, end=' ')\n",
    "    else:\n",
    "        cards.append(card)\n",
    "    i += 1"
   ]
  },
  {
   "cell_type": "markdown",
   "id": "3ea8330b",
   "metadata": {},
   "source": [
    "#### 4659 비밀번호 발음하기"
   ]
  },
  {
   "cell_type": "code",
   "execution_count": 4,
   "id": "4244e205",
   "metadata": {},
   "outputs": [
    {
     "name": "stdout",
     "output_type": "stream",
     "text": [
      "a\n",
      "True True\n",
      "<a> is acceptable.\n",
      "tv\n",
      "True False\n",
      "<tv> is not acceptable.\n",
      "ptoui\n",
      "False True\n",
      "<ptoui> is not acceptable.\n",
      "bontres\n",
      "False True\n",
      "<bontres> is not acceptable.\n",
      "zoggax\n",
      "False True\n",
      "<zoggax> is not acceptable.\n",
      "wiinq\n",
      "False True\n",
      "<wiinq> is not acceptable.\n",
      "eep\n",
      "True True\n",
      "<eep> is acceptable.\n",
      "houctuh\n",
      "True True\n",
      "<houctuh> is acceptable.\n",
      "end\n"
     ]
    }
   ],
   "source": [
    "vowels = ['a','e','i','o','u']\n",
    "while True:\n",
    "    v_contain = False\n",
    "    v_cnt = 0\n",
    "    c_cnt = 0\n",
    "    prev = ''\n",
    "    b = True\n",
    "    pwd = input()\n",
    "    if pwd == 'end':\n",
    "        break\n",
    "    for p in pwd:\n",
    "        if prev == p:\n",
    "            if p != 'e' and p != 'o':\n",
    "                b = False\n",
    "                break\n",
    "                \n",
    "        if p in vowels:\n",
    "            v_contain = True\n",
    "            v_cnt += 1\n",
    "            c_cnt = 0\n",
    "        else:\n",
    "            c_cnt += 1\n",
    "            v_cnt = 0\n",
    "        \n",
    "        if v_cnt >= 3 or c_cnt >= 3:\n",
    "            b = False\n",
    "            break\n",
    "            \n",
    "        prev = p\n",
    "    if b:\n",
    "        if v_contain:\n",
    "            print(f'<{pwd}> is acceptable.')\n",
    "        else:\n",
    "            print(f'<{pwd}> is not acceptable.')\n",
    "    else:\n",
    "        print(f'<{pwd}> is not acceptable.')"
   ]
  },
  {
   "cell_type": "markdown",
   "id": "fc0876a0",
   "metadata": {},
   "source": [
    "#### 16171 나는 친구가 적다 (Small)"
   ]
  },
  {
   "cell_type": "code",
   "execution_count": null,
   "id": "70c97850",
   "metadata": {},
   "outputs": [],
   "source": [
    "book = input()\n",
    "s = ''\n",
    "for b in book:\n",
    "    if b.isalpha():\n",
    "        s += b\n",
    "if input() in s:\n",
    "    print(1)\n",
    "else:\n",
    "    print(0)"
   ]
  },
  {
   "cell_type": "markdown",
   "id": "7391b9e1",
   "metadata": {},
   "source": [
    "#### 5671 호텔 방 번호"
   ]
  },
  {
   "cell_type": "code",
   "execution_count": null,
   "id": "e6fa2158",
   "metadata": {},
   "outputs": [],
   "source": [
    "while True:\n",
    "    try:\n",
    "        n, m = map(int, input().split())\n",
    "        cnt = 0\n",
    "        for num in range(n, m+1):\n",
    "            num = str(num)\n",
    "            l = len(num)\n",
    "            s_l = len(set(num))\n",
    "            if l == s_l:\n",
    "                cnt += 1\n",
    "        print(cnt)\n",
    "        \n",
    "    except:\n",
    "        break"
   ]
  },
  {
   "cell_type": "markdown",
   "id": "c640555d",
   "metadata": {},
   "source": [
    "#### 4796 캠핑"
   ]
  },
  {
   "cell_type": "code",
   "execution_count": 51,
   "id": "50f29a70",
   "metadata": {},
   "outputs": [
    {
     "name": "stdout",
     "output_type": "stream",
     "text": [
      "5 8 20\n",
      "Case 1: 14\n",
      "5 8 17\n",
      "Case 2: 11\n",
      "0 0 0\n"
     ]
    }
   ],
   "source": [
    "i = 0\n",
    "while True:\n",
    "    i += 1\n",
    "    l, p, v = map(int, input().split())\n",
    "    if l == 0 and p == 0 and v == 0:\n",
    "        break\n",
    "    if v % p == 0:\n",
    "        print(f'Case {i}: {(v // p) * l}')\n",
    "    else:\n",
    "        if v % p >= l:\n",
    "            print(f'Case {i}: {(v // p) * l + l}')\n",
    "        else:\n",
    "            print(f'Case {i}: {(v // p) * l + (v % p)}')"
   ]
  },
  {
   "cell_type": "markdown",
   "id": "21a80e5f",
   "metadata": {},
   "source": [
    "#### 2828 사과 담기 게임"
   ]
  },
  {
   "cell_type": "code",
   "execution_count": 49,
   "id": "bdb5b84b",
   "metadata": {},
   "outputs": [
    {
     "name": "stdout",
     "output_type": "stream",
     "text": [
      "5 2\n",
      "4 \n",
      "1\n",
      "5\n",
      "1\n",
      "5\n",
      "9\n"
     ]
    }
   ],
   "source": [
    "n, m = map(int, input().split())\n",
    "start = 1\n",
    "end = m\n",
    "j = int(input())\n",
    "dist = 0\n",
    "for _ in range(j):\n",
    "    apple = int(input())\n",
    "    if apple < start:\n",
    "        d = start - apple\n",
    "        dist += d\n",
    "        end -= d\n",
    "        start -= d\n",
    "    elif apple > end:\n",
    "        d = apple - end\n",
    "        dist += d\n",
    "        end += d\n",
    "        start += d\n",
    "        \n",
    "print(dist)"
   ]
  },
  {
   "cell_type": "markdown",
   "id": "98244eff",
   "metadata": {},
   "source": [
    "#### 1817 짐 챙기는 숌"
   ]
  },
  {
   "cell_type": "code",
   "execution_count": 45,
   "id": "3338666f",
   "metadata": {},
   "outputs": [
    {
     "name": "stdout",
     "output_type": "stream",
     "text": [
      "11 12\n",
      "12 1 11 2 10 3 4 5 6 6 1\n",
      "6\n"
     ]
    }
   ],
   "source": [
    "n, m = map(int, input().split())\n",
    "if n > 0:\n",
    "    weights = list(map(int, input().split()))\n",
    "else:\n",
    "    weights = []\n",
    "cnt = 0\n",
    "while weights:\n",
    "    cnt += 1\n",
    "    weight = 0\n",
    "    while weight + weights[0] <= m:\n",
    "        weight += weights.pop(0)\n",
    "        if weights == []:\n",
    "            break\n",
    "print(cnt)"
   ]
  },
  {
   "cell_type": "code",
   "execution_count": 31,
   "id": "0e425feb",
   "metadata": {},
   "outputs": [
    {
     "data": {
      "text/plain": [
       "0"
      ]
     },
     "execution_count": 31,
     "metadata": {},
     "output_type": "execute_result"
    }
   ],
   "source": [
    "ls = [0]\n",
    "ls[-1]"
   ]
  },
  {
   "cell_type": "markdown",
   "id": "2304298f",
   "metadata": {},
   "source": [
    "#### 1417 국회의원 선거"
   ]
  },
  {
   "cell_type": "code",
   "execution_count": 5,
   "id": "fb3ba968",
   "metadata": {},
   "outputs": [
    {
     "name": "stdout",
     "output_type": "stream",
     "text": [
      "5\n",
      "5\n",
      "10\n",
      "7\n",
      "3\n",
      "8\n",
      "4\n"
     ]
    }
   ],
   "source": [
    "import heapq\n",
    "n = int(input())\n",
    "dasom = -1 * int(input())\n",
    "q = []\n",
    "for _ in range(n-1):\n",
    "    heapq.heappush(q, -1 * int(input()))\n",
    "\n",
    "cnt = 0\n",
    "if n > 1:\n",
    "    while q:\n",
    "        vote = heapq.heappop(q)\n",
    "        if dasom >= vote:\n",
    "            dasom -= 1\n",
    "            heapq.heappush(q, vote+1)\n",
    "            cnt += 1\n",
    "        else:\n",
    "            break\n",
    "    \n",
    "print(cnt)"
   ]
  },
  {
   "cell_type": "markdown",
   "id": "b302f17a",
   "metadata": {},
   "source": [
    "#### 1439 뒤집기"
   ]
  },
  {
   "cell_type": "code",
   "execution_count": null,
   "id": "b18574cc",
   "metadata": {},
   "outputs": [],
   "source": [
    "cnt = [0,0]\n",
    "target = 0\n",
    "s = input()\n",
    "prev = s[0]\n",
    "for ss in s:\n",
    "    if ss != prev:\n",
    "        cnt[target] += 1\n",
    "        target = (target + 1) % 2\n",
    "        prev = ss\n",
    "print(max(cnt))"
   ]
  },
  {
   "cell_type": "markdown",
   "id": "9386fc53",
   "metadata": {},
   "source": [
    "#### 1789 수들의 합"
   ]
  },
  {
   "cell_type": "code",
   "execution_count": 25,
   "id": "b580d04e",
   "metadata": {},
   "outputs": [
    {
     "name": "stdout",
     "output_type": "stream",
     "text": [
      "66\n",
      "11\n"
     ]
    }
   ],
   "source": [
    "n = int(input())\n",
    "tmp = int((2 * n) ** 0.5)\n",
    "rng = [tmp-1, tmp, tmp+1]\n",
    "for i in range(3):\n",
    "    hap = rng[i] * (rng[i] + 1)\n",
    "    if hap > 2 * n:\n",
    "        print(rng[i-1])\n",
    "        break"
   ]
  },
  {
   "cell_type": "markdown",
   "id": "e2f814f4",
   "metadata": {},
   "source": [
    "#### 10826 피보나치 수 4"
   ]
  },
  {
   "cell_type": "code",
   "execution_count": null,
   "id": "473612f2",
   "metadata": {},
   "outputs": [],
   "source": [
    "def fibonacci(num):\n",
    "    if num < 2:\n",
    "        dp[num] = num\n",
    "    else:\n",
    "        dp[num] = dp[num-1] + dp[num-2]\n",
    "        \n",
    "n = int(input())\n",
    "dp = [0 for _ in range(n+1)]\n",
    "for i in range(n+1):\n",
    "    fibonacci(i)\n",
    "print(dp[n])"
   ]
  },
  {
   "cell_type": "markdown",
   "id": "7c62fe5e",
   "metadata": {},
   "source": [
    "#### 13301 타일 장식물"
   ]
  },
  {
   "cell_type": "code",
   "execution_count": 4,
   "id": "6378dc45",
   "metadata": {},
   "outputs": [
    {
     "name": "stdout",
     "output_type": "stream",
     "text": [
      "6\n",
      "42\n"
     ]
    }
   ],
   "source": [
    "def fibonacci(num):\n",
    "    if num < 2:\n",
    "        dp[num] = 1\n",
    "    else:\n",
    "        dp[num] = dp[num-1] + dp[num-2]\n",
    "\n",
    "n = int(input())        \n",
    "dp = [0 for _ in range(n+1)]\n",
    "for i in range(n+1):\n",
    "    fibonacci(i)\n",
    "print(2 * (dp[n] + dp[n-1]))"
   ]
  },
  {
   "cell_type": "markdown",
   "id": "a2580f7c",
   "metadata": {},
   "source": [
    "#### 1343 폴리오미노 "
   ]
  },
  {
   "cell_type": "code",
   "execution_count": 5,
   "id": "f60fdd73",
   "metadata": {},
   "outputs": [
    {
     "name": "stdout",
     "output_type": "stream",
     "text": [
      "XX.XXXXXXXXXX..XXXXXXXX...XXXXXX\n",
      "BB.AAAAAAAABB..AAAAAAAA...AAAABB\n"
     ]
    }
   ],
   "source": [
    "board = input()\n",
    "l = len(board)\n",
    "ss = ''\n",
    "cnt = 0\n",
    "boolean = True\n",
    "for i, b in enumerate(board):\n",
    "    if b == 'X':\n",
    "        cnt += 1\n",
    "        if i == l - 1:\n",
    "            if cnt % 2 == 1:\n",
    "                boolean = False\n",
    "                break\n",
    "            ss += 'AAAA' * (cnt // 4) + 'BB' * ((cnt % 4) // 2)\n",
    "    else:\n",
    "        if cnt % 2 == 1:\n",
    "            boolean = False\n",
    "            break\n",
    "        if cnt > 0:\n",
    "            ss += 'AAAA' * (cnt // 4) + 'BB' * ((cnt % 4) // 2)\n",
    "            cnt = 0\n",
    "        ss += '.'\n",
    "        \n",
    "if boolean:\n",
    "    print(ss)\n",
    "else:\n",
    "    print(-1)"
   ]
  },
  {
   "cell_type": "code",
   "execution_count": null,
   "id": "d0a51504",
   "metadata": {},
   "outputs": [],
   "source": []
  }
 ],
 "metadata": {
  "kernelspec": {
   "display_name": "Python 3 (ipykernel)",
   "language": "python",
   "name": "python3"
  },
  "language_info": {
   "codemirror_mode": {
    "name": "ipython",
    "version": 3
   },
   "file_extension": ".py",
   "mimetype": "text/x-python",
   "name": "python",
   "nbconvert_exporter": "python",
   "pygments_lexer": "ipython3",
   "version": "3.8.10"
  }
 },
 "nbformat": 4,
 "nbformat_minor": 5
}
