{
 "cells": [
  {
   "cell_type": "markdown",
   "id": "e2f814f4",
   "metadata": {},
   "source": [
    "#### 10826 피보나치 수 4"
   ]
  },
  {
   "cell_type": "code",
   "execution_count": null,
   "id": "473612f2",
   "metadata": {},
   "outputs": [],
   "source": [
    "def fibonacci(num):\n",
    "    if num < 2:\n",
    "        dp[num] = num\n",
    "    else:\n",
    "        dp[num] = dp[num-1] + dp[num-2]\n",
    "        \n",
    "n = int(input())\n",
    "dp = [0 for _ in range(n+1)]\n",
    "for i in range(n+1):\n",
    "    fibonacci(i)\n",
    "print(dp[n])"
   ]
  }
 ],
 "metadata": {
  "kernelspec": {
   "display_name": "Python 3 (ipykernel)",
   "language": "python",
   "name": "python3"
  },
  "language_info": {
   "codemirror_mode": {
    "name": "ipython",
    "version": 3
   },
   "file_extension": ".py",
   "mimetype": "text/x-python",
   "name": "python",
   "nbconvert_exporter": "python",
   "pygments_lexer": "ipython3",
   "version": "3.8.10"
  }
 },
 "nbformat": 4,
 "nbformat_minor": 5
}
