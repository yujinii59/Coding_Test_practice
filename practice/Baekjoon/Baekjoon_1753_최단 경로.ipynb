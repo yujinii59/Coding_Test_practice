{
 "cells": [
  {
   "cell_type": "markdown",
   "id": "90f2e4de",
   "metadata": {},
   "source": [
    "#### 문제\n",
    "방향그래프가 주어지면 주어진 시작점에서 다른 모든 정점으로의 최단 경로를 구하는 프로그램을 작성하시오. 단, 모든 간선의 가중치는 10 이하의 자연수이다.\n",
    "\n",
    "#### 입력\n",
    "첫째 줄에 정점의 개수 V와 간선의 개수 E가 주어진다. (1 ≤ V ≤ 20,000, 1 ≤ E ≤ 300,000) 모든 정점에는 1부터 V까지 번호가 매겨져 있다고 가정한다. 둘째 줄에는 시작 정점의 번호 K(1 ≤ K ≤ V)가 주어진다. 셋째 줄부터 E개의 줄에 걸쳐 각 간선을 나타내는 세 개의 정수 (u, v, w)가 순서대로 주어진다. 이는 u에서 v로 가는 가중치 w인 간선이 존재한다는 뜻이다. u와 v는 서로 다르며 w는 10 이하의 자연수이다. 서로 다른 두 정점 사이에 여러 개의 간선이 존재할 수도 있음에 유의한다.\n",
    "\n",
    "#### 출력\n",
    "첫째 줄부터 V개의 줄에 걸쳐, i번째 줄에 i번 정점으로의 최단 경로의 경로값을 출력한다. 시작점 자신은 0으로 출력하고, 경로가 존재하지 않는 경우에는 INF를 출력하면 된다.\n",
    "\n",
    "#### 예제 입력 1 \n",
    "5 6\n",
    "\n",
    "1\n",
    "\n",
    "5 1 1\n",
    "\n",
    "1 2 2\n",
    "\n",
    "1 3 3\n",
    "\n",
    "2 3 4\n",
    "\n",
    "2 4 5\n",
    "\n",
    "3 4 6\n",
    "\n",
    "#### 예제 출력 1 \n",
    "0\n",
    "\n",
    "2\n",
    "\n",
    "3\n",
    "\n",
    "7\n",
    "\n",
    "INF"
   ]
  },
  {
   "cell_type": "code",
   "execution_count": 35,
   "id": "51adc7a2",
   "metadata": {},
   "outputs": [
    {
     "name": "stdout",
     "output_type": "stream",
     "text": [
      "12 20\n",
      "1 \n",
      "1 2 1\n",
      "1 3 1\n",
      "1 4 2\n",
      "1 5 2\n",
      "1 6 2\n",
      "1 7 2\n",
      "1 8 2\n",
      "1 9 3\n",
      "1 10 4\n",
      "1 11 5\n",
      "2 11 5\n",
      "3 11 4\n",
      "4 11 3\n",
      "5 11 2\n",
      "6 11 1\n",
      "7 10 1\n",
      "8 10 2\n",
      "9 10 3\n",
      "10 11 4\n",
      "1 11 10\n"
     ]
    }
   ],
   "source": [
    "v, e = map(int, input().split())\n",
    "k = int(input())\n",
    "visited = [-1 for _ in range(v + 1)]\n",
    "visited[k] = 0\n",
    "routes = [{} for _ in range(v + 1)]\n",
    "for _ in range(e):\n",
    "    u, v, w = map(int, input().split())\n",
    "    if v in routes[u]:\n",
    "        if routes[u][v] > w:\n",
    "            routes[u][v] = w\n",
    "    else:\n",
    "        routes[u][v] = w"
   ]
  },
  {
   "cell_type": "code",
   "execution_count": 36,
   "id": "fd9f1824",
   "metadata": {},
   "outputs": [],
   "source": [
    "import heapq\n",
    "\n",
    "q = []\n",
    "heapq.heappush(q, (0, k))\n",
    "while q:\n",
    "    cost, loc = heapq.heappop(q)\n",
    "    for to, w in routes[loc].items():\n",
    "        if visited[to] == -1:\n",
    "            heapq.heappush(q, (cost + w, to))\n",
    "            visited[to] = cost + w\n",
    "        else:\n",
    "            if visited[to] > cost + w:\n",
    "                visited[to] = cost + w\n",
    "                heapq.heappush(q, (cost + w, to))"
   ]
  },
  {
   "cell_type": "code",
   "execution_count": 37,
   "id": "39b0e37a",
   "metadata": {},
   "outputs": [
    {
     "name": "stdout",
     "output_type": "stream",
     "text": [
      "0\n",
      "1\n",
      "1\n",
      "2\n",
      "2\n",
      "2\n",
      "2\n",
      "2\n",
      "3\n",
      "3\n",
      "3\n",
      "INF\n"
     ]
    }
   ],
   "source": [
    "for v in visited[1:]:\n",
    "    if v == -1:\n",
    "        print('INF')\n",
    "    else:\n",
    "        print(v)"
   ]
  },
  {
   "cell_type": "code",
   "execution_count": null,
   "id": "d725e1a8",
   "metadata": {},
   "outputs": [],
   "source": []
  }
 ],
 "metadata": {
  "kernelspec": {
   "display_name": "Python 3 (ipykernel)",
   "language": "python",
   "name": "python3"
  },
  "language_info": {
   "codemirror_mode": {
    "name": "ipython",
    "version": 3
   },
   "file_extension": ".py",
   "mimetype": "text/x-python",
   "name": "python",
   "nbconvert_exporter": "python",
   "pygments_lexer": "ipython3",
   "version": "3.8.10"
  }
 },
 "nbformat": 4,
 "nbformat_minor": 5
}
