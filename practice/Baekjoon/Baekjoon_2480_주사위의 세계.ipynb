{
 "cells": [
  {
   "cell_type": "markdown",
   "id": "a16c70c4",
   "metadata": {},
   "source": [
    "#### 문제\n",
    "1에서부터 6까지의 눈을 가진 3개의 주사위를 던져서 다음과 같은 규칙에 따라 상금을 받는 게임이 있다. \n",
    "\n",
    "같은 눈이 3개가 나오면 10,000원+(같은 눈)×1,000원의 상금을 받게 된다. \n",
    "\n",
    "같은 눈이 2개만 나오는 경우에는 1,000원+(같은 눈)×100원의 상금을 받게 된다. \n",
    "\n",
    "모두 다른 눈이 나오는 경우에는 (그 중 가장 큰 눈)×100원의 상금을 받게 된다.  \n",
    "\n",
    "예를 들어, 3개의 눈 3, 3, 6이 주어지면 상금은 1,000+3×100으로 계산되어 1,300원을 받게 된다. 또 3개의 눈이 2, 2, 2로 주어지면 10,000+2×1,000 으로 계산되어 12,000원을 받게 된다. 3개의 눈이 6, 2, 5로 주어지면 그중 가장 큰 값이 6이므로 6×100으로 계산되어 600원을 상금으로 받게 된다.\n",
    "\n",
    "3개 주사위의 나온 눈이 주어질 때, 상금을 계산하는 프로그램을 작성 하시오.\n",
    "\n",
    "#### 입력\n",
    "첫째 줄에 3개의 눈이 빈칸을 사이에 두고 각각 주어진다. \n",
    "\n",
    "#### 출력\n",
    "첫째 줄에 게임의 상금을 출력 한다.\n",
    "\n",
    "#### 예제 입력 1 \n",
    "3 3 6\n",
    "#### 예제 출력 1 \n",
    "1300\n",
    "#### 예제 입력 2 \n",
    "2 2 2\n",
    "#### 예제 출력 2 \n",
    "12000\n",
    "#### 예제 입력 3 \n",
    "6 2 5\n",
    "#### 예제 출력 3 \n",
    "600"
   ]
  },
  {
   "cell_type": "code",
   "execution_count": 7,
   "id": "44c213a0",
   "metadata": {},
   "outputs": [
    {
     "name": "stdout",
     "output_type": "stream",
     "text": [
      "2 2 2\n",
      "12000\n"
     ]
    }
   ],
   "source": [
    "dices = map(int, input().split())\n",
    "\n",
    "dice_dict = {}\n",
    "for dice in dices:\n",
    "    if dice in dice_dict:\n",
    "        dice_dict[dice] += 1\n",
    "    else:\n",
    "        dice_dict[dice] = 1\n",
    "\n",
    "dice_dict = sorted(dice_dict.items(), key=lambda x:(-x[1], -x[0]))\n",
    "\n",
    "length = len(dice_dict)\n",
    "if length == 1:\n",
    "    print(10000 + dice_dict[0][0] * 1000)\n",
    "elif length == 2:\n",
    "    print(1000 + dice_dict[0][0] * 100)\n",
    "else:\n",
    "    print(dice_dict[0][0] * 100)\n",
    "\n"
   ]
  },
  {
   "cell_type": "code",
   "execution_count": null,
   "id": "d4b6c9f7",
   "metadata": {},
   "outputs": [],
   "source": []
  }
 ],
 "metadata": {
  "kernelspec": {
   "display_name": "Python 3 (ipykernel)",
   "language": "python",
   "name": "python3"
  },
  "language_info": {
   "codemirror_mode": {
    "name": "ipython",
    "version": 3
   },
   "file_extension": ".py",
   "mimetype": "text/x-python",
   "name": "python",
   "nbconvert_exporter": "python",
   "pygments_lexer": "ipython3",
   "version": "3.8.10"
  }
 },
 "nbformat": 4,
 "nbformat_minor": 5
}
