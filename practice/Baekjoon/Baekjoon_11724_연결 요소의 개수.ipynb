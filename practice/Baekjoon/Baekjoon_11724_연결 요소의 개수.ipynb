{
 "cells": [
  {
   "cell_type": "markdown",
   "id": "ba0e36d1",
   "metadata": {},
   "source": [
    "#### 문제\n",
    "방향 없는 그래프가 주어졌을 때, 연결 요소 (Connected Component)의 개수를 구하는 프로그램을 작성하시오.\n",
    "\n",
    "#### 입력\n",
    "첫째 줄에 정점의 개수 N과 간선의 개수 M이 주어진다. (1 ≤ N ≤ 1,000, 0 ≤ M ≤ N×(N-1)/2) 둘째 줄부터 M개의 줄에 간선의 양 끝점 u와 v가 주어진다. (1 ≤ u, v ≤ N, u ≠ v) 같은 간선은 한 번만 주어진다.\n",
    "\n",
    "#### 출력\n",
    "첫째 줄에 연결 요소의 개수를 출력한다.\n",
    "\n",
    "#### 예제 입력 1 \n",
    "6 5\n",
    "\n",
    "1 2\n",
    "\n",
    "2 5\n",
    "\n",
    "5 1\n",
    "\n",
    "3 4\n",
    "\n",
    "4 6\n",
    "\n",
    "#### 예제 출력 1 \n",
    "2\n",
    "\n",
    "#### 예제 입력 2 \n",
    "6 8\n",
    "\n",
    "1 2\n",
    "\n",
    "2 5\n",
    "\n",
    "5 1\n",
    "\n",
    "3 4\n",
    "\n",
    "4 6\n",
    "\n",
    "5 4\n",
    "\n",
    "2 4\n",
    "\n",
    "2 3\n",
    "\n",
    "#### 예제 출력 2 \n",
    "1\n",
    "\n",
    "** sys.stdin.readline 사용"
   ]
  },
  {
   "cell_type": "code",
   "execution_count": 3,
   "id": "b79fe376",
   "metadata": {},
   "outputs": [
    {
     "name": "stdout",
     "output_type": "stream",
     "text": [
      "6 5\n",
      "1 2\n",
      "2 5\n",
      "5 1\n",
      "3 4\n",
      "4 6\n",
      "6\n"
     ]
    }
   ],
   "source": [
    "from collections import deque\n",
    "n, m = map(int, input().split())\n",
    "conn = {i + 1 : [] for i in range(n)}\n",
    "visited = {i + 1 : 0 for i in range(n)}\n",
    "for _ in range(m):\n",
    "    u, v = map(int, input().split())\n",
    "    conn[u].append(v)\n",
    "    conn[v].append(u)\n",
    "\n",
    "q = deque()\n",
    "\n",
    "cnt = 0\n",
    "for i in range(1, n + 1):\n",
    "    if visited[i] == 0:\n",
    "        cnt += 1\n",
    "        q.append(i)\n",
    "        visited[i] = 1\n",
    "        while q:\n",
    "            p = q.popleft()\n",
    "            for j in conn[p]:\n",
    "                if visited[j] == 0:\n",
    "                    q.append(j)\n",
    "                    visited[j] = 1\n",
    "print(cnt)\n",
    "    "
   ]
  },
  {
   "cell_type": "code",
   "execution_count": 6,
   "id": "a80cdac1",
   "metadata": {},
   "outputs": [
    {
     "name": "stdout",
     "output_type": "stream",
     "text": [
      "2\n"
     ]
    }
   ],
   "source": [
    "visited = {i + 1 : 0 for i in range(n)}\n",
    "cnt = 0\n",
    "for i in range(1, n + 1):\n",
    "    if visited[i] == 0:\n",
    "        cnt += 1\n",
    "        q.append(i)\n",
    "        visited[i] = 1\n",
    "        while q:\n",
    "            p = q.popleft()\n",
    "            for j in conn[p]:\n",
    "                if visited[j] == 0:\n",
    "                    q.append(j)\n",
    "                    visited[j] = 1\n",
    "print(cnt)"
   ]
  },
  {
   "cell_type": "code",
   "execution_count": null,
   "id": "72d89cc0",
   "metadata": {},
   "outputs": [],
   "source": []
  }
 ],
 "metadata": {
  "kernelspec": {
   "display_name": "Python 3 (ipykernel)",
   "language": "python",
   "name": "python3"
  },
  "language_info": {
   "codemirror_mode": {
    "name": "ipython",
    "version": 3
   },
   "file_extension": ".py",
   "mimetype": "text/x-python",
   "name": "python",
   "nbconvert_exporter": "python",
   "pygments_lexer": "ipython3",
   "version": "3.8.10"
  }
 },
 "nbformat": 4,
 "nbformat_minor": 5
}
