{
 "cells": [
  {
   "cell_type": "markdown",
   "id": "af807bbb",
   "metadata": {},
   "source": [
    "#### 문제\n",
    "두 수 A, B를 입력받아, A+B, A-B, A×B를 구하는 프로그램을 작성하시오.\n",
    "\n",
    "#### 입력\n",
    "첫째 줄에 A가, 둘째 줄에 B가 주어진다. 각각의 수는 10진수로 1,000자리를 넘지 않으며 양수와 음수가 모두 주어질 수 있다.\n",
    "\n",
    "#### 출력\n",
    "첫째 줄에 A+B, 둘째 줄에 A-B, 셋째 줄에 A×B를 출력한다. 각각을 출력할 때, 답이 0인 경우를 제외하고는 0으로 시작하게 해서는 안 된다(1을 01로 출력하면 안 된다는 의미).\n",
    "\n",
    "#### 예제 입력 1 \n",
    "1\n",
    "\n",
    "-1\n",
    "#### 예제 출력 1 \n",
    "0\n",
    "\n",
    "2\n",
    "\n",
    "-1"
   ]
  },
  {
   "cell_type": "code",
   "execution_count": null,
   "id": "95344d0c",
   "metadata": {},
   "outputs": [],
   "source": [
    "a = int(input())\n",
    "b = int(input())\n",
    "print(a + b)\n",
    "print(a - b)\n",
    "print(a * b)"
   ]
  }
 ],
 "metadata": {
  "kernelspec": {
   "display_name": "Python 3 (ipykernel)",
   "language": "python",
   "name": "python3"
  },
  "language_info": {
   "codemirror_mode": {
    "name": "ipython",
    "version": 3
   },
   "file_extension": ".py",
   "mimetype": "text/x-python",
   "name": "python",
   "nbconvert_exporter": "python",
   "pygments_lexer": "ipython3",
   "version": "3.8.10"
  }
 },
 "nbformat": 4,
 "nbformat_minor": 5
}
