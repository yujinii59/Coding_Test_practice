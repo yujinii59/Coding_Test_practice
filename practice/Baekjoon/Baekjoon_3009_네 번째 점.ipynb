{
 "cells": [
  {
   "cell_type": "markdown",
   "id": "1ef12a3e",
   "metadata": {},
   "source": [
    "#### 문제\n",
    "세 점이 주어졌을 때, 축에 평행한 직사각형을 만들기 위해서 필요한 네 번째 점을 찾는 프로그램을 작성하시오.\n",
    "\n",
    "#### 입력\n",
    "세 점의 좌표가 한 줄에 하나씩 주어진다. 좌표는 1보다 크거나 같고, 1000보다 작거나 같은 정수이다.\n",
    "\n",
    "#### 출력\n",
    "직사각형의 네 번째 점의 좌표를 출력한다.\n",
    "\n",
    "#### 예제 입력 1 \n",
    "5 5\n",
    "\n",
    "5 7\n",
    "\n",
    "7 5\n",
    "\n",
    "#### 예제 출력 1 \n",
    "\n",
    "7 7\n",
    "\n",
    "#### 예제 입력 2 \n",
    "\n",
    "30 20\n",
    "\n",
    "10 10\n",
    "\n",
    "10 20\n",
    "\n",
    "#### 예제 출력 2 \n",
    "\n",
    "30 10"
   ]
  },
  {
   "cell_type": "code",
   "execution_count": 1,
   "id": "a0f1bc21",
   "metadata": {},
   "outputs": [
    {
     "name": "stdout",
     "output_type": "stream",
     "text": [
      "5 5\n",
      "5 7\n",
      "7 5\n",
      "7 7\n"
     ]
    }
   ],
   "source": [
    "x_ls = []\n",
    "y_ls = []\n",
    "\n",
    "for _ in range(3):\n",
    "    x, y = map(int, input().split())\n",
    "    if x in x_ls:\n",
    "        x_ls.remove(x)\n",
    "    else:\n",
    "        x_ls.append(x)\n",
    "        \n",
    "    if y in y_ls:\n",
    "        y_ls.remove(y)\n",
    "    else:\n",
    "        y_ls.append(y)\n",
    "        \n",
    "print(x_ls[0], y_ls[0])\n",
    "        \n",
    "    "
   ]
  },
  {
   "cell_type": "code",
   "execution_count": null,
   "id": "814881d8",
   "metadata": {},
   "outputs": [],
   "source": []
  }
 ],
 "metadata": {
  "kernelspec": {
   "display_name": "Python 3 (ipykernel)",
   "language": "python",
   "name": "python3"
  },
  "language_info": {
   "codemirror_mode": {
    "name": "ipython",
    "version": 3
   },
   "file_extension": ".py",
   "mimetype": "text/x-python",
   "name": "python",
   "nbconvert_exporter": "python",
   "pygments_lexer": "ipython3",
   "version": "3.8.10"
  }
 },
 "nbformat": 4,
 "nbformat_minor": 5
}
