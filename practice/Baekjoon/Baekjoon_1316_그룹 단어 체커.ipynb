{
 "cells": [
  {
   "cell_type": "markdown",
   "id": "c5591148",
   "metadata": {},
   "source": [
    "#### 문제\n",
    "그룹 단어란 단어에 존재하는 모든 문자에 대해서, 각 문자가 연속해서 나타나는 경우만을 말한다. 예를 들면, ccazzzzbb는 c, a, z, b가 모두 연속해서 나타나고, kin도 k, i, n이 연속해서 나타나기 때문에 그룹 단어이지만, aabbbccb는 b가 떨어져서 나타나기 때문에 그룹 단어가 아니다.\n",
    "\n",
    "단어 N개를 입력으로 받아 그룹 단어의 개수를 출력하는 프로그램을 작성하시오.\n",
    "\n",
    "#### 입력\n",
    "첫째 줄에 단어의 개수 N이 들어온다. N은 100보다 작거나 같은 자연수이다. 둘째 줄부터 N개의 줄에 단어가 들어온다. 단어는 알파벳 소문자로만 되어있고 중복되지 않으며, 길이는 최대 100이다.\n",
    "\n",
    "#### 출력\n",
    "첫째 줄에 그룹 단어의 개수를 출력한다.\n",
    "\n",
    "#### 예제 입력 1 \n",
    "3\n",
    "\n",
    "happy\n",
    "\n",
    "new\n",
    "\n",
    "year\n",
    "#### 예제 출력 1 \n",
    "3\n",
    "#### 예제 입력 2 \n",
    "4\n",
    "\n",
    "aba\n",
    "\n",
    "abab\n",
    "\n",
    "abcabc\n",
    "\n",
    "a\n",
    "#### 예제 출력 2 \n",
    "1\n",
    "#### 예제 입력 3 \n",
    "5\n",
    "\n",
    "ab\n",
    "\n",
    "aa\n",
    "\n",
    "aca\n",
    "\n",
    "ba\n",
    "\n",
    "bb\n",
    "#### 예제 출력 3 \n",
    "4\n",
    "#### 예제 입력 4 \n",
    "2\n",
    "yzyzy\n",
    "\n",
    "zyzyz\n",
    "#### 예제 출력 4 \n",
    "0\n",
    "#### 예제 입력 5 \n",
    "1\n",
    "z\n",
    "#### 예제 출력 5 \n",
    "1"
   ]
  },
  {
   "cell_type": "code",
   "execution_count": 3,
   "id": "dfa77864",
   "metadata": {},
   "outputs": [
    {
     "name": "stdout",
     "output_type": "stream",
     "text": [
      "3\n",
      "happy\n",
      "new\n",
      "year\n",
      "3\n"
     ]
    }
   ],
   "source": [
    "n = int(input())\n",
    "\n",
    "cnt = 0\n",
    "for _ in range(n):\n",
    "    string = input()\n",
    "    alpha = []\n",
    "    for i in range(len(string)):\n",
    "        if i == 0:\n",
    "            alpha.append(string[i])\n",
    "        else:\n",
    "            if string[i] != string[i - 1]:\n",
    "                alpha.append(string[i])\n",
    "                \n",
    "    if sorted(alpha) == sorted(list(set(string))):\n",
    "        cnt += 1\n",
    "print(cnt)"
   ]
  },
  {
   "cell_type": "code",
   "execution_count": null,
   "id": "a45c984a",
   "metadata": {},
   "outputs": [],
   "source": []
  }
 ],
 "metadata": {
  "kernelspec": {
   "display_name": "Python 3 (ipykernel)",
   "language": "python",
   "name": "python3"
  },
  "language_info": {
   "codemirror_mode": {
    "name": "ipython",
    "version": 3
   },
   "file_extension": ".py",
   "mimetype": "text/x-python",
   "name": "python",
   "nbconvert_exporter": "python",
   "pygments_lexer": "ipython3",
   "version": "3.8.10"
  }
 },
 "nbformat": 4,
 "nbformat_minor": 5
}
