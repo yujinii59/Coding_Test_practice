{
 "cells": [
  {
   "cell_type": "markdown",
   "id": "4988dfbb",
   "metadata": {},
   "source": [
    "#### 문제\n",
    "자연수 M과 N이 주어질 때 M이상 N이하의 자연수 중 소수인 것을 모두 골라 이들 소수의 합과 최솟값을 찾는 프로그램을 작성하시오.\n",
    "\n",
    "예를 들어 M=60, N=100인 경우 60이상 100이하의 자연수 중 소수는 61, 67, 71, 73, 79, 83, 89, 97 총 8개가 있으므로, 이들 소수의 합은 620이고, 최솟값은 61이 된다.\n",
    "\n",
    "#### 입력\n",
    "입력의 첫째 줄에 M이, 둘째 줄에 N이 주어진다.\n",
    "\n",
    "M과 N은 10,000이하의 자연수이며, M은 N보다 작거나 같다.\n",
    "\n",
    "#### 출력\n",
    "M이상 N이하의 자연수 중 소수인 것을 모두 찾아 첫째 줄에 그 합을, 둘째 줄에 그 중 최솟값을 출력한다. \n",
    "\n",
    "단, M이상 N이하의 자연수 중 소수가 없을 경우는 첫째 줄에 -1을 출력한다.\n",
    "\n",
    "#### 예제 입력 1 \n",
    "60\n",
    "\n",
    "100\n",
    "#### 예제 출력 1 \n",
    "620\n",
    "\n",
    "61\n",
    "#### 예제 입력 2 \n",
    "64\n",
    "\n",
    "65\n",
    "#### 예제 출력 2 \n",
    "-1"
   ]
  },
  {
   "cell_type": "code",
   "execution_count": 18,
   "id": "d96dcdc7",
   "metadata": {},
   "outputs": [],
   "source": [
    "def prime_number(min_num, max_num):\n",
    "    primes = []\n",
    "    lst = []\n",
    "    for i in range(2, max_num + 1):\n",
    "        add = True\n",
    "        for p in primes:\n",
    "            if i % p == 0:\n",
    "                add = False\n",
    "                break\n",
    "        if add:\n",
    "            primes.append(i)\n",
    "            if i >= min_num:\n",
    "                lst.append(i)\n",
    "    return lst"
   ]
  },
  {
   "cell_type": "code",
   "execution_count": 21,
   "id": "131df3c9",
   "metadata": {},
   "outputs": [
    {
     "name": "stdout",
     "output_type": "stream",
     "text": [
      "64\n",
      "65\n",
      "-1\n"
     ]
    }
   ],
   "source": [
    "n = int(input())\n",
    "m = int(input())\n",
    "\n",
    "if n < 2:\n",
    "    n = 2\n",
    "\n",
    "prime_ls = prime_number(n, m)\n",
    "if prime_ls:\n",
    "    print(sum(prime_ls))\n",
    "    print(min(prime_ls))\n",
    "    \n",
    "else:\n",
    "    print(-1)"
   ]
  },
  {
   "cell_type": "code",
   "execution_count": 2,
   "id": "90e320ca",
   "metadata": {},
   "outputs": [
    {
     "data": {
      "text/plain": [
       "6"
      ]
     },
     "execution_count": 2,
     "metadata": {},
     "output_type": "execute_result"
    }
   ],
   "source": [
    "sum(set([1,2,3]))"
   ]
  },
  {
   "cell_type": "code",
   "execution_count": null,
   "id": "7c2e455e",
   "metadata": {},
   "outputs": [],
   "source": []
  }
 ],
 "metadata": {
  "kernelspec": {
   "display_name": "Python 3 (ipykernel)",
   "language": "python",
   "name": "python3"
  },
  "language_info": {
   "codemirror_mode": {
    "name": "ipython",
    "version": 3
   },
   "file_extension": ".py",
   "mimetype": "text/x-python",
   "name": "python",
   "nbconvert_exporter": "python",
   "pygments_lexer": "ipython3",
   "version": "3.8.10"
  }
 },
 "nbformat": 4,
 "nbformat_minor": 5
}
