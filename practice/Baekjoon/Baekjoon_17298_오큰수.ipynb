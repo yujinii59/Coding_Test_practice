{
 "cells": [
  {
   "cell_type": "markdown",
   "id": "683bca48",
   "metadata": {},
   "source": [
    "#### 문제\n",
    "크기가 N인 수열 A = A1, A2, ..., AN이 있다. 수열의 각 원소 Ai에 대해서 오큰수 NGE(i)를 구하려고 한다. Ai의 오큰수는 오른쪽에 있으면서 Ai보다 큰 수 중에서 가장 왼쪽에 있는 수를 의미한다. 그러한 수가 없는 경우에 오큰수는 -1이다.\n",
    "\n",
    "예를 들어, A = [3, 5, 2, 7]인 경우 NGE(1) = 5, NGE(2) = 7, NGE(3) = 7, NGE(4) = -1이다. A = [9, 5, 4, 8]인 경우에는 NGE(1) = -1, NGE(2) = 8, NGE(3) = 8, NGE(4) = -1이다.\n",
    "\n",
    "#### 입력\n",
    "첫째 줄에 수열 A의 크기 N (1 ≤ N ≤ 1,000,000)이 주어진다. 둘째 줄에 수열 A의 원소 A1, A2, ..., AN (1 ≤ Ai ≤ 1,000,000)이 주어진다.\n",
    "\n",
    "#### 출력\n",
    "총 N개의 수 NGE(1), NGE(2), ..., NGE(N)을 공백으로 구분해 출력한다.\n",
    "\n",
    "#### 예제 입력 1 \n",
    "4\n",
    "\n",
    "3 5 2 7\n",
    "#### 예제 출력 1 \n",
    "5 7 7 -1\n",
    "#### 예제 입력 2 \n",
    "4\n",
    "\n",
    "9 5 4 8\n",
    "#### 예제 출력 2 \n",
    "-1 8 8 -1"
   ]
  },
  {
   "cell_type": "code",
   "execution_count": 14,
   "id": "ea00b946",
   "metadata": {},
   "outputs": [
    {
     "name": "stdout",
     "output_type": "stream",
     "text": [
      "11\n",
      "1 10 999999 7 999998 3 1 4 1000000 3 1000000\n",
      "1 []\n",
      "10 [(1, 0)]\n",
      "999999 [(10, 1)]\n",
      "7 [(999999, 2)]\n",
      "999998 [(999999, 2), (7, 3)]\n",
      "3 [(999999, 2), (999998, 4)]\n",
      "1 [(999999, 2), (999998, 4), (3, 5)]\n",
      "4 [(999999, 2), (999998, 4), (3, 5), (1, 6)]\n",
      "1000000 [(999999, 2), (999998, 4), (4, 7)]\n",
      "3 [(1000000, 8)]\n",
      "1000000 [(1000000, 8), (3, 9)]\n",
      "10 999999 1000000 999998 1000000 4 4 1000000 -1 1000000 -1 "
     ]
    }
   ],
   "source": [
    "n = int(input())\n",
    "seq = list(map(int, input().split()))\n",
    "\n",
    "s = []\n",
    "results = {}\n",
    "for i, num in enumerate(seq):\n",
    "    results[(num, i)] = -1\n",
    "    for j in range(len(s)):\n",
    "        p = s[-1]\n",
    "        if p[0] < num:\n",
    "            results[p] = str(num)\n",
    "            s.pop()\n",
    "        else:\n",
    "            break\n",
    "    s.append((num, i))\n",
    "for i, num in enumerate(seq):\n",
    "    print(results[(num, i)], end=' ')\n"
   ]
  }
 ],
 "metadata": {
  "kernelspec": {
   "display_name": "Python 3 (ipykernel)",
   "language": "python",
   "name": "python3"
  },
  "language_info": {
   "codemirror_mode": {
    "name": "ipython",
    "version": 3
   },
   "file_extension": ".py",
   "mimetype": "text/x-python",
   "name": "python",
   "nbconvert_exporter": "python",
   "pygments_lexer": "ipython3",
   "version": "3.8.10"
  }
 },
 "nbformat": 4,
 "nbformat_minor": 5
}
