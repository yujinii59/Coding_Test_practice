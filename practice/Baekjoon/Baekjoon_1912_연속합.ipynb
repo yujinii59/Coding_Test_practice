{
 "cells": [
  {
   "cell_type": "markdown",
   "id": "97efa8dd",
   "metadata": {},
   "source": [
    "#### 문제\n",
    "n개의 정수로 이루어진 임의의 수열이 주어진다. 우리는 이 중 연속된 몇 개의 수를 선택해서 구할 수 있는 합 중 가장 큰 합을 구하려고 한다. 단, 수는 한 개 이상 선택해야 한다.\n",
    "\n",
    "예를 들어서 10, -4, 3, 1, 5, 6, -35, 12, 21, -1 이라는 수열이 주어졌다고 하자. 여기서 정답은 12+21인 33이 정답이 된다.\n",
    "\n",
    "#### 입력\n",
    "첫째 줄에 정수 n(1 ≤ n ≤ 100,000)이 주어지고 둘째 줄에는 n개의 정수로 이루어진 수열이 주어진다. 수는 -1,000보다 크거나 같고, 1,000보다 작거나 같은 정수이다.\n",
    "\n",
    "#### 출력\n",
    "첫째 줄에 답을 출력한다.\n",
    "\n",
    "#### 예제 입력 1 \n",
    "10\n",
    "\n",
    "10 -4 3 1 5 6 -35 12 21 -1\n",
    "\n",
    "#### 예제 출력 1 \n",
    "33\n",
    "\n",
    "#### 예제 입력 2 \n",
    "10\n",
    "\n",
    "2 1 -4 3 4 -4 6 5 -5 1\n",
    "\n",
    "#### 예제 출력 2 \n",
    "14\n",
    "\n",
    "#### 예제 입력 3 \n",
    "5\n",
    "\n",
    "-1 -2 -3 -4 -5\n",
    "\n",
    "#### 예제 출력 3 \n",
    "-1"
   ]
  },
  {
   "cell_type": "code",
   "execution_count": 8,
   "id": "cc9f6f2e",
   "metadata": {},
   "outputs": [
    {
     "name": "stdout",
     "output_type": "stream",
     "text": [
      "10 \n",
      "10 -4 3 1 5 6 -35 12 21 -1\n",
      "33\n"
     ]
    }
   ],
   "source": [
    "n = int(input())\n",
    "int_list = list(map(int, input().split()))\n",
    "add = 0\n",
    "max_add = -1000\n",
    "for i in range(n):\n",
    "    add_tmp = add + int_list[i]\n",
    "    if add_tmp > max_add:\n",
    "        max_add = add_tmp\n",
    "        \n",
    "    if add_tmp < 0:\n",
    "        add = 0\n",
    "    else:\n",
    "        add += int_list[i]\n",
    "        \n",
    "    \n",
    "            \n",
    "print(max_add)"
   ]
  },
  {
   "cell_type": "code",
   "execution_count": null,
   "id": "d2490a74",
   "metadata": {},
   "outputs": [],
   "source": []
  }
 ],
 "metadata": {
  "kernelspec": {
   "display_name": "Python 3 (ipykernel)",
   "language": "python",
   "name": "python3"
  },
  "language_info": {
   "codemirror_mode": {
    "name": "ipython",
    "version": 3
   },
   "file_extension": ".py",
   "mimetype": "text/x-python",
   "name": "python",
   "nbconvert_exporter": "python",
   "pygments_lexer": "ipython3",
   "version": "3.8.10"
  }
 },
 "nbformat": 4,
 "nbformat_minor": 5
}
