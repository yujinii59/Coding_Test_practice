{
 "cells": [
  {
   "cell_type": "markdown",
   "id": "ad29b218",
   "metadata": {},
   "source": [
    "#### 문제\n",
    "오민식 선생님은 올해 형택초등학교 6학년 1반 담임을 맡게 되었다. 오민식 선생님은 우선 임시로 반장을 정하고 학생들이 서로 친숙해진 후에 정식으로 선거를 통해 반장을 선출하려고 한다. 그는 자기반 학생 중에서 1학년부터 5학년까지 지내오면서 한번이라도 같은 반이었던 사람이 가장 많은 학생을 임시 반장으로 정하려 한다.\n",
    "\n",
    "그래서 오민식 선생님은 각 학생들이 1학년부터 5학년까지 몇 반에 속했었는지를 나타내는 표를 만들었다. 예를 들어 학생 수가 5명일 때의 표를 살펴보자.\n",
    "\n",
    "| \t|1학년|\t2학년|\t3학년|\t4학년|\t5학년|\n",
    "|:----:|----|---|---|---|---|\n",
    "|1번 학생|\t2|\t3|\t1|\t7|\t3|\n",
    "|2번 학생|\t4|\t1|\t9|\t6|\t8|\n",
    "|3번 학생|\t5|\t5|\t2|\t4|\t4|\n",
    "|4번 학생|\t6|\t5|\t2|\t6|\t7|\n",
    "|5번 학생|\t8|\t4|\t2|\t2|\t2|\n",
    "\n",
    "위 경우에 4번 학생을 보면 3번 학생과 2학년 때 같은 반이었고, 3번 학생 및 5번 학생과 3학년 때 같은 반이었으며, 2번 학생과는 4학년 때 같은 반이었음을 알 수 있다. 그러므로 이 학급에서 4번 학생과 한번이라도 같은 반이었던 사람은 2번 학생, 3번 학생과 5번 학생으로 모두 3명이다. 이 예에서 4번 학생이 전체 학생 중에서 같은 반이었던 학생 수가 제일 많으므로 임시 반장이 된다.\n",
    "\n",
    "각 학생들이 1학년부터 5학년까지 속했던 반이 주어질 때, 임시 반장을 정하는 프로그램을 작성하시오.\n",
    "\n",
    "#### 입력\n",
    "첫째 줄에는 반의 학생 수를 나타내는 정수가 주어진다. 학생 수는 3 이상 1000 이하이다. 둘째 줄부터는 1번 학생부터 차례대로 각 줄마다 1학년부터 5학년까지 몇 반에 속했었는지를 나타내는 5개의 정수가 빈칸 하나를 사이에 두고 주어진다. 주어지는 정수는 모두 1 이상 9 이하의 정수이다.\n",
    "\n",
    "#### 출력\n",
    "첫 줄에 임시 반장으로 정해진 학생의 번호를 출력한다. 단, 임시 반장이 될 수 있는 학생이 여러 명인 경우에는 그 중 가장 작은 번호만 출력한다.\n",
    "\n",
    "#### 예제 입력 1 \n",
    "5\n",
    "\n",
    "2 3 1 7 3\n",
    "\n",
    "4 1 9 6 8\n",
    "\n",
    "5 5 2 4 4\n",
    "\n",
    "6 5 2 6 7\n",
    "\n",
    "8 4 2 2 2\n",
    "#### 예제 출력 1 \n",
    "4"
   ]
  },
  {
   "cell_type": "code",
   "execution_count": 1,
   "id": "20cdc83d",
   "metadata": {},
   "outputs": [
    {
     "name": "stdout",
     "output_type": "stream",
     "text": [
      "5\n",
      "2 3 1 7 3\n",
      "4 1 9 6 8\n",
      "5 5 2 4 4\n",
      "6 5 2 6 7\n",
      "8 4 2 2 2\n"
     ]
    }
   ],
   "source": [
    "n = int(input())\n",
    "classes = [[[] for _ in range(10)] for _ in range(10)]\n",
    "students = []\n",
    "for i in range(n):\n",
    "    grades = list(map(int, input().split()))\n",
    "    students.append(grades)\n",
    "    for j, classs in enumerate(grades):\n",
    "        classes[j][classs].append(i)\n",
    "        \n",
    "max_student = 0\n",
    "for i, student in enumerate(students):\n",
    "    same_class = []\n",
    "    for j, classs in enumerate(student):\n",
    "        same_class.extend(classes[j][classs])\n",
    "    \n",
    "    cnt = len(set(same_class))\n",
    "    if cnt > max_student:\n",
    "        max_student = cnt\n",
    "        num = i + 1\n",
    "        \n",
    "print(num)"
   ]
  }
 ],
 "metadata": {
  "kernelspec": {
   "display_name": "Python 3 (ipykernel)",
   "language": "python",
   "name": "python3"
  },
  "language_info": {
   "codemirror_mode": {
    "name": "ipython",
    "version": 3
   },
   "file_extension": ".py",
   "mimetype": "text/x-python",
   "name": "python",
   "nbconvert_exporter": "python",
   "pygments_lexer": "ipython3",
   "version": "3.8.10"
  }
 },
 "nbformat": 4,
 "nbformat_minor": 5
}
