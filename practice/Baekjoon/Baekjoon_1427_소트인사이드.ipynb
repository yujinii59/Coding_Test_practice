{
 "cells": [
  {
   "cell_type": "markdown",
   "id": "bce9993b",
   "metadata": {},
   "source": [
    "#### 문제\n",
    "배열을 정렬하는 것은 쉽다. 수가 주어지면, 그 수의 각 자리수를 내림차순으로 정렬해보자.\n",
    "\n",
    "#### 입력\n",
    "첫째 줄에 정렬하려고 하는 수 N이 주어진다. N은 1,000,000,000보다 작거나 같은 자연수이다.\n",
    "\n",
    "#### 출력\n",
    "첫째 줄에 자리수를 내림차순으로 정렬한 수를 출력한다.\n",
    "\n",
    "#### 예제 입력 1 \n",
    "2143\n",
    "#### 예제 출력 1 \n",
    "4321\n",
    "#### 예제 입력 2 \n",
    "999998999\n",
    "#### 예제 출력 2 \n",
    "999999998\n",
    "#### 예제 입력 3 \n",
    "61423\n",
    "#### 예제 출력 3 \n",
    "64321\n",
    "#### 예제 입력 4 \n",
    "500613009\n",
    "#### 예제 출력 4 \n",
    "965310000"
   ]
  },
  {
   "cell_type": "code",
   "execution_count": 1,
   "id": "58dee291",
   "metadata": {},
   "outputs": [
    {
     "name": "stdout",
     "output_type": "stream",
     "text": [
      "500613009\n",
      "965310000\n"
     ]
    }
   ],
   "source": [
    "num = input()\n",
    "ls = {i : 0 for i in range(9, -1, -1)}\n",
    "for n in num:\n",
    "    ls[int(n)] += 1\n",
    "\n",
    "s = ''    \n",
    "for k, v in ls.items():\n",
    "    s += str(k) * v\n",
    "    \n",
    "print(int(s))"
   ]
  },
  {
   "cell_type": "code",
   "execution_count": null,
   "id": "a5835a6e",
   "metadata": {},
   "outputs": [],
   "source": []
  }
 ],
 "metadata": {
  "kernelspec": {
   "display_name": "Python 3 (ipykernel)",
   "language": "python",
   "name": "python3"
  },
  "language_info": {
   "codemirror_mode": {
    "name": "ipython",
    "version": 3
   },
   "file_extension": ".py",
   "mimetype": "text/x-python",
   "name": "python",
   "nbconvert_exporter": "python",
   "pygments_lexer": "ipython3",
   "version": "3.8.10"
  }
 },
 "nbformat": 4,
 "nbformat_minor": 5
}
