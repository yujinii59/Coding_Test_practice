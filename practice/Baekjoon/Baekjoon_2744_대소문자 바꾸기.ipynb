{
 "cells": [
  {
   "cell_type": "markdown",
   "id": "fd093e72",
   "metadata": {},
   "source": [
    "#### 문제\n",
    "영어 소문자와 대문자로 이루어진 단어를 입력받은 뒤, 대문자는 소문자로, 소문자는 대문자로 바꾸어 출력하는 프로그램을 작성하시오.\n",
    "\n",
    "#### 입력\n",
    "첫째 줄에 영어 소문자와 대문자로만 이루어진 단어가 주어진다. 단어의 길이는 최대 100이다.\n",
    "\n",
    "#### 출력\n",
    "첫째 줄에 입력으로 주어진 단어에서 대문자는 소문자로, 소문자는 대문자로 바꾼 단어를 출력한다.\n",
    "\n",
    "#### 예제 입력 1 \n",
    "WrongAnswer\n",
    "#### 예제 출력 1 \n",
    "wRONGaNSWER"
   ]
  },
  {
   "cell_type": "code",
   "execution_count": 1,
   "id": "ad48b816",
   "metadata": {},
   "outputs": [
    {
     "name": "stdout",
     "output_type": "stream",
     "text": [
      "WrongAnswer\n",
      "wRONGaNSWER"
     ]
    }
   ],
   "source": [
    "ss = input()\n",
    "for s in ss:\n",
    "    if s.islower():\n",
    "        print(s.upper(),end='')\n",
    "    else:\n",
    "        print(s.lower(),end='')"
   ]
  },
  {
   "cell_type": "code",
   "execution_count": null,
   "id": "256fcf5c",
   "metadata": {},
   "outputs": [],
   "source": []
  }
 ],
 "metadata": {
  "kernelspec": {
   "display_name": "Python 3 (ipykernel)",
   "language": "python",
   "name": "python3"
  },
  "language_info": {
   "codemirror_mode": {
    "name": "ipython",
    "version": 3
   },
   "file_extension": ".py",
   "mimetype": "text/x-python",
   "name": "python",
   "nbconvert_exporter": "python",
   "pygments_lexer": "ipython3",
   "version": "3.8.10"
  }
 },
 "nbformat": 4,
 "nbformat_minor": 5
}
