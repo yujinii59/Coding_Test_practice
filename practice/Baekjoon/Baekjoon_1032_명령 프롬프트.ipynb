{
 "cells": [
  {
   "cell_type": "markdown",
   "id": "e1be3560",
   "metadata": {},
   "source": [
    "#### 문제\n",
    "시작 -> 실행 -> cmd를 쳐보자. 검정 화면이 눈에 보인다. 여기서 dir이라고 치면 그 디렉토리에 있는 서브디렉토리와 파일이 모두 나온다. 이때 원하는 파일을 찾으려면 다음과 같이 하면 된다.\n",
    "\n",
    "dir *.exe라고 치면 확장자가 exe인 파일이 다 나온다. \"dir 패턴\"과 같이 치면 그 패턴에 맞는 파일만 검색 결과로 나온다. 예를 들어, dir a?b.exe라고 검색하면 파일명의 첫 번째 글자가 a이고, 세 번째 글자가 b이고, 확장자가 exe인 것이 모두 나온다. 이때 두 번째 문자는 아무거나 나와도 된다. 예를 들어, acb.exe, aab.exe, apb.exe가 나온다.\n",
    "\n",
    "이 문제는 검색 결과가 먼저 주어졌을 때, 패턴으로 뭘 쳐야 그 결과가 나오는지를 출력하는 문제이다. 패턴에는 알파벳과 \".\" 그리고 \"?\"만 넣을 수 있다. 가능하면 ?을 적게 써야 한다. 그 디렉토리에는 검색 결과에 나온 파일만 있다고 가정하고, 파일 이름의 길이는 모두 같다.\n",
    "\n",
    "#### 입력\n",
    "첫째 줄에 파일 이름의 개수 N이 주어진다. 둘째 줄부터 N개의 줄에는 파일 이름이 주어진다. N은 50보다 작거나 같은 자연수이고 파일 이름의 길이는 모두 같고 길이는 최대 50이다. 파일이름은 알파벳 소문자와 '.' 로만 이루어져 있다.\n",
    "\n",
    "#### 출력\n",
    "첫째 줄에 패턴을 출력하면 된다.\n",
    "\n",
    "#### 예제 입력 1 \n",
    "3\n",
    "\n",
    "config.sys\n",
    "\n",
    "config.inf\n",
    "\n",
    "configures\n",
    "#### 예제 출력 1 \n",
    "config????\n",
    "#### 예제 입력 2 \n",
    "2\n",
    "\n",
    "contest.txt\n",
    "\n",
    "context.txt\n",
    "#### 예제 출력 2 \n",
    "conte?t.txt\n",
    "#### 예제 입력 3 \n",
    "3\n",
    "\n",
    "c.user.mike.programs\n",
    "\n",
    "c.user.nike.programs\n",
    "\n",
    "c.user.rice.programs\n",
    "#### 예제 출력 3 \n",
    "c.user.?i?e.programs\n",
    "#### 예제 입력 4 \n",
    "4\n",
    "\n",
    "a\n",
    "\n",
    "a\n",
    "\n",
    "b\n",
    "\n",
    "b\n",
    "#### 예제 출력 4 \n",
    "?\n",
    "#### 예제 입력 5 \n",
    "1\n",
    "\n",
    "onlyonefile\n",
    "#### 예제 출력 5 \n",
    "onlyonefile"
   ]
  },
  {
   "cell_type": "code",
   "execution_count": 3,
   "id": "52a2fd2d",
   "metadata": {},
   "outputs": [
    {
     "name": "stdout",
     "output_type": "stream",
     "text": [
      "3\n",
      "c.user.mike.programs\n",
      "c.user.nike.programs\n",
      "c.user.rice.programs\n",
      "c.user.?i?e.programs\n"
     ]
    }
   ],
   "source": [
    "n = int(input())\n",
    "rst = []\n",
    "l = 0\n",
    "for _ in range(n):\n",
    "    if rst == []:\n",
    "        rst = list(input())\n",
    "        l = len(rst)\n",
    "    else:\n",
    "        s = input()\n",
    "        for i in range(l):\n",
    "            if rst[i] != '?' and rst[i] != s[i]:\n",
    "                rst[i] = '?'\n",
    "print(''.join(rst))"
   ]
  },
  {
   "cell_type": "code",
   "execution_count": null,
   "id": "69fa7bd7",
   "metadata": {},
   "outputs": [],
   "source": []
  }
 ],
 "metadata": {
  "kernelspec": {
   "display_name": "Python 3 (ipykernel)",
   "language": "python",
   "name": "python3"
  },
  "language_info": {
   "codemirror_mode": {
    "name": "ipython",
    "version": 3
   },
   "file_extension": ".py",
   "mimetype": "text/x-python",
   "name": "python",
   "nbconvert_exporter": "python",
   "pygments_lexer": "ipython3",
   "version": "3.8.10"
  }
 },
 "nbformat": 4,
 "nbformat_minor": 5
}
