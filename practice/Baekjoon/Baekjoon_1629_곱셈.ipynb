{
 "cells": [
  {
   "cell_type": "markdown",
   "id": "3cf1d405",
   "metadata": {},
   "source": [
    "#### 문제\n",
    "자연수 A를 B번 곱한 수를 알고 싶다. 단 구하려는 수가 매우 커질 수 있으므로 이를 C로 나눈 나머지를 구하는 프로그램을 작성하시오.\n",
    "\n",
    "#### 입력\n",
    "첫째 줄에 A, B, C가 빈 칸을 사이에 두고 순서대로 주어진다. A, B, C는 모두 2,147,483,647 이하의 자연수이다.\n",
    "\n",
    "#### 출력\n",
    "첫째 줄에 A를 B번 곱한 수를 C로 나눈 나머지를 출력한다.\n",
    "\n",
    "#### 예제 입력 1 \n",
    "10 11 12\n",
    "#### 예제 출력 1 \n",
    "4"
   ]
  },
  {
   "cell_type": "code",
   "execution_count": 5,
   "id": "2c726ab7",
   "metadata": {},
   "outputs": [],
   "source": [
    "def multiply(a, b, c):\n",
    "    if b == 1:\n",
    "        res = a % c\n",
    "    else:\n",
    "        res = multiply(a, b // 2, c)\n",
    "        res = res ** 2 % c\n",
    "        if b % 2 == 1:\n",
    "            res = res * a\n",
    "        res %= c        \n",
    "    return res"
   ]
  },
  {
   "cell_type": "code",
   "execution_count": 6,
   "id": "2731e708",
   "metadata": {},
   "outputs": [
    {
     "name": "stdout",
     "output_type": "stream",
     "text": [
      "10 11 12\n",
      "1 10\n",
      "2 4\n",
      "5 4\n",
      "11 4\n",
      "4\n"
     ]
    }
   ],
   "source": [
    "a, b, c = map(int, input().split())\n",
    "res = multiply(a, b, c)\n",
    "print(res)"
   ]
  }
 ],
 "metadata": {
  "kernelspec": {
   "display_name": "Python 3 (ipykernel)",
   "language": "python",
   "name": "python3"
  },
  "language_info": {
   "codemirror_mode": {
    "name": "ipython",
    "version": 3
   },
   "file_extension": ".py",
   "mimetype": "text/x-python",
   "name": "python",
   "nbconvert_exporter": "python",
   "pygments_lexer": "ipython3",
   "version": "3.8.10"
  }
 },
 "nbformat": 4,
 "nbformat_minor": 5
}
