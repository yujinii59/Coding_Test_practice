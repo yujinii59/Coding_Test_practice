{
 "cells": [
  {
   "cell_type": "markdown",
   "id": "9d56f5dc",
   "metadata": {},
   "source": [
    "#### 문제\n",
    "양수 A가 N의 진짜 약수가 되려면, N이 A의 배수이고, A가 1과 N이 아니어야 한다. 어떤 수 N의 진짜 약수가 모두 주어질 때, N을 구하는 프로그램을 작성하시오.\n",
    "\n",
    "#### 입력\n",
    "첫째 줄에 N의 진짜 약수의 개수가 주어진다. 이 개수는 50보다 작거나 같은 자연수이다. 둘째 줄에는 N의 진짜 약수가 주어진다. 1,000,000보다 작거나 같고, 2보다 크거나 같은 자연수이고, 중복되지 않는다.\n",
    "\n",
    "#### 출력\n",
    "첫째 줄에 N을 출력한다. N은 항상 32비트 부호있는 정수로 표현할 수 있다.\n",
    "\n",
    "#### 예제 입력 1 \n",
    "2\n",
    "\n",
    "4 2\n",
    "#### 예제 출력 1 \n",
    "8\n",
    "#### 예제 입력 2 \n",
    "1\n",
    "\n",
    "2\n",
    "#### 예제 출력 2 \n",
    "4\n",
    "#### 예제 입력 3 \n",
    "6\n",
    "\n",
    "3 4 2 12 6 8\n",
    "#### 예제 출력 3 \n",
    "24\n",
    "#### 예제 입력 4 \n",
    "14\n",
    "\n",
    "14 26456 2 28 13228 3307 7 23149 8 6614 46298 56 4 92596\n",
    "#### 예제 출력 4 \n",
    "185192"
   ]
  },
  {
   "cell_type": "code",
   "execution_count": 4,
   "id": "0862bac8",
   "metadata": {},
   "outputs": [
    {
     "name": "stdout",
     "output_type": "stream",
     "text": [
      "14\n",
      "14 26456 2 28 13228 3307 7 23149 8 6614 46298 56 4 92596\n",
      "185192\n"
     ]
    }
   ],
   "source": [
    "n = int(input())\n",
    "ls = sorted(list(map(int, input().split())))\n",
    "\n",
    "print(ls[0] * ls[-1])"
   ]
  },
  {
   "cell_type": "code",
   "execution_count": null,
   "id": "5dcada7e",
   "metadata": {},
   "outputs": [],
   "source": []
  }
 ],
 "metadata": {
  "kernelspec": {
   "display_name": "Python 3 (ipykernel)",
   "language": "python",
   "name": "python3"
  },
  "language_info": {
   "codemirror_mode": {
    "name": "ipython",
    "version": 3
   },
   "file_extension": ".py",
   "mimetype": "text/x-python",
   "name": "python",
   "nbconvert_exporter": "python",
   "pygments_lexer": "ipython3",
   "version": "3.8.10"
  }
 },
 "nbformat": 4,
 "nbformat_minor": 5
}
