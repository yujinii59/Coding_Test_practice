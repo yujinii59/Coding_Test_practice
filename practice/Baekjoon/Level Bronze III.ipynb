{
 "cells": [
  {
   "cell_type": "markdown",
   "id": "368ac0b0",
   "metadata": {},
   "source": [
    "#### 11034 캥거루 세마리2"
   ]
  },
  {
   "cell_type": "code",
   "execution_count": null,
   "id": "a32053d2",
   "metadata": {},
   "outputs": [],
   "source": [
    "while True:\n",
    "    try:\n",
    "        a, b, c = map(int, input().split())\n",
    "        if b - a >= c - b:\n",
    "            print(b - a - 1)\n",
    "        else:\n",
    "            print(c - b - 1)\n",
    "    except:\n",
    "        break"
   ]
  },
  {
   "cell_type": "markdown",
   "id": "bfa4cb91",
   "metadata": {},
   "source": [
    "#### 1284 집 주소"
   ]
  },
  {
   "cell_type": "code",
   "execution_count": null,
   "id": "318bc1ff",
   "metadata": {},
   "outputs": [],
   "source": [
    "while True:\n",
    "    num = input()\n",
    "    if num == '0':\n",
    "        break\n",
    "    rst = 1\n",
    "    for n in num:\n",
    "        if n == '0':\n",
    "            rst += 5\n",
    "        elif n == '1':\n",
    "            rst += 3\n",
    "        else:\n",
    "            rst += 4\n",
    "    print(rst)"
   ]
  },
  {
   "cell_type": "markdown",
   "id": "ca903441",
   "metadata": {},
   "source": [
    "#### 1267 핸드폰 요금"
   ]
  },
  {
   "cell_type": "code",
   "execution_count": 6,
   "id": "af5329ae",
   "metadata": {},
   "outputs": [
    {
     "name": "stdout",
     "output_type": "stream",
     "text": [
      "2\n",
      "60 65\n",
      "Y M 60\n"
     ]
    }
   ],
   "source": [
    "n = int(input())\n",
    "times = list(map(int, input().split()))\n",
    "Y = sum((time + 30) // 30 * 10 for time in times)\n",
    "M = sum((time + 60) // 60 * 15 for time in times)\n",
    "if Y > M:\n",
    "    print(f'M {M}')\n",
    "elif Y < M:\n",
    "    print(f'Y {Y}')\n",
    "else:\n",
    "    print(f'Y M {M}')"
   ]
  },
  {
   "cell_type": "markdown",
   "id": "5d05434b",
   "metadata": {},
   "source": [
    "#### 1247 부호"
   ]
  },
  {
   "cell_type": "code",
   "execution_count": null,
   "id": "75db6bc8",
   "metadata": {},
   "outputs": [],
   "source": [
    "for _ in range(3):\n",
    "    n = int(input())\n",
    "    total = sum(int(input()) for _ in range(n))\n",
    "    if total > 0:\n",
    "        print('+')\n",
    "    elif total < 0:\n",
    "        print('-')\n",
    "    else:\n",
    "        print('0')"
   ]
  },
  {
   "cell_type": "markdown",
   "id": "708cf208",
   "metadata": {},
   "source": [
    "#### 1075 나누기"
   ]
  },
  {
   "cell_type": "code",
   "execution_count": 12,
   "id": "4f67112c",
   "metadata": {},
   "outputs": [
    {
     "name": "stdout",
     "output_type": "stream",
     "text": [
      "428392\n",
      "17\n",
      "15\n"
     ]
    }
   ],
   "source": [
    "n = int(input()[:-2] + '00')\n",
    "f = int(input())\n",
    "if n % f == 0:\n",
    "    print('00')\n",
    "else:\n",
    "    print(str(f * (n // f + 1))[-2:])"
   ]
  },
  {
   "cell_type": "code",
   "execution_count": null,
   "id": "a9781053",
   "metadata": {},
   "outputs": [],
   "source": []
  }
 ],
 "metadata": {
  "kernelspec": {
   "display_name": "Python 3 (ipykernel)",
   "language": "python",
   "name": "python3"
  },
  "language_info": {
   "codemirror_mode": {
    "name": "ipython",
    "version": 3
   },
   "file_extension": ".py",
   "mimetype": "text/x-python",
   "name": "python",
   "nbconvert_exporter": "python",
   "pygments_lexer": "ipython3",
   "version": "3.8.10"
  }
 },
 "nbformat": 4,
 "nbformat_minor": 5
}
