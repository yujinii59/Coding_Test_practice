{
 "cells": [
  {
   "cell_type": "markdown",
   "id": "a80570a4",
   "metadata": {},
   "source": [
    "#### 문제\n",
    "피보나치 수는 0과 1로 시작한다. 0번째 피보나치 수는 0이고, 1번째 피보나치 수는 1이다. 그 다음 2번째 부터는 바로 앞 두 피보나치 수의 합이 된다.\n",
    "\n",
    "이를 식으로 써보면 Fn = Fn-1 + Fn-2 (n ≥ 2)가 된다.\n",
    "\n",
    "n=17일때 까지 피보나치 수를 써보면 다음과 같다.\n",
    "\n",
    "0, 1, 1, 2, 3, 5, 8, 13, 21, 34, 55, 89, 144, 233, 377, 610, 987, 1597\n",
    "\n",
    "n이 주어졌을 때, n번째 피보나치 수를 구하는 프로그램을 작성하시오.\n",
    "\n",
    "#### 입력\n",
    "첫째 줄에 n이 주어진다. n은 1,000,000,000,000,000,000보다 작거나 같은 자연수이다.\n",
    "\n",
    "#### 출력\n",
    "첫째 줄에 n번째 피보나치 수를 1,000,000,007으로 나눈 나머지를 출력한다.\n",
    "\n",
    "#### 예제 입력 1 \n",
    "1000\n",
    "#### 예제 출력 1 \n",
    "517691607"
   ]
  },
  {
   "cell_type": "code",
   "execution_count": 35,
   "id": "6c221a44",
   "metadata": {},
   "outputs": [
    {
     "name": "stdout",
     "output_type": "stream",
     "text": [
      "1000\n",
      "517691607\n"
     ]
    }
   ],
   "source": [
    "def fibonacci(n):\n",
    "    base = [[1,1],[1,0]]\n",
    "    if n == 1:\n",
    "        matrix = base\n",
    "    else:\n",
    "        div_matrix = fibonacci(n // 2)\n",
    "        matrix = [\n",
    "                    [\n",
    "                        (div_matrix[0][0] * div_matrix[0][0] + div_matrix[0][1] * div_matrix[1][0]) % 1000000007, \n",
    "                        (div_matrix[0][0] * div_matrix[0][1] + div_matrix[0][1] * div_matrix[1][1]) % 1000000007\n",
    "                    ],\n",
    "                    [\n",
    "                        (div_matrix[1][0] * div_matrix[0][0] + div_matrix[1][1] * div_matrix[1][0]) % 1000000007, \n",
    "                        (div_matrix[1][0] * div_matrix[0][1] + div_matrix[1][1] * div_matrix[1][1]) % 1000000007\n",
    "                    ]\n",
    "        ]\n",
    "        if n % 2 == 1:\n",
    "            matrix = [\n",
    "                        [\n",
    "                            (matrix[0][0] * base[0][0] + matrix[0][1] * base[1][0]) % 1000000007, \n",
    "                            (matrix[0][0] * base[0][1] + matrix[0][1] * base[1][1]) % 1000000007\n",
    "                        ],\n",
    "                        [\n",
    "                            (matrix[1][0] * base[0][0] + matrix[1][1] * base[1][0]) % 1000000007, \n",
    "                            (matrix[1][0] * base[0][1] + matrix[1][1] * base[1][1]) % 1000000007\n",
    "                        ]\n",
    "                    ]\n",
    "    return matrix\n",
    "\n",
    "n = int(input())\n",
    "print(fibonacci(n)[0][1] % 1000000007)"
   ]
  }
 ],
 "metadata": {
  "kernelspec": {
   "display_name": "Python 3 (ipykernel)",
   "language": "python",
   "name": "python3"
  },
  "language_info": {
   "codemirror_mode": {
    "name": "ipython",
    "version": 3
   },
   "file_extension": ".py",
   "mimetype": "text/x-python",
   "name": "python",
   "nbconvert_exporter": "python",
   "pygments_lexer": "ipython3",
   "version": "3.8.10"
  }
 },
 "nbformat": 4,
 "nbformat_minor": 5
}
