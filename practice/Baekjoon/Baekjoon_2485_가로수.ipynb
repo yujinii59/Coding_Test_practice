{
 "cells": [
  {
   "cell_type": "markdown",
   "id": "438aa33f",
   "metadata": {},
   "source": [
    "#### 문제\n",
    "직선으로 되어있는 도로의 한 편에 가로수가 임의의 간격으로 심어져있다. KOI 시에서는 가로수들이 모두 같은 간격이 되도록 가로수를 추가로 심는 사업을 추진하고 있다. KOI 시에서는 예산문제로 가능한 한 가장 적은 수의 나무를 심고 싶다.\n",
    "\n",
    "편의상 가로수의 위치는 기준점으로 부터 떨어져 있는 거리로 표현되며, 가로수의 위치는 모두 양의 정수이다.\n",
    "\n",
    "예를 들어, 가로수가 (1, 3, 7, 13)의 위치에 있다면 (5, 9, 11)의 위치에 가로수를 더 심으면 모든 가로수들의 간격이 같게 된다. 또한, 가로수가 (2, 6, 12, 18)에 있다면 (4, 8, 10, 14, 16)에 가로수를 더 심어야 한다.\n",
    "\n",
    "심어져 있는 가로수의 위치가 주어질 때, 모든 가로수가 같은 간격이 되도록 새로 심어야 하는 가로수의 최소수를 구하는 프로그램을 작성하라. 단, 추가되는 나무는 기존의 나무들 사이에만 심을 수 있다.\n",
    "\n",
    "#### 입력\n",
    "첫째 줄에는 이미 심어져 있는 가로수의 수를 나타내는 하나의 정수 N이 주어진다(3 ≤ N ≤ 100,000). 둘째 줄부터 N개의 줄에는 각 줄마다 심어져 있는 가로수의 위치가 양의 정수로 주어지며, 가로수의 위치를 나타내는 정수는 1,000,000,000 이하이다. 가로수의 위치를 나타내는 정수는 모두 다르다.\n",
    "\n",
    "#### 출력\n",
    "모든 가로수가 같은 간격이 되도록 새로 심어야 하는 가로수의 최소수를 첫 번째 줄에 출력한다.\n",
    "\n",
    "#### 예제 입력 1 \n",
    "4\n",
    "\n",
    "1\n",
    "\n",
    "3\n",
    "\n",
    "7\n",
    "\n",
    "13\n",
    "#### 예제 출력 1 \n",
    "3\n",
    "#### 예제 입력 2 \n",
    "4\n",
    "\n",
    "2\n",
    "\n",
    "6\n",
    "\n",
    "12\n",
    "\n",
    "18\n",
    "#### 예제 출력 2 \n",
    "5"
   ]
  },
  {
   "cell_type": "code",
   "execution_count": 5,
   "id": "c856eff8",
   "metadata": {},
   "outputs": [
    {
     "name": "stdout",
     "output_type": "stream",
     "text": [
      "4\n",
      "2\n",
      "6\n",
      "12\n",
      "18\n",
      "5\n"
     ]
    }
   ],
   "source": [
    "from math import gcd\n",
    "n = int(input())\n",
    "diff = []\n",
    "gcd_val = 0\n",
    "prev = 0\n",
    "for i in range(n):\n",
    "    tree = int(input()) \n",
    "    if i > 0:\n",
    "        d = tree - prev\n",
    "        diff.append(d)\n",
    "        if i == 1:\n",
    "            gcd_val = d\n",
    "        else:\n",
    "            gcd_val = gcd(gcd_val, d)\n",
    "    prev = tree\n",
    "    \n",
    "cnt = 0    \n",
    "for d in diff:\n",
    "    cnt += (d // gcd_val) - 1\n",
    "print(cnt)"
   ]
  }
 ],
 "metadata": {
  "kernelspec": {
   "display_name": "Python 3 (ipykernel)",
   "language": "python",
   "name": "python3"
  },
  "language_info": {
   "codemirror_mode": {
    "name": "ipython",
    "version": 3
   },
   "file_extension": ".py",
   "mimetype": "text/x-python",
   "name": "python",
   "nbconvert_exporter": "python",
   "pygments_lexer": "ipython3",
   "version": "3.8.10"
  }
 },
 "nbformat": 4,
 "nbformat_minor": 5
}
