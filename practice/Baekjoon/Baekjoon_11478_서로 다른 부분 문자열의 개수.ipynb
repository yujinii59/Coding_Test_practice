{
 "cells": [
  {
   "cell_type": "markdown",
   "id": "54ce260f",
   "metadata": {},
   "source": [
    "#### 문제\n",
    "문자열 S가 주어졌을 때, S의 서로 다른 부분 문자열의 개수를 구하는 프로그램을 작성하시오.\n",
    "\n",
    "부분 문자열은 S에서 연속된 일부분을 말하며, 길이가 1보다 크거나 같아야 한다.\n",
    "\n",
    "예를 들어, ababc의 부분 문자열은 a, b, a, b, c, ab, ba, ab, bc, aba, bab, abc, abab, babc, ababc가 있고, 서로 다른것의 개수는 12개이다.\n",
    "\n",
    "#### 입력\n",
    "첫째 줄에 문자열 S가 주어진다. S는 알파벳 소문자로만 이루어져 있고, 길이는 1,000 이하이다.\n",
    "\n",
    "#### 출력\n",
    "첫째 줄에 S의 서로 다른 부분 문자열의 개수를 출력한다.\n",
    "\n",
    "#### 예제 입력 1 \n",
    "ababc\n",
    "\n",
    "#### 예제 출력 1 \n",
    "12"
   ]
  },
  {
   "cell_type": "code",
   "execution_count": 3,
   "id": "ae5facc0",
   "metadata": {},
   "outputs": [
    {
     "name": "stdout",
     "output_type": "stream",
     "text": [
      "ababc\n",
      "['a', 'b', 'a', 'b', 'c', 'ab', 'ba', 'ab', 'bc', 'aba', 'bab', 'abc', 'abab', 'babc', 'ababc']\n",
      "12\n"
     ]
    }
   ],
   "source": [
    "s = input()\n",
    "ls = []\n",
    "for i in range(1, len(s) + 1):\n",
    "    for j in range(0, len(s) - (i - 1)):\n",
    "        ls.append(s[j:j + i])\n",
    "ls = set(ls)\n",
    "print(len(ls))"
   ]
  },
  {
   "cell_type": "code",
   "execution_count": null,
   "id": "c705377b",
   "metadata": {},
   "outputs": [],
   "source": []
  }
 ],
 "metadata": {
  "kernelspec": {
   "display_name": "Python 3 (ipykernel)",
   "language": "python",
   "name": "python3"
  },
  "language_info": {
   "codemirror_mode": {
    "name": "ipython",
    "version": 3
   },
   "file_extension": ".py",
   "mimetype": "text/x-python",
   "name": "python",
   "nbconvert_exporter": "python",
   "pygments_lexer": "ipython3",
   "version": "3.8.10"
  }
 },
 "nbformat": 4,
 "nbformat_minor": 5
}
