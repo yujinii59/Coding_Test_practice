{
 "cells": [
  {
   "cell_type": "markdown",
   "id": "9ff75794",
   "metadata": {},
   "source": [
    "#### 문제\n",
    "임한수와 임문빈은 서로 사랑하는 사이이다.\n",
    "\n",
    "임한수는 세상에서 팰린드롬인 문자열을 너무 좋아하기 때문에, 둘의 백일을 기념해서 임문빈은 팰린드롬을 선물해주려고 한다.\n",
    "\n",
    "임문빈은 임한수의 영어 이름으로 팰린드롬을 만들려고 하는데, 임한수의 영어 이름의 알파벳 순서를 적절히 바꿔서 팰린드롬을 만들려고 한다.\n",
    "\n",
    "임문빈을 도와 임한수의 영어 이름을 팰린드롬으로 바꾸는 프로그램을 작성하시오.\n",
    "\n",
    "#### 입력\n",
    "첫째 줄에 임한수의 영어 이름이 있다. 알파벳 대문자로만 된 최대 50글자이다.\n",
    "\n",
    "#### 출력\n",
    "첫째 줄에 문제의 정답을 출력한다. 만약 불가능할 때는 \"I'm Sorry Hansoo\"를 출력한다. 정답이 여러 개일 경우에는 사전순으로 앞서는 것을 출력한다.\n",
    "\n",
    "#### 예제 입력 1 \n",
    "AABB\n",
    "#### 예제 출력 1 \n",
    "ABBA\n",
    "#### 예제 입력 2 \n",
    "AAABB\n",
    "#### 예제 출력 2 \n",
    "ABABA\n",
    "#### 예제 입력 3 \n",
    "ABACABA\n",
    "#### 예제 출력 3 \n",
    "AABCBAA\n",
    "#### 예제 입력 4 \n",
    "ABCD\n",
    "#### 예제 출력 4 \n",
    "I'm Sorry Hansoo"
   ]
  },
  {
   "cell_type": "code",
   "execution_count": 8,
   "id": "652469a5",
   "metadata": {},
   "outputs": [
    {
     "name": "stdout",
     "output_type": "stream",
     "text": [
      "AB\n",
      "I'm Sorry Hansoo\n"
     ]
    }
   ],
   "source": [
    "from collections import Counter\n",
    "\n",
    "string = input()\n",
    "cnt_dict = Counter(string)\n",
    "l = len(string)\n",
    "\n",
    "if l % 2 == 0:\n",
    "    odd = False\n",
    "else:\n",
    "    odd = True\n",
    "\n",
    "ss = ''    \n",
    "se = ''\n",
    "odd_str = ''\n",
    "succ = True\n",
    "cnt_dict = sorted(cnt_dict.items())\n",
    "for alpha, cnt in cnt_dict:\n",
    "    if cnt % 2 == 0:\n",
    "        a = alpha * (cnt // 2)\n",
    "        ss += a\n",
    "        se = a + se\n",
    "    else:\n",
    "        if odd:\n",
    "            odd_str = alpha\n",
    "            a = alpha * (cnt // 2)\n",
    "            ss += a\n",
    "            se = a + se\n",
    "            odd = False\n",
    "        else:\n",
    "            succ = False\n",
    "            break\n",
    "if succ:\n",
    "    print(ss + odd_str + se)\n",
    "else:\n",
    "    print('I\\'m Sorry Hansoo')"
   ]
  },
  {
   "cell_type": "code",
   "execution_count": null,
   "id": "ff4c1ac2",
   "metadata": {},
   "outputs": [],
   "source": []
  }
 ],
 "metadata": {
  "kernelspec": {
   "display_name": "Python 3 (ipykernel)",
   "language": "python",
   "name": "python3"
  },
  "language_info": {
   "codemirror_mode": {
    "name": "ipython",
    "version": 3
   },
   "file_extension": ".py",
   "mimetype": "text/x-python",
   "name": "python",
   "nbconvert_exporter": "python",
   "pygments_lexer": "ipython3",
   "version": "3.8.10"
  }
 },
 "nbformat": 4,
 "nbformat_minor": 5
}
