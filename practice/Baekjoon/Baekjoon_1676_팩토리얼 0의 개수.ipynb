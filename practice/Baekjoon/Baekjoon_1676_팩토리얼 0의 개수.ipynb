{
 "cells": [
  {
   "cell_type": "markdown",
   "id": "fcd79122",
   "metadata": {},
   "source": [
    "#### 문제\n",
    "N!에서 뒤에서부터 처음 0이 아닌 숫자가 나올 때까지 0의 개수를 구하는 프로그램을 작성하시오.\n",
    "\n",
    "#### 입력\n",
    "첫째 줄에 N이 주어진다. (0 ≤ N ≤ 500)\n",
    "\n",
    "#### 출력\n",
    "첫째 줄에 구한 0의 개수를 출력한다.\n",
    "\n",
    "##### 예제 입력 1 \n",
    "10\n",
    "##### 예제 출력 1 \n",
    "2\n",
    "##### 예제 입력 2 \n",
    "3\n",
    "##### 예제 출력 2 \n",
    "0"
   ]
  },
  {
   "cell_type": "code",
   "execution_count": 3,
   "id": "84c03629",
   "metadata": {},
   "outputs": [
    {
     "name": "stdout",
     "output_type": "stream",
     "text": [
      "10\n",
      "3628800\n",
      "2\n"
     ]
    }
   ],
   "source": [
    "from math import factorial\n",
    "n = int(input())\n",
    "\n",
    "num = str(factorial(n))\n",
    "cnt = 0\n",
    "for i in range(len(num) - 1, -1, -1):\n",
    "    if num[i] != '0':\n",
    "        break\n",
    "    else:\n",
    "        cnt += 1\n",
    "        \n",
    "print(cnt)"
   ]
  },
  {
   "cell_type": "code",
   "execution_count": null,
   "id": "a2f43a51",
   "metadata": {},
   "outputs": [],
   "source": []
  }
 ],
 "metadata": {
  "kernelspec": {
   "display_name": "Python 3 (ipykernel)",
   "language": "python",
   "name": "python3"
  },
  "language_info": {
   "codemirror_mode": {
    "name": "ipython",
    "version": 3
   },
   "file_extension": ".py",
   "mimetype": "text/x-python",
   "name": "python",
   "nbconvert_exporter": "python",
   "pygments_lexer": "ipython3",
   "version": "3.8.10"
  }
 },
 "nbformat": 4,
 "nbformat_minor": 5
}
