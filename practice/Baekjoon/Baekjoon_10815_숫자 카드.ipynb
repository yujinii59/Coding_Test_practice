{
 "cells": [
  {
   "cell_type": "markdown",
   "id": "f3aebd8e",
   "metadata": {},
   "source": [
    "\n",
    "#### 문제\n",
    "숫자 카드는 정수 하나가 적혀져 있는 카드이다. 상근이는 숫자 카드 N개를 가지고 있다. 정수 M개가 주어졌을 때, 이 수가 적혀있는 숫자 카드를 상근이가 가지고 있는지 아닌지를 구하는 프로그램을 작성하시오.\n",
    "\n",
    "\n",
    "#### 입력\n",
    "첫째 줄에 상근이가 가지고 있는 숫자 카드의 개수 N(1 ≤ N ≤ 500,000)이 주어진다. 둘째 줄에는 숫자 카드에 적혀있는 정수가 주어진다. 숫자 카드에 적혀있는 수는 -10,000,000보다 크거나 같고, 10,000,000보다 작거나 같다. 두 숫자 카드에 같은 수가 적혀있는 경우는 없다.\n",
    "\n",
    "셋째 줄에는 M(1 ≤ M ≤ 500,000)이 주어진다. 넷째 줄에는 상근이가 가지고 있는 숫자 카드인지 아닌지를 구해야 할 M개의 정수가 주어지며, 이 수는 공백으로 구분되어져 있다. 이 수도 -10,000,000보다 크거나 같고, 10,000,000보다 작거나 같다\n",
    "\n",
    "\n",
    "#### 출력\n",
    "첫째 줄에 입력으로 주어진 M개의 수에 대해서, 각 수가 적힌 숫자 카드를 상근이가 가지고 있으면 1을, 아니면 0을 공백으로 구분해 출력한다.\n",
    "\n",
    "\n",
    "#### 예제 입력 1 \n",
    "5\n",
    "\n",
    "6 3 2 10 -10\n",
    "\n",
    "8\n",
    "\n",
    "10 9 -5 2 3 4 5 -10\n",
    "\n",
    "#### 예제 출력 1 \n",
    "1 0 0 1 1 0 0 1"
   ]
  },
  {
   "cell_type": "code",
   "execution_count": 9,
   "id": "b84d95bd",
   "metadata": {},
   "outputs": [],
   "source": [
    "def bisect(ls, start, end, target):\n",
    "    if start == end:\n",
    "        if start == len(ls):\n",
    "            return 0\n",
    "        \n",
    "        if ls[start] != target:\n",
    "            return 0\n",
    "        else:\n",
    "            return 1\n",
    "    else:\n",
    "        mid = (start + end) // 2\n",
    "        if ls[mid] > target:\n",
    "            rst = bisect(ls, start, mid, target)\n",
    "        elif ls[mid] < target:\n",
    "            rst = bisect(ls, mid + 1, end, target)\n",
    "        else:\n",
    "            rst = 1\n",
    "    return rst"
   ]
  },
  {
   "cell_type": "code",
   "execution_count": 10,
   "id": "f5e3ef5e",
   "metadata": {},
   "outputs": [
    {
     "name": "stdout",
     "output_type": "stream",
     "text": [
      "5\n",
      "6 3 2 10 -10\n",
      "8\n",
      "10 9 -5 2 3 4 5 -10\n",
      "1 a\n",
      "0 a\n",
      "0 1 1 a\n",
      "0 a\n",
      "0 1 "
     ]
    }
   ],
   "source": [
    "n = int(input())\n",
    "cards = sorted(list(map(int, input().split())))\n",
    "m = int(input())\n",
    "chk_cards = list(map(int, input().split()))\n",
    "for chk in chk_cards:\n",
    "    print(bisect(cards, 0, n, chk), end=' ')"
   ]
  },
  {
   "cell_type": "code",
   "execution_count": null,
   "id": "5b4e1bfd",
   "metadata": {},
   "outputs": [],
   "source": [
    "n = int(input())\n",
    "cards = {i : '1' for i in list(map(int,input().split()))}\n",
    "m = int(input())\n",
    "chk_cards = list(map(int, input().split()))\n",
    "rst_ls = [cards.get(chk, '0') for chk in chk_cards]\n",
    "print(' '.join(rst_ls))    \n"
   ]
  }
 ],
 "metadata": {
  "kernelspec": {
   "display_name": "Python 3 (ipykernel)",
   "language": "python",
   "name": "python3"
  },
  "language_info": {
   "codemirror_mode": {
    "name": "ipython",
    "version": 3
   },
   "file_extension": ".py",
   "mimetype": "text/x-python",
   "name": "python",
   "nbconvert_exporter": "python",
   "pygments_lexer": "ipython3",
   "version": "3.8.10"
  }
 },
 "nbformat": 4,
 "nbformat_minor": 5
}
