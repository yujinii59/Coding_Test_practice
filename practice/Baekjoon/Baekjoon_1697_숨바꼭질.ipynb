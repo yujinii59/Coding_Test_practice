{
 "cells": [
  {
   "cell_type": "markdown",
   "id": "771ade8c",
   "metadata": {},
   "source": [
    "#### 문제\n",
    "수빈이는 동생과 숨바꼭질을 하고 있다. 수빈이는 현재 점 N(0 ≤ N ≤ 100,000)에 있고, 동생은 점 K(0 ≤ K ≤ 100,000)에 있다. 수빈이는 걷거나 순간이동을 할 수 있다. 만약, 수빈이의 위치가 X일 때 걷는다면 1초 후에 X-1 또는 X+1로 이동하게 된다. 순간이동을 하는 경우에는 1초 후에 2*X의 위치로 이동하게 된다.\n",
    "\n",
    "수빈이와 동생의 위치가 주어졌을 때, 수빈이가 동생을 찾을 수 있는 가장 빠른 시간이 몇 초 후인지 구하는 프로그램을 작성하시오.\n",
    "\n",
    "#### 입력\n",
    "첫 번째 줄에 수빈이가 있는 위치 N과 동생이 있는 위치 K가 주어진다. N과 K는 정수이다.\n",
    "\n",
    "#### 출력\n",
    "수빈이가 동생을 찾는 가장 빠른 시간을 출력한다.\n",
    "\n",
    "#### 예제 입력 1 \n",
    "5 17\n",
    "#### 예제 출력 1 \n",
    "4\n",
    "#### 힌트\n",
    "수빈이가 5-10-9-18-17 순으로 가면 4초만에 동생을 찾을 수 있다."
   ]
  },
  {
   "cell_type": "code",
   "execution_count": 24,
   "id": "4c4d5b7c",
   "metadata": {},
   "outputs": [],
   "source": [
    "from collections import deque\n",
    "\n",
    "n, k = map(int, input().split())\n",
    "m, M = (n // 2) + 1, 2 * k\n",
    "visited = {i:0 for i in range(m, M)}\n",
    "min_cnt = abs(n - k)\n",
    "q = deque()\n",
    "q.append((0, n))\n",
    "visited[n] = 1\n",
    "while q:\n",
    "    cnt, loc = q.popleft()\n",
    "    if cnt < min_cnt:\n",
    "        if loc > k:\n",
    "            min_cnt = min(min_cnt, cnt + loc - k)\n",
    "        elif loc < k:\n",
    "            if 2 * loc < M and visited[2 * loc] == 0:\n",
    "                q.append((cnt + 1, 2 * loc))\n",
    "                visited[2 * loc] = 1\n",
    "\n",
    "            if loc - 1 > m and visited[loc - 1] == 0:\n",
    "                q.append((cnt + 1, loc - 1))\n",
    "                visited[loc - 1] = 1\n",
    "            \n",
    "            if visited[loc + 1] == 0:\n",
    "                q.append((cnt + 1, loc + 1))\n",
    "                visited[loc + 1] = 1\n",
    "        else:\n",
    "            min_cnt = min(min_cnt, cnt)\n",
    "\n",
    "print(min_cnt)"
   ]
  }
 ],
 "metadata": {
  "kernelspec": {
   "display_name": "Python 3 (ipykernel)",
   "language": "python",
   "name": "python3"
  },
  "language_info": {
   "codemirror_mode": {
    "name": "ipython",
    "version": 3
   },
   "file_extension": ".py",
   "mimetype": "text/x-python",
   "name": "python",
   "nbconvert_exporter": "python",
   "pygments_lexer": "ipython3",
   "version": "3.8.10"
  }
 },
 "nbformat": 4,
 "nbformat_minor": 5
}
