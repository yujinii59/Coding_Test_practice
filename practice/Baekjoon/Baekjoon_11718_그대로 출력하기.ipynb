{
 "cells": [
  {
   "cell_type": "markdown",
   "id": "0b182c01",
   "metadata": {},
   "source": [
    "#### 문제\n",
    "입력 받은 대로 출력하는 프로그램을 작성하시오.\n",
    "\n",
    "#### 입력\n",
    "입력이 주어진다. 입력은 최대 100줄로 이루어져 있고, 알파벳 소문자, 대문자, 공백, 숫자로만 이루어져 있다. 각 줄은 100글자를 넘지 않으며, 빈 줄은 주어지지 않는다. 또, 각 줄은 공백으로 시작하지 않고, 공백으로 끝나지 않는다.\n",
    "\n",
    "#### 출력\n",
    "입력받은 그대로 출력한다.\n",
    "\n",
    "#### 예제 입력 1 \n",
    "Hello\n",
    "\n",
    "Baekjoon\n",
    "\n",
    "Online Judge\n",
    "\n",
    "#### 예제 출력 1 \n",
    "Hello\n",
    "\n",
    "Baekjoon\n",
    "\n",
    "Online Judge"
   ]
  },
  {
   "cell_type": "code",
   "execution_count": null,
   "id": "ce24ee78",
   "metadata": {},
   "outputs": [],
   "source": [
    "i = 1\n",
    "while i <= 100:\n",
    "    try:\n",
    "        s = input()\n",
    "        if s == '':\n",
    "            break\n",
    "        print(s)\n",
    "        i += 1\n",
    "    except EOFError:\n",
    "        break\n",
    "    "
   ]
  }
 ],
 "metadata": {
  "kernelspec": {
   "display_name": "Python 3 (ipykernel)",
   "language": "python",
   "name": "python3"
  },
  "language_info": {
   "codemirror_mode": {
    "name": "ipython",
    "version": 3
   },
   "file_extension": ".py",
   "mimetype": "text/x-python",
   "name": "python",
   "nbconvert_exporter": "python",
   "pygments_lexer": "ipython3",
   "version": "3.8.10"
  }
 },
 "nbformat": 4,
 "nbformat_minor": 5
}
