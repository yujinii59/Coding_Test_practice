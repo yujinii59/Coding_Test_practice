{
 "cells": [
  {
   "cell_type": "markdown",
   "id": "21440099",
   "metadata": {},
   "source": [
    "#### 문제\n",
    "1부터 N까지의 수로 이루어진 순열이 있다. 이때, 사전순으로 다음에 오는 순열을 구하는 프로그램을 작성하시오.\n",
    "\n",
    "사전 순으로 가장 앞서는 순열은 오름차순으로 이루어진 순열이고, 가장 마지막에 오는 순열은 내림차순으로 이루어진 순열이다.\n",
    "\n",
    "N = 3인 경우에 사전순으로 순열을 나열하면 다음과 같다.\n",
    "\n",
    "\n",
    "1, 2, 3\n",
    "\n",
    "1, 3, 2\n",
    "\n",
    "2, 1, 3\n",
    "\n",
    "2, 3, 1\n",
    "\n",
    "3, 1, 2\n",
    "\n",
    "3, 2, 1\n",
    "#### 입력\n",
    "첫째 줄에 N(1 ≤ N ≤ 10,000)이 주어진다. 둘째 줄에 순열이 주어진다.\n",
    "\n",
    "#### 출력\n",
    "첫째 줄에 입력으로 주어진 순열의 다음에 오는 순열을 출력한다. 만약, 사전순으로 마지막에 오는 순열인 경우에는 -1을 출력한다.\n",
    "\n",
    "#### 예제 입력 1 \n",
    "4\n",
    "\n",
    "1 2 3 4\n",
    "#### 예제 출력 1 \n",
    "1 2 4 3\n",
    "#### 예제 입력 2 \n",
    "5\n",
    "\n",
    "5 4 3 2 1\n",
    "#### 예제 출력 2 \n",
    "-1\n"
   ]
  },
  {
   "cell_type": "code",
   "execution_count": 32,
   "id": "57d5a864",
   "metadata": {},
   "outputs": [
    {
     "name": "stdout",
     "output_type": "stream",
     "text": [
      "4\n",
      "1 3 2 4\n",
      "1 3 4 2\n"
     ]
    }
   ],
   "source": [
    "n = int(input())\n",
    "nums = list(map(int, input().split()))\n",
    "result = [-1]\n",
    "for i in range(n-1, 0, -1):\n",
    "    if nums[i] > nums[i-1]:\n",
    "        chg = sorted(nums[i:])\n",
    "        result = nums[:i-1]\n",
    "        tmp = []\n",
    "        k = 0\n",
    "        for j in range(len(chg)):\n",
    "            num = chg[j]\n",
    "            if num > nums[i-1]:\n",
    "                if k == 0:\n",
    "                    k += 1\n",
    "                    tmp.append(nums[i-1])\n",
    "                    result.append(num)\n",
    "                    result.extend(tmp + chg[j+1:])\n",
    "                    break\n",
    "            else:\n",
    "                tmp.append(num)\n",
    "        break\n",
    "print(' '.join(list(map(str, result))))"
   ]
  }
 ],
 "metadata": {
  "kernelspec": {
   "display_name": "Python 3 (ipykernel)",
   "language": "python",
   "name": "python3"
  },
  "language_info": {
   "codemirror_mode": {
    "name": "ipython",
    "version": 3
   },
   "file_extension": ".py",
   "mimetype": "text/x-python",
   "name": "python",
   "nbconvert_exporter": "python",
   "pygments_lexer": "ipython3",
   "version": "3.8.10"
  }
 },
 "nbformat": 4,
 "nbformat_minor": 5
}
