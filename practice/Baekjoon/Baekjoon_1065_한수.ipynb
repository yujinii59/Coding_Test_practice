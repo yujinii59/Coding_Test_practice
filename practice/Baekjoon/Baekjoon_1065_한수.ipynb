{
 "cells": [
  {
   "cell_type": "markdown",
   "id": "82f148c5",
   "metadata": {},
   "source": [
    "#### 문제\n",
    "어떤 양의 정수 X의 각 자리가 등차수열을 이룬다면, 그 수를 한수라고 한다. 등차수열은 연속된 두 개의 수의 차이가 일정한 수열을 말한다. N이 주어졌을 때, 1보다 크거나 같고, N보다 작거나 같은 한수의 개수를 출력하는 프로그램을 작성하시오. \n",
    "\n",
    "#### 입력\n",
    "첫째 줄에 1,000보다 작거나 같은 자연수 N이 주어진다.\n",
    "\n",
    "#### 출력\n",
    "첫째 줄에 1보다 크거나 같고, N보다 작거나 같은 한수의 개수를 출력한다.\n",
    "\n",
    "#### 예제 입력 1 \n",
    "110\n",
    "#### 예제 출력 1 \n",
    "99\n",
    "#### 예제 입력 2 \n",
    "1\n",
    "#### 예제 출력 2 \n",
    "1\n",
    "#### 예제 입력 3 \n",
    "210\n",
    "#### 예제 출력 3 \n",
    "105\n",
    "#### 예제 입력 4 \n",
    "1000\n",
    "#### 예제 출력 4 \n",
    "144\n",
    "#### 예제 입력 5 \n",
    "500\n",
    "#### 예제 출력 5 \n",
    "119"
   ]
  },
  {
   "cell_type": "code",
   "execution_count": 4,
   "id": "550b15eb",
   "metadata": {},
   "outputs": [
    {
     "name": "stdout",
     "output_type": "stream",
     "text": [
      "210\n",
      "105\n"
     ]
    }
   ],
   "source": [
    "n = int(input())\n",
    "\n",
    "if n < 100:\n",
    "    print(n)\n",
    "else:\n",
    "    result = 99\n",
    "    for i in range(100, n + 1):\n",
    "        comp = str(i)\n",
    "        if int(comp[1]) - int(comp[0]) == int(comp[2]) - int(comp[1]):\n",
    "            result += 1\n",
    "    print(result)"
   ]
  },
  {
   "cell_type": "code",
   "execution_count": null,
   "id": "14ebc3c0",
   "metadata": {},
   "outputs": [],
   "source": []
  }
 ],
 "metadata": {
  "kernelspec": {
   "display_name": "Python 3 (ipykernel)",
   "language": "python",
   "name": "python3"
  },
  "language_info": {
   "codemirror_mode": {
    "name": "ipython",
    "version": 3
   },
   "file_extension": ".py",
   "mimetype": "text/x-python",
   "name": "python",
   "nbconvert_exporter": "python",
   "pygments_lexer": "ipython3",
   "version": "3.8.10"
  }
 },
 "nbformat": 4,
 "nbformat_minor": 5
}
