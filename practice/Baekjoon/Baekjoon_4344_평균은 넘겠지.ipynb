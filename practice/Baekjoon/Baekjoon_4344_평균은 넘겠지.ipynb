{
 "cells": [
  {
   "cell_type": "markdown",
   "id": "4b0f5760",
   "metadata": {},
   "source": [
    "#### 문제\n",
    "대학생 새내기들의 90%는 자신이 반에서 평균은 넘는다고 생각한다. 당신은 그들에게 슬픈 진실을 알려줘야 한다.\n",
    "\n",
    "#### 입력\n",
    "첫째 줄에는 테스트 케이스의 개수 C가 주어진다.\n",
    "\n",
    "둘째 줄부터 각 테스트 케이스마다 학생의 수 N(1 ≤ N ≤ 1000, N은 정수)이 첫 수로 주어지고, 이어서 N명의 점수가 주어진다. 점수는 0보다 크거나 같고, 100보다 작거나 같은 정수이다.\n",
    "\n",
    "#### 출력\n",
    "각 케이스마다 한 줄씩 평균을 넘는 학생들의 비율을 반올림하여 소수점 셋째 자리까지 출력한다.\n",
    "\n",
    "#### 예제 입력 1 \n",
    "5\n",
    "\n",
    "5 50 50 70 80 100\n",
    "\n",
    "7 100 95 90 80 70 60 50\n",
    "\n",
    "3 70 90 80\n",
    "\n",
    "3 70 90 81\n",
    "\n",
    "9 100 99 98 97 96 95 94 93 91\n",
    "\n",
    "#### 예제 출력 1 \n",
    "\n",
    "40.000%\n",
    "\n",
    "57.143%\n",
    "\n",
    "33.333%\n",
    "\n",
    "66.667%\n",
    "\n",
    "55.556%"
   ]
  },
  {
   "cell_type": "code",
   "execution_count": 2,
   "id": "65bb181c",
   "metadata": {},
   "outputs": [
    {
     "name": "stdout",
     "output_type": "stream",
     "text": [
      "1\n",
      "5 50 50 70 80 100\n",
      "40.000\n"
     ]
    }
   ],
   "source": [
    "c = int(input())\n",
    "for _ in range(c):\n",
    "    s = list(map(int, input().split()))\n",
    "    n = s[0]\n",
    "    grades = s[1:]\n",
    "    \n",
    "    avg = sum(grade for grade in grades) / n\n",
    "    print(f'{sum(1 for grade in grades if grade > avg) * 100 / n:.3f}%')"
   ]
  },
  {
   "cell_type": "code",
   "execution_count": null,
   "id": "877d5dfb",
   "metadata": {},
   "outputs": [],
   "source": []
  }
 ],
 "metadata": {
  "kernelspec": {
   "display_name": "Python 3 (ipykernel)",
   "language": "python",
   "name": "python3"
  },
  "language_info": {
   "codemirror_mode": {
    "name": "ipython",
    "version": 3
   },
   "file_extension": ".py",
   "mimetype": "text/x-python",
   "name": "python",
   "nbconvert_exporter": "python",
   "pygments_lexer": "ipython3",
   "version": "3.8.10"
  }
 },
 "nbformat": 4,
 "nbformat_minor": 5
}
