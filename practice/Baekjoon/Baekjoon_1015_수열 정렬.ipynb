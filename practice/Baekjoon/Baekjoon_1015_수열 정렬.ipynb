{
 "cells": [
  {
   "cell_type": "markdown",
   "id": "5504e8e6",
   "metadata": {},
   "source": [
    "#### 문제\n",
    "P[0], P[1], ...., P[N-1]은 0부터 N-1까지(포함)의 수를 한 번씩 포함하고 있는 수열이다. 수열 P를 길이가 N인 배열 A에 적용하면 길이가 N인 배열 B가 된다. 적용하는 방법은 B[P[i]] = A[i]이다.\n",
    "\n",
    "배열 A가 주어졌을 때, 수열 P를 적용한 결과가 비내림차순이 되는 수열을 찾는 프로그램을 작성하시오. 비내림차순이란, 각각의 원소가 바로 앞에 있는 원소보다 크거나 같을 경우를 말한다. 만약 그러한 수열이 여러개라면 사전순으로 앞서는 것을 출력한다.\n",
    "\n",
    "#### 입력\n",
    "첫째 줄에 배열 A의 크기 N이 주어진다. 둘째 줄에는 배열 A의 원소가 0번부터 차례대로 주어진다. N은 50보다 작거나 같은 자연수이고, 배열의 원소는 1,000보다 작거나 같은 자연수이다.\n",
    "\n",
    "#### 출력\n",
    "첫째 줄에 비내림차순으로 만드는 수열 P를 출력한다.\n",
    "\n",
    "#### 예제 입력 1 \n",
    "3\n",
    "\n",
    "2 3 1\n",
    "#### 예제 출력 1 \n",
    "1 2 0\n",
    "#### 예제 입력 2 \n",
    "4\n",
    "\n",
    "2 1 3 1\n",
    "#### 예제 출력 2 \n",
    "2 0 3 1\n",
    "#### 예제 입력 3 \n",
    "8\n",
    "\n",
    "4 1 6 1 3 6 1 4\n",
    "#### 예제 출력 3 \n",
    "4 0 6 1 3 7 2 5"
   ]
  },
  {
   "cell_type": "code",
   "execution_count": 2,
   "id": "8cd94dc1",
   "metadata": {},
   "outputs": [
    {
     "name": "stdout",
     "output_type": "stream",
     "text": [
      "3\n",
      "2 3 1\n",
      "1 2 0\n"
     ]
    }
   ],
   "source": [
    "arr = {i+1:[] for i in range(1000)}\n",
    "n = int(input())\n",
    "a = list(map(int, input().split()))\n",
    "for i, e in enumerate(a):\n",
    "    arr[e].append(i)\n",
    "    \n",
    "num = 0\n",
    "results = [0 for _ in range(n)]\n",
    "for i, ls in arr.items():\n",
    "    if len(ls) > 0:\n",
    "        for j in ls:\n",
    "            results[j] = num\n",
    "            num += 1\n",
    "print(*results)"
   ]
  },
  {
   "cell_type": "code",
   "execution_count": null,
   "id": "074a01e5",
   "metadata": {},
   "outputs": [],
   "source": []
  }
 ],
 "metadata": {
  "kernelspec": {
   "display_name": "Python 3 (ipykernel)",
   "language": "python",
   "name": "python3"
  },
  "language_info": {
   "codemirror_mode": {
    "name": "ipython",
    "version": 3
   },
   "file_extension": ".py",
   "mimetype": "text/x-python",
   "name": "python",
   "nbconvert_exporter": "python",
   "pygments_lexer": "ipython3",
   "version": "3.8.10"
  }
 },
 "nbformat": 4,
 "nbformat_minor": 5
}
