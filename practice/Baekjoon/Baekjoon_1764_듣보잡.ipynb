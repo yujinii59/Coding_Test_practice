{
 "cells": [
  {
   "cell_type": "markdown",
   "id": "4d914b57",
   "metadata": {},
   "source": [
    "#### 문제\n",
    "김진영이 듣도 못한 사람의 명단과, 보도 못한 사람의 명단이 주어질 때, 듣도 보도 못한 사람의 명단을 구하는 프로그램을 작성하시오.\n",
    "\n",
    "#### 입력\n",
    "첫째 줄에 듣도 못한 사람의 수 N, 보도 못한 사람의 수 M이 주어진다. 이어서 둘째 줄부터 N개의 줄에 걸쳐 듣도 못한 사람의 이름과, N+2째 줄부터 보도 못한 사람의 이름이 순서대로 주어진다. 이름은 띄어쓰기 없이 알파벳 소문자로만 이루어지며, 그 길이는 20 이하이다. N, M은 500,000 이하의 자연수이다.\n",
    "\n",
    "듣도 못한 사람의 명단에는 중복되는 이름이 없으며, 보도 못한 사람의 명단도 마찬가지이다.\n",
    "\n",
    "#### 출력\n",
    "듣보잡의 수와 그 명단을 사전순으로 출력한다.\n",
    "\n",
    "#### 예제 입력 1 \n",
    "3 4\n",
    "\n",
    "ohhenrie\n",
    "\n",
    "charlie\n",
    "\n",
    "baesangwook\n",
    "\n",
    "obama\n",
    "\n",
    "baesangwook\n",
    "\n",
    "ohhenrie\n",
    "\n",
    "clinton\n",
    "#### 예제 출력 1 \n",
    "2\n",
    "\n",
    "baesangwook\n",
    "\n",
    "ohhenrie"
   ]
  },
  {
   "cell_type": "code",
   "execution_count": null,
   "id": "f61cd58f",
   "metadata": {},
   "outputs": [],
   "source": [
    "n, m = map(int, input().split())\n",
    "heard = []\n",
    "looked = []\n",
    "for _ in range(n):\n",
    "    heard.append(input())\n",
    "    \n",
    "for _ in range(m):\n",
    "    looked.append(input())\n",
    "    \n",
    "both = set(heard) & set(looked)\n",
    "\n",
    "print(len(both))\n",
    "for name in sorted(both):\n",
    "    print(name)"
   ]
  }
 ],
 "metadata": {
  "kernelspec": {
   "display_name": "Python 3 (ipykernel)",
   "language": "python",
   "name": "python3"
  },
  "language_info": {
   "codemirror_mode": {
    "name": "ipython",
    "version": 3
   },
   "file_extension": ".py",
   "mimetype": "text/x-python",
   "name": "python",
   "nbconvert_exporter": "python",
   "pygments_lexer": "ipython3",
   "version": "3.8.10"
  }
 },
 "nbformat": 4,
 "nbformat_minor": 5
}
