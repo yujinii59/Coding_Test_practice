{
 "cells": [
  {
   "cell_type": "markdown",
   "id": "a854de73",
   "metadata": {},
   "source": [
    "#### 문제\n",
    "적록색약은 빨간색과 초록색의 차이를 거의 느끼지 못한다. 따라서, 적록색약인 사람이 보는 그림은 아닌 사람이 보는 그림과는 좀 다를 수 있다.\n",
    "\n",
    "크기가 N×N인 그리드의 각 칸에 R(빨강), G(초록), B(파랑) 중 하나를 색칠한 그림이 있다. 그림은 몇 개의 구역으로 나뉘어져 있는데, 구역은 같은 색으로 이루어져 있다. 또, 같은 색상이 상하좌우로 인접해 있는 경우에 두 글자는 같은 구역에 속한다. (색상의 차이를 거의 느끼지 못하는 경우도 같은 색상이라 한다)\n",
    "\n",
    "예를 들어, 그림이 아래와 같은 경우에\n",
    "\n",
    "RRRBB\n",
    "\n",
    "GGBBB\n",
    "\n",
    "BBBRR\n",
    "\n",
    "BBRRR\n",
    "\n",
    "RRRRR\n",
    "\n",
    "적록색약이 아닌 사람이 봤을 때 구역의 수는 총 4개이다. (빨강 2, 파랑 1, 초록 1) 하지만, 적록색약인 사람은 구역을 3개 볼 수 있다. (빨강-초록 2, 파랑 1)\n",
    "\n",
    "그림이 입력으로 주어졌을 때, 적록색약인 사람이 봤을 때와 아닌 사람이 봤을 때 구역의 수를 구하는 프로그램을 작성하시오.\n",
    "\n",
    "#### 입력\n",
    "첫째 줄에 N이 주어진다. (1 ≤ N ≤ 100)\n",
    "\n",
    "둘째 줄부터 N개 줄에는 그림이 주어진다.\n",
    "\n",
    "#### 출력\n",
    "적록색약이 아닌 사람이 봤을 때의 구역의 개수와 적록색약인 사람이 봤을 때의 구역의 수를 공백으로 구분해 출력한다.\n",
    "\n",
    "##### 예제 입력 1 \n",
    "5\n",
    "\n",
    "RRRBB\n",
    "\n",
    "GGBBB\n",
    "\n",
    "BBBRR\n",
    "\n",
    "BBRRR\n",
    "\n",
    "RRRRR\n",
    "\n",
    "##### 예제 출력 1 \n",
    "4 3"
   ]
  },
  {
   "cell_type": "code",
   "execution_count": 2,
   "id": "45eb6d15",
   "metadata": {},
   "outputs": [
    {
     "name": "stdout",
     "output_type": "stream",
     "text": [
      "5\n",
      "RRRBB\n",
      "GGBBB\n",
      "BBBRR\n",
      "BBRRR\n",
      "RRRRR\n",
      "4 3 "
     ]
    }
   ],
   "source": [
    "from collections import deque\n",
    "\n",
    "n = int(input())\n",
    "areas = [list(input()) for _ in range(n)]\n",
    "moves = [(-1,0), (1,0), (0, -1), (0, 1)]\n",
    "for _ in range(2):\n",
    "    visited = [[0 for _ in range(n)] for _ in range(n)]\n",
    "    cnt = 0\n",
    "    q = deque()\n",
    "    for i in range(n):\n",
    "        for j in range(n):\n",
    "            if visited[i][j] == 0:\n",
    "                cnt += 1\n",
    "                q.append((i, j, areas[i][j]))\n",
    "                visited[i][j] = 1\n",
    "                while q:\n",
    "                    x, y, color = q.popleft()\n",
    "                    if color == 'G':\n",
    "                        areas[x][y] = 'R'\n",
    "                    for move in moves:\n",
    "                        move_x = x + move[0]\n",
    "                        move_y = y + move[1]\n",
    "                        if move_x < 0 or move_x >= n or move_y < 0 or move_y >= n:\n",
    "                            continue\n",
    "                        if visited[move_x][move_y] == 0 and areas[move_x][move_y] == color:\n",
    "                            visited[move_x][move_y] = 1\n",
    "                            q.append((move_x, move_y, color))\n",
    "                            \n",
    "    print(cnt, end=' ')\n",
    "    \n",
    "    "
   ]
  },
  {
   "cell_type": "code",
   "execution_count": null,
   "id": "0a236cd8",
   "metadata": {},
   "outputs": [],
   "source": []
  }
 ],
 "metadata": {
  "kernelspec": {
   "display_name": "Python 3 (ipykernel)",
   "language": "python",
   "name": "python3"
  },
  "language_info": {
   "codemirror_mode": {
    "name": "ipython",
    "version": 3
   },
   "file_extension": ".py",
   "mimetype": "text/x-python",
   "name": "python",
   "nbconvert_exporter": "python",
   "pygments_lexer": "ipython3",
   "version": "3.8.10"
  }
 },
 "nbformat": 4,
 "nbformat_minor": 5
}
