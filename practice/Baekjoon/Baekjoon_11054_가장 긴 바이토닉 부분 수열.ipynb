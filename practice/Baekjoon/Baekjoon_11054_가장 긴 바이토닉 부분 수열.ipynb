{
 "cells": [
  {
   "cell_type": "markdown",
   "id": "31da43e7",
   "metadata": {},
   "source": [
    "#### 문제\n",
    "수열 S가 어떤 수 Sk를 기준으로 S1 < S2 < ... Sk-1 < Sk > Sk+1 > ... SN-1 > SN을 만족한다면, 그 수열을 바이토닉 수열이라고 한다.\n",
    "\n",
    "예를 들어, {10, 20, 30, 25, 20}과 {10, 20, 30, 40}, {50, 40, 25, 10} 은 바이토닉 수열이지만,  {1, 2, 3, 2, 1, 2, 3, 2, 1}과 {10, 20, 30, 40, 20, 30} 은 바이토닉 수열이 아니다.\n",
    "\n",
    "수열 A가 주어졌을 때, 그 수열의 부분 수열 중 바이토닉 수열이면서 가장 긴 수열의 길이를 구하는 프로그램을 작성하시오.\n",
    "\n",
    "#### 입력\n",
    "첫째 줄에 수열 A의 크기 N이 주어지고, 둘째 줄에는 수열 A를 이루고 있는 Ai가 주어진다. (1 ≤ N ≤ 1,000, 1 ≤ Ai ≤ 1,000)\n",
    "\n",
    "#### 출력\n",
    "첫째 줄에 수열 A의 부분 수열 중에서 가장 긴 바이토닉 수열의 길이를 출력한다.\n",
    "\n",
    "#### 예제 입력 1 \n",
    "10\n",
    "\n",
    "1 5 2 1 4 3 4 5 2 1\n",
    "#### 예제 출력 1 \n",
    "7\n",
    "##### 힌트\n",
    "예제의 경우 {1 2 3 4 5 2 1}이 가장 긴 바이토닉 부분 수열이다."
   ]
  },
  {
   "cell_type": "code",
   "execution_count": null,
   "id": "71b2f6f7",
   "metadata": {},
   "outputs": [],
   "source": [
    "n = int(input())\n",
    "seq = list(map(int, input().split()))\n",
    "case = {}\n",
    "max_length = 1\n",
    "for num in seq:\n",
    "    if num not in case:\n",
    "        case[num] = {'+':1, '-':0}\n",
    "    for n in case:\n",
    "        if num > n:\n",
    "            case[num]['+'] = max(case[num]['+'], case[n]['+'] + 1)\n",
    "            max_length = max(max_length, case[num]['+'])\n",
    "        elif num < n:\n",
    "            case[num]['-'] = max(case[num]['-'], case[n]['+'] + 1, case[n]['-'] + 1)\n",
    "            max_length = max(max_length, case[num]['-'])\n",
    "            \n",
    "print(max_length)\n",
    "    "
   ]
  }
 ],
 "metadata": {
  "kernelspec": {
   "display_name": "Python 3 (ipykernel)",
   "language": "python",
   "name": "python3"
  },
  "language_info": {
   "codemirror_mode": {
    "name": "ipython",
    "version": 3
   },
   "file_extension": ".py",
   "mimetype": "text/x-python",
   "name": "python",
   "nbconvert_exporter": "python",
   "pygments_lexer": "ipython3",
   "version": "3.8.10"
  }
 },
 "nbformat": 4,
 "nbformat_minor": 5
}
