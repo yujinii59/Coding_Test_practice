{
 "cells": [
  {
   "cell_type": "markdown",
   "id": "dd609586",
   "metadata": {},
   "source": [
    "#### 문제\n",
    "지민이는 N개의 원소를 포함하고 있는 양방향 순환 큐를 가지고 있다. 지민이는 이 큐에서 몇 개의 원소를 뽑아내려고 한다.\n",
    "\n",
    "지민이는 이 큐에서 다음과 같은 3가지 연산을 수행할 수 있다.\n",
    "\n",
    "첫 번째 원소를 뽑아낸다. 이 연산을 수행하면, 원래 큐의 원소가 a1, ..., ak이었던 것이 a2, ..., ak와 같이 된다.\n",
    "\n",
    "왼쪽으로 한 칸 이동시킨다. 이 연산을 수행하면, a1, ..., ak가 a2, ..., ak, a1이 된다.\n",
    "\n",
    "오른쪽으로 한 칸 이동시킨다. 이 연산을 수행하면, a1, ..., ak가 ak, a1, ..., ak-1이 된다.\n",
    "\n",
    "큐에 처음에 포함되어 있던 수 N이 주어진다. 그리고 지민이가 뽑아내려고 하는 원소의 위치가 주어진다. (이 위치는 가장 처음 큐에서의 위치이다.) 이때, 그 원소를 주어진 순서대로 뽑아내는데 드는 2번, 3번 연산의 최솟값을 출력하는 프로그램을 작성하시오.\n",
    "\n",
    "#### 입력\n",
    "첫째 줄에 큐의 크기 N과 뽑아내려고 하는 수의 개수 M이 주어진다. N은 50보다 작거나 같은 자연수이고, M은 N보다 작거나 같은 자연수이다. 둘째 줄에는 지민이가 뽑아내려고 하는 수의 위치가 순서대로 주어진다. 위치는 1보다 크거나 같고, N보다 작거나 같은 자연수이다.\n",
    "\n",
    "#### 출력\n",
    "첫째 줄에 문제의 정답을 출력한다.\n",
    "\n",
    "#### 예제 입력 1 \n",
    "10 3\n",
    "\n",
    "1 2 3\n",
    "\n",
    "#### 예제 출력 1 \n",
    "0\n",
    "\n",
    "#### 예제 입력 2 \n",
    "10 3\n",
    "\n",
    "2 9 5\n",
    "\n",
    "#### 예제 출력 2 \n",
    "8\n",
    "\n",
    "#### 예제 입력 3 \n",
    "32 6\n",
    "\n",
    "27 16 30 11 6 23\n",
    "\n",
    "#### 예제 출력 3 \n",
    "59\n",
    "\n",
    "#### 예제 입력 4 \n",
    "10 10\n",
    "\n",
    "1 6 3 2 7 9 8 4 10 5\n",
    "\n",
    "#### 예제 출력 4 \n",
    "14"
   ]
  },
  {
   "cell_type": "code",
   "execution_count": 22,
   "id": "96e65d0a",
   "metadata": {},
   "outputs": [
    {
     "name": "stdout",
     "output_type": "stream",
     "text": [
      "10 10\n",
      "1 6 3 2 7 9 8 4 10 5\n",
      "0 10 [1, 2, 3, 4, 5, 6, 7, 8, 9, 10]\n",
      "4 5 [2, 3, 4, 5, 6, 7, 8, 9, 10]\n",
      "5 3 [7, 8, 9, 10, 2, 3, 4, 5]\n",
      "6 1 [4, 5, 7, 8, 9, 10, 2]\n",
      "2 4 [4, 5, 7, 8, 9, 10]\n",
      "1 4 [8, 9, 10, 4, 5]\n",
      "3 1 [10, 4, 5, 8]\n",
      "1 2 [10, 4, 5]\n",
      "1 1 [5, 10]\n",
      "0 1 [5]\n",
      "14\n"
     ]
    }
   ],
   "source": [
    "n, m = map(int, input().split())\n",
    "ls = [i + 1 for i in range(n)]\n",
    "locations = list(map(int, input().split()))\n",
    "cnt = 0\n",
    "for i in range(m):\n",
    "    left = ls.index(locations[i])\n",
    "    right = (n - i) - ls.index(locations[i])\n",
    "    if left <= right:\n",
    "        cnt += left\n",
    "        ls = ls[left + 1:] + ls[:left]\n",
    "    else:\n",
    "        cnt += right\n",
    "        ls = ls[left + 1:] + ls[:left]\n",
    "        \n",
    "print(cnt)        \n",
    "    "
   ]
  }
 ],
 "metadata": {
  "kernelspec": {
   "display_name": "Python 3 (ipykernel)",
   "language": "python",
   "name": "python3"
  },
  "language_info": {
   "codemirror_mode": {
    "name": "ipython",
    "version": 3
   },
   "file_extension": ".py",
   "mimetype": "text/x-python",
   "name": "python",
   "nbconvert_exporter": "python",
   "pygments_lexer": "ipython3",
   "version": "3.8.10"
  }
 },
 "nbformat": 4,
 "nbformat_minor": 5
}
