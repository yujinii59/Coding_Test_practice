{
 "cells": [
  {
   "cell_type": "markdown",
   "id": "4842278f",
   "metadata": {},
   "source": [
    "\n",
    "#### 문제\n",
    "\n",
    "정수 N이 주어졌을 때, 소인수분해하는 프로그램을 작성하시오.\n",
    "\n",
    "\n",
    "\n",
    "#### 입력\n",
    "\n",
    "첫째 줄에 정수 N (1 ≤ N ≤ 10,000,000)이 주어진다.\n",
    "\n",
    "\n",
    "\n",
    "#### 출력\n",
    "\n",
    "N의 소인수분해 결과를 한 줄에 하나씩 오름차순으로 출력한다. N이 1인 경우 아무것도 출력하지 않는다.\n",
    "\n",
    "\n",
    "\n",
    "#### 예제 입력 1 \n",
    "\n",
    "72\n",
    "\n",
    "#### 예제 출력 1 \n",
    "\n",
    "2\n",
    "\n",
    "2\n",
    "\n",
    "2\n",
    "\n",
    "3\n",
    "\n",
    "3\n",
    "\n",
    "#### 예제 입력 2 \n",
    "\n",
    "3\n",
    "\n",
    "#### 예제 출력 2 \n",
    "\n",
    "3\n",
    "\n",
    "#### 예제 입력 3 \n",
    "\n",
    "6\n",
    "\n",
    "#### 예제 출력 3 \n",
    "\n",
    "2\n",
    "\n",
    "3\n",
    "\n",
    "#### 예제 입력 4 \n",
    "\n",
    "2\n",
    "\n",
    "#### 예제 출력 4 \n",
    "\n",
    "2\n",
    "\n",
    "#### 예제 입력 5 \n",
    "\n",
    "9991\n",
    "\n",
    "#### 예제 출력 5 \n",
    "\n",
    "97\n",
    "\n",
    "103\n"
   ]
  },
  {
   "cell_type": "code",
   "execution_count": 3,
   "id": "46539e89",
   "metadata": {},
   "outputs": [
    {
     "name": "stdout",
     "output_type": "stream",
     "text": [
      "9991\n",
      "97\n",
      "103\n"
     ]
    }
   ],
   "source": [
    "n = int(input())\n",
    "\n",
    "while n > 1:\n",
    "    for i in range(2, n + 1):\n",
    "        if n % i == 0:\n",
    "            print(i)\n",
    "            n //= i\n",
    "            break"
   ]
  },
  {
   "cell_type": "code",
   "execution_count": null,
   "id": "17daafa6",
   "metadata": {},
   "outputs": [],
   "source": []
  }
 ],
 "metadata": {
  "kernelspec": {
   "display_name": "Python 3 (ipykernel)",
   "language": "python",
   "name": "python3"
  },
  "language_info": {
   "codemirror_mode": {
    "name": "ipython",
    "version": 3
   },
   "file_extension": ".py",
   "mimetype": "text/x-python",
   "name": "python",
   "nbconvert_exporter": "python",
   "pygments_lexer": "ipython3",
   "version": "3.8.10"
  }
 },
 "nbformat": 4,
 "nbformat_minor": 5
}
