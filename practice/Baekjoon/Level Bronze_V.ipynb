{
 "cells": [
  {
   "cell_type": "markdown",
   "id": "202a91da",
   "metadata": {},
   "source": [
    "#### 16170"
   ]
  },
  {
   "cell_type": "code",
   "execution_count": 12,
   "id": "ca491402",
   "metadata": {},
   "outputs": [
    {
     "data": {
      "text/plain": [
       "datetime.time(23, 15, 58, 650042)"
      ]
     },
     "execution_count": 12,
     "metadata": {},
     "output_type": "execute_result"
    }
   ],
   "source": [
    "import datetime\n",
    "date = datetime.datetime.today() + datetime.timedelta(hours=-9)\n",
    "print(date.year)\n",
    "print(date.month)\n",
    "print(date.day)"
   ]
  },
  {
   "cell_type": "markdown",
   "id": "c9ae5225",
   "metadata": {},
   "source": [
    "#### 16394 홍익대학교"
   ]
  },
  {
   "cell_type": "code",
   "execution_count": 1,
   "id": "625527dd",
   "metadata": {},
   "outputs": [
    {
     "name": "stdout",
     "output_type": "stream",
     "text": [
      "2018\n",
      "72\n"
     ]
    }
   ],
   "source": [
    "print(int(input()) - 1946)"
   ]
  },
  {
   "cell_type": "markdown",
   "id": "b255717e",
   "metadata": {},
   "source": [
    "#### 16430 제리와 톰"
   ]
  },
  {
   "cell_type": "code",
   "execution_count": 3,
   "id": "ba4913a0",
   "metadata": {},
   "outputs": [
    {
     "name": "stdout",
     "output_type": "stream",
     "text": [
      "5 8\n",
      "3 8\n"
     ]
    }
   ],
   "source": [
    "a, b = map(int, input().split())\n",
    "print((b - a), b)"
   ]
  },
  {
   "cell_type": "markdown",
   "id": "d67a1159",
   "metadata": {},
   "source": [
    "#### 17256 달달함이 넘쳐흘러"
   ]
  },
  {
   "cell_type": "code",
   "execution_count": 5,
   "id": "d89acda1",
   "metadata": {},
   "outputs": [
    {
     "name": "stdout",
     "output_type": "stream",
     "text": [
      "15 16 17\n",
      "19 32 90\n",
      "2 2 75\n"
     ]
    }
   ],
   "source": [
    "a_x, a_y, a_z = map(int, input().split())\n",
    "c_x, c_y, c_z = map(int, input().split())\n",
    "print(c_x - a_z, c_y // a_y, c_z - a_x)"
   ]
  },
  {
   "cell_type": "markdown",
   "id": "b4ee60db",
   "metadata": {},
   "source": [
    "#### 18096 Арифметическая магия"
   ]
  },
  {
   "cell_type": "code",
   "execution_count": null,
   "id": "4afd92c9",
   "metadata": {},
   "outputs": [],
   "source": [
    "n = int(input())\n",
    "print(1)"
   ]
  },
  {
   "cell_type": "markdown",
   "id": "e2c95ebf",
   "metadata": {},
   "source": [
    "#### 18301 Rats"
   ]
  },
  {
   "cell_type": "code",
   "execution_count": 6,
   "id": "0edfd50f",
   "metadata": {},
   "outputs": [
    {
     "ename": "AttributeError",
     "evalue": "'function' object has no attribute 'split'",
     "output_type": "error",
     "traceback": [
      "\u001b[0;31m---------------------------------------------------------------------------\u001b[0m",
      "\u001b[0;31mAttributeError\u001b[0m                            Traceback (most recent call last)",
      "Input \u001b[0;32mIn [6]\u001b[0m, in \u001b[0;36m<module>\u001b[0;34m\u001b[0m\n\u001b[0;32m----> 1\u001b[0m a, b, c \u001b[38;5;241m=\u001b[39m \u001b[38;5;28mmap\u001b[39m(\u001b[38;5;28mint\u001b[39m, \u001b[38;5;28;43minput\u001b[39;49m\u001b[38;5;241;43m.\u001b[39;49m\u001b[43msplit\u001b[49m())\n\u001b[1;32m      2\u001b[0m \u001b[38;5;28mprint\u001b[39m(((a \u001b[38;5;241m+\u001b[39m \u001b[38;5;241m1\u001b[39m) \u001b[38;5;241m*\u001b[39m (b \u001b[38;5;241m+\u001b[39m \u001b[38;5;241m1\u001b[39m)) \u001b[38;5;241m/\u001b[39m\u001b[38;5;241m/\u001b[39m (c \u001b[38;5;241m+\u001b[39m \u001b[38;5;241m1\u001b[39m) \u001b[38;5;241m-\u001b[39m \u001b[38;5;241m1\u001b[39m)\n",
      "\u001b[0;31mAttributeError\u001b[0m: 'function' object has no attribute 'split'"
     ]
    }
   ],
   "source": [
    "a, b, c = map(int, input().split())\n",
    "print(((a + 1) * (b + 1)) // (c + 1) - 1)"
   ]
  },
  {
   "cell_type": "markdown",
   "id": "b65f42e2",
   "metadata": {},
   "source": [
    "#### 20254 Site Score"
   ]
  },
  {
   "cell_type": "code",
   "execution_count": null,
   "id": "14e8cb29",
   "metadata": {},
   "outputs": [],
   "source": [
    "a, b, c, d = map(int, input().split())\n",
    "print(56 * a + 24 * b + 14 * c + 6 * d)"
   ]
  },
  {
   "cell_type": "markdown",
   "id": "65ac6c95",
   "metadata": {},
   "source": [
    "#### 20492 세금"
   ]
  },
  {
   "cell_type": "code",
   "execution_count": 8,
   "id": "469108b9",
   "metadata": {},
   "outputs": [
    {
     "name": "stdout",
     "output_type": "stream",
     "text": [
      "10000000\n",
      "7800000.0 9560000.0\n"
     ]
    }
   ],
   "source": [
    "n = int(input())\n",
    "print(int(n * 0.78), int(n * 0.956))"
   ]
  },
  {
   "cell_type": "markdown",
   "id": "c69390b9",
   "metadata": {},
   "source": [
    "#### 21300 Bottle Return"
   ]
  },
  {
   "cell_type": "code",
   "execution_count": 7,
   "id": "74d6ba01",
   "metadata": {},
   "outputs": [
    {
     "name": "stdout",
     "output_type": "stream",
     "text": [
      "0 0 0 23 3 100\n",
      "630\n"
     ]
    }
   ],
   "source": [
    "print(5 * sum(map(int, input().split())))"
   ]
  },
  {
   "cell_type": "code",
   "execution_count": null,
   "id": "b131bdd0",
   "metadata": {},
   "outputs": [],
   "source": []
  }
 ],
 "metadata": {
  "kernelspec": {
   "display_name": "Python 3 (ipykernel)",
   "language": "python",
   "name": "python3"
  },
  "language_info": {
   "codemirror_mode": {
    "name": "ipython",
    "version": 3
   },
   "file_extension": ".py",
   "mimetype": "text/x-python",
   "name": "python",
   "nbconvert_exporter": "python",
   "pygments_lexer": "ipython3",
   "version": "3.8.10"
  }
 },
 "nbformat": 4,
 "nbformat_minor": 5
}
