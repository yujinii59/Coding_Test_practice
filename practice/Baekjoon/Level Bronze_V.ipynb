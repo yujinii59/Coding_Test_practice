{
 "cells": [
  {
   "cell_type": "markdown",
   "id": "202a91da",
   "metadata": {},
   "source": [
    "#### 16170"
   ]
  },
  {
   "cell_type": "code",
   "execution_count": null,
   "id": "ca491402",
   "metadata": {},
   "outputs": [],
   "source": [
    "import datetime\n",
    "date = datetime.datetime.today() + datetime.timedelta(hours=-9)\n",
    "print(date.year)\n",
    "print(date.month)\n",
    "print(date.day)"
   ]
  },
  {
   "cell_type": "markdown",
   "id": "c9ae5225",
   "metadata": {},
   "source": [
    "#### 16394 홍익대학교"
   ]
  },
  {
   "cell_type": "code",
   "execution_count": null,
   "id": "625527dd",
   "metadata": {},
   "outputs": [],
   "source": [
    "print(int(input()) - 1946)"
   ]
  },
  {
   "cell_type": "markdown",
   "id": "b255717e",
   "metadata": {},
   "source": [
    "#### 16430 제리와 톰"
   ]
  },
  {
   "cell_type": "code",
   "execution_count": null,
   "id": "ba4913a0",
   "metadata": {},
   "outputs": [],
   "source": [
    "a, b = map(int, input().split())\n",
    "print((b - a), b)"
   ]
  },
  {
   "cell_type": "markdown",
   "id": "d67a1159",
   "metadata": {},
   "source": [
    "#### 17256 달달함이 넘쳐흘러"
   ]
  },
  {
   "cell_type": "code",
   "execution_count": null,
   "id": "d89acda1",
   "metadata": {},
   "outputs": [],
   "source": [
    "a_x, a_y, a_z = map(int, input().split())\n",
    "c_x, c_y, c_z = map(int, input().split())\n",
    "print(c_x - a_z, c_y // a_y, c_z - a_x)"
   ]
  },
  {
   "cell_type": "markdown",
   "id": "b4ee60db",
   "metadata": {},
   "source": [
    "#### 18096 Арифметическая магия"
   ]
  },
  {
   "cell_type": "code",
   "execution_count": null,
   "id": "4afd92c9",
   "metadata": {},
   "outputs": [],
   "source": [
    "n = int(input())\n",
    "print(1)"
   ]
  },
  {
   "cell_type": "markdown",
   "id": "e2c95ebf",
   "metadata": {},
   "source": [
    "#### 18301 Rats"
   ]
  },
  {
   "cell_type": "code",
   "execution_count": null,
   "id": "0edfd50f",
   "metadata": {},
   "outputs": [],
   "source": [
    "a, b, c = map(int, input().split())\n",
    "print(((a + 1) * (b + 1)) // (c + 1) - 1)"
   ]
  },
  {
   "cell_type": "markdown",
   "id": "b65f42e2",
   "metadata": {},
   "source": [
    "#### 20254 Site Score"
   ]
  },
  {
   "cell_type": "code",
   "execution_count": null,
   "id": "14e8cb29",
   "metadata": {},
   "outputs": [],
   "source": [
    "a, b, c, d = map(int, input().split())\n",
    "print(56 * a + 24 * b + 14 * c + 6 * d)"
   ]
  },
  {
   "cell_type": "markdown",
   "id": "65ac6c95",
   "metadata": {},
   "source": [
    "#### 20492 세금"
   ]
  },
  {
   "cell_type": "code",
   "execution_count": null,
   "id": "469108b9",
   "metadata": {},
   "outputs": [],
   "source": [
    "n = int(input())\n",
    "print(int(n * 0.78), int(n * 0.956))"
   ]
  },
  {
   "cell_type": "markdown",
   "id": "c69390b9",
   "metadata": {},
   "source": [
    "#### 21300 Bottle Return"
   ]
  },
  {
   "cell_type": "code",
   "execution_count": null,
   "id": "74d6ba01",
   "metadata": {},
   "outputs": [],
   "source": [
    "print(5 * sum(map(int, input().split())))"
   ]
  },
  {
   "cell_type": "markdown",
   "id": "3555638c",
   "metadata": {},
   "source": [
    "#### 22193 Multiply"
   ]
  },
  {
   "cell_type": "code",
   "execution_count": null,
   "id": "3be710fd",
   "metadata": {},
   "outputs": [],
   "source": [
    "n, m = map(int, input().split())\n",
    "a = int(input())\n",
    "b = int(input())\n",
    "print(a * b)"
   ]
  },
  {
   "cell_type": "markdown",
   "id": "29ef2dca",
   "metadata": {},
   "source": [
    "#### 23037 5의 수난"
   ]
  },
  {
   "cell_type": "code",
   "execution_count": null,
   "id": "727afa74",
   "metadata": {},
   "outputs": [],
   "source": [
    "nums = sum(num ** 5 for num in list(map(int, list(input()))))\n",
    "print(nums)"
   ]
  },
  {
   "cell_type": "markdown",
   "id": "36844655",
   "metadata": {},
   "source": [
    "#### 24309 РАВЕНСТВО"
   ]
  },
  {
   "cell_type": "code",
   "execution_count": null,
   "id": "40dd93e5",
   "metadata": {},
   "outputs": [],
   "source": [
    "a = int(input())\n",
    "b = int(input())\n",
    "c = int(input())\n",
    "print(b // a - c // a)"
   ]
  },
  {
   "cell_type": "markdown",
   "id": "4d75d558",
   "metadata": {},
   "source": [
    "#### 24568 Cupcake Party"
   ]
  },
  {
   "cell_type": "code",
   "execution_count": null,
   "id": "5caeb385",
   "metadata": {},
   "outputs": [],
   "source": [
    "print(8 * int(input()) + 3 * int(input()) - 28)"
   ]
  },
  {
   "cell_type": "markdown",
   "id": "72b2ced2",
   "metadata": {},
   "source": [
    "#### 24736 Football Scoring"
   ]
  },
  {
   "cell_type": "code",
   "execution_count": null,
   "id": "9f3cfe27",
   "metadata": {},
   "outputs": [],
   "source": [
    "scores = [6, 3, 2, 1, 2]\n",
    "for _ in range(2):\n",
    "    ls = list(map(int, input().split()))\n",
    "    print(sum(scores[i] * ls[i] for i in range(5)), end=' ')"
   ]
  },
  {
   "cell_type": "markdown",
   "id": "6dba1a65",
   "metadata": {},
   "source": [
    "#### 24860 Counting Antibodies"
   ]
  },
  {
   "cell_type": "code",
   "execution_count": null,
   "id": "2ba443bf",
   "metadata": {},
   "outputs": [],
   "source": [
    "k = list(map(int, input().split()))\n",
    "l = list(map(int, input().split()))\n",
    "h = list(map(int, input().split()))\n",
    "total = (k[0] * k[1] + l[0] * l[1]) * h[0] * h[1] * h[2]\n",
    "print(total)"
   ]
  },
  {
   "cell_type": "markdown",
   "id": "8c299da7",
   "metadata": {},
   "source": [
    "#### 24900 한별 찍기"
   ]
  },
  {
   "cell_type": "code",
   "execution_count": null,
   "id": "fe731a8f",
   "metadata": {},
   "outputs": [],
   "source": [
    "print('                                                           :8DDDDDDDDDDDDDD$.                                          ') \n",
    "print('                                                      DDDNNN8~~~~~~~~~~=~7DNNDNDDDNNI                                  ') \n",
    "print('                                                  ?NNDD=~=~~~~~~~~~~~~~~~~~=~~==~=INNDNN7                              ') \n",
    "print('                                               +NDDI~~~~~~~~~~~~~~~~~~~~~~~=~~========~ODND+                           ') \n",
    "print('                                            :NND~~~~~~~~~~~~~~~~~~~~~~~~~~~=~~============7NDN                         ') \n",
    "print('                                          $DD$~~~~~~~~~~~~~~~~~~~~~~~~~~~~~=~~==============~DNN                       ') \n",
    "print('                                        $DD=~~~~~~~~~~~~~~~~~~~~~~~~~~~~~~~=~~=================NND                     ') \n",
    "print('                                       ND7~~~~~~~~~~~~~~~~~~~~~~~~~~~~~~~~~=~~===================DD7                   ') \n",
    "print('                                     ~DD=~~~~~~~~~~~~~~~~~~~~~~~~~~~~~~~~~~=======================8DN.                 ') \n",
    "print('                                    8DO~~~~~~~~~~~~~~~~~~~~~~~~~~~~~~~~~~~~=========================DD                 ') \n",
    "print('                                   8N~~~~~~~~~~~~~~~~~~~~~~~~~~~~~~~~~~~~~~=~~=======================DN                ') \n",
    "print('                                  NN::::::::~~~~~~~~~~~=~~~~~~~~~~~~~~~~~~~=~~========================DDO              ') \n",
    "print('                                 $D$:::::::::::::::~~~~DD~~~~~~~~~~~~~~~~~~=~~=========================DN.             ') \n",
    "print('                                 D8:::::::::::::::::::DN=::~~~~~~~~~~~~~~~~=~~======================~~:~DN             ') \n",
    "print('                                DN:::::::::::::::::::ONO::::::::::::::::::::~~~~~~~~~~~~:::::::::::::::::DN            ') \n",
    "print('                               DN::::::::::::::::::::NN.:::::::::::::::::::::::::::DN::::::::::::::::::::$DO           ') \n",
    "print('                               DD:::::::::::::::::::DNI:::::::::::::::::::::::::::::D=::::::::::::::::::::NN           ') \n",
    "print('                              NN~~~~:::::$N?:::::::.NN::::::::::::::::::::::::::::::ND.:::::::::::::::::::+N8          ') \n",
    "print('                              N7~~~~~~~~OD7::::::::~DD::::::::::::::::::::::::::::::~D$::::::::::::::::::::DN          ') \n",
    "print('                             NN~~~~~~~~IDZ~~~~~::::DN~:::::::::::::::::::::::::::::::DN::::::::::::::::::::=N~         ') \n",
    "print('                             DD~~~~~~~~NN~~~~~~~~~=NN::::::::::::::::::::::::::::::::DN:::::::::::::::~~====NN         ') \n",
    "print('                            8D~~~~~~~~ND~~~~~~~~~~~ND~~~~~~~~:::::::::::::::::::::::::N7:::~~===============NN         ') \n",
    "print('                            DD~~~~~~~ON+~~~~~~~~~~~ND~~~~~~~~~~~~~~~~~~~=+NZ==========NN====================~ND        ') \n",
    "print('               :DD7   DNDD. N8~~~~~~~NN~~~~~~~~~~DDND~~~~~~~~~~~~~~~~~~~~ND~~=========DD=====================ND        ') \n",
    "print('               N~:DDNNN .8NDN~~~~~~~$D=~~~~~~~~+ND.DD~~~~~~~~~~~~~~~~~~~=DD~~=========~D+====================DN        ') \n",
    "print('              :D     .  ..~ND~~~~~~~NN~~~~~~~+NN$..ND~~~~~~~~~~~~~~~~~~~7N=~~=========~ND=======~============ON        ') \n",
    "print('              NN       ...:N?~~~~~~~N=~~~~~NNNI.. .7D+~~~~~~~~~~~~~~~~~=8NN~~==========NN=======N============$N        ') \n",
    "print('         N  ODN       ....DN~~~~~~~DD=8NNND$..     .DD~~~=~~~~~~~~~~~~~=NNDD=~=========8D~======NN===========~N$       ') \n",
    "print('    N? =NN  ND      .....NND~~~~~~~DDNN:...        .ND=~DNN~~~~~~~~~~~~=DN.DN~=========?N+======NN============ND       ') \n",
    "print('   $D? DN    DZ    ....ND8NN~~~~~~$D                .DD~NNDD~~~~~~~~~~~~D8..DN=========~DN======NN============DN       ') \n",
    "print('   DN ~N~   NN    ..:~NN..NZ~~~~~~DN                  NNN8.ND~~~~NDN?~~~DZ...7DD=======~NN======NN============DN       ') \n",
    "print('   ND DD    :DN.  ..ND$  .N?~~~~~=NNN                   . ..DDD$~N8OND8=N+   ..DDDZ~====NN======+D+===========ND       ') \n",
    "print('   NO         DD  ZDN    8NO~~~~~~NNN..DDDNN7               ...NND...:DDD:     .:.NDND=~DD======~DO===========DN       ') \n",
    "print('              DNDDN:.    DN~~~~~~=NNNN.ODNNNNDDNNO              ...     .         ...DNNNN=======ND===========DD       ') \n",
    "print('       INDN7    DD.     .DD~~~~~=IDND:.:~.....?DNDNN.                        ...... ....$D=======ND===========ND       ') \n",
    "print('       NN        ND.    8N=~~~~$ND::.:=~:.~=......=ND~                 .NNNNNNNNNNNNNNN.~N+======NN===========DN       ') \n",
    "print('       $DD        DN:   DD~~~~7NO...~==.:~~:.....                      NNNND? ..::..7NZ.:N?======8D~==========ZN       ') \n",
    "print('       DN?     ~D: DND.?D~~~~~DD....~:.~=~.......                            ....~=:.:~..ND======~N$==========~DO      ') \n",
    "print('       ND    ..DD.  .DNDN=~~~~DI.......:.........                           ....=~..~~~..DN======~DD===========NN      ') \n",
    "print('       DDD  :.:DD.  . DDI~~~~~ND................        .DNNNNNNNNNN7      ....=~:.:~~...NN=======ND===========?D~     ') \n",
    "print('       8D. ...OD..    DD~~~~~~+ND ............          NN:~::::~~~8N      ........~~...:ND=======DN============NN     ') \n",
    "print('       DDI:...ND     .D7~~~~~~~7NN ..........           ID8::::::::8D      .............:DN=======ON============NN     ') \n",
    "print('        ~NNND.N=.   .NN~~~~~~~~~NDN8                       ~::::::~N8       .............DN========D=============NI    ') \n",
    "print('               DDNNN.ND~~~~~~~~DD =DND                                       ............DN========N+~===========NN    ') \n",
    "print('                   ~:N=~~~~~~~~DD   .DDDD                                       ........ NN========DD============8D    ') \n",
    "print('                    8N~~~~~~~~~ND    . .7NDDD? .                                      .8DDN========NN=============D:   ') \n",
    "print('                    DD~~~~~~~~~DND:         IDNNND$.                           .+DNNNNDNIDN========DD=============DD   ') \n",
    "print('                    ND~~~~~~~~ZN 7DD .. .:DDNDDNNDNNNNDDNDND8$?===+$8DDNNNDDDDDN8I~DN====8N========NN=============NN   ') \n",
    "print('                    DD~~~~~~~~8N   DD.  .NN~~~~.~~=DNDNO.:7ODDDDNNDD8DDDND=~~~ =~~~ON====8N========DN=============DN   ') \n",
    "print('                    ND~~~~~~~~DN    ZDD  DN~~~ ~~~~~=.7DDD+.......8NNN==~~~~~ ~~~~~ONN$==DN========8N=============ON   ') \n",
    "print('                    ND~8N~=~~~ZN      DDODN=~.~~~~~=.~~~~INDNNNNDNN~~~~~~~~:~~~~~~~DN~ND=DN========DD=========~ND=8N   ') \n",
    "print('                    IN=NDDI~~~~D8       DNN::~~~~~.~~~~~=.~~ND~~ND~~~~~~~~.~~~~~~~~NN  NDNN====ND==ND~D?======DNN=ND   ') \n",
    "print('                     DNNI8ND=~~DN:       ZN=~~~~~ ~~~~~.~~~~DD~=DD~~~~~~~ ~~~~~~~=.ND. . ND===DNDD=NDDNN=====8NZDDDN   ') \n",
    "print('                      NND  IDNDNNN+       D+~~~:~~~~~~ ~~~~~DDNNN+~~~~~~~~~~~~~~:=?N7   .ND=~ND  DNNN~ID====ND7 NNN    ') \n",
    "print('                       ID                 ND~~ ~~~~~:.~~~7DDN7IDNN==~~ ~~~~~~~~ ~~DN   .:N?DDDDD NND  8N~=DDD  ZNN     ') \n",
    "print('                                          NN~:~~~~~ =7DDDD+8N  :N8DDZ.~~~~~~~~.~~~DD.   NDD+ . DN=     OND+            ') \n",
    "print('                                          DND~~~=8DNDDZ=~~ ND   NN~INND~~~~~.~~~~ND .    .    ..IDD                    ') \n",
    "print('                                         DDNNNDNNN+~~~~~~.7N.    ND~~~NDDI~ ~~~~=NNN             .DDI                  ') \n",
    "print('                                        DN=~~~~.=~~~~~~ ~~DN     +N+~~~~+DNDD~~~NNNND.            ..ND                 ') \n",
    "print('                                         DDI~~ ~~~~~~~ ~~~ND..  ..ND~~~~:~~~DNDNNNN+            ..7O8ND+               ') \n",
    "print('                                          .DND=~~~~=::~~=NN.   . . 8D~~.~~~~~~=DN$ODNDNDNNNDNNNNND8+~..                ') \n",
    "print('                                             8DNNI=.~~~~=NDDNNNNDDNDNN.~~~~~IDDNDND7:.                                 ') \n",
    "print('                                                ?DNNDD?~DD          ~NN~~=NDD$                                         ') \n",
    "print('                                                     :DDD.            NNNN=                                            ') "
   ]
  },
  {
   "cell_type": "markdown",
   "id": "0df8adbc",
   "metadata": {},
   "source": [
    "#### 25238 가희와 방어율 무시"
   ]
  },
  {
   "cell_type": "code",
   "execution_count": null,
   "id": "43d896fd",
   "metadata": {},
   "outputs": [],
   "source": [
    "a, b = map(int, input().split())\n",
    "rate = a * (100 - b) / 100\n",
    "print(rate)\n",
    "if rate >= 100:\n",
    "    print(0)\n",
    "else:\n",
    "    print(1)"
   ]
  },
  {
   "cell_type": "markdown",
   "id": "a84d401a",
   "metadata": {},
   "source": [
    "#### 25304 영수증"
   ]
  },
  {
   "cell_type": "code",
   "execution_count": null,
   "id": "7d7d30b1",
   "metadata": {},
   "outputs": [],
   "source": [
    "total = int(input())\n",
    "n = int(input())\n",
    "for _ in range(n):\n",
    "    p, c = map(int, input().split())\n",
    "    total -= p * c\n",
    "    \n",
    "if total == 0:\n",
    "    print('Yes')\n",
    "else:\n",
    "    print('No')"
   ]
  },
  {
   "cell_type": "markdown",
   "id": "8c649de2",
   "metadata": {},
   "source": [
    "#### 25311 UCPC에서 가장 쉬운 문제 번호는?"
   ]
  },
  {
   "cell_type": "code",
   "execution_count": null,
   "id": "ba986ec3",
   "metadata": {},
   "outputs": [],
   "source": [
    "n = int(input())\n",
    "print('A')"
   ]
  },
  {
   "cell_type": "markdown",
   "id": "8127020d",
   "metadata": {},
   "source": [
    "#### 25314 코딩은 체육과목 입니다"
   ]
  },
  {
   "cell_type": "code",
   "execution_count": null,
   "id": "d6a3bb12",
   "metadata": {},
   "outputs": [],
   "source": [
    "n = (int(input()) + 3) // 4\n",
    "print('long ' * n + 'int')"
   ]
  },
  {
   "cell_type": "markdown",
   "id": "34193bfd",
   "metadata": {},
   "source": [
    "#### 24262 알고리즘 수업 - 알고리즘의 수행 시간 1"
   ]
  },
  {
   "cell_type": "code",
   "execution_count": null,
   "id": "bc1a47c6",
   "metadata": {},
   "outputs": [],
   "source": [
    "n = int(input())\n",
    "print(1)\n",
    "print(0)"
   ]
  }
 ],
 "metadata": {
  "kernelspec": {
   "display_name": "Python 3 (ipykernel)",
   "language": "python",
   "name": "python3"
  },
  "language_info": {
   "codemirror_mode": {
    "name": "ipython",
    "version": 3
   },
   "file_extension": ".py",
   "mimetype": "text/x-python",
   "name": "python",
   "nbconvert_exporter": "python",
   "pygments_lexer": "ipython3",
   "version": "3.8.10"
  }
 },
 "nbformat": 4,
 "nbformat_minor": 5
}
