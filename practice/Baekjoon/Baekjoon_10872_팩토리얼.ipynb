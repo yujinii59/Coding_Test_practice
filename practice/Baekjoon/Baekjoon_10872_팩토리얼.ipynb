{
 "cells": [
  {
   "cell_type": "markdown",
   "id": "a2557f9a",
   "metadata": {},
   "source": [
    "#### 문제\n",
    "0보다 크거나 같은 정수 N이 주어진다. 이때, N!을 출력하는 프로그램을 작성하시오.\n",
    "\n",
    "#### 입력\n",
    "첫째 줄에 정수 N(0 ≤ N ≤ 12)이 주어진다.\n",
    "\n",
    "#### 출력\n",
    "첫째 줄에 N!을 출력한다.\n",
    "\n",
    "#### 예제 입력 1 \n",
    "10\n",
    "#### 예제 출력 1 \n",
    "3628800\n",
    "#### 예제 입력 2 \n",
    "0\n",
    "#### 예제 출력 2 \n",
    "1"
   ]
  },
  {
   "cell_type": "code",
   "execution_count": 2,
   "id": "584804da",
   "metadata": {},
   "outputs": [],
   "source": [
    "def factorial(num):\n",
    "    if num == 0:\n",
    "        return 1\n",
    "    else:\n",
    "        return num * factorial(num - 1)\n"
   ]
  },
  {
   "cell_type": "code",
   "execution_count": 3,
   "id": "f7249345",
   "metadata": {},
   "outputs": [
    {
     "name": "stdout",
     "output_type": "stream",
     "text": [
      "3628800\n"
     ]
    }
   ],
   "source": [
    "print(factorial(10))"
   ]
  },
  {
   "cell_type": "code",
   "execution_count": null,
   "id": "d5f126a8",
   "metadata": {},
   "outputs": [],
   "source": []
  }
 ],
 "metadata": {
  "kernelspec": {
   "display_name": "Python 3 (ipykernel)",
   "language": "python",
   "name": "python3"
  },
  "language_info": {
   "codemirror_mode": {
    "name": "ipython",
    "version": 3
   },
   "file_extension": ".py",
   "mimetype": "text/x-python",
   "name": "python",
   "nbconvert_exporter": "python",
   "pygments_lexer": "ipython3",
   "version": "3.8.10"
  }
 },
 "nbformat": 4,
 "nbformat_minor": 5
}
