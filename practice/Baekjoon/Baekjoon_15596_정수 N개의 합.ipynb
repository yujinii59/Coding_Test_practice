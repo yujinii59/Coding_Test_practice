{
 "cells": [
  {
   "cell_type": "markdown",
   "id": "513bdf44",
   "metadata": {},
   "source": [
    "#### 문제\n",
    "정수 n개가 주어졌을 때, n개의 합을 구하는 함수를 작성하시오.\n",
    "\n",
    "작성해야 하는 함수는 다음과 같다.\n",
    "\n",
    "Python 2, Python 3, PyPy, PyPy3: def solve(a: list) -> int\n",
    "\n",
    "a: 합을 구해야 하는 정수 n개가 저장되어 있는 리스트 (0 ≤ a[i] ≤ 1,000,000, 1 ≤ n ≤ 3,000,000)\n",
    "\n",
    "리턴값: a에 포함되어 있는 정수 n개의 합 (정수)\n"
   ]
  },
  {
   "cell_type": "code",
   "execution_count": 1,
   "id": "9fc153af",
   "metadata": {},
   "outputs": [],
   "source": [
    "def solve(a: list) -> int:\n",
    "    return sum(a)"
   ]
  },
  {
   "cell_type": "code",
   "execution_count": 2,
   "id": "2137e787",
   "metadata": {},
   "outputs": [
    {
     "data": {
      "text/plain": [
       "10"
      ]
     },
     "execution_count": 2,
     "metadata": {},
     "output_type": "execute_result"
    }
   ],
   "source": [
    "solve([1,2,3,4])"
   ]
  },
  {
   "cell_type": "code",
   "execution_count": null,
   "id": "bf928088",
   "metadata": {},
   "outputs": [],
   "source": []
  }
 ],
 "metadata": {
  "kernelspec": {
   "display_name": "Python 3 (ipykernel)",
   "language": "python",
   "name": "python3"
  },
  "language_info": {
   "codemirror_mode": {
    "name": "ipython",
    "version": 3
   },
   "file_extension": ".py",
   "mimetype": "text/x-python",
   "name": "python",
   "nbconvert_exporter": "python",
   "pygments_lexer": "ipython3",
   "version": "3.8.10"
  }
 },
 "nbformat": 4,
 "nbformat_minor": 5
}
