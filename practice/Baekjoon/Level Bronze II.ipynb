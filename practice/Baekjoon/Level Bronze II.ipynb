{
 "cells": [
  {
   "cell_type": "markdown",
   "id": "3fbd061d",
   "metadata": {},
   "source": [
    "#### 1076 저항"
   ]
  },
  {
   "cell_type": "code",
   "execution_count": 2,
   "id": "06c37418",
   "metadata": {},
   "outputs": [],
   "source": [
    "om = {\n",
    "    'black' :'0',\n",
    "    'brown' :'1',\n",
    "    'red'   :'2',\n",
    "    'orange':'3',\n",
    "    'yellow':'4',\n",
    "    'green' :'5',\n",
    "    'blue'  :'6',\n",
    "    'violet':'7',\n",
    "    'grey'  :'8',\n",
    "    'white' :'9',\n",
    "}\n",
    "mult = {\n",
    "    'black' :1,\n",
    "    'brown' :10,\n",
    "    'red'   :100,\n",
    "    'orange':1000,\n",
    "    'yellow':10000,\n",
    "    'green' :100000,\n",
    "    'blue'  :1000000,\n",
    "    'violet':10000000,\n",
    "    'grey'  :100000000,\n",
    "    'white' :1000000000,\n",
    "}"
   ]
  },
  {
   "cell_type": "code",
   "execution_count": null,
   "id": "e04579c6",
   "metadata": {},
   "outputs": [],
   "source": [
    "omega = int(om[input()] + om[input()]) * mult[input()]\n",
    "print(omega)"
   ]
  }
 ],
 "metadata": {
  "kernelspec": {
   "display_name": "Python 3 (ipykernel)",
   "language": "python",
   "name": "python3"
  },
  "language_info": {
   "codemirror_mode": {
    "name": "ipython",
    "version": 3
   },
   "file_extension": ".py",
   "mimetype": "text/x-python",
   "name": "python",
   "nbconvert_exporter": "python",
   "pygments_lexer": "ipython3",
   "version": "3.8.10"
  }
 },
 "nbformat": 4,
 "nbformat_minor": 5
}
