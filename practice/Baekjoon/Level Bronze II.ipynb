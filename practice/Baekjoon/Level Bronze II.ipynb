{
 "cells": [
  {
   "cell_type": "markdown",
   "id": "a32c079e",
   "metadata": {},
   "source": [
    "#### 21313 문어"
   ]
  },
  {
   "cell_type": "code",
   "execution_count": null,
   "id": "f916f400",
   "metadata": {},
   "outputs": [],
   "source": [
    "n = int(input())\n",
    "if n % 2 == 1:\n",
    "    s = '1 2 ' * (n // 2) + '3'\n",
    "else:\n",
    "    s = '1 2 ' * (n // 2)\n",
    "    \n",
    "print(s)"
   ]
  },
  {
   "cell_type": "markdown",
   "id": "e06f1bbb",
   "metadata": {},
   "source": [
    "#### 2864 5와 6의 차이"
   ]
  },
  {
   "cell_type": "code",
   "execution_count": 5,
   "id": "cb406c8a",
   "metadata": {},
   "outputs": [
    {
     "name": "stdout",
     "output_type": "stream",
     "text": [
      "1430 4862\n",
      "6282 6292\n"
     ]
    }
   ],
   "source": [
    "nums = input().split()\n",
    "min_val = 0\n",
    "max_val = 0\n",
    "for i in range(2):\n",
    "    tmp_min = ''\n",
    "    tmp_max = ''\n",
    "    for n in nums[i]:\n",
    "        if n == '5':\n",
    "            tmp_max += '6'\n",
    "            tmp_min += n\n",
    "        elif n == '6':\n",
    "            tmp_min += '5'\n",
    "            tmp_max += n\n",
    "        else:\n",
    "            tmp_max += n\n",
    "            tmp_min += n\n",
    "    min_val += int(tmp_min)\n",
    "    max_val += int(tmp_max)\n",
    "print(min_val, max_val)"
   ]
  },
  {
   "cell_type": "markdown",
   "id": "3fbd061d",
   "metadata": {},
   "source": [
    "#### 1076 저항"
   ]
  },
  {
   "cell_type": "code",
   "execution_count": 2,
   "id": "06c37418",
   "metadata": {},
   "outputs": [],
   "source": [
    "om = {\n",
    "    'black' :'0',\n",
    "    'brown' :'1',\n",
    "    'red'   :'2',\n",
    "    'orange':'3',\n",
    "    'yellow':'4',\n",
    "    'green' :'5',\n",
    "    'blue'  :'6',\n",
    "    'violet':'7',\n",
    "    'grey'  :'8',\n",
    "    'white' :'9',\n",
    "}\n",
    "mult = {\n",
    "    'black' :1,\n",
    "    'brown' :10,\n",
    "    'red'   :100,\n",
    "    'orange':1000,\n",
    "    'yellow':10000,\n",
    "    'green' :100000,\n",
    "    'blue'  :1000000,\n",
    "    'violet':10000000,\n",
    "    'grey'  :100000000,\n",
    "    'white' :1000000000,\n",
    "}"
   ]
  },
  {
   "cell_type": "code",
   "execution_count": null,
   "id": "e04579c6",
   "metadata": {},
   "outputs": [],
   "source": [
    "omega = int(om[input()] + om[input()]) * mult[input()]\n",
    "print(omega)"
   ]
  },
  {
   "cell_type": "markdown",
   "id": "91f3c666",
   "metadata": {},
   "source": [
    "#### 10104 Party Invitation"
   ]
  },
  {
   "cell_type": "code",
   "execution_count": 6,
   "id": "07379886",
   "metadata": {},
   "outputs": [
    {
     "name": "stdout",
     "output_type": "stream",
     "text": [
      "10\n",
      "2\n",
      "2\n",
      "[1, 3, 5, 7, 9]\n",
      "3\n",
      "[1, 3, 7, 9]\n",
      "1\n",
      "3\n",
      "7\n",
      "9\n"
     ]
    }
   ],
   "source": [
    "k = int(input())\n",
    "m = int(input())\n",
    "remain = list(range(1, k+1))\n",
    "for _ in range(m):\n",
    "    r = int(input())\n",
    "    remain = sorted(list(set(remain) - set(remain[r-1: k+1: r])))\n",
    "for rem in sorted(remain):\n",
    "    print(rem)"
   ]
  },
  {
   "cell_type": "markdown",
   "id": "1db463e0",
   "metadata": {},
   "source": [
    "#### 4675 Word Amalgamation"
   ]
  },
  {
   "cell_type": "code",
   "execution_count": null,
   "id": "61cc861c",
   "metadata": {},
   "outputs": [],
   "source": [
    "from collections import defaultdict\n",
    "words = defaultdict(list)\n",
    "while True:\n",
    "    word = input()\n",
    "    if word == 'XXXXXX':\n",
    "        break\n",
    "    sort = ''.join(sorted(list(word)))\n",
    "    words[sort].append(word)\n",
    "while True:\n",
    "    search = ''.join(sorted(list(input())))\n",
    "    if search == 'XXXXXX':\n",
    "        break\n",
    "    if search in words:\n",
    "        for word in sorted(words[search]):\n",
    "            print(word)\n",
    "    else:\n",
    "        print('NOT A VALID WORD')\n",
    "    print('******')"
   ]
  },
  {
   "cell_type": "markdown",
   "id": "ddfc9b20",
   "metadata": {},
   "source": [
    "#### 17608 막대기"
   ]
  },
  {
   "cell_type": "code",
   "execution_count": 8,
   "id": "b46d5fd2",
   "metadata": {},
   "outputs": [
    {
     "name": "stdout",
     "output_type": "stream",
     "text": [
      "5\n",
      "5\n",
      "4\n",
      "3\n",
      "2\n",
      "1\n",
      "5\n"
     ]
    }
   ],
   "source": [
    "n = int(input())\n",
    "bars = []\n",
    "for _ in range(n):\n",
    "    bars.append(int(input()))\n",
    "\n",
    "h = 0\n",
    "cnt = 0\n",
    "for i in range(len(bars)-1, -1, -1):\n",
    "    if bars[i] > h:\n",
    "        h = bars[i]\n",
    "        cnt += 1\n",
    "print(cnt)"
   ]
  },
  {
   "cell_type": "markdown",
   "id": "a3c9bae9",
   "metadata": {},
   "source": [
    "#### 2605 줄 세우기"
   ]
  },
  {
   "cell_type": "code",
   "execution_count": 9,
   "id": "75f6c243",
   "metadata": {},
   "outputs": [
    {
     "name": "stdout",
     "output_type": "stream",
     "text": [
      "5\n",
      "0 1 1 3 2\n",
      "[4, 2, 5, 3, 1]\n"
     ]
    }
   ],
   "source": [
    "n = int(input())\n",
    "orders = list(map(int, input().split()))\n",
    "tmp = []\n",
    "for i in range(n):\n",
    "    loc = i - orders[i]\n",
    "    tmp = tmp[:loc] + [i+1] + tmp[loc:]\n",
    "\n",
    "for t in tmp:\n",
    "    print(t, end=' ')"
   ]
  },
  {
   "cell_type": "markdown",
   "id": "995b6cfd",
   "metadata": {},
   "source": [
    "#### 15841 Virus Outbreak"
   ]
  },
  {
   "cell_type": "code",
   "execution_count": 1,
   "id": "ab7ea6bf",
   "metadata": {},
   "outputs": [
    {
     "name": "stdout",
     "output_type": "stream",
     "text": [
      "1\n",
      "Hour 1: 1 cow(s) affected\n",
      "4\n",
      "Hour 4: 3 cow(s) affected\n",
      "6\n",
      "Hour 6: 8 cow(s) affected\n",
      "11\n",
      "Hour 11: 89 cow(s) affected\n",
      "-1\n"
     ]
    }
   ],
   "source": [
    "def fibonacci(num):\n",
    "    if num < 2:\n",
    "        dp[num] = num\n",
    "    else:\n",
    "        dp[num] = dp[num-1] + dp[num-2]\n",
    "\n",
    "while True:\n",
    "    num = int(input())\n",
    "    if num == -1:\n",
    "        break\n",
    "    dp = [0 for _ in range(num+1)]\n",
    "    for i in range(1, num+1):\n",
    "        fibonacci(i)\n",
    "    print(f'Hour {num}: {dp[num]} cow(s) affected')"
   ]
  },
  {
   "cell_type": "code",
   "execution_count": null,
   "id": "4042ad42",
   "metadata": {},
   "outputs": [],
   "source": []
  }
 ],
 "metadata": {
  "kernelspec": {
   "display_name": "Python 3 (ipykernel)",
   "language": "python",
   "name": "python3"
  },
  "language_info": {
   "codemirror_mode": {
    "name": "ipython",
    "version": 3
   },
   "file_extension": ".py",
   "mimetype": "text/x-python",
   "name": "python",
   "nbconvert_exporter": "python",
   "pygments_lexer": "ipython3",
   "version": "3.8.10"
  }
 },
 "nbformat": 4,
 "nbformat_minor": 5
}
