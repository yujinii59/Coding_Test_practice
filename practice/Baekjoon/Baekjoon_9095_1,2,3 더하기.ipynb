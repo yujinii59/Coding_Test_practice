{
 "cells": [
  {
   "cell_type": "markdown",
   "id": "cfd20a5c",
   "metadata": {},
   "source": [
    "#### 문제\n",
    "정수 4를 1, 2, 3의 합으로 나타내는 방법은 총 7가지가 있다. 합을 나타낼 때는 수를 1개 이상 사용해야 한다.\n",
    "\n",
    "1+1+1+1\n",
    "\n",
    "1+1+2\n",
    "\n",
    "1+2+1\n",
    "\n",
    "2+1+1\n",
    "\n",
    "2+2\n",
    "\n",
    "1+3\n",
    "\n",
    "3+1\n",
    "\n",
    "정수 n이 주어졌을 때, n을 1, 2, 3의 합으로 나타내는 방법의 수를 구하는 프로그램을 작성하시오.\n",
    "\n",
    "#### 입력\n",
    "첫째 줄에 테스트 케이스의 개수 T가 주어진다. 각 테스트 케이스는 한 줄로 이루어져 있고, 정수 n이 주어진다. n은 양수이며 11보다 작다.\n",
    "\n",
    "#### 출력\n",
    "각 테스트 케이스마다, n을 1, 2, 3의 합으로 나타내는 방법의 수를 출력한다.\n",
    "\n",
    "예제 입력 1 \n",
    "\n",
    "3\n",
    "\n",
    "4\n",
    "\n",
    "7\n",
    "\n",
    "10\n",
    "\n",
    "예제 출력 1 \n",
    "\n",
    "7\n",
    "\n",
    "44\n",
    "\n",
    "274\n"
   ]
  },
  {
   "cell_type": "code",
   "execution_count": 3,
   "id": "28adf519",
   "metadata": {},
   "outputs": [
    {
     "name": "stdout",
     "output_type": "stream",
     "text": [
      "3\n",
      "4\n",
      "7\n",
      "7\n",
      "44\n",
      "10\n",
      "274\n"
     ]
    }
   ],
   "source": [
    "t = int(input())\n",
    "for _ in range(t):\n",
    "    n = int(input())\n",
    "    cnt = make(n)\n",
    "    print(cnt)"
   ]
  },
  {
   "cell_type": "code",
   "execution_count": 2,
   "id": "24f7f2e9",
   "metadata": {},
   "outputs": [],
   "source": [
    "from collections import deque\n",
    "def make(num):\n",
    "    q = deque()\n",
    "    q.append(num)\n",
    "    cnt = 0\n",
    "    while q:\n",
    "        n = q.popleft()\n",
    "        for i in range(1, 4):\n",
    "            if n > i:\n",
    "                q.append(n - i)\n",
    "            elif n == i:\n",
    "                cnt += 1\n",
    "    return cnt"
   ]
  },
  {
   "cell_type": "code",
   "execution_count": null,
   "id": "dcaaf123",
   "metadata": {},
   "outputs": [],
   "source": []
  }
 ],
 "metadata": {
  "kernelspec": {
   "display_name": "Python 3 (ipykernel)",
   "language": "python",
   "name": "python3"
  },
  "language_info": {
   "codemirror_mode": {
    "name": "ipython",
    "version": 3
   },
   "file_extension": ".py",
   "mimetype": "text/x-python",
   "name": "python",
   "nbconvert_exporter": "python",
   "pygments_lexer": "ipython3",
   "version": "3.8.10"
  }
 },
 "nbformat": 4,
 "nbformat_minor": 5
}
