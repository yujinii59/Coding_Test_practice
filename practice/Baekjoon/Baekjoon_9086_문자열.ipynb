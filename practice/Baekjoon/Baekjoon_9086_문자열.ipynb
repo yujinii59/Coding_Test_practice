{
 "cells": [
  {
   "cell_type": "markdown",
   "id": "f2d75cd8",
   "metadata": {},
   "source": [
    "#### 문제\n",
    "문자열을 입력으로 주면 문자열의 첫 글자와 마지막 글자를 출력하는 프로그램을 작성하시오.\n",
    "\n",
    "#### 입력\n",
    "입력의 첫 줄에는 테스트 케이스의 개수 T(1 ≤ T ≤ 10)가 주어진다. 각 테스트 케이스는 한 줄에 하나의 문자열이 주어진다. 문자열은 알파벳 A~Z 대문자로 이루어지며 알파벳 사이에 공백은 없으며 문자열의 길이는 1000보다 작다.\n",
    "\n",
    "#### 출력\n",
    "각 테스트 케이스에 대해서 주어진 문자열의 첫 글자와 마지막 글자를 연속하여 출력한다.\n",
    "\n",
    "#### 예제 입력 1 \n",
    "3\n",
    "\n",
    "ACDKJFOWIEGHE\n",
    "\n",
    "O\n",
    "\n",
    "AB\n",
    "\n",
    "#### 예제 출력 1 \n",
    "AE\n",
    "\n",
    "OO\n",
    "\n",
    "AB"
   ]
  },
  {
   "cell_type": "code",
   "execution_count": 1,
   "id": "e0e2d8aa",
   "metadata": {},
   "outputs": [
    {
     "name": "stdout",
     "output_type": "stream",
     "text": [
      "3\n",
      "ACDKJE\n",
      "AE\n",
      "O\n",
      "OO\n",
      "AB\n",
      "AB\n"
     ]
    }
   ],
   "source": [
    "n = int(input())\n",
    "for _ in range(n):\n",
    "    s = input()\n",
    "    print(s[0]+s[-1])"
   ]
  },
  {
   "cell_type": "code",
   "execution_count": null,
   "id": "d6af7ac2",
   "metadata": {},
   "outputs": [],
   "source": []
  }
 ],
 "metadata": {
  "kernelspec": {
   "display_name": "Python 3 (ipykernel)",
   "language": "python",
   "name": "python3"
  },
  "language_info": {
   "codemirror_mode": {
    "name": "ipython",
    "version": 3
   },
   "file_extension": ".py",
   "mimetype": "text/x-python",
   "name": "python",
   "nbconvert_exporter": "python",
   "pygments_lexer": "ipython3",
   "version": "3.8.10"
  }
 },
 "nbformat": 4,
 "nbformat_minor": 5
}
