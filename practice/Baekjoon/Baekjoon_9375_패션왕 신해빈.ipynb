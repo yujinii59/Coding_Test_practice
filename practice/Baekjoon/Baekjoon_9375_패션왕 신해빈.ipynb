{
 "cells": [
  {
   "cell_type": "markdown",
   "id": "7c977d3a",
   "metadata": {},
   "source": [
    "#### 문제\n",
    "해빈이는 패션에 매우 민감해서 한번 입었던 옷들의 조합을 절대 다시 입지 않는다. 예를 들어 오늘 해빈이가 안경, 코트, 상의, 신발을 입었다면, 다음날은 바지를 추가로 입거나 안경대신 렌즈를 착용하거나 해야한다. 해빈이가 가진 의상들이 주어졌을때 과연 해빈이는 알몸이 아닌 상태로 며칠동안 밖에 돌아다닐 수 있을까?\n",
    "\n",
    "#### 입력\n",
    "첫째 줄에 테스트 케이스가 주어진다. 테스트 케이스는 최대 100이다.\n",
    "\n",
    "각 테스트 케이스의 첫째 줄에는 해빈이가 가진 의상의 수 n(0 ≤ n ≤ 30)이 주어진다.\n",
    "\n",
    "다음 n개에는 해빈이가 가진 의상의 이름과 의상의 종류가 공백으로 구분되어 주어진다. 같은 종류의 의상은 하나만 입을 수 있다.\n",
    "\n",
    "모든 문자열은 1이상 20이하의 알파벳 소문자로 이루어져있으며 같은 이름을 가진 의상은 존재하지 않는다.\n",
    "\n",
    "#### 출력\n",
    "각 테스트 케이스에 대해 해빈이가 알몸이 아닌 상태로 의상을 입을 수 있는 경우를 출력하시오.\n",
    "\n",
    "##### 예제 입력 1 \n",
    "2\n",
    "\n",
    "3\n",
    "\n",
    "hat headgear\n",
    "\n",
    "sunglasses eyewear\n",
    "\n",
    "turban headgear\n",
    "\n",
    "3\n",
    "\n",
    "mask face\n",
    "\n",
    "sunglasses face\n",
    "\n",
    "makeup face\n",
    "\n",
    "##### 예제 출력 1 \n",
    "5\n",
    "\n",
    "3\n",
    "##### 힌트\n",
    "첫 번째 테스트 케이스는 headgear에 해당하는 의상이 hat, turban이며 eyewear에 해당하는 의상이 sunglasses이므로   (hat), (turban), (sunglasses), (hat,sunglasses), (turban,sunglasses)로 총 5가지 이다."
   ]
  },
  {
   "cell_type": "code",
   "execution_count": 2,
   "id": "27062ad7",
   "metadata": {},
   "outputs": [
    {
     "name": "stdout",
     "output_type": "stream",
     "text": [
      "2\n",
      "3\n",
      "hat headgear\n",
      "sunglasses eyewear\n",
      "turban headgear\n",
      "5\n",
      "3\n",
      "mask face\n",
      "sunglasses face\n",
      "makeup face\n",
      "3\n"
     ]
    }
   ],
   "source": [
    "from collections import defaultdict\n",
    "\n",
    "n = int(input())\n",
    "for _ in range(n):\n",
    "    m = int(input())\n",
    "    wears = defaultdict(int)\n",
    "    for _ in range(m):\n",
    "        name, kind = input().split()\n",
    "        wears[kind] += 1\n",
    "        \n",
    "    case = 1\n",
    "    for k, v in wears.items():\n",
    "        case *= v + 1\n",
    "        \n",
    "    print(case - 1)"
   ]
  },
  {
   "cell_type": "code",
   "execution_count": null,
   "id": "3a456886",
   "metadata": {},
   "outputs": [],
   "source": []
  }
 ],
 "metadata": {
  "kernelspec": {
   "display_name": "Python 3 (ipykernel)",
   "language": "python",
   "name": "python3"
  },
  "language_info": {
   "codemirror_mode": {
    "name": "ipython",
    "version": 3
   },
   "file_extension": ".py",
   "mimetype": "text/x-python",
   "name": "python",
   "nbconvert_exporter": "python",
   "pygments_lexer": "ipython3",
   "version": "3.8.10"
  }
 },
 "nbformat": 4,
 "nbformat_minor": 5
}
