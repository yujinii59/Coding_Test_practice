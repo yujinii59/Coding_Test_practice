{
 "cells": [
  {
   "cell_type": "markdown",
   "id": "9e43fe0f",
   "metadata": {},
   "source": [
    "#### 문제\n",
    "양의 정수 N이 주어졌을 때, 이 수를 소인수분해 한 결과를 출력하는 프로그램을 작성하시오.\n",
    "\n",
    "#### 입력\n",
    "첫째 줄에 테스트 케이스의 수가 주어진다. 각 테스트 케이스마다 양의 정수 N (2 ≤ N ≤ 100,000)이 주어진다.\n",
    "\n",
    "#### 출력\n",
    "각 테스트 케이스마다 각 인수와 그 인수가 곱해진 횟수를 한 줄씩 출력한다. 출력 순서는 인수가 증가하는 순으로 한다.\n",
    "\n",
    "#### 예제 입력 1 \n",
    "2\n",
    "\n",
    "6\n",
    "\n",
    "24\n",
    "#### 예제 출력 1 \n",
    "2 1\n",
    "\n",
    "3 1\n",
    "\n",
    "2 3\n",
    "\n",
    "3 1"
   ]
  },
  {
   "cell_type": "code",
   "execution_count": 3,
   "id": "02e96fc6",
   "metadata": {},
   "outputs": [
    {
     "name": "stdout",
     "output_type": "stream",
     "text": [
      "1\n",
      "87423\n",
      "3 1\n",
      "7 1\n",
      "23 1\n",
      "181 1\n"
     ]
    }
   ],
   "source": [
    "from math import sqrt\n",
    "\n",
    "def prime(num):\n",
    "    primes = set(range(2, num + 1))\n",
    "    rm = list(range(2 * 2, num + 1, 2))\n",
    "    for i in range(3, int(sqrt(num)) + 1, 2):\n",
    "        rm.extend(list(range(i * 2, num + 1, i)))\n",
    "        \n",
    "    primes = sorted(list(primes - set(rm)))  \n",
    "    return primes\n",
    "\n",
    "t = int(input())\n",
    "for _ in range(t):\n",
    "    n = int(input())\n",
    "    primes = prime(n)\n",
    "    for p in primes:\n",
    "        i = 0\n",
    "        while True:\n",
    "            if n % p == 0:\n",
    "                n //= p\n",
    "                i += 1\n",
    "            else:\n",
    "                break\n",
    "        if i > 0:\n",
    "            print(p, i)\n",
    "        if n == 1:\n",
    "            break"
   ]
  }
 ],
 "metadata": {
  "kernelspec": {
   "display_name": "Python 3 (ipykernel)",
   "language": "python",
   "name": "python3"
  },
  "language_info": {
   "codemirror_mode": {
    "name": "ipython",
    "version": 3
   },
   "file_extension": ".py",
   "mimetype": "text/x-python",
   "name": "python",
   "nbconvert_exporter": "python",
   "pygments_lexer": "ipython3",
   "version": "3.8.10"
  }
 },
 "nbformat": 4,
 "nbformat_minor": 5
}
