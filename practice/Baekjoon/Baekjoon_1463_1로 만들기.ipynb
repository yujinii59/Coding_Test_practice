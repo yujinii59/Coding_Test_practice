{
 "cells": [
  {
   "cell_type": "markdown",
   "id": "fc189203",
   "metadata": {},
   "source": [
    "#### 문제\n",
    "정수 X에 사용할 수 있는 연산은 다음과 같이 세 가지 이다.\n",
    "\n",
    "X가 3으로 나누어 떨어지면, 3으로 나눈다.\n",
    "\n",
    "X가 2로 나누어 떨어지면, 2로 나눈다.\n",
    "\n",
    "1을 뺀다.\n",
    "\n",
    "정수 N이 주어졌을 때, 위와 같은 연산 세 개를 적절히 사용해서 1을 만들려고 한다. 연산을 사용하는 횟수의 최솟값을 출력하시오.\n",
    "\n",
    "#### 입력\n",
    "첫째 줄에 1보다 크거나 같고, 106보다 작거나 같은 정수 N이 주어진다.\n",
    "\n",
    "#### 출력\n",
    "첫째 줄에 연산을 하는 횟수의 최솟값을 출력한다.\n",
    "\n",
    "#### 예제 입력 1 \n",
    "2\n",
    "\n",
    "#### 예제 출력 1 \n",
    "1\n",
    "\n",
    "#### 예제 입력 2 \n",
    "10\n",
    "\n",
    "#### 예제 출력 2 \n",
    "3\n",
    "\n",
    "#### 힌트\n",
    "10의 경우에 10 -> 9 -> 3 -> 1 로 3번 만에 만들 수 있다."
   ]
  },
  {
   "cell_type": "code",
   "execution_count": 1,
   "id": "439cf575",
   "metadata": {},
   "outputs": [],
   "source": [
    "operation_cnt = {}\n",
    "def operation_case(n):\n",
    "    if n == 1:\n",
    "        operation_cnt[n] = 0\n",
    "    elif n == 2 or n == 3:\n",
    "        operation_cnt[n] = 1\n",
    "    else:\n",
    "        min_cnt = 1 + operation_cnt[n - 1]\n",
    "        if n % 2 == 0:\n",
    "            min_cnt = min(min_cnt, 1 + operation_cnt[n // 2])\n",
    "        \n",
    "        if n % 3 == 0:\n",
    "            min_cnt = min(min_cnt, 1 + operation_cnt[n // 3])\n",
    "            \n",
    "        operation_cnt[n] = min_cnt"
   ]
  },
  {
   "cell_type": "code",
   "execution_count": 3,
   "id": "2efa87e2",
   "metadata": {},
   "outputs": [
    {
     "name": "stdout",
     "output_type": "stream",
     "text": [
      "10\n",
      "3\n"
     ]
    }
   ],
   "source": [
    "n = int(input())\n",
    "for i in range(n):\n",
    "    operation_case(i + 1)\n",
    "    \n",
    "print(operation_cnt[n])"
   ]
  },
  {
   "cell_type": "code",
   "execution_count": null,
   "id": "5c5d32c8",
   "metadata": {},
   "outputs": [],
   "source": []
  }
 ],
 "metadata": {
  "kernelspec": {
   "display_name": "Python 3 (ipykernel)",
   "language": "python",
   "name": "python3"
  },
  "language_info": {
   "codemirror_mode": {
    "name": "ipython",
    "version": 3
   },
   "file_extension": ".py",
   "mimetype": "text/x-python",
   "name": "python",
   "nbconvert_exporter": "python",
   "pygments_lexer": "ipython3",
   "version": "3.8.10"
  }
 },
 "nbformat": 4,
 "nbformat_minor": 5
}
