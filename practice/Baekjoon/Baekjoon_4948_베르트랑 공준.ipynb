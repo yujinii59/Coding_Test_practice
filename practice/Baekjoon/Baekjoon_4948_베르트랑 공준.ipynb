{
 "cells": [
  {
   "cell_type": "markdown",
   "id": "0973e490",
   "metadata": {},
   "source": [
    "\n",
    "#### 문제\n",
    "\n",
    "베르트랑 공준은 임의의 자연수 n에 대하여, n보다 크고, 2n보다 작거나 같은 소수는 적어도 하나 존재한다는 내용을 담고 있다.\n",
    "\n",
    "\n",
    "\n",
    "이 명제는 조제프 베르트랑이 1845년에 추측했고, 파프누티 체비쇼프가 1850년에 증명했다.\n",
    "\n",
    "\n",
    "\n",
    "예를 들어, 10보다 크고, 20보다 작거나 같은 소수는 4개가 있다. (11, 13, 17, 19) 또, 14보다 크고, 28보다 작거나 같은 소수는 3개가 있다. (17,19, 23)\n",
    "\n",
    "\n",
    "\n",
    "자연수 n이 주어졌을 때, n보다 크고, 2n보다 작거나 같은 소수의 개수를 구하는 프로그램을 작성하시오. \n",
    "\n",
    "\n",
    "\n",
    "#### 입력\n",
    "\n",
    "입력은 여러 개의 테스트 케이스로 이루어져 있다. 각 케이스는 n을 포함하는 한 줄로 이루어져 있다.\n",
    "\n",
    "\n",
    "\n",
    "입력의 마지막에는 0이 주어진다.\n",
    "\n",
    "\n",
    "\n",
    "#### 출력\n",
    "\n",
    "각 테스트 케이스에 대해서, n보다 크고, 2n보다 작거나 같은 소수의 개수를 출력한다.\n",
    "\n",
    "\n",
    "\n",
    "#### 제한\n",
    "\n",
    "1 ≤ n ≤ 123,456\n",
    "\n",
    "#### 예제 입력 1 \n",
    "\n",
    "1\n",
    "\n",
    "10\n",
    "\n",
    "13\n",
    "\n",
    "100\n",
    "\n",
    "1000\n",
    "\n",
    "10000\n",
    "\n",
    "100000\n",
    "\n",
    "0\n",
    "\n",
    "#### 예제 출력 1 \n",
    "\n",
    "1\n",
    "\n",
    "4\n",
    "\n",
    "3\n",
    "\n",
    "21\n",
    "\n",
    "135\n",
    "\n",
    "1033\n",
    "\n",
    "8392"
   ]
  },
  {
   "cell_type": "code",
   "execution_count": null,
   "id": "17e31e95",
   "metadata": {},
   "outputs": [],
   "source": [
    "def is_prime(x):\n",
    "    if (x == 0) or (x == 1):\n",
    "        return False\n",
    "    \n",
    "    for i in range(2, int(math.sqrt(x)) + 1):\n",
    "        if x % i == 0:\n",
    "            return False\n",
    "    return True"
   ]
  },
  {
   "cell_type": "code",
   "execution_count": 8,
   "id": "4e39104d",
   "metadata": {},
   "outputs": [],
   "source": [
    "from math import sqrt\n",
    "def prime_number(num):\n",
    "    primes = set(range(num + 1, 2 * num + 1))\n",
    "    max_num = 2 * num + 1\n",
    "    rm = list(range(2 * 2, max_num, 2))\n",
    "    for i in range(3, int(sqrt(2 * num)) + 1, 2):\n",
    "        rm.extend(list(range(i * 2, max_num, i)))\n",
    "        \n",
    "    primes = primes - set(rm)\n",
    "    cnt = len(primes)            \n",
    "    return cnt"
   ]
  },
  {
   "cell_type": "code",
   "execution_count": 9,
   "id": "deb2cf22",
   "metadata": {},
   "outputs": [
    {
     "name": "stdout",
     "output_type": "stream",
     "text": [
      "100000\n",
      "8392\n",
      "0\n"
     ]
    }
   ],
   "source": [
    "while True:\n",
    "    n = int(input())\n",
    "    if n == 0:\n",
    "        break\n",
    "    else:\n",
    "        print(prime_number(n))"
   ]
  },
  {
   "cell_type": "code",
   "execution_count": null,
   "id": "bc831a0f",
   "metadata": {},
   "outputs": [],
   "source": []
  }
 ],
 "metadata": {
  "kernelspec": {
   "display_name": "Python 3 (ipykernel)",
   "language": "python",
   "name": "python3"
  },
  "language_info": {
   "codemirror_mode": {
    "name": "ipython",
    "version": 3
   },
   "file_extension": ".py",
   "mimetype": "text/x-python",
   "name": "python",
   "nbconvert_exporter": "python",
   "pygments_lexer": "ipython3",
   "version": "3.8.10"
  }
 },
 "nbformat": 4,
 "nbformat_minor": 5
}
