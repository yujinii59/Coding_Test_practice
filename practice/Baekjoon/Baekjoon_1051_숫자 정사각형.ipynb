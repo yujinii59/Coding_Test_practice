{
 "cells": [
  {
   "cell_type": "markdown",
   "id": "01f69986",
   "metadata": {},
   "source": [
    "#### 문제\n",
    "N×M크기의 직사각형이 있다. 각 칸에는 한 자리 숫자가 적혀 있다. 이 직사각형에서 꼭짓점에 쓰여 있는 수가 모두 같은 가장 큰 정사각형을 찾는 프로그램을 작성하시오. 이때, 정사각형은 행 또는 열에 평행해야 한다.\n",
    "\n",
    "#### 입력\n",
    "첫째 줄에 N과 M이 주어진다. N과 M은 50보다 작거나 같은 자연수이다. 둘째 줄부터 N개의 줄에 수가 주어진다.\n",
    "\n",
    "#### 출력\n",
    "첫째 줄에 정답 정사각형의 크기를 출력한다.\n",
    "\n",
    "#### 예제 입력 1 \n",
    "3 5\n",
    "\n",
    "42101\n",
    "\n",
    "22100\n",
    "\n",
    "22101\n",
    "#### 예제 출력 1 \n",
    "9\n",
    "#### 예제 입력 2 \n",
    "2 2\n",
    "\n",
    "12\n",
    "\n",
    "34\n",
    "#### 예제 출력 2 \n",
    "1\n",
    "#### 예제 입력 3 \n",
    "2 4\n",
    "\n",
    "1255\n",
    "\n",
    "3455\n",
    "#### 예제 출력 3 \n",
    "4\n",
    "#### 예제 입력 4 \n",
    "1 10\n",
    "\n",
    "1234567890\n",
    "#### 예제 출력 4 \n",
    "1\n",
    "#### 예제 입력 5 \n",
    "11 10\n",
    "\n",
    "9785409507\n",
    "\n",
    "2055103694\n",
    "\n",
    "0861396761\n",
    "\n",
    "3073207669\n",
    "\n",
    "1233049493\n",
    "\n",
    "2300248968\n",
    "\n",
    "9769239548\n",
    "\n",
    "7984130001\n",
    "\n",
    "1670020095\n",
    "\n",
    "8894239889\n",
    "\n",
    "4053971072\n",
    "#### 예제 출력 5 \n",
    "49"
   ]
  },
  {
   "cell_type": "code",
   "execution_count": 8,
   "id": "82a3c1e0",
   "metadata": {},
   "outputs": [
    {
     "name": "stdout",
     "output_type": "stream",
     "text": [
      "11 10\n",
      "9785409507\n",
      "2055103694\n",
      "0861396761\n",
      "3073207669\n",
      "1233049493\n",
      "2300248968\n",
      "9769239548\n",
      "7984130001\n",
      "1670020095\n",
      "8894239889\n",
      "4053971072\n",
      "49\n"
     ]
    }
   ],
   "source": [
    "n, m = map(int, input().split())\n",
    "size = 1\n",
    "rec = [list(map(int, list(input()))) for _ in range(n)]\n",
    "for i in range(n):\n",
    "    for j in range(m):\n",
    "        num = rec[i][j]\n",
    "        for k in range(j+1, m):\n",
    "            if num == rec[i][k]:\n",
    "                diff = k-j\n",
    "                if i+diff >= n:\n",
    "                    continue\n",
    "                if num == rec[i+diff][j] and num == rec[i+diff][k]:\n",
    "                    size = max(size, (diff+1) ** 2)\n",
    "print(size)"
   ]
  },
  {
   "cell_type": "code",
   "execution_count": 5,
   "id": "a95d9224",
   "metadata": {},
   "outputs": [
    {
     "data": {
      "text/plain": [
       "1"
      ]
     },
     "execution_count": 5,
     "metadata": {},
     "output_type": "execute_result"
    }
   ],
   "source": []
  },
  {
   "cell_type": "code",
   "execution_count": null,
   "id": "e05da90b",
   "metadata": {},
   "outputs": [],
   "source": []
  }
 ],
 "metadata": {
  "kernelspec": {
   "display_name": "Python 3 (ipykernel)",
   "language": "python",
   "name": "python3"
  },
  "language_info": {
   "codemirror_mode": {
    "name": "ipython",
    "version": 3
   },
   "file_extension": ".py",
   "mimetype": "text/x-python",
   "name": "python",
   "nbconvert_exporter": "python",
   "pygments_lexer": "ipython3",
   "version": "3.8.10"
  }
 },
 "nbformat": 4,
 "nbformat_minor": 5
}
