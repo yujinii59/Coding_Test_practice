{
 "cells": [
  {
   "cell_type": "markdown",
   "id": "87c51414",
   "metadata": {},
   "source": [
    "#### 문제\n",
    "예전에는 운영체제에서 크로아티아 알파벳을 입력할 수가 없었다. 따라서, 다음과 같이 크로아티아 알파벳을 변경해서 입력했다.\n",
    "\n",
    "크로아티아 알파벳\t변경\n",
    "\n",
    "č\tc=\n",
    "\n",
    "ć\tc-\n",
    "\n",
    "dž\tdz=\n",
    "\n",
    "đ\td-\n",
    "\n",
    "lj\tlj\n",
    "\n",
    "nj\tnj\n",
    "\n",
    "š\ts=\n",
    "\n",
    "ž\tz=\n",
    "\n",
    "예를 들어, ljes=njak은 크로아티아 알파벳 6개(lj, e, š, nj, a, k)로 이루어져 있다. 단어가 주어졌을 때, 몇 개의 크로아티아 알파벳으로 이루어져 있는지 출력한다.\n",
    "\n",
    "dž는 무조건 하나의 알파벳으로 쓰이고, d와 ž가 분리된 것으로 보지 않는다. lj와 nj도 마찬가지이다. 위 목록에 없는 알파벳은 한 글자씩 센다.\n",
    "\n",
    "#### 입력\n",
    "첫째 줄에 최대 100글자의 단어가 주어진다. 알파벳 소문자와 '-', '='로만 이루어져 있다.\n",
    "\n",
    "단어는 크로아티아 알파벳으로 이루어져 있다. 문제 설명의 표에 나와있는 알파벳은 변경된 형태로 입력된다.\n",
    "\n",
    "#### 출력\n",
    "입력으로 주어진 단어가 몇 개의 크로아티아 알파벳으로 이루어져 있는지 출력한다.\n",
    "\n",
    "#### 예제 입력 1 \n",
    "ljes=njak\n",
    "#### 예제 출력 1 \n",
    "6\n",
    "#### 예제 입력 2 \n",
    "ddz=z=\n",
    "#### 예제 출력 2 \n",
    "3\n",
    "#### 예제 입력 3 \n",
    "nljj\n",
    "#### 예제 출력 3 \n",
    "3\n",
    "#### 예제 입력 4 \n",
    "c=c=\n",
    "#### 예제 출력 4 \n",
    "2\n",
    "#### 예제 입력 5 \n",
    "dz=ak\n",
    "#### 예제 출력 5 \n",
    "3"
   ]
  },
  {
   "cell_type": "code",
   "execution_count": 18,
   "id": "44d44e77",
   "metadata": {},
   "outputs": [
    {
     "name": "stdout",
     "output_type": "stream",
     "text": [
      "ddz=z=\n",
      "0 ddz=z=\n",
      "1 ddz=z=\n",
      "2 ddz=z=\n",
      "2 d z=\n",
      "3 d z=\n",
      "4 d z=\n",
      "5 d z=\n",
      "6 d z=\n",
      "7 d z=\n",
      "7 d  \n",
      "3\n"
     ]
    }
   ],
   "source": [
    "kroatia = ['c=','c-','dz=','d-','lj','nj','s=','z=']\n",
    "string = input()\n",
    "exist = True\n",
    "i = 0\n",
    "cnt = 0\n",
    "while i < len(kroatia):\n",
    "    c = string.count(kroatia[i])\n",
    "    if c > 0:\n",
    "        string = string.replace(kroatia[i], ' ')\n",
    "        cnt += c\n",
    "    else:\n",
    "        i += 1\n",
    "print(cnt + len(string.replace(' ','')))\n",
    "        "
   ]
  },
  {
   "cell_type": "code",
   "execution_count": 9,
   "id": "91e0535f",
   "metadata": {},
   "outputs": [
    {
     "data": {
      "text/plain": [
       "(2, '')"
      ]
     },
     "execution_count": 9,
     "metadata": {},
     "output_type": "execute_result"
    }
   ],
   "source": [
    "cnt, string"
   ]
  },
  {
   "cell_type": "code",
   "execution_count": null,
   "id": "903fd91d",
   "metadata": {},
   "outputs": [],
   "source": []
  }
 ],
 "metadata": {
  "kernelspec": {
   "display_name": "Python 3 (ipykernel)",
   "language": "python",
   "name": "python3"
  },
  "language_info": {
   "codemirror_mode": {
    "name": "ipython",
    "version": 3
   },
   "file_extension": ".py",
   "mimetype": "text/x-python",
   "name": "python",
   "nbconvert_exporter": "python",
   "pygments_lexer": "ipython3",
   "version": "3.8.10"
  }
 },
 "nbformat": 4,
 "nbformat_minor": 5
}
