{
 "cells": [
  {
   "cell_type": "markdown",
   "id": "702c625c",
   "metadata": {},
   "source": [
    "#### 문제\n",
    "수 N개가 주어졌을 때, i번째 수부터 j번째 수까지 합을 구하는 프로그램을 작성하시오.\n",
    "\n",
    "#### 입력\n",
    "첫째 줄에 수의 개수 N과 합을 구해야 하는 횟수 M이 주어진다. 둘째 줄에는 N개의 수가 주어진다. 수는 1,000보다 작거나 같은 자연수이다. 셋째 줄부터 M개의 줄에는 합을 구해야 하는 구간 i와 j가 주어진다.\n",
    "\n",
    "#### 출력\n",
    "총 M개의 줄에 입력으로 주어진 i번째 수부터 j번째 수까지 합을 출력한다.\n",
    "\n",
    "#### 제한\n",
    "1 ≤ N ≤ 100,000\n",
    "\n",
    "1 ≤ M ≤ 100,000\n",
    "\n",
    "1 ≤ i ≤ j ≤ N\n",
    "\n",
    "##### 예제 입력 1 \n",
    "5 3\n",
    "\n",
    "5 4 3 2 1\n",
    "\n",
    "1 3\n",
    "\n",
    "2 4\n",
    "\n",
    "5 5\n",
    "\n",
    "##### 예제 출력 1 \n",
    "12\n",
    "\n",
    "9\n",
    "\n",
    "1"
   ]
  },
  {
   "cell_type": "code",
   "execution_count": 2,
   "id": "68878093",
   "metadata": {},
   "outputs": [
    {
     "name": "stdout",
     "output_type": "stream",
     "text": [
      "5 3\n",
      "5 4 3 2 1 \n",
      "1 3\n",
      "12\n",
      "2 4\n",
      "9\n",
      "5 5\n",
      "-13\n"
     ]
    }
   ],
   "source": [
    "n, m = map(int, input().split())\n",
    "ls = [0] + list(map(int, input().split()))\n",
    "for i in range(1, n + 1):\n",
    "    ls[i] = ls[i - 1] + ls[i]\n",
    "\n",
    "for _ in range(m):\n",
    "    left, right = map(int, input().split())\n",
    "    print(ls[right] - ls[left - 1])"
   ]
  },
  {
   "cell_type": "code",
   "execution_count": null,
   "id": "f40563aa",
   "metadata": {},
   "outputs": [],
   "source": []
  }
 ],
 "metadata": {
  "kernelspec": {
   "display_name": "Python 3 (ipykernel)",
   "language": "python",
   "name": "python3"
  },
  "language_info": {
   "codemirror_mode": {
    "name": "ipython",
    "version": 3
   },
   "file_extension": ".py",
   "mimetype": "text/x-python",
   "name": "python",
   "nbconvert_exporter": "python",
   "pygments_lexer": "ipython3",
   "version": "3.8.10"
  }
 },
 "nbformat": 4,
 "nbformat_minor": 5
}
