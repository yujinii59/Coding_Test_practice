{
 "cells": [
  {
   "cell_type": "markdown",
   "id": "bdab7440",
   "metadata": {},
   "source": [
    "#### 문제\n",
    "흑백 영상을 압축하여 표현하는 데이터 구조로 쿼드 트리(Quad Tree)라는 방법이 있다. 흰 점을 나타내는 0과 검은 점을 나타내는 1로만 이루어진 영상(2차원 배열)에서 같은 숫자의 점들이 한 곳에 많이 몰려있으면, 쿼드 트리에서는 이를 압축하여 간단히 표현할 수 있다.\n",
    "\n",
    "주어진 영상이 모두 0으로만 되어 있으면 압축 결과는 \"0\"이 되고, 모두 1로만 되어 있으면 압축 결과는 \"1\"이 된다. 만약 0과 1이 섞여 있으면 전체를 한 번에 나타내지를 못하고, 왼쪽 위, 오른쪽 위, 왼쪽 아래, 오른쪽 아래, 이렇게 4개의 영상으로 나누어 압축하게 되며, 이 4개의 영역을 압축한 결과를 차례대로 괄호 안에 묶어서 표현한다\n",
    "\n",
    "\n",
    "\n",
    "위 그림에서 왼쪽의 영상은 오른쪽의 배열과 같이 숫자로 주어지며, 이 영상을 쿼드 트리 구조를 이용하여 압축하면 \"(0(0011)(0(0111)01)1)\"로 표현된다.  N ×N 크기의 영상이 주어질 때, 이 영상을 압축한 결과를 출력하는 프로그램을 작성하시오.\n",
    "\n",
    "#### 입력\n",
    "첫째 줄에는 영상의 크기를 나타내는 숫자 N 이 주어진다. N 은 언제나 2의 제곱수로 주어지며, 1 ≤ N ≤ 64의 범위를 가진다. 두 번째 줄부터는 길이 N의 문자열이 N개 들어온다. 각 문자열은 0 또는 1의 숫자로 이루어져 있으며, 영상의 각 점들을 나타낸다.\n",
    "\n",
    "#### 출력\n",
    "영상을 압축한 결과를 출력한다.\n",
    "\n",
    "##### 예제 입력 1 \n",
    "8\n",
    "\n",
    "11110000\n",
    "\n",
    "11110000\n",
    "\n",
    "00011100\n",
    "\n",
    "00011100\n",
    "\n",
    "11110000\n",
    "\n",
    "11110000\n",
    "\n",
    "11110011\n",
    "\n",
    "11110011\n",
    "\n",
    "##### 예제 출력 1 \n",
    "((110(0101))(0010)1(0001))"
   ]
  },
  {
   "cell_type": "code",
   "execution_count": 9,
   "id": "3b68401f",
   "metadata": {},
   "outputs": [
    {
     "name": "stdout",
     "output_type": "stream",
     "text": [
      "8\n",
      "11110000\n",
      "11110000\n",
      "00011100\n",
      "00011100\n",
      "11110000\n",
      "11110000\n",
      "11110011\n",
      "11110011\n"
     ]
    }
   ],
   "source": [
    "n = int(input())\n",
    "videos = []\n",
    "for _ in range(n):\n",
    "    videos.extend(list(map(int, list(input()))))\n",
    "    \n",
    "answer = compress(videos, n)\n",
    "\n",
    "    "
   ]
  },
  {
   "cell_type": "code",
   "execution_count": 10,
   "id": "c605ae81",
   "metadata": {},
   "outputs": [
    {
     "name": "stdout",
     "output_type": "stream",
     "text": [
      "((1(1110)0(0001))(0(0001)1(1110))((0000)(0111)(1110)0)((1110)0(0000)(0111)))\n"
     ]
    }
   ],
   "source": [
    "print(answer)"
   ]
  },
  {
   "cell_type": "code",
   "execution_count": 8,
   "id": "aadd5f1b",
   "metadata": {},
   "outputs": [],
   "source": [
    "def compress(ls, length):\n",
    "    cut = [(0,0),(0,1),(1,0),(1,1)]\n",
    "    string = '('\n",
    "    if len(set(ls)) == 1:\n",
    "        return str(ls[0])\n",
    "    else:\n",
    "        size = length // 2\n",
    "        for x, y in cut:\n",
    "            start_x = size * x\n",
    "            start_y = size * y\n",
    "            lst = []\n",
    "            for i in range(size):\n",
    "                start = (start_x + i) * size + start_y\n",
    "                lst.extend(ls[start : start  + size])\n",
    "            string += compress(lst, size)\n",
    "        string += ')'\n",
    "    return string"
   ]
  },
  {
   "cell_type": "code",
   "execution_count": null,
   "id": "7d859cf9",
   "metadata": {},
   "outputs": [],
   "source": []
  }
 ],
 "metadata": {
  "kernelspec": {
   "display_name": "Python 3 (ipykernel)",
   "language": "python",
   "name": "python3"
  },
  "language_info": {
   "codemirror_mode": {
    "name": "ipython",
    "version": 3
   },
   "file_extension": ".py",
   "mimetype": "text/x-python",
   "name": "python",
   "nbconvert_exporter": "python",
   "pygments_lexer": "ipython3",
   "version": "3.8.10"
  }
 },
 "nbformat": 4,
 "nbformat_minor": 5
}
