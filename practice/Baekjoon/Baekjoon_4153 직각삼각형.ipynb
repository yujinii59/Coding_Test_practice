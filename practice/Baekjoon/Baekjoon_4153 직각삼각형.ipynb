{
 "cells": [
  {
   "cell_type": "markdown",
   "id": "e4427f08",
   "metadata": {},
   "source": [
    "#### 문제\n",
    "과거 이집트인들은 각 변들의 길이가 3, 4, 5인 삼각형이 직각 삼각형인것을 알아냈다. 주어진 세변의 길이로 삼각형이 직각인지 아닌지 구분하시오.\n",
    "\n",
    "#### 입력\n",
    "입력은 여러개의 테스트케이스로 주어지며 마지막줄에는 0 0 0이 입력된다. 각 테스트케이스는 모두 30,000보다 작은 양의 정수로 주어지며, 각 입력은 변의 길이를 의미한다.\n",
    "\n",
    "#### 출력\n",
    "각 입력에 대해 직각 삼각형이 맞다면 \"right\", 아니라면 \"wrong\"을 출력한다.\n",
    "\n",
    "예제 입력 1 \n",
    "\n",
    "6 8 10\n",
    "\n",
    "25 52 60\n",
    "\n",
    "5 12 13\n",
    "\n",
    "0 0 0\n",
    "\n",
    "예제 출력 1 \n",
    "\n",
    "right\n",
    "\n",
    "wrong\n",
    "\n",
    "right"
   ]
  },
  {
   "cell_type": "code",
   "execution_count": 2,
   "id": "0cdff569",
   "metadata": {},
   "outputs": [
    {
     "name": "stdout",
     "output_type": "stream",
     "text": [
      "6 8 10\n",
      "right\n",
      "25 52 60\n",
      "wrong\n",
      "5 12 13\n",
      "right\n",
      "0 0 0\n"
     ]
    }
   ],
   "source": [
    "while True:\n",
    "    inp = input()\n",
    "    if inp == '0 0 0':\n",
    "        break\n",
    "    \n",
    "    lst = list(map(int, inp.split()))\n",
    "    lst.sort()\n",
    "    if lst[-1] ** 2 == lst[0] ** 2 + lst[1] ** 2:\n",
    "        print('right')\n",
    "    else:\n",
    "        print('wrong')\n",
    "            \n",
    "    "
   ]
  },
  {
   "cell_type": "code",
   "execution_count": null,
   "id": "49111f51",
   "metadata": {},
   "outputs": [],
   "source": []
  }
 ],
 "metadata": {
  "kernelspec": {
   "display_name": "Python 3 (ipykernel)",
   "language": "python",
   "name": "python3"
  },
  "language_info": {
   "codemirror_mode": {
    "name": "ipython",
    "version": 3
   },
   "file_extension": ".py",
   "mimetype": "text/x-python",
   "name": "python",
   "nbconvert_exporter": "python",
   "pygments_lexer": "ipython3",
   "version": "3.8.10"
  }
 },
 "nbformat": 4,
 "nbformat_minor": 5
}
