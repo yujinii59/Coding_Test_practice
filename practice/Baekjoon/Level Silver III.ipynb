{
 "cells": [
  {
   "cell_type": "markdown",
   "id": "12851580",
   "metadata": {},
   "source": [
    "#### 17413 단어 뒤집기 2"
   ]
  },
  {
   "cell_type": "code",
   "execution_count": 9,
   "id": "ad6e58f1",
   "metadata": {},
   "outputs": [
    {
     "name": "stdout",
     "output_type": "stream",
     "text": [
      "<problem>17413<is hardest>problem ever<end>\n",
      "<problem>31471<is hardest>melborp reve<end>\n"
     ]
    }
   ],
   "source": [
    "strings = input()\n",
    "is_not_tag = True\n",
    "string = ''\n",
    "tag = ''\n",
    "for s in strings:\n",
    "    if s == '<':\n",
    "        print(string[::-1], end='')\n",
    "        string = ''\n",
    "        is_not_tag = False\n",
    "        tag += s\n",
    "        continue\n",
    "    elif s == '>':\n",
    "        is_not_tag = True\n",
    "        tag += s\n",
    "        print(tag, end='')\n",
    "        tag = ''\n",
    "        continue\n",
    "    if is_not_tag:\n",
    "        if s == ' ':\n",
    "            print(string[::-1] + ' ', end='')\n",
    "            string = ''\n",
    "        else:\n",
    "            string += s\n",
    "    else:\n",
    "        tag += s\n",
    "print(string[::-1])"
   ]
  },
  {
   "cell_type": "code",
   "execution_count": null,
   "id": "d3bd3f0f",
   "metadata": {},
   "outputs": [],
   "source": []
  }
 ],
 "metadata": {
  "kernelspec": {
   "display_name": "Python 3 (ipykernel)",
   "language": "python",
   "name": "python3"
  },
  "language_info": {
   "codemirror_mode": {
    "name": "ipython",
    "version": 3
   },
   "file_extension": ".py",
   "mimetype": "text/x-python",
   "name": "python",
   "nbconvert_exporter": "python",
   "pygments_lexer": "ipython3",
   "version": "3.8.10"
  }
 },
 "nbformat": 4,
 "nbformat_minor": 5
}
