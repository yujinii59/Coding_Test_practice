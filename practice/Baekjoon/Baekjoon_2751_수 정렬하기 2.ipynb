{
 "cells": [
  {
   "cell_type": "markdown",
   "id": "abd0cccb",
   "metadata": {},
   "source": [
    "#### 문제\n",
    "N개의 수가 주어졌을 때, 이를 오름차순으로 정렬하는 프로그램을 작성하시오.\n",
    "\n",
    "#### 입력\n",
    "첫째 줄에 수의 개수 N(1 ≤ N ≤ 1,000,000)이 주어진다. 둘째 줄부터 N개의 줄에는 수가 주어진다. 이 수는 절댓값이 1,000,000보다 작거나 같은 정수이다. 수는 중복되지 않는다.\n",
    "\n",
    "#### 출력\n",
    "첫째 줄부터 N개의 줄에 오름차순으로 정렬한 결과를 한 줄에 하나씩 출력한다.\n",
    "\n",
    "예제 입력 1 \n",
    "\n",
    "5\n",
    "\n",
    "5\n",
    "\n",
    "4\n",
    "\n",
    "3\n",
    "\n",
    "2\n",
    "\n",
    "1\n",
    "\n",
    "예제 출력 1 \n",
    "\n",
    "1\n",
    "\n",
    "2\n",
    "\n",
    "3\n",
    "\n",
    "4\n",
    "\n",
    "5"
   ]
  },
  {
   "cell_type": "code",
   "execution_count": 11,
   "id": "8e033e7d",
   "metadata": {},
   "outputs": [],
   "source": [
    "def bisect(nums, num, start, end):\n",
    "    mid = (start + end) // 2\n",
    "    if nums[mid] < num:\n",
    "        if mid == end:\n",
    "            nums = nums[:end + 1] + [num] + nums[end + 1:]\n",
    "        else:\n",
    "            nums = bisect(nums, num, mid + 1, end)\n",
    "    elif nums[mid] > num:\n",
    "        if mid == start:\n",
    "            nums = nums[:start] + [num] + nums[start:]\n",
    "        else:\n",
    "            nums = bisect(nums, num, start, mid - 1)\n",
    "#     else:\n",
    "#         nums = nums[:mid] + [num] + nums[mid:]\n",
    "    return nums"
   ]
  },
  {
   "cell_type": "code",
   "execution_count": 12,
   "id": "64f91486",
   "metadata": {},
   "outputs": [
    {
     "name": "stdout",
     "output_type": "stream",
     "text": [
      "10\n",
      "5\n",
      "[5]\n",
      "2\n",
      "[2, 5]\n",
      "3\n",
      "[2, 3, 5]\n",
      "1\n",
      "[1, 2, 3, 5]\n",
      "4\n",
      "[1, 2, 3, 4, 5]\n",
      "2\n",
      "[1, 2, 2, 3, 4, 5]\n",
      "3\n",
      "[1, 2, 2, 3, 3, 4, 5]\n",
      "5\n",
      "[1, 2, 2, 3, 3, 4, 5, 5]\n",
      "1\n",
      "[1, 1, 2, 2, 3, 3, 4, 5, 5]\n",
      "7\n",
      "[1, 1, 2, 2, 3, 3, 4, 5, 5, 7]\n",
      "1\n",
      "1\n",
      "2\n",
      "2\n",
      "3\n",
      "3\n",
      "4\n",
      "5\n",
      "5\n",
      "7\n"
     ]
    }
   ],
   "source": [
    "n = int(input())\n",
    "ls = []\n",
    "nums = []\n",
    "for i in range(n):\n",
    "    num = int(input())\n",
    "    if i == 0:\n",
    "        nums.append(num)\n",
    "    else:\n",
    "        nums = bisect(nums, num, 0, i - 1)\n",
    "\n",
    "for num in nums:\n",
    "    print(num)"
   ]
  },
  {
   "cell_type": "code",
   "execution_count": null,
   "id": "20f2518a",
   "metadata": {},
   "outputs": [],
   "source": [
    "import sys\n",
    "n = int(sys.stdin.readline())\n",
    "ls = []\n",
    "for _ in range(n):\n",
    "    ls.append(int(sys.stdin.readline()))\n",
    "for i in sorted(ls):\n",
    "    print(i)"
   ]
  }
 ],
 "metadata": {
  "kernelspec": {
   "display_name": "Python 3 (ipykernel)",
   "language": "python",
   "name": "python3"
  },
  "language_info": {
   "codemirror_mode": {
    "name": "ipython",
    "version": 3
   },
   "file_extension": ".py",
   "mimetype": "text/x-python",
   "name": "python",
   "nbconvert_exporter": "python",
   "pygments_lexer": "ipython3",
   "version": "3.8.10"
  }
 },
 "nbformat": 4,
 "nbformat_minor": 5
}
