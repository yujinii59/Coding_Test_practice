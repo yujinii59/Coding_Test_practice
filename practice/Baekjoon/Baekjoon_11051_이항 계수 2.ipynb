{
 "cells": [
  {
   "cell_type": "markdown",
   "id": "e9d56539",
   "metadata": {},
   "source": [
    "#### 문제\n",
    "자연수 N과 정수 K가 주어졌을 때 이항 계수 \n",
    "\n",
    "$\\binom{N}{K}$를 10,007로 나눈 나머지를 구하는 프로그램을 작성하시오.\n",
    "\n",
    "#### 입력\n",
    "첫째 줄에 N과 K가 주어진다. (1 ≤ N ≤ 1,000, 0 ≤ K ≤ N))\n",
    "\n",
    "#### 출력\n",
    " \n",
    "$\\binom{N}{K}$를 10,007로 나눈 나머지를 출력한다.\n",
    "\n",
    "#### 예제 입력 1 \n",
    "5 2\n",
    "#### 예제 출력 1 \n",
    "10"
   ]
  },
  {
   "cell_type": "code",
   "execution_count": 5,
   "id": "44438315",
   "metadata": {},
   "outputs": [
    {
     "name": "stdout",
     "output_type": "stream",
     "text": [
      "5 2\n",
      "10\n"
     ]
    }
   ],
   "source": [
    "from math import factorial\n",
    "\n",
    "n, k = map(int, input().split())\n",
    "\n",
    "print((factorial(n) // (factorial(n - k) * factorial(k))) % 10007)"
   ]
  },
  {
   "cell_type": "code",
   "execution_count": null,
   "id": "5bbd18c3",
   "metadata": {},
   "outputs": [],
   "source": []
  }
 ],
 "metadata": {
  "kernelspec": {
   "display_name": "Python 3 (ipykernel)",
   "language": "python",
   "name": "python3"
  },
  "language_info": {
   "codemirror_mode": {
    "name": "ipython",
    "version": 3
   },
   "file_extension": ".py",
   "mimetype": "text/x-python",
   "name": "python",
   "nbconvert_exporter": "python",
   "pygments_lexer": "ipython3",
   "version": "3.8.10"
  }
 },
 "nbformat": 4,
 "nbformat_minor": 5
}
