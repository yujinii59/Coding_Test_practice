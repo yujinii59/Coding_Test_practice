{
 "cells": [
  {
   "cell_type": "markdown",
   "id": "009fe2ce",
   "metadata": {},
   "source": [
    "#### 문제\n",
    "개미 여러 마리가 길이가 lcm인 막대 위에 있다. 각 개미의 이동 속도는 모두 일정하며, 1cm/s이다. 개미가 막대의 마지막까지 걸어간다면, 개미는 그 즉시 떨어지게 된다. 또, 두 개미가 만나게 된다면, 방향을 반대로 바꾸어 걸어가게 된다.\n",
    "\n",
    "가장 처음에 막대 상에서 개미의 위치를 알고 있다. 하지만, 개미가 어느 방향으로 움직이는 지는 알 수가 없다. 이때, 모든 개미가 땅으로 떨어질 때까지 가능한 시간 중 가장 빠른 시간과 느린 시간을 구하는 프로그램을 작성하시오.\n",
    "\n",
    "#### 입력\n",
    "첫째 줄에 테스트 케이스의 개수가 주어진다. 각 테스트 케이스의 첫째 줄에는 막대의 길이와 개미의 수 n이 주어진다. 다음 n개 줄에는 숫자가 하나씩 주어지며, 이 숫자는 개미의 초기 위치를 나타낸다. 입력으로 주어지는 모든 수는 1,000,000보다 작거나 같으며, 공백으로 구분되어져 있다. 개미의 위치는 막대 왼쪽 끝에서부터 떨어진 거리이다.\n",
    "\n",
    "#### 출력\n",
    "각 테스트 케이스에 대해서, 두 숫자를 출력한다. 첫 번째 숫자는 개미가 모두 땅으로 떨어지는 가능한 시간 중 가장 빠른 시간, 두 번째 숫자는 가장 늦은 시간이다.\n",
    "\n",
    "#### 제한\n",
    "1 ≤ n ≤ 100000\n",
    "\n",
    "1 ≤ l ≤ 1000000\n",
    "\n",
    "개미의 위치는 정수\n",
    "\n",
    "0 ≤ 개미의 위치 ≤ l\n",
    "#### 예제 입력 1 \n",
    "2\n",
    "\n",
    "10 3\n",
    "\n",
    "2\n",
    "\n",
    "6\n",
    "\n",
    "7\n",
    "\n",
    "214 7\n",
    "\n",
    "11\n",
    "\n",
    "12\n",
    "\n",
    "7\n",
    "\n",
    "13\n",
    "\n",
    "176\n",
    "\n",
    "23\n",
    "\n",
    "191\n",
    "#### 예제 출력 1 \n",
    "4 8\n",
    "\n",
    "38 207"
   ]
  },
  {
   "cell_type": "code",
   "execution_count": 11,
   "id": "8c466b1e",
   "metadata": {},
   "outputs": [
    {
     "name": "stdout",
     "output_type": "stream",
     "text": [
      "1\n",
      "214 7\n",
      "11\n",
      "12\n",
      "7\n",
      "13\n",
      "176\n",
      "23\n",
      "191\n",
      "38 207\n"
     ]
    }
   ],
   "source": [
    "t = int(input())\n",
    "for _ in range(t):\n",
    "    l, n = map(int, input().split())\n",
    "    min_times = []\n",
    "    loc = []\n",
    "    for _ in range(n):\n",
    "        ant = int(input())\n",
    "        loc.append(ant)\n",
    "        min_times.append(min(ant, l - ant))\n",
    "    \n",
    "    if n == 0:\n",
    "        min_times = [0]\n",
    "        max_times = 0\n",
    "    elif n == 1:\n",
    "        max_times = max(loc[0], l - loc[0])\n",
    "    else:\n",
    "        loc = sorted(loc)\n",
    "        if n == 2:\n",
    "            max_times = max(loc[0], l - loc[1]) + (loc[1] - loc[0])\n",
    "        else:\n",
    "            max_times = max(l - loc[1] + (loc[1] - loc[0]), loc[-2] + (loc[-1] - loc[-2]))\n",
    "\n",
    "    print(max(min_times), max_times)"
   ]
  },
  {
   "cell_type": "code",
   "execution_count": null,
   "id": "a03a724b",
   "metadata": {},
   "outputs": [],
   "source": []
  }
 ],
 "metadata": {
  "kernelspec": {
   "display_name": "Python 3 (ipykernel)",
   "language": "python",
   "name": "python3"
  },
  "language_info": {
   "codemirror_mode": {
    "name": "ipython",
    "version": 3
   },
   "file_extension": ".py",
   "mimetype": "text/x-python",
   "name": "python",
   "nbconvert_exporter": "python",
   "pygments_lexer": "ipython3",
   "version": "3.8.10"
  }
 },
 "nbformat": 4,
 "nbformat_minor": 5
}
