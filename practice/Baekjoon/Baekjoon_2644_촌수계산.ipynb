{
 "cells": [
  {
   "cell_type": "markdown",
   "id": "ae532ee0",
   "metadata": {},
   "source": [
    "#### 문제\n",
    "우리 나라는 가족 혹은 친척들 사이의 관계를 촌수라는 단위로 표현하는 독특한 문화를 가지고 있다. 이러한 촌수는 다음과 같은 방식으로 계산된다. 기본적으로 부모와 자식 사이를 1촌으로 정의하고 이로부터 사람들 간의 촌수를 계산한다. 예를 들면 나와 아버지, 아버지와 할아버지는 각각 1촌으로 나와 할아버지는 2촌이 되고, 아버지 형제들과 할아버지는 1촌, 나와 아버지 형제들과는 3촌이 된다.\n",
    "\n",
    "여러 사람들에 대한 부모 자식들 간의 관계가 주어졌을 때, 주어진 두 사람의 촌수를 계산하는 프로그램을 작성하시오.\n",
    "\n",
    "#### 입력\n",
    "사람들은 1, 2, 3, …, n (1 ≤ n ≤ 100)의 연속된 번호로 각각 표시된다. 입력 파일의 첫째 줄에는 전체 사람의 수 n이 주어지고, 둘째 줄에는 촌수를 계산해야 하는 서로 다른 두 사람의 번호가 주어진다. 그리고 셋째 줄에는 부모 자식들 간의 관계의 개수 m이 주어진다. 넷째 줄부터는 부모 자식간의 관계를 나타내는 두 번호 x,y가 각 줄에 나온다. 이때 앞에 나오는 번호 x는 뒤에 나오는 정수 y의 부모 번호를 나타낸다.\n",
    "\n",
    "각 사람의 부모는 최대 한 명만 주어진다.\n",
    "\n",
    "#### 출력\n",
    "입력에서 요구한 두 사람의 촌수를 나타내는 정수를 출력한다. 어떤 경우에는 두 사람의 친척 관계가 전혀 없어 촌수를 계산할 수 없을 때가 있다. 이때에는 -1을 출력해야 한다.\n",
    "\n",
    "#### 예제 입력 1 \n",
    "9\n",
    "\n",
    "7 3\n",
    "\n",
    "7\n",
    "\n",
    "1 2\n",
    "\n",
    "1 3\n",
    "\n",
    "2 7\n",
    "\n",
    "2 8\n",
    "\n",
    "2 9\n",
    "\n",
    "4 5\n",
    "\n",
    "4 6\n",
    "#### 예제 출력 1 \n",
    "3\n",
    "#### 예제 입력 2 \n",
    "9\n",
    "\n",
    "8 6\n",
    "\n",
    "7\n",
    "\n",
    "1 2\n",
    "\n",
    "1 3\n",
    "\n",
    "2 7\n",
    "\n",
    "2 8\n",
    "\n",
    "2 9\n",
    "\n",
    "4 5\n",
    "\n",
    "4 6\n",
    "#### 예제 출력 2 \n",
    "-1"
   ]
  },
  {
   "cell_type": "code",
   "execution_count": 4,
   "id": "bb86a834",
   "metadata": {},
   "outputs": [
    {
     "name": "stdout",
     "output_type": "stream",
     "text": [
      "9\n",
      "7 3\n",
      "7\n",
      "1 2\n",
      "1 3\n",
      "2 7\n",
      "2 8\n",
      "2 9\n",
      "4 5\n",
      "4 6\n",
      "-1\n"
     ]
    }
   ],
   "source": [
    "n = int(input())\n",
    "relations = [[-1 for i in range(n+1)] for i in range(n+1)]\n",
    "a, b = map(int, input().split())\n",
    "m = int(input())\n",
    "for _ in range(m):\n",
    "    p, c = map(int, input().split())\n",
    "    relations[p][c] = 1\n",
    "    relations[c][p] = 1\n",
    "    \n",
    "for k in range(1, n+1):\n",
    "    for i in range(1, n+1):\n",
    "        if relations[i][k] > 0:\n",
    "            for j in range(i, n+1):\n",
    "                if relations[k][j] > 0:\n",
    "                    tmp = relations[i][k] + relations[k][j]\n",
    "                    if relations[i][j] > 0:\n",
    "                        relations[i][j] = min(relations[i][j], tmp)\n",
    "                        relations[j][i] = relations[i][j]\n",
    "                    else:\n",
    "                        relations[i][j] = tmp\n",
    "                        relations[j][i] = tmp\n",
    "print(relations[a][b])"
   ]
  }
 ],
 "metadata": {
  "kernelspec": {
   "display_name": "Python 3 (ipykernel)",
   "language": "python",
   "name": "python3"
  },
  "language_info": {
   "codemirror_mode": {
    "name": "ipython",
    "version": 3
   },
   "file_extension": ".py",
   "mimetype": "text/x-python",
   "name": "python",
   "nbconvert_exporter": "python",
   "pygments_lexer": "ipython3",
   "version": "3.8.10"
  }
 },
 "nbformat": 4,
 "nbformat_minor": 5
}
