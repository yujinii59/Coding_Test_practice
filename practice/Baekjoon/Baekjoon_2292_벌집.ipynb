{
 "cells": [
  {
   "cell_type": "markdown",
   "id": "13889e45",
   "metadata": {},
   "source": [
    "#### 문제\n",
    "\n",
    "\n",
    "위의 그림과 같이 육각형으로 이루어진 벌집이 있다. 그림에서 보는 바와 같이 중앙의 방 1부터 시작해서 이웃하는 방에 돌아가면서 1씩 증가하는 번호를 주소로 매길 수 있다. 숫자 N이 주어졌을 때, 벌집의 중앙 1에서 N번 방까지 최소 개수의 방을 지나서 갈 때 몇 개의 방을 지나가는지(시작과 끝을 포함하여)를 계산하는 프로그램을 작성하시오. 예를 들면, 13까지는 3개, 58까지는 5개를 지난다.\n",
    "\n",
    "#### 입력\n",
    "첫째 줄에 N(1 ≤ N ≤ 1,000,000,000)이 주어진다.\n",
    "\n",
    "#### 출력\n",
    "입력으로 주어진 방까지 최소 개수의 방을 지나서 갈 때 몇 개의 방을 지나는지 출력한다.\n",
    "\n",
    "예제 입력 1 \n",
    "\n",
    "13\n",
    "\n",
    "예제 출력 1 \n",
    "\n",
    "3"
   ]
  },
  {
   "cell_type": "code",
   "execution_count": 14,
   "id": "189454e8",
   "metadata": {},
   "outputs": [
    {
     "name": "stdout",
     "output_type": "stream",
     "text": [
      "41\n",
      "2 4\n",
      "5\n"
     ]
    }
   ],
   "source": [
    "n = int(input())\n",
    "base = int(((n - 1) / 3) ** 0.5)\n",
    "if base == 0:\n",
    "    start = base\n",
    "else:\n",
    "    start = base - 1\n",
    "    \n",
    "end = base + 1\n",
    "for i in range(start, end + 1):\n",
    "    if n <= 3 * i * (i + 1) + 1:\n",
    "        print(i + 1)\n",
    "        break"
   ]
  },
  {
   "cell_type": "code",
   "execution_count": null,
   "id": "72caf8c7",
   "metadata": {},
   "outputs": [],
   "source": []
  },
  {
   "cell_type": "code",
   "execution_count": null,
   "id": "606d03fb",
   "metadata": {},
   "outputs": [],
   "source": []
  }
 ],
 "metadata": {
  "kernelspec": {
   "display_name": "Python 3 (ipykernel)",
   "language": "python",
   "name": "python3"
  },
  "language_info": {
   "codemirror_mode": {
    "name": "ipython",
    "version": 3
   },
   "file_extension": ".py",
   "mimetype": "text/x-python",
   "name": "python",
   "nbconvert_exporter": "python",
   "pygments_lexer": "ipython3",
   "version": "3.8.10"
  }
 },
 "nbformat": 4,
 "nbformat_minor": 5
}
