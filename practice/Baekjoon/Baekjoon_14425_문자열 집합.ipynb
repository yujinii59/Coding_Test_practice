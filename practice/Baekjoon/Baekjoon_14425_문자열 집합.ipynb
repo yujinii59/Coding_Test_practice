{
 "cells": [
  {
   "cell_type": "markdown",
   "id": "3cb1668d",
   "metadata": {},
   "source": [
    "#### 문제\n",
    "총 N개의 문자열로 이루어진 집합 S가 주어진다.\n",
    "\n",
    "입력으로 주어지는 M개의 문자열 중에서 집합 S에 포함되어 있는 것이 총 몇 개인지 구하는 프로그램을 작성하시오.\n",
    "\n",
    "#### 입력\n",
    "첫째 줄에 문자열의 개수 N과 M (1 ≤ N ≤ 10,000, 1 ≤ M ≤ 10,000)이 주어진다. \n",
    "\n",
    "다음 N개의 줄에는 집합 S에 포함되어 있는 문자열들이 주어진다.\n",
    "\n",
    "다음 M개의 줄에는 검사해야 하는 문자열들이 주어진다.\n",
    "\n",
    "입력으로 주어지는 문자열은 알파벳 소문자로만 이루어져 있으며, 길이는 500을 넘지 않는다. 집합 S에 같은 문자열이 여러 번 주어지는 경우는 없다.\n",
    "\n",
    "#### 출력\n",
    "첫째 줄에 M개의 문자열 중에 총 몇 개가 집합 S에 포함되어 있는지 출력한다.\n",
    "\n",
    "#### 예제 입력 1 \n",
    "\n",
    "5 11\n",
    "\n",
    "baekjoononlinejudge\n",
    "\n",
    "startlink\n",
    "\n",
    "codeplus\n",
    "\n",
    "sundaycoding\n",
    "\n",
    "codingsh\n",
    "\n",
    "baekjoon\n",
    "\n",
    "codeplus\n",
    "\n",
    "codeminus\n",
    "\n",
    "startlink\n",
    "\n",
    "starlink\n",
    "\n",
    "sundaycoding\n",
    "\n",
    "codingsh\n",
    "\n",
    "codinghs\n",
    "\n",
    "sondaycoding\n",
    "\n",
    "startrink\n",
    "\n",
    "icerink\n",
    "\n",
    "#### 예제 출력 1 \n",
    "\n",
    "4"
   ]
  },
  {
   "cell_type": "code",
   "execution_count": null,
   "id": "1284c3bf",
   "metadata": {},
   "outputs": [],
   "source": [
    "n, m = map(int, input().split())\n",
    "contains = {}\n",
    "for _ in range(n):\n",
    "    contains[input()] = 1\n",
    "\n",
    "chk_ls = []    \n",
    "for _ in range(m):\n",
    "    chk_ls.append(input())\n",
    "    \n",
    "print(sum(contains.get(chk, 0) for chk in chk_ls))"
   ]
  }
 ],
 "metadata": {
  "kernelspec": {
   "display_name": "Python 3 (ipykernel)",
   "language": "python",
   "name": "python3"
  },
  "language_info": {
   "codemirror_mode": {
    "name": "ipython",
    "version": 3
   },
   "file_extension": ".py",
   "mimetype": "text/x-python",
   "name": "python",
   "nbconvert_exporter": "python",
   "pygments_lexer": "ipython3",
   "version": "3.8.10"
  }
 },
 "nbformat": 4,
 "nbformat_minor": 5
}
