{
 "cells": [
  {
   "cell_type": "markdown",
   "id": "1c49a951",
   "metadata": {},
   "source": [
    "#### 문제\n",
    "N개의 자연수와 자연수 M이 주어졌을 때, 아래 조건을 만족하는 길이가 M인 수열을 모두 구하는 프로그램을 작성하시오.\n",
    "\n",
    "\n",
    "N개의 자연수 중에서 M개를 고른 수열\n",
    "\n",
    "#### 입력\n",
    "첫째 줄에 N과 M이 주어진다. (1 ≤ M ≤ N ≤ 8)\n",
    "\n",
    "둘째 줄에 N개의 수가 주어진다. 입력으로 주어지는 수는 10,000보다 작거나 같은 자연수이다.\n",
    "\n",
    "#### 출력\n",
    "한 줄에 하나씩 문제의 조건을 만족하는 수열을 출력한다. 중복되는 수열을 여러 번 출력하면 안되며, 각 수열은 공백으로 구분해서 출력해야 한다.\n",
    "\n",
    "수열은 사전 순으로 증가하는 순서로 출력해야 한다.\n",
    "\n",
    "#### 예제 입력 1 \n",
    "3 1\n",
    "\n",
    "4 4 2\n",
    "\n",
    "#### 예제 출력 1 \n",
    "2\n",
    "\n",
    "4\n",
    "\n",
    "#### 예제 입력 2 \n",
    "4 2\n",
    "\n",
    "9 7 9 1\n",
    "\n",
    "#### 예제 출력 2 \n",
    "1 7\n",
    "\n",
    "1 9\n",
    "\n",
    "7 1\n",
    "\n",
    "7 9\n",
    "\n",
    "9 1\n",
    "\n",
    "9 7\n",
    "\n",
    "9 9\n",
    "\n",
    "#### 예제 입력 3 \n",
    "4 4\n",
    "\n",
    "1 1 1 1\n",
    "\n",
    "#### 예제 출력 3 \n",
    "1 1 1 1"
   ]
  },
  {
   "cell_type": "code",
   "execution_count": 2,
   "id": "88d53e3d",
   "metadata": {},
   "outputs": [
    {
     "name": "stdout",
     "output_type": "stream",
     "text": [
      "4 2\n",
      "9 7 9 1\n",
      "1 7\n",
      "1 9\n",
      "7 1\n",
      "7 9\n",
      "9 1\n",
      "9 7\n",
      "9 9\n"
     ]
    }
   ],
   "source": [
    "from itertools import permutations\n",
    "\n",
    "n, m = map(int, input().split())\n",
    "numbers = sorted(list(map(int, input().split())))\n",
    "\n",
    "perm = set(permutations(numbers, m))\n",
    "for p in sorted(perm):\n",
    "    print(' '.join(map(str, p)))"
   ]
  },
  {
   "cell_type": "code",
   "execution_count": null,
   "id": "8d35644a",
   "metadata": {},
   "outputs": [],
   "source": []
  }
 ],
 "metadata": {
  "kernelspec": {
   "display_name": "Python 3 (ipykernel)",
   "language": "python",
   "name": "python3"
  },
  "language_info": {
   "codemirror_mode": {
    "name": "ipython",
    "version": 3
   },
   "file_extension": ".py",
   "mimetype": "text/x-python",
   "name": "python",
   "nbconvert_exporter": "python",
   "pygments_lexer": "ipython3",
   "version": "3.8.10"
  }
 },
 "nbformat": 4,
 "nbformat_minor": 5
}
