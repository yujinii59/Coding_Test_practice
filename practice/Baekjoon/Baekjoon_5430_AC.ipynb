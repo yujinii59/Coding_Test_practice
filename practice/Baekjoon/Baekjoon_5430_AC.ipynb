{
 "cells": [
  {
   "cell_type": "markdown",
   "id": "7edd9b6a",
   "metadata": {},
   "source": [
    "#### 문제\n",
    "선영이는 주말에 할 일이 없어서 새로운 언어 AC를 만들었다. AC는 정수 배열에 연산을 하기 위해 만든 언어이다. 이 언어에는 두 가지 함수 R(뒤집기)과 D(버리기)가 있다.\n",
    "\n",
    "함수 R은 배열에 있는 수의 순서를 뒤집는 함수이고, D는 첫 번째 수를 버리는 함수이다. 배열이 비어있는데 D를 사용한 경우에는 에러가 발생한다.\n",
    "\n",
    "함수는 조합해서 한 번에 사용할 수 있다. 예를 들어, \"AB\"는 A를 수행한 다음에 바로 이어서 B를 수행하는 함수이다. 예를 들어, \"RDD\"는 배열을 뒤집은 다음 처음 두 수를 버리는 함수이다.\n",
    "\n",
    "배열의 초기값과 수행할 함수가 주어졌을 때, 최종 결과를 구하는 프로그램을 작성하시오.\n",
    "\n",
    "#### 입력\n",
    "첫째 줄에 테스트 케이스의 개수 T가 주어진다. T는 최대 100이다.\n",
    "\n",
    "각 테스트 케이스의 첫째 줄에는 수행할 함수 p가 주어진다. p의 길이는 1보다 크거나 같고, 100,000보다 작거나 같다.\n",
    "\n",
    "다음 줄에는 배열에 들어있는 수의 개수 n이 주어진다. (0 ≤ n ≤ 100,000)\n",
    "\n",
    "다음 줄에는 [x1,...,xn]과 같은 형태로 배열에 들어있는 정수가 주어진다. (1 ≤ xi ≤ 100)\n",
    "\n",
    "전체 테스트 케이스에 주어지는 p의 길이의 합과 n의 합은 70만을 넘지 않는다.\n",
    "\n",
    "#### 출력\n",
    "각 테스트 케이스에 대해서, 입력으로 주어진 정수 배열에 함수를 수행한 결과를 출력한다. 만약, 에러가 발생한 경우에는 error를 출력한다.\n",
    "\n",
    "#### 예제 입력 1 \n",
    "4\n",
    "\n",
    "RDD\n",
    "\n",
    "4\n",
    "\n",
    "[1,2,3,4]\n",
    "\n",
    "DD\n",
    "\n",
    "1\n",
    "\n",
    "[42]\n",
    "\n",
    "RRD\n",
    "\n",
    "6\n",
    "\n",
    "[1,1,2,3,5,8]\n",
    "\n",
    "D\n",
    "\n",
    "0\n",
    "\n",
    "[]\n",
    "\n",
    "#### 예제 출력 1 \n",
    "\n",
    "[2,1]\n",
    "\n",
    "error\n",
    "\n",
    "[1,2,3,5,8]\n",
    "\n",
    "error"
   ]
  },
  {
   "cell_type": "code",
   "execution_count": 11,
   "id": "5997a402",
   "metadata": {},
   "outputs": [
    {
     "name": "stdout",
     "output_type": "stream",
     "text": [
      "1\n",
      "R\n",
      "0\n",
      "[]\n",
      "[]\n"
     ]
    }
   ],
   "source": [
    "t = int(input())\n",
    "for _ in range(t):\n",
    "    operations = input()\n",
    "    d_cnt = operations.count('D')\n",
    "    n = int(input())\n",
    "    ls = input()\n",
    "    if d_cnt > n:\n",
    "        print('error')\n",
    "    else:\n",
    "        if n != 0:\n",
    "            ls = list(map(int, ls.replace('[','').replace(']', '').split(',')))\n",
    "            rng = [0, -n]\n",
    "            target = 0\n",
    "            for op in operations:\n",
    "                if op == 'R':\n",
    "                    target = (target + 1) % 2\n",
    "                else:\n",
    "                    rng[target] += 1\n",
    "            if target == 0:            \n",
    "                print('['+','.join(map(str, ls[rng[0] : -rng[1]]))+']')\n",
    "            else:\n",
    "                print('['+','.join(map(str, list(reversed(ls[rng[0] : -rng[1]]))))+']')\n",
    "        else:\n",
    "            ls = []\n",
    "            print(ls)"
   ]
  },
  {
   "cell_type": "code",
   "execution_count": 15,
   "id": "bd230fff",
   "metadata": {},
   "outputs": [
    {
     "data": {
      "text/plain": [
       "'[1,-6]'"
      ]
     },
     "execution_count": 15,
     "metadata": {},
     "output_type": "execute_result"
    }
   ],
   "source": [
    "'['+','.join(map(str, rng))+']'"
   ]
  },
  {
   "cell_type": "code",
   "execution_count": null,
   "id": "c48c29c5",
   "metadata": {},
   "outputs": [],
   "source": []
  }
 ],
 "metadata": {
  "kernelspec": {
   "display_name": "Python 3 (ipykernel)",
   "language": "python",
   "name": "python3"
  },
  "language_info": {
   "codemirror_mode": {
    "name": "ipython",
    "version": 3
   },
   "file_extension": ".py",
   "mimetype": "text/x-python",
   "name": "python",
   "nbconvert_exporter": "python",
   "pygments_lexer": "ipython3",
   "version": "3.8.10"
  }
 },
 "nbformat": 4,
 "nbformat_minor": 5
}
