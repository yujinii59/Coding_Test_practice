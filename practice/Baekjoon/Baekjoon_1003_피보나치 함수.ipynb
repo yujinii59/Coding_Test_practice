{
 "cells": [
  {
   "cell_type": "markdown",
   "id": "4e15a648",
   "metadata": {},
   "source": [
    "#### 문제\n",
    "다음 소스는 N번째 피보나치 수를 구하는 C++ 함수이다.\n",
    "\n",
    "`int fibonacci(int n) {\n",
    "    if (n == 0) {\n",
    "        printf(\"0\");\n",
    "        return 0;\n",
    "    } else if (n == 1) {\n",
    "        printf(\"1\");\n",
    "        return 1;\n",
    "    } else {\n",
    "        return fibonacci(n‐1) + fibonacci(n‐2);\n",
    "    }\n",
    "}`\n",
    "\n",
    "fibonacci(3)을 호출하면 다음과 같은 일이 일어난다.\n",
    "\n",
    "fibonacci(3)은 fibonacci(2)와 fibonacci(1) (첫 번째 호출)을 호출한다.\n",
    "\n",
    "fibonacci(2)는 fibonacci(1) (두 번째 호출)과 fibonacci(0)을 호출한다.\n",
    "\n",
    "두 번째 호출한 fibonacci(1)은 1을 출력하고 1을 리턴한다.\n",
    "\n",
    "fibonacci(0)은 0을 출력하고, 0을 리턴한다.\n",
    "\n",
    "fibonacci(2)는 fibonacci(1)과 fibonacci(0)의 결과를 얻고, 1을 리턴한다.\n",
    "\n",
    "첫 번째 호출한 fibonacci(1)은 1을 출력하고, 1을 리턴한다.\n",
    "\n",
    "fibonacci(3)은 fibonacci(2)와 fibonacci(1)의 결과를 얻고, 2를 리턴한다.\n",
    "\n",
    "1은 2번 출력되고, 0은 1번 출력된다. N이 주어졌을 때, fibonacci(N)을 호출했을 때, 0과 1이 각각 몇 번 출력되는지 구하는 프로그램을 작성하시오.\n",
    "\n",
    "#### 입력\n",
    "첫째 줄에 테스트 케이스의 개수 T가 주어진다.\n",
    "\n",
    "각 테스트 케이스는 한 줄로 이루어져 있고, N이 주어진다. N은 40보다 작거나 같은 자연수 또는 0이다.\n",
    "\n",
    "#### 출력\n",
    "각 테스트 케이스마다 0이 출력되는 횟수와 1이 출력되는 횟수를 공백으로 구분해서 출력한다.\n",
    "\n",
    "#### 예제 입력 1 \n",
    "3\n",
    "\n",
    "0\n",
    "\n",
    "1\n",
    "\n",
    "3\n",
    "\n",
    "#### 예제 출력 1 \n",
    "1 0\n",
    "\n",
    "0 1\n",
    "\n",
    "1 2\n",
    "\n",
    "#### 예제 입력 2 \n",
    "2\n",
    "\n",
    "6\n",
    "\n",
    "22\n",
    "\n",
    "#### 예제 출력 2 \n",
    "5 8\n",
    "\n",
    "10946 17711"
   ]
  },
  {
   "cell_type": "code",
   "execution_count": 1,
   "id": "7036f2f1",
   "metadata": {},
   "outputs": [],
   "source": [
    "fibo = {}\n",
    "def fibonacci(num):\n",
    "    if num in fibo:\n",
    "        return fibo[num]\n",
    "    \n",
    "    if num == 0:\n",
    "        fibo[num] = [0, 1, 0]\n",
    "        \n",
    "    elif num == 1:\n",
    "        fibo[num] = [1, 0, 1]\n",
    "        \n",
    "    else:\n",
    "        fibo1 = fibonacci(num - 1)\n",
    "        fibo2 = fibonacci(num - 2)\n",
    "        fibo[num] = []\n",
    "        for i in range(3):\n",
    "            fibo[num].append(fibo1[i] + fibo2[i])\n",
    "        \n",
    "    return fibo[num]"
   ]
  },
  {
   "cell_type": "code",
   "execution_count": 3,
   "id": "2b844074",
   "metadata": {},
   "outputs": [
    {
     "name": "stdout",
     "output_type": "stream",
     "text": [
      "2\n",
      "6\n",
      "5 8\n",
      "22\n",
      "10946 17711\n"
     ]
    }
   ],
   "source": [
    "n = int(input())\n",
    "for _ in range(n):\n",
    "    num = int(input())\n",
    "    rst = fibonacci(num)\n",
    "    print(rst[1], rst[2])"
   ]
  },
  {
   "cell_type": "code",
   "execution_count": null,
   "id": "e32e0ad1",
   "metadata": {},
   "outputs": [],
   "source": []
  }
 ],
 "metadata": {
  "kernelspec": {
   "display_name": "Python 3 (ipykernel)",
   "language": "python",
   "name": "python3"
  },
  "language_info": {
   "codemirror_mode": {
    "name": "ipython",
    "version": 3
   },
   "file_extension": ".py",
   "mimetype": "text/x-python",
   "name": "python",
   "nbconvert_exporter": "python",
   "pygments_lexer": "ipython3",
   "version": "3.8.10"
  }
 },
 "nbformat": 4,
 "nbformat_minor": 5
}
