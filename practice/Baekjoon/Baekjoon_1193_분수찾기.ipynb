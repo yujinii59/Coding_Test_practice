{
 "cells": [
  {
   "cell_type": "markdown",
   "id": "914d2c8a",
   "metadata": {},
   "source": [
    "#### 문제\n",
    "무한히 큰 배열에 다음과 같이 분수들이 적혀있다.\n",
    "\n",
    "1/1\t1/2\t1/3\t1/4\t1/5\t…\n",
    "\n",
    "2/1\t2/2\t2/3\t2/4\t…\t…\n",
    "\n",
    "3/1\t3/2\t3/3\t…\t…\t…\n",
    "\n",
    "4/1\t4/2\t…\t…\t…\t…\n",
    "\n",
    "5/1\t…\t…\t…\t…\t…\n",
    "\n",
    "…\t…\t…\t…\t…\t…\n",
    "\n",
    "이와 같이 나열된 분수들을 1/1 → 1/2 → 2/1 → 3/1 → 2/2 → … 과 같은 지그재그 순서로 차례대로 1번, 2번, 3번, 4번, 5번, … 분수라고 하자.\n",
    "\n",
    "X가 주어졌을 때, X번째 분수를 구하는 프로그램을 작성하시오.\n",
    "\n",
    "#### 입력\n",
    "첫째 줄에 X(1 ≤ X ≤ 10,000,000)가 주어진다.\n",
    "\n",
    "#### 출력\n",
    "첫째 줄에 분수를 출력한다.\n",
    "\n",
    "#### 예제 입력 1 \n",
    "1\n",
    "#### 예제 출력 1 \n",
    "1/1\n",
    "#### 예제 입력 2 \n",
    "2\n",
    "#### 예제 출력 2 \n",
    "1/2\n",
    "#### 예제 입력 3 \n",
    "3\n",
    "#### 예제 출력 3 \n",
    "2/1\n",
    "#### 예제 입력 4 \n",
    "4\n",
    "#### 예제 출력 4 \n",
    "3/1\n",
    "#### 예제 입력 5 \n",
    "5\n",
    "#### 예제 출력 5 \n",
    "2/2\n",
    "#### 예제 입력 6 \n",
    "6\n",
    "#### 예제 출력 6 \n",
    "1/3\n",
    "#### 예제 입력 7 \n",
    "7\n",
    "#### 예제 출력 7 \n",
    "1/4\n",
    "#### 예제 입력 8 \n",
    "8\n",
    "#### 예제 출력 8 \n",
    "2/3\n",
    "#### 예제 입력 9 \n",
    "9\n",
    "#### 예제 출력 9 \n",
    "3/2\n",
    "#### 예제 입력 10 \n",
    "14\n",
    "#### 예제 출력 10 \n",
    "2/4"
   ]
  },
  {
   "cell_type": "code",
   "execution_count": 34,
   "id": "af2eca1c",
   "metadata": {},
   "outputs": [
    {
     "name": "stdout",
     "output_type": "stream",
     "text": [
      "7\n",
      "1/4\n"
     ]
    }
   ],
   "source": [
    "from math import sqrt\n",
    "\n",
    "x = int(input())\n",
    "n = int(sqrt(2 * x))\n",
    "\n",
    "for i in range(n, n + 2):\n",
    "    if i * (i + 1) / 2 >= x:\n",
    "        n = i\n",
    "        M = i * (i + 1) / 2\n",
    "        break\n",
    "        \n",
    "diff = int(M - x)\n",
    "\n",
    "if n % 2 == 0:\n",
    "    print(f'{n - diff}/{1 + diff}')\n",
    "else:\n",
    "    print(f'{1 + diff}/{n - diff}')\n"
   ]
  }
 ],
 "metadata": {
  "kernelspec": {
   "display_name": "Python 3 (ipykernel)",
   "language": "python",
   "name": "python3"
  },
  "language_info": {
   "codemirror_mode": {
    "name": "ipython",
    "version": 3
   },
   "file_extension": ".py",
   "mimetype": "text/x-python",
   "name": "python",
   "nbconvert_exporter": "python",
   "pygments_lexer": "ipython3",
   "version": "3.8.10"
  }
 },
 "nbformat": 4,
 "nbformat_minor": 5
}
