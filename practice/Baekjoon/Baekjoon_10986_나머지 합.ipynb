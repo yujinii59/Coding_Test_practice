{
 "cells": [
  {
   "cell_type": "markdown",
   "id": "e39c76bc",
   "metadata": {},
   "source": [
    "#### 문제\n",
    "수 N개 A1, A2, ..., AN이 주어진다. 이때, 연속된 부분 구간의 합이 M으로 나누어 떨어지는 구간의 개수를 구하는 프로그램을 작성하시오.\n",
    "\n",
    "즉, Ai + ... + Aj (i ≤ j) 의 합이 M으로 나누어 떨어지는 (i, j) 쌍의 개수를 구해야 한다.\n",
    "\n",
    "#### 입력\n",
    "첫째 줄에 N과 M이 주어진다. (1 ≤ N ≤ 106, 2 ≤ M ≤ 103)\n",
    "\n",
    "둘째 줄에 N개의 수 A1, A2, ..., AN이 주어진다. (0 ≤ Ai ≤ 109)\n",
    "\n",
    "#### 출력\n",
    "첫째 줄에 연속된 부분 구간의 합이 M으로 나누어 떨어지는 구간의 개수를 출력한다.\n",
    "\n",
    "#### 예제 입력 1 \n",
    "5 3\n",
    "\n",
    "1 2 3 1 2\n",
    "\n",
    "#### 예제 출력 1 \n",
    "7"
   ]
  },
  {
   "cell_type": "code",
   "execution_count": 9,
   "id": "929a2be1",
   "metadata": {},
   "outputs": [
    {
     "name": "stdout",
     "output_type": "stream",
     "text": [
      "7 3\n",
      "1 2 0 0 3 1 2\n",
      "0 1 1 1 [7]\n",
      "0 2 2 2 [7, 2]\n",
      "0 3 3 3 [7, 2, 3]\n",
      "0 4 4 7 [7, 2, 3, 4]\n",
      "0 6 5 12 [7, 2, 3, 4, 5]\n",
      "1 5 1 13 [7, 2, 3, 4, 5, 7]\n",
      "13\n"
     ]
    }
   ],
   "source": [
    "n, m = map(int, input().split())\n",
    "mod = {i: 0 for i in range(m)}\n",
    "numbers = list(map(int, input().split()))\n",
    "num = 0\n",
    "for number in numbers:\n",
    "    num += number\n",
    "    res = num % m\n",
    "    mod[res] += 1\n",
    "    \n",
    "cnt = 0\n",
    "for k, v in mod.items():\n",
    "    if k == 0:\n",
    "        cnt += v\n",
    "    cnt += v * (v - 1) // 2\n",
    "        \n",
    "print(cnt)"
   ]
  }
 ],
 "metadata": {
  "kernelspec": {
   "display_name": "Python 3 (ipykernel)",
   "language": "python",
   "name": "python3"
  },
  "language_info": {
   "codemirror_mode": {
    "name": "ipython",
    "version": 3
   },
   "file_extension": ".py",
   "mimetype": "text/x-python",
   "name": "python",
   "nbconvert_exporter": "python",
   "pygments_lexer": "ipython3",
   "version": "3.8.10"
  }
 },
 "nbformat": 4,
 "nbformat_minor": 5
}
