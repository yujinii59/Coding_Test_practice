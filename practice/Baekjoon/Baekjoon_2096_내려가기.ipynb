{
 "cells": [
  {
   "cell_type": "markdown",
   "id": "a30420df",
   "metadata": {},
   "source": [
    "#### 문제\n",
    "N줄에 0 이상 9 이하의 숫자가 세 개씩 적혀 있다. 내려가기 게임을 하고 있는데, 이 게임은 첫 줄에서 시작해서 마지막 줄에서 끝나게 되는 놀이이다.\n",
    "\n",
    "먼저 처음에 적혀 있는 세 개의 숫자 중에서 하나를 골라서 시작하게 된다. 그리고 다음 줄로 내려가는데, 다음 줄로 내려갈 때에는 다음과 같은 제약 조건이 있다. 바로 아래의 수로 넘어가거나, 아니면 바로 아래의 수와 붙어 있는 수로만 이동할 수 있다는 것이다. 이 제약 조건을 그림으로 나타내어 보면 다음과 같다.\n",
    "\n",
    "\n",
    "\n",
    "별표는 현재 위치이고, 그 아랫 줄의 파란 동그라미는 원룡이가 다음 줄로 내려갈 수 있는 위치이며, 빨간 가위표는 원룡이가 내려갈 수 없는 위치가 된다. 숫자표가 주어져 있을 때, 얻을 수 있는 최대 점수, 최소 점수를 구하는 프로그램을 작성하시오. 점수는 원룡이가 위치한 곳의 수의 합이다.\n",
    "\n",
    "#### 입력\n",
    "첫째 줄에 N(1 ≤ N ≤ 100,000)이 주어진다. 다음 N개의 줄에는 숫자가 세 개씩 주어진다. 숫자는 0, 1, 2, 3, 4, 5, 6, 7, 8, 9 중의 하나가 된다.\n",
    "\n",
    "#### 출력\n",
    "첫째 줄에 얻을 수 있는 최대 점수와 최소 점수를 띄어서 출력한다.\n",
    "\n",
    "#### 예제 입력 1 \n",
    "3\n",
    "\n",
    "1 2 3\n",
    "\n",
    "4 5 6\n",
    "\n",
    "4 9 0\n",
    "\n",
    "#### 예제 출력 1 \n",
    "18 6\n",
    "\n",
    "#### 예제 입력 2 \n",
    "3\n",
    "\n",
    "0 0 0\n",
    "\n",
    "0 0 0\n",
    "\n",
    "0 0 0\n",
    "\n",
    "#### 예제 출력 2 \n",
    "0 0"
   ]
  },
  {
   "cell_type": "code",
   "execution_count": 9,
   "id": "54a73334",
   "metadata": {},
   "outputs": [
    {
     "name": "stdout",
     "output_type": "stream",
     "text": [
      "3\n",
      "1 2 3\n",
      "4 5 6\n",
      "4 9 0\n",
      "18 6\n"
     ]
    }
   ],
   "source": [
    "n = int(input())\n",
    "prev_max = [0 for _ in range(3)]\n",
    "prev_min = [0 for _ in range(3)]\n",
    "for j in range(n):\n",
    "    score = list(map(int, input().split()))\n",
    "    prev_max = [0] + prev_max + [0]\n",
    "    prev_min = [10*(j+1)] + prev_min + [10*(j+1)]\n",
    "    max_ls = []\n",
    "    min_ls = []\n",
    "    for i in range(3):\n",
    "        max_ls.append(score[i] + max(prev_max[i:i+3]))\n",
    "        min_ls.append(score[i] + min(prev_min[i:i+3]))\n",
    "        \n",
    "    prev_max = max_ls\n",
    "    prev_min = min_ls\n",
    "print(max(prev_max), min(prev_min))"
   ]
  },
  {
   "cell_type": "code",
   "execution_count": null,
   "id": "23b034d8",
   "metadata": {},
   "outputs": [],
   "source": []
  }
 ],
 "metadata": {
  "kernelspec": {
   "display_name": "Python 3 (ipykernel)",
   "language": "python",
   "name": "python3"
  },
  "language_info": {
   "codemirror_mode": {
    "name": "ipython",
    "version": 3
   },
   "file_extension": ".py",
   "mimetype": "text/x-python",
   "name": "python",
   "nbconvert_exporter": "python",
   "pygments_lexer": "ipython3",
   "version": "3.8.10"
  }
 },
 "nbformat": 4,
 "nbformat_minor": 5
}
