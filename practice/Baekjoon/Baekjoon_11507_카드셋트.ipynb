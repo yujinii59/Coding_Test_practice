{
 "cells": [
  {
   "cell_type": "markdown",
   "id": "73a8969a",
   "metadata": {},
   "source": [
    "#### 문제\n",
    "최근에 진솔이는 로봇 공학을 하기 시작했다. 그래서 포커 카드가 완전한 세트인지 확인하는 로봇을 만들기로 결심했다.\n",
    "\n",
    "그는 프로그램을 작성하는 일을 분담했다. 그 프로그램은 카드의 모양(스페이드(♠), 하트(♡), 다이아몬드(♢), 클럽(♣))을 인식하는 것이다. 문제를 간단하게 하기 위해서 모든 카드는 하나의 모양과 하나의 숫자를 가진다고 가정한다.\n",
    "\n",
    "여기서 그 모양은 실제 그림 대신 문자로 대체한다. P,K,H,T에 해당한다. 그리고 숫자는 1~13에 해당하는 정수이다. 로봇은 각각의 카드를 TXY의 형태로 '카드 이름'을 정하는데 T는 모양에 해당하고 XY는 숫자에 해당한다. 만약 만약 숫자가 1자리 숫자이면 X=0에 해당한다. ex) 01.\n",
    "\n",
    "만약에 모양이 P이고 숫자가 9이면 P09이다.\n",
    "\n",
    "완벽한 카드 한 세트는 52개로 이루어져 있다. (4 (모양)x 13(숫자))\n",
    "\n",
    "로봇은 모든 카드의 '카드이름'을 읽고 문자열 S로 결합한다.\n",
    "\n",
    "이제 진솔이가 프로그래밍 하는 것을 도와주자.  문자열을 읽어 얼마나 많은 카드를 잃어버렸는지 세면 된다.\n",
    "\n",
    "만약에 2개의 같은 카드가 존재한다면 GRESKA이라고 출력하면 된다.\n",
    "\n",
    "#### 입력\n",
    "오직 1줄만 문자열 S(1 ≤ |S| ≤ 1000)가 들어온다. 이것은 현재 가지고 있는 카드 이름에 해당한다.\n",
    "\n",
    "#### 출력\n",
    "만약 똑같은 카드가 존재한다면 GRESKA을 출력한다.\n",
    "\n",
    "그렇지 않으면 4개의 정수를 공백 문자로 구분하여 출력한다. 각각 P, K, H, T에 해당한다.\n",
    "\n",
    "#### 예제 입력 1 \n",
    "P01K02H03H04\n",
    "#### 예제 출력 1 \n",
    "12 12 11 13\n",
    "#### 예제 입력 2 \n",
    "H02H10P11H02\n",
    "#### 예제 출력 2 \n",
    "GRESKA\n",
    "#### 예제 입력 3 \n",
    "P10K10H10T01\n",
    "#### 예제 출력 3 \n",
    "12 12 12 12\n",
    "##### 힌트\n",
    "예제1 : 12 12 11 13은 잃어버린 P카드 :  12개, K : 12개, H : 11개, T : 13라는 뜻이다.\n",
    "\n",
    "예제2 : 같은 카드(H02)가 존재하므로 GRESKA을 출력하였다."
   ]
  },
  {
   "cell_type": "code",
   "execution_count": 4,
   "id": "6193edfb",
   "metadata": {},
   "outputs": [
    {
     "name": "stdout",
     "output_type": "stream",
     "text": [
      "P10K10H10T01\n",
      "12 12 12 12 "
     ]
    }
   ],
   "source": [
    "cards = {'P':list(range(1, 14)), 'K':list(range(1, 14)), 'H':list(range(1, 14)), 'T':list(range(1, 14))}\n",
    "s = input()\n",
    "b = True\n",
    "for i in range(0, len(s), 3):\n",
    "    shape = s[i]\n",
    "    num = int(s[i+1:i+3])\n",
    "    if num in cards[shape]:\n",
    "        cards[shape].remove(num)\n",
    "    else:\n",
    "        b = False\n",
    "        break\n",
    "if b:\n",
    "    for ls in cards.values():\n",
    "        print(len(ls), end=' ')\n",
    "else:\n",
    "    print('GRESKA')"
   ]
  },
  {
   "cell_type": "code",
   "execution_count": null,
   "id": "4fbb76fa",
   "metadata": {},
   "outputs": [],
   "source": []
  }
 ],
 "metadata": {
  "kernelspec": {
   "display_name": "Python 3 (ipykernel)",
   "language": "python",
   "name": "python3"
  },
  "language_info": {
   "codemirror_mode": {
    "name": "ipython",
    "version": 3
   },
   "file_extension": ".py",
   "mimetype": "text/x-python",
   "name": "python",
   "nbconvert_exporter": "python",
   "pygments_lexer": "ipython3",
   "version": "3.8.10"
  }
 },
 "nbformat": 4,
 "nbformat_minor": 5
}
