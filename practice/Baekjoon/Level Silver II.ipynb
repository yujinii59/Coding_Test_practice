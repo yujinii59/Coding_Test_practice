{
 "cells": [
  {
   "cell_type": "markdown",
   "id": "88112121",
   "metadata": {},
   "source": [
    "#### 11722 가장 긴 감소하는 부분 수열"
   ]
  },
  {
   "cell_type": "code",
   "execution_count": 3,
   "id": "bdf727c7",
   "metadata": {},
   "outputs": [
    {
     "name": "stdout",
     "output_type": "stream",
     "text": [
      "6\n",
      "10 30 10 20 20 10\n",
      "{}\n",
      "{10: 1}\n",
      "{10: 1, 30: 1}\n",
      "{10: 2, 30: 1}\n",
      "{10: 2, 30: 1, 20: 2}\n",
      "{10: 2, 30: 1, 20: 2}\n",
      "3\n"
     ]
    }
   ],
   "source": [
    "n = int(input())\n",
    "seq_A = list(map(int, input().split()))\n",
    "seq = {}\n",
    "max_len = 0\n",
    "for num in seq_A:\n",
    "    if num not in seq:\n",
    "        seq[num] = 1\n",
    "    for k, v in seq.items():\n",
    "        if k > num:\n",
    "            seq[num] = max(seq[num], v + 1)\n",
    "    max_len = max(max_len, seq[num])\n",
    "print(max_len)    "
   ]
  },
  {
   "cell_type": "code",
   "execution_count": null,
   "id": "060fbe65",
   "metadata": {},
   "outputs": [],
   "source": []
  }
 ],
 "metadata": {
  "kernelspec": {
   "display_name": "Python 3 (ipykernel)",
   "language": "python",
   "name": "python3"
  },
  "language_info": {
   "codemirror_mode": {
    "name": "ipython",
    "version": 3
   },
   "file_extension": ".py",
   "mimetype": "text/x-python",
   "name": "python",
   "nbconvert_exporter": "python",
   "pygments_lexer": "ipython3",
   "version": "3.8.10"
  }
 },
 "nbformat": 4,
 "nbformat_minor": 5
}
