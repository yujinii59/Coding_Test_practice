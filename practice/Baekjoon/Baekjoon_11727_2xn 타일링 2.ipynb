{
 "cells": [
  {
   "cell_type": "markdown",
   "id": "71b6836c",
   "metadata": {},
   "source": [
    "#### 문제\n",
    "2×n 직사각형을 1×2, 2×1과 2×2 타일로 채우는 방법의 수를 구하는 프로그램을 작성하시오.\n",
    "\n",
    "아래 그림은 2×17 직사각형을 채운 한가지 예이다.\n",
    "\n",
    "\n",
    "\n",
    "#### 입력\n",
    "첫째 줄에 n이 주어진다. (1 ≤ n ≤ 1,000)\n",
    "\n",
    "#### 출력\n",
    "첫째 줄에 2×n 크기의 직사각형을 채우는 방법의 수를 10,007로 나눈 나머지를 출력한다.\n",
    "\n",
    "예제 입력 1 \n",
    "\n",
    "2\n",
    "\n",
    "예제 출력 1 \n",
    "\n",
    "3\n",
    "\n",
    "예제 입력 2 \n",
    "\n",
    "8\n",
    "\n",
    "예제 출력 2 \n",
    "\n",
    "171\n",
    "\n",
    "예제 입력 3 \n",
    "\n",
    "12\n",
    "\n",
    "예제 출력 3 \n",
    "\n",
    "2731\n"
   ]
  },
  {
   "cell_type": "code",
   "execution_count": 15,
   "id": "e178621b",
   "metadata": {},
   "outputs": [],
   "source": [
    "def fill(num):\n",
    "    cnt = 0\n",
    "    if num > 1:\n",
    "        cnt += 2 * fill(num - 2)\n",
    "    if num > 0:\n",
    "        cnt += fill(num - 1)\n",
    "    else:\n",
    "        cnt = 1\n",
    "    return cnt"
   ]
  },
  {
   "cell_type": "code",
   "execution_count": null,
   "id": "7937d446",
   "metadata": {},
   "outputs": [],
   "source": [
    "n = int(input())\n",
    "cnt = fill(n)\n",
    "print(cnt)"
   ]
  },
  {
   "cell_type": "code",
   "execution_count": 46,
   "id": "e82507bc",
   "metadata": {},
   "outputs": [
    {
     "name": "stdout",
     "output_type": "stream",
     "text": [
      "12\n",
      "2731\n"
     ]
    }
   ],
   "source": [
    "n = int(input())\n",
    "cases = [0]\n",
    "for i in range(1, n + 1):\n",
    "    if i == 1:\n",
    "        cases.append(1)\n",
    "    elif i == 2:\n",
    "        cases.append(cases[1] + 2)\n",
    "    else:\n",
    "        cases.append(1 * cases[i - 1] + 2 * cases[i - 2])\n",
    "cnt = cases[n] % 10007\n",
    "print(cnt)"
   ]
  }
 ],
 "metadata": {
  "kernelspec": {
   "display_name": "Python 3 (ipykernel)",
   "language": "python",
   "name": "python3"
  },
  "language_info": {
   "codemirror_mode": {
    "name": "ipython",
    "version": 3
   },
   "file_extension": ".py",
   "mimetype": "text/x-python",
   "name": "python",
   "nbconvert_exporter": "python",
   "pygments_lexer": "ipython3",
   "version": "3.8.10"
  }
 },
 "nbformat": 4,
 "nbformat_minor": 5
}
