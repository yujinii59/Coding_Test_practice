{
 "cells": [
  {
   "cell_type": "markdown",
   "id": "02d0c669",
   "metadata": {},
   "source": [
    "#### 문제\n",
    "이번 계절학기에 심리학 개론을 수강 중인 평석이는 오늘 자정까지 보고서를 제출해야 한다. 보고서 작성이 너무 지루했던 평석이는 노트북에 엎드려서 꾸벅꾸벅 졸다가 제출 마감 1시간 전에 깨고 말았다. 안타깝게도 자는 동안 키보드가 잘못 눌려서 보고서의 모든 글자가 A와 B로 바뀌어 버렸다! 그래서 평석이는 보고서 작성을 때려치우고 보고서에서 '좋은 단어'나 세보기로 마음 먹었다.\n",
    "\n",
    "평석이는 단어 위로 아치형 곡선을 그어 같은 글자끼리(A는 A끼리, B는 B끼리) 쌍을 짓기로 하였다. 만약 선끼리 교차하지 않으면서 각 글자를 정확히 한 개의 다른 위치에 있는 같은 글자와 짝 지을수 있다면, 그 단어는 '좋은 단어'이다. 평석이가 '좋은 단어' 개수를 세는 것을 도와주자.\n",
    "\n",
    "#### 입력\n",
    "첫째 줄에 단어의 수 N이 주어진다. (1 ≤ N ≤ 100)\n",
    "\n",
    "다음 N개 줄에는 A와 B로만 이루어진 단어가 한 줄에 하나씩 주어진다. 단어의 길이는 2와 100,000사이이며, 모든 단어 길이의 합은 1,000,000을 넘지 않는다.\n",
    "\n",
    "#### 출력\n",
    "첫째 줄에 좋은 단어의 수를 출력한다.\n",
    "\n",
    "#### 예제 입력 1 \n",
    "3\n",
    "\n",
    "ABAB\n",
    "\n",
    "AABB\n",
    "\n",
    "ABBA\n",
    "#### 예제 출력 1 \n",
    "2\n",
    "#### 예제 입력 2 \n",
    "3\n",
    "\n",
    "AAA\n",
    "\n",
    "AA\n",
    "\n",
    "AB\n",
    "#### 예제 출력 2 \n",
    "1\n",
    "#### 예제 입력 3 \n",
    "1\n",
    "\n",
    "ABBABB\n",
    "#### 예제 출력 3 \n",
    "1"
   ]
  },
  {
   "cell_type": "code",
   "execution_count": 36,
   "id": "46516f4b",
   "metadata": {},
   "outputs": [
    {
     "name": "stdout",
     "output_type": "stream",
     "text": [
      "1\n",
      "AABBAA\n",
      "1\n"
     ]
    }
   ],
   "source": [
    "n = int(input())\n",
    "cnt = n\n",
    "for _ in range(n):\n",
    "    string = list(input())\n",
    "    tmp = ['']\n",
    "    for s in string:\n",
    "        if s == tmp[-1]:\n",
    "            tmp.pop()\n",
    "        else:\n",
    "            tmp.append(s)\n",
    "    if len(tmp) > 1:\n",
    "        cnt -= 1\n",
    "            \n",
    "print(cnt)"
   ]
  },
  {
   "cell_type": "code",
   "execution_count": null,
   "id": "9be92122",
   "metadata": {},
   "outputs": [],
   "source": []
  }
 ],
 "metadata": {
  "kernelspec": {
   "display_name": "Python 3 (ipykernel)",
   "language": "python",
   "name": "python3"
  },
  "language_info": {
   "codemirror_mode": {
    "name": "ipython",
    "version": 3
   },
   "file_extension": ".py",
   "mimetype": "text/x-python",
   "name": "python",
   "nbconvert_exporter": "python",
   "pygments_lexer": "ipython3",
   "version": "3.8.10"
  }
 },
 "nbformat": 4,
 "nbformat_minor": 5
}
