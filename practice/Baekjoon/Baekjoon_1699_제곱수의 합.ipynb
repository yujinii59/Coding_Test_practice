{
 "cells": [
  {
   "cell_type": "markdown",
   "id": "5d6d7425",
   "metadata": {},
   "source": [
    "#### 문제\n",
    "어떤 자연수 N은 그보다 작거나 같은 제곱수들의 합으로 나타낼 수 있다. 예를 들어 11=32+12+12(3개 항)이다. 이런 표현방법은 여러 가지가 될 수 있는데, 11의 경우 11=22+22+12+12+12(5개 항)도 가능하다. 이 경우, 수학자 숌크라테스는 “11은 3개 항의 제곱수 합으로 표현할 수 있다.”라고 말한다. 또한 11은 그보다 적은 항의 제곱수 합으로 표현할 수 없으므로, 11을 그 합으로써 표현할 수 있는 제곱수 항의 최소 개수는 3이다.\n",
    "\n",
    "주어진 자연수 N을 이렇게 제곱수들의 합으로 표현할 때에 그 항의 최소개수를 구하는 프로그램을 작성하시오.\n",
    "\n",
    "#### 입력\n",
    "첫째 줄에 자연수 N이 주어진다. (1 ≤ N ≤ 100,000)\n",
    "\n",
    "#### 출력\n",
    "주어진 자연수를 제곱수의 합으로 나타낼 때에 그 제곱수 항의 최소 개수를 출력한다.\n",
    "\n",
    "#### 예제 입력 1 \n",
    "7\n",
    "#### 예제 출력 1 \n",
    "4\n",
    "#### 예제 입력 2 \n",
    "1\n",
    "#### 예제 출력 2 \n",
    "1\n",
    "#### 예제 입력 3 \n",
    "4\n",
    "#### 예제 출력 3 \n",
    "1\n",
    "#### 예제 입력 4 \n",
    "11\n",
    "#### 예제 출력 4 \n",
    "3\n",
    "#### 예제 입력 5 \n",
    "13\n",
    "#### 예제 출력 5 \n",
    "2"
   ]
  },
  {
   "cell_type": "code",
   "execution_count": 27,
   "id": "77c1569c",
   "metadata": {},
   "outputs": [
    {
     "name": "stdout",
     "output_type": "stream",
     "text": [
      "99999\n",
      "4\n"
     ]
    }
   ],
   "source": [
    "def sum_of_square_numbers(num):\n",
    "    min_cnt = [num]\n",
    "    if num > 3:\n",
    "        sqrt_of_num = int(num ** 0.5)\n",
    "        while sqrt_of_num > 1:\n",
    "            sq = sqrt_of_num ** 2\n",
    "            if num // sq > 3:\n",
    "                break\n",
    "            min_cnt.append(1 + dp[num - sq])\n",
    "            sqrt_of_num -= 1\n",
    "    \n",
    "    dp[num] = min(min_cnt)\n",
    "    \n",
    "    \n",
    "n = int(input()) \n",
    "dp = [0 for _ in range(n+1)] \n",
    "for i in range(1,n+1):\n",
    "    sum_of_square_numbers(i)\n",
    "print(dp[n])"
   ]
  },
  {
   "cell_type": "code",
   "execution_count": null,
   "id": "0b878346",
   "metadata": {},
   "outputs": [],
   "source": []
  },
  {
   "cell_type": "code",
   "execution_count": null,
   "id": "e9bddf61",
   "metadata": {},
   "outputs": [],
   "source": []
  }
 ],
 "metadata": {
  "kernelspec": {
   "display_name": "Python 3 (ipykernel)",
   "language": "python",
   "name": "python3"
  },
  "language_info": {
   "codemirror_mode": {
    "name": "ipython",
    "version": 3
   },
   "file_extension": ".py",
   "mimetype": "text/x-python",
   "name": "python",
   "nbconvert_exporter": "python",
   "pygments_lexer": "ipython3",
   "version": "3.8.10"
  }
 },
 "nbformat": 4,
 "nbformat_minor": 5
}
