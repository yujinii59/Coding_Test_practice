{
 "cells": [
  {
   "cell_type": "markdown",
   "id": "27a01023",
   "metadata": {},
   "source": [
    "#### 문제\n",
    "널리 잘 알려진 자료구조 중 최소 힙이 있다. 최소 힙을 이용하여 다음과 같은 연산을 지원하는 프로그램을 작성하시오.\n",
    "\n",
    "배열에 자연수 x를 넣는다.\n",
    "\n",
    "배열에서 가장 작은 값을 출력하고, 그 값을 배열에서 제거한다.\n",
    "\n",
    "프로그램은 처음에 비어있는 배열에서 시작하게 된다.\n",
    "\n",
    "#### 입력\n",
    "첫째 줄에 연산의 개수 N(1 ≤ N ≤ 100,000)이 주어진다. 다음 N개의 줄에는 연산에 대한 정보를 나타내는 정수 x가 주어진다. 만약 x가 자연수라면 배열에 x라는 값을 넣는(추가하는) 연산이고, x가 0이라면 배열에서 가장 작은 값을 출력하고 그 값을 배열에서 제거하는 경우이다. x는 231보다 작은 자연수 또는 0이고, 음의 정수는 입력으로 주어지지 않는다.\n",
    "\n",
    "#### 출력\n",
    "입력에서 0이 주어진 횟수만큼 답을 출력한다. 만약 배열이 비어 있는 경우인데 가장 작은 값을 출력하라고 한 경우에는 0을 출력하면 된다.\n",
    "\n",
    "##### 예제 입력 1 \n",
    "9\n",
    "\n",
    "0\n",
    "\n",
    "12345678\n",
    "\n",
    "1\n",
    "\n",
    "2\n",
    "\n",
    "0\n",
    "\n",
    "0\n",
    "\n",
    "0\n",
    "\n",
    "0\n",
    "\n",
    "32\n",
    "\n",
    "##### 예제 출력 1 \n",
    "0\n",
    "\n",
    "1\n",
    "\n",
    "2\n",
    "\n",
    "12345678\n",
    "\n",
    "0\n",
    "\n",
    "** sys.stdin.readline 사용"
   ]
  },
  {
   "cell_type": "code",
   "execution_count": 1,
   "id": "1b47ca00",
   "metadata": {},
   "outputs": [],
   "source": [
    "def insert_heap(heap, num):\n",
    "    l = len(heap)\n",
    "    heap.append(num)\n",
    "    if l > 0:\n",
    "        while l > 0:\n",
    "            up = (l - 1) // 2\n",
    "            if heap[up] > num:\n",
    "                heap[up], heap[l] = heap[l], heap[up]\n",
    "                l = up\n",
    "            else:\n",
    "                break\n",
    "    return heap\n",
    "            "
   ]
  },
  {
   "cell_type": "code",
   "execution_count": 36,
   "id": "d2c8745b",
   "metadata": {},
   "outputs": [],
   "source": [
    "def rearrange_heap(heap):\n",
    "    length = len(heap)\n",
    "    pop = heap[0]\n",
    "    if length <= 2:\n",
    "        return heap[1:], pop\n",
    "    elif length == 3:\n",
    "        heap = heap[1:]\n",
    "        left = heap[0]\n",
    "        right = heap[1]\n",
    "        if right < left:\n",
    "            heap.reverse()\n",
    "        return heap, pop\n",
    "    else:\n",
    "        last = heap.pop()\n",
    "        heap[0] = last\n",
    "        i = 0\n",
    "        while 2 * i < length - 2:\n",
    "            left = i * 2 + 1\n",
    "            right = i * 2 + 2\n",
    "            if right > length - 2:\n",
    "                if heap[left] > last:\n",
    "                    break\n",
    "                else:\n",
    "                    heap[i], heap[left] = heap[left], heap[i]\n",
    "                    break\n",
    "                    \n",
    "            if heap[left] <= heap[right]:\n",
    "                l = left\n",
    "                h = right\n",
    "            else:\n",
    "                l = right\n",
    "                h = left\n",
    "                \n",
    "            heap_l = heap[l]\n",
    "            heap_h = heap[h]\n",
    "            if heap_l > last:\n",
    "                break\n",
    "            else:\n",
    "                heap[l], heap[i] = heap[i], heap[l]\n",
    "                i = l\n",
    "                \n",
    "    return heap, pop"
   ]
  },
  {
   "cell_type": "code",
   "execution_count": 22,
   "id": "aba0939b",
   "metadata": {},
   "outputs": [
    {
     "name": "stdout",
     "output_type": "stream",
     "text": [
      "20\n",
      "[]\n",
      "1\n",
      "[1]\n",
      "2\n",
      "[1, 2]\n",
      "4\n",
      "[1, 2, 4]\n",
      "3\n",
      "[1, 2, 4, 3]\n",
      "5\n",
      "[1, 2, 4, 3, 5]\n",
      "8\n",
      "[1, 2, 4, 3, 5, 8]\n",
      "11\n",
      "[1, 2, 4, 3, 5, 8, 11]\n",
      "6\n",
      "[1, 2, 4, 3, 5, 8, 11, 6]\n",
      "13\n",
      "[1, 2, 4, 3, 5, 8, 11, 6, 13]\n",
      "7\n",
      "[1, 2, 4, 3, 5, 8, 11, 6, 13, 7]\n",
      "9\n",
      "[1, 2, 4, 3, 5, 8, 11, 6, 13, 7, 9]\n",
      "12\n",
      "[1, 2, 4, 3, 5, 8, 11, 6, 13, 7, 9, 12]\n",
      "10\n",
      "[1, 2, 4, 3, 5, 8, 11, 6, 13, 7, 9, 12, 10]\n",
      "0\n",
      "0 [10, 2, 4, 3, 5, 8, 11, 6, 13, 7, 9, 12]\n",
      "1\n",
      "[2, 10, 4, 3, 5, 8, 11, 6, 13, 7, 9, 12]\n",
      "a\n"
     ]
    },
    {
     "ename": "ValueError",
     "evalue": "invalid literal for int() with base 10: 'a'",
     "output_type": "error",
     "traceback": [
      "\u001b[0;31m---------------------------------------------------------------------------\u001b[0m",
      "\u001b[0;31mValueError\u001b[0m                                Traceback (most recent call last)",
      "Input \u001b[0;32mIn [22]\u001b[0m, in \u001b[0;36m<module>\u001b[0;34m\u001b[0m\n\u001b[1;32m      3\u001b[0m \u001b[38;5;28;01mfor\u001b[39;00m _ \u001b[38;5;129;01min\u001b[39;00m \u001b[38;5;28mrange\u001b[39m(n):\n\u001b[1;32m      4\u001b[0m     \u001b[38;5;28mprint\u001b[39m(heap)\n\u001b[0;32m----> 5\u001b[0m     num \u001b[38;5;241m=\u001b[39m \u001b[38;5;28;43mint\u001b[39;49m\u001b[43m(\u001b[49m\u001b[38;5;28;43minput\u001b[39;49m\u001b[43m(\u001b[49m\u001b[43m)\u001b[49m\u001b[43m)\u001b[49m\n\u001b[1;32m      6\u001b[0m     \u001b[38;5;28;01mif\u001b[39;00m num \u001b[38;5;241m==\u001b[39m \u001b[38;5;241m0\u001b[39m:\n\u001b[1;32m      7\u001b[0m         \u001b[38;5;28;01mif\u001b[39;00m \u001b[38;5;28mlen\u001b[39m(heap) \u001b[38;5;241m==\u001b[39m \u001b[38;5;241m0\u001b[39m:\n",
      "\u001b[0;31mValueError\u001b[0m: invalid literal for int() with base 10: 'a'"
     ]
    }
   ],
   "source": [
    "n = int(input())\n",
    "heap = []\n",
    "for _ in range(n):\n",
    "    print(heap)\n",
    "    num = int(input())\n",
    "    if num == 0:\n",
    "        if len(heap) == 0:\n",
    "            print(0)\n",
    "        \n",
    "        else:\n",
    "            heap, pop = rearrange_heap(heap)\n",
    "            print(pop)\n",
    "    else:\n",
    "        heap = insert_heap(heap, num)"
   ]
  },
  {
   "cell_type": "code",
   "execution_count": 37,
   "id": "52dcfd38",
   "metadata": {},
   "outputs": [],
   "source": [
    "heap = [1, 2, 4, 3, 5, 8, 11, 6, 13, 7, 9, 12, 10]"
   ]
  },
  {
   "cell_type": "code",
   "execution_count": 39,
   "id": "ef8d6381",
   "metadata": {},
   "outputs": [
    {
     "name": "stdout",
     "output_type": "stream",
     "text": [
      "0 [12, 3, 4, 6, 5, 8, 11, 10, 13, 7, 9]\n",
      "3 12\n",
      "5 1\n",
      "1 [3, 12, 4, 6, 5, 8, 11, 10, 13, 7, 9]\n",
      "5 12\n",
      "5 4\n",
      "4 [3, 5, 4, 6, 12, 8, 11, 10, 13, 7, 9]\n",
      "7 12\n",
      "5 9\n"
     ]
    },
    {
     "data": {
      "text/plain": [
       "([3, 5, 4, 6, 7, 8, 11, 10, 13, 12, 9], 2)"
      ]
     },
     "execution_count": 39,
     "metadata": {},
     "output_type": "execute_result"
    }
   ],
   "source": [
    "rearrange_heap(heap)"
   ]
  },
  {
   "cell_type": "code",
   "execution_count": null,
   "id": "30fa81d1",
   "metadata": {},
   "outputs": [],
   "source": []
  }
 ],
 "metadata": {
  "kernelspec": {
   "display_name": "Python 3 (ipykernel)",
   "language": "python",
   "name": "python3"
  },
  "language_info": {
   "codemirror_mode": {
    "name": "ipython",
    "version": 3
   },
   "file_extension": ".py",
   "mimetype": "text/x-python",
   "name": "python",
   "nbconvert_exporter": "python",
   "pygments_lexer": "ipython3",
   "version": "3.8.10"
  }
 },
 "nbformat": 4,
 "nbformat_minor": 5
}
