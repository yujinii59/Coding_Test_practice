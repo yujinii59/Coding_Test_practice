{
 "cells": [
  {
   "cell_type": "markdown",
   "id": "863e2be8",
   "metadata": {},
   "source": [
    "#### 문제\n",
    "오늘도 서준이는 동적 프로그래밍 수업 조교를 하고 있다. 아빠가 수업한 내용을 학생들이 잘 이해했는지 문제를 통해서 확인해보자.\n",
    "\n",
    "오늘은 n의 피보나치 수를 재귀호출과 동적 프로그래밍으로 구하는 알고리즘을 배웠다. 재귀호출에 비해 동적 프로그래밍이 얼마나 빠른지 확인해 보자. 아래 의사 코드를 이용하여 n의 피보나치 수를 구할 경우 코드1 코드2 실행 횟수를 출력하자.\n",
    "\n",
    "피보나치 수 재귀호출 의사 코드는 다음과 같다.\n",
    "\n",
    "$fib(n) {\n",
    "    if (n = 1 or n = 2)\n",
    "    then return 1;  # 코드1\n",
    "    else return (fib(n - 1) + fib(n - 2));\n",
    "}$\n",
    "\n",
    "피보나치 수 동적 프로그래밍 의사 코드는 다음과 같다.\n",
    "\n",
    "$fibonacci(n) {\n",
    "    f[1] <- f[2] <- 1;\n",
    "    for i <- 3 to n\n",
    "        f[i] <- f[i - 1] + f[i - 2];  # 코드2\n",
    "    return f[n];\n",
    "}$\n",
    "\n",
    "#### 입력\n",
    "첫째 줄에 n(5 ≤ n ≤ 40)이 주어진다.\n",
    "\n",
    "#### 출력\n",
    "코드1 코드2 실행 횟수를 한 줄에 출력한다.\n",
    "\n",
    "#### 예제 입력 1 \n",
    "5\n",
    "\n",
    "#### 예제 출력 1 \n",
    "5 3\n",
    "\n",
    "#### 예제 입력 2 \n",
    "30\n",
    "\n",
    "#### 예제 출력 2 \n",
    "832040 28"
   ]
  },
  {
   "cell_type": "code",
   "execution_count": 12,
   "id": "c2cdf877",
   "metadata": {},
   "outputs": [],
   "source": [
    "def fib(n, cnt):\n",
    "    if n == 1 or n == 2:\n",
    "        cnt += 1\n",
    "        return 1, cnt\n",
    "    else:\n",
    "        f1, cnt = fib(n - 1, cnt)\n",
    "        f2, cnt = fib(n - 2, cnt)\n",
    "        return f1 + f2, cnt"
   ]
  },
  {
   "cell_type": "code",
   "execution_count": 16,
   "id": "7a3d54b4",
   "metadata": {},
   "outputs": [],
   "source": [
    "f = {}\n",
    "def fibonacci(n):\n",
    "    f[1] = 1\n",
    "    f[2] = 1\n",
    "    for i in range(3, n + 1):\n",
    "        f[i] = f[i - 1] + f[i - 2]\n",
    "    return f[n]"
   ]
  },
  {
   "cell_type": "code",
   "execution_count": 17,
   "id": "99482f69",
   "metadata": {},
   "outputs": [
    {
     "name": "stdout",
     "output_type": "stream",
     "text": [
      "30\n",
      "832040 28\n"
     ]
    }
   ],
   "source": [
    "n = int(input())\n",
    "cnt = fibonacci(n)\n",
    "cnt2 = n - 2\n",
    "print(cnt, cnt2)"
   ]
  },
  {
   "cell_type": "code",
   "execution_count": null,
   "id": "ac16447d",
   "metadata": {},
   "outputs": [],
   "source": []
  }
 ],
 "metadata": {
  "kernelspec": {
   "display_name": "Python 3 (ipykernel)",
   "language": "python",
   "name": "python3"
  },
  "language_info": {
   "codemirror_mode": {
    "name": "ipython",
    "version": 3
   },
   "file_extension": ".py",
   "mimetype": "text/x-python",
   "name": "python",
   "nbconvert_exporter": "python",
   "pygments_lexer": "ipython3",
   "version": "3.8.10"
  }
 },
 "nbformat": 4,
 "nbformat_minor": 5
}
