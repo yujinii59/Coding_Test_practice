{
 "cells": [
  {
   "cell_type": "markdown",
   "id": "194fc455",
   "metadata": {},
   "source": [
    "#### 문제\n",
    "평소 반상회에 참석하는 것을 좋아하는 주희는 이번 기회에 부녀회장이 되고 싶어 각 층의 사람들을 불러 모아 반상회를 주최하려고 한다.\n",
    "\n",
    "이 아파트에 거주를 하려면 조건이 있는데, “a층의 b호에 살려면 자신의 아래(a-1)층의 1호부터 b호까지 사람들의 수의 합만큼 사람들을 데려와 살아야 한다” 는 계약 조항을 꼭 지키고 들어와야 한다.\n",
    "\n",
    "아파트에 비어있는 집은 없고 모든 거주민들이 이 계약 조건을 지키고 왔다고 가정했을 때, 주어지는 양의 정수 k와 n에 대해 k층에 n호에는 몇 명이 살고 있는지 출력하라. 단, 아파트에는 0층부터 있고 각층에는 1호부터 있으며, 0층의 i호에는 i명이 산다.\n",
    "\n",
    "#### 입력\n",
    "첫 번째 줄에 Test case의 수 T가 주어진다. 그리고 각각의 케이스마다 입력으로 첫 번째 줄에 정수 k, 두 번째 줄에 정수 n이 주어진다\n",
    "\n",
    "#### 출력\n",
    "각각의 Test case에 대해서 해당 집에 거주민 수를 출력하라.\n",
    "\n",
    "#### 제한\n",
    "1 ≤ k, n ≤ 14\n",
    "\n",
    "예제 입력 1 \n",
    "\n",
    "2\n",
    "\n",
    "1\n",
    "\n",
    "3\n",
    "\n",
    "2\n",
    "\n",
    "3\n",
    "\n",
    "예제 출력 1 \n",
    "\n",
    "6\n",
    "\n",
    "10\n"
   ]
  },
  {
   "cell_type": "code",
   "execution_count": null,
   "id": "20b9ee45",
   "metadata": {},
   "outputs": [],
   "source": [
    "def people(cnt, k, n):\n",
    "    if k == 0:\n",
    "        return n\n",
    "    else:\n",
    "        count = cnt\n",
    "        for i in range(n):\n",
    "            cnt += people(count, k - 1, i + 1)\n",
    "    return cnt\n",
    "\n"
   ]
  },
  {
   "cell_type": "code",
   "execution_count": null,
   "id": "1bc6c4af",
   "metadata": {},
   "outputs": [],
   "source": [
    "t = int(input())\n",
    "for _ in range(t):\n",
    "    k = int(input())\n",
    "    n = int(input())\n",
    "    cnt = people(0, k, n)\n",
    "    print(cnt)"
   ]
  },
  {
   "cell_type": "code",
   "execution_count": null,
   "id": "f2b20da6",
   "metadata": {},
   "outputs": [],
   "source": [
    "l = int(input())\n",
    "\n",
    "problems = []\n",
    "for _ in range(l):\n",
    "    problems.append((int(input()), int(input())))\n",
    "\n",
    "for k, n in problems:\n",
    "    floor = []\n",
    "    for i in range(k+1):\n",
    "        if i == 0:\n",
    "            floor.append(list(range(1, n+1)))\n",
    "        else:\n",
    "            floor.append([sum(floor[i-1][:j]) for j in range(1, n+1)])\n",
    "\n",
    "    print(floor[k][n-1])"
   ]
  }
 ],
 "metadata": {
  "kernelspec": {
   "display_name": "Python 3 (ipykernel)",
   "language": "python",
   "name": "python3"
  },
  "language_info": {
   "codemirror_mode": {
    "name": "ipython",
    "version": 3
   },
   "file_extension": ".py",
   "mimetype": "text/x-python",
   "name": "python",
   "nbconvert_exporter": "python",
   "pygments_lexer": "ipython3",
   "version": "3.8.10"
  }
 },
 "nbformat": 4,
 "nbformat_minor": 5
}
