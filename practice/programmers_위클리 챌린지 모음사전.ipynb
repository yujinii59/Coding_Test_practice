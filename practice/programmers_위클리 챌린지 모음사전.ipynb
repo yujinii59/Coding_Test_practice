{
 "cells": [
  {
   "cell_type": "markdown",
   "id": "35299206",
   "metadata": {},
   "source": [
    "#### 문제 설명\n",
    "사전에 알파벳 모음 'A', 'E', 'I', 'O', 'U'만을 사용하여 만들 수 있는, 길이 5 이하의 모든 단어가 수록되어 있습니다. 사전에서 첫 번째 단어는 \"A\"이고, 그다음은 \"AA\"이며, 마지막 단어는 \"UUUUU\"입니다.\n",
    "\n",
    "단어 하나 word가 매개변수로 주어질 때, 이 단어가 사전에서 몇 번째 단어인지 return 하도록 solution 함수를 완성해주세요.\n",
    "\n",
    "#### 제한사항\n",
    "word의 길이는 1 이상 5 이하입니다.\n",
    "word는 알파벳 대문자 'A', 'E', 'I', 'O', 'U'로만 이루어져 있습니다.\n",
    "\n",
    "##### 입출력 예\n",
    "word\tresult\n",
    "\n",
    "\"AAAAE\"\t6\n",
    "\n",
    "\"AAAE\"\t10\n",
    "\n",
    "\"I\"\t1563\n",
    "\n",
    "\"EIO\"\t1189\n",
    "\n",
    "\n",
    "##### 입출력 예 설명\n",
    "입출력 예 #1\n",
    "\n",
    "사전에서 첫 번째 단어는 \"A\"이고, 그다음은 \"AA\", \"AAA\", \"AAAA\", \"AAAAA\", \"AAAAE\", ... 와 같습니다. \"AAAAE\"는 \n",
    "\n",
    "사전에서 6번째 단어입니다.\n",
    "\n",
    "입출력 예 #2\n",
    "\n",
    "\"AAAE\"는 \"A\", \"AA\", \"AAA\", \"AAAA\", \"AAAAA\", \"AAAAE\", \"AAAAI\", \"AAAAO\", \"AAAAU\"의 다음인 10번째 단어입니다.\n",
    "\n",
    "입출력 예 #3\n",
    "\n",
    "\"I\"는 1563번째 단어입니다.\n",
    "\n",
    "입출력 예 #4\n",
    "\n",
    "\"EIO\"는 1189번째 단어입니다."
   ]
  },
  {
   "cell_type": "code",
   "execution_count": 1,
   "id": "280ddbe8",
   "metadata": {},
   "outputs": [],
   "source": [
    "def solution(word):\n",
    "    cnt = 0\n",
    "    order_ls = {}\n",
    "    alphabets = ['A','E','I','O','U']\n",
    "    for first in alphabets:\n",
    "        cnt += 1\n",
    "        order_ls[first] = cnt\n",
    "        for second in alphabets:\n",
    "            cnt += 1\n",
    "            order_ls[first + second] = cnt\n",
    "            for third in alphabets:\n",
    "                cnt += 1\n",
    "                order_ls[first + second + third] = cnt\n",
    "                for fourth in alphabets:\n",
    "                    cnt += 1\n",
    "                    order_ls[first + second + third + fourth] = cnt\n",
    "                    for fifth in alphabets:\n",
    "                        cnt += 1\n",
    "                        order_ls[first + second + third + fourth + fifth] = cnt\n",
    "    return order_ls[word]\n",
    "                    \n",
    "    "
   ]
  },
  {
   "cell_type": "code",
   "execution_count": null,
   "id": "cce600a1",
   "metadata": {},
   "outputs": [],
   "source": []
  }
 ],
 "metadata": {
  "kernelspec": {
   "display_name": "Python 3 (ipykernel)",
   "language": "python",
   "name": "python3"
  },
  "language_info": {
   "codemirror_mode": {
    "name": "ipython",
    "version": 3
   },
   "file_extension": ".py",
   "mimetype": "text/x-python",
   "name": "python",
   "nbconvert_exporter": "python",
   "pygments_lexer": "ipython3",
   "version": "3.8.10"
  }
 },
 "nbformat": 4,
 "nbformat_minor": 5
}
