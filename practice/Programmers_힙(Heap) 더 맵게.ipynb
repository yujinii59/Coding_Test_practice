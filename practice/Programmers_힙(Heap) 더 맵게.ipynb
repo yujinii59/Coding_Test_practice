{
 "cells": [
  {
   "cell_type": "markdown",
   "id": "391a7f80",
   "metadata": {},
   "source": [
    "#### 문제 설명\n",
    "매운 것을 좋아하는 Leo는 모든 음식의 스코빌 지수를 K 이상으로 만들고 싶습니다. 모든 음식의 스코빌 지수를 K 이상으로 만들기 위해 Leo는 스코빌 지수가 가장 낮은 두 개의 음식을 아래와 같이 특별한 방법으로 섞어 새로운 음식을 만듭니다.\n",
    "\n",
    "섞은 음식의 스코빌 지수 = 가장 맵지 않은 음식의 스코빌 지수 + (두 번째로 맵지 않은 음식의 스코빌 지수 * 2)\n",
    "\n",
    "Leo는 모든 음식의 스코빌 지수가 K 이상이 될 때까지 반복하여 섞습니다.\n",
    "Leo가 가진 음식의 스코빌 지수를 담은 배열 scoville과 원하는 스코빌 지수 K가 주어질 때, 모든 음식의 스코빌 지수를 K 이상으로 만들기 위해 섞어야 하는 최소 횟수를 return 하도록 solution 함수를 작성해주세요.\n",
    "\n",
    "#### 제한 사항\n",
    "scoville의 길이는 2 이상 1,000,000 이하입니다.\n",
    "K는 0 이상 1,000,000,000 이하입니다.\n",
    "scoville의 원소는 각각 0 이상 1,000,000 이하입니다.\n",
    "모든 음식의 스코빌 지수를 K 이상으로 만들 수 없는 경우에는 -1을 return 합니다."
   ]
  },
  {
   "cell_type": "code",
   "execution_count": 11,
   "id": "c6dfb41e",
   "metadata": {},
   "outputs": [],
   "source": [
    "import heapq\n",
    "\n",
    "def solution(scoville, K):\n",
    "    heap = []\n",
    "    for scv in scoville:\n",
    "        heapq.heappush(heap, scv)\n",
    "        \n",
    "    cnt = 0\n",
    "    while heap[0] < K:\n",
    "        if len(heap) <= 1:\n",
    "            return -1\n",
    "        \n",
    "        first = heapq.heappop(heap)\n",
    "        second = heapq.heappop(heap)\n",
    "        mixed = first + (second * 2)\n",
    "        heapq.heappush(heap, mixed)\n",
    "        cnt += 1\n",
    "        \n",
    "    return cnt"
   ]
  },
  {
   "cell_type": "code",
   "execution_count": 12,
   "id": "6ce157a5",
   "metadata": {},
   "outputs": [
    {
     "data": {
      "text/plain": [
       "2"
      ]
     },
     "execution_count": 12,
     "metadata": {},
     "output_type": "execute_result"
    }
   ],
   "source": [
    "scoville = [1, 2, 3, 9, 10, 12]\n",
    "k = 7\n",
    "solution(scoville, k)"
   ]
  },
  {
   "cell_type": "code",
   "execution_count": null,
   "id": "e101de72",
   "metadata": {},
   "outputs": [],
   "source": []
  }
 ],
 "metadata": {
  "kernelspec": {
   "display_name": "Python 3 (ipykernel)",
   "language": "python",
   "name": "python3"
  },
  "language_info": {
   "codemirror_mode": {
    "name": "ipython",
    "version": 3
   },
   "file_extension": ".py",
   "mimetype": "text/x-python",
   "name": "python",
   "nbconvert_exporter": "python",
   "pygments_lexer": "ipython3",
   "version": "3.8.10"
  }
 },
 "nbformat": 4,
 "nbformat_minor": 5
}
