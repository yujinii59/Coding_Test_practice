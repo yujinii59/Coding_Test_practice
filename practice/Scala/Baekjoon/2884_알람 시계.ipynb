{
 "cells": [
  {
   "cell_type": "markdown",
   "id": "1d7cc355",
   "metadata": {},
   "source": [
    "#### 문제\n",
    "상근이는 매일 아침 알람을 듣고 일어난다. 알람을 듣고 바로 일어나면 다행이겠지만, 항상 조금만 더 자려는 마음 때문에 매일 학교를 지각하고 있다.\n",
    "\n",
    "상근이는 모든 방법을 동원해보았지만, 조금만 더 자려는 마음은 그 어떤 것도 없앨 수가 없었다.\n",
    "\n",
    "이런 상근이를 불쌍하게 보던, 창영이는 자신이 사용하는 방법을 추천해 주었다.\n",
    "\n",
    "바로 \"45분 일찍 알람 설정하기\"이다.\n",
    "\n",
    "이 방법은 단순하다. 원래 설정되어 있는 알람을 45분 앞서는 시간으로 바꾸는 것이다. 어차피 알람 소리를 들으면, 알람을 끄고 조금 더 잘 것이기 때문이다. 이 방법을 사용하면, 매일 아침 더 잤다는 기분을 느낄 수 있고, 학교도 지각하지 않게 된다.\n",
    "\n",
    "현재 상근이가 설정한 알람 시각이 주어졌을 때, 창영이의 방법을 사용한다면, 이를 언제로 고쳐야 하는지 구하는 프로그램을 작성하시오.\n",
    "\n",
    "#### 입력\n",
    "첫째 줄에 두 정수 H와 M이 주어진다. (0 ≤ H ≤ 23, 0 ≤ M ≤ 59) 그리고 이것은 현재 상근이가 설정한 놓은 알람 시간 H시 M분을 의미한다.\n",
    "\n",
    "입력 시간은 24시간 표현을 사용한다. 24시간 표현에서 하루의 시작은 0:0(자정)이고, 끝은 23:59(다음날 자정 1분 전)이다. 시간을 나타낼 때, 불필요한 0은 사용하지 않는다.\n",
    "\n",
    "#### 출력\n",
    "첫째 줄에 상근이가 창영이의 방법을 사용할 때, 설정해야 하는 알람 시간을 출력한다. (입력과 같은 형태로 출력하면 된다.)\n",
    "\n",
    "#### 예제 입력 1 \n",
    "10 10\n",
    "#### 예제 출력 1 \n",
    "9 25\n",
    "#### 예제 입력 2 \n",
    "0 30\n",
    "#### 예제 출력 2 \n",
    "23 45\n",
    "#### 예제 입력 3 \n",
    "23 40\n",
    "#### 예제 출력 3 \n",
    "22 55"
   ]
  },
  {
   "cell_type": "code",
   "execution_count": null,
   "id": "259f2a20",
   "metadata": {},
   "outputs": [],
   "source": [
    "object Main {\n",
    "    def main(args: Array[String]): Unit = {\n",
    "        val times = scala.io.StdIn.readLine().split(\" \")\n",
    "        var h = times(0).toInt\n",
    "        var m = times(1).toInt\n",
    "\n",
    "        if m < 45 then\n",
    "            h -= 1\n",
    "            m = m + 15\n",
    "        else\n",
    "            m -= 45\n",
    "        \n",
    "        if h < 0 then\n",
    "            h = 23\n",
    "\n",
    "        print(h + \" \" + m)\n",
    "    }\n",
    "}"
   ]
  },
  {
   "cell_type": "code",
   "execution_count": 2,
   "id": "241ec71c",
   "metadata": {},
   "outputs": [
    {
     "name": "stdout",
     "output_type": "stream",
     "text": [
      "0 10\n",
      "23 25"
     ]
    },
    {
     "data": {
      "text/plain": [
       "\u001b[36mtimes\u001b[39m: \u001b[32mArray\u001b[39m[\u001b[32mString\u001b[39m] = \u001b[33mArray\u001b[39m(\u001b[32m\"0\"\u001b[39m, \u001b[32m\"10\"\u001b[39m)\n",
       "\u001b[36mh\u001b[39m: \u001b[32mInt\u001b[39m = \u001b[32m23\u001b[39m\n",
       "\u001b[36mm\u001b[39m: \u001b[32mInt\u001b[39m = \u001b[32m25\u001b[39m"
      ]
     },
     "execution_count": 2,
     "metadata": {},
     "output_type": "execute_result"
    }
   ],
   "source": [
    "val times = scala.io.StdIn.readLine().split(\" \")\n",
    "var h = times(0).toInt\n",
    "var m = times(1).toInt\n",
    "\n",
    "if m < 45 then\n",
    "    h -= 1\n",
    "    m = m + 15\n",
    "else\n",
    "    m -= 45\n",
    "\n",
    "if h < 0 then\n",
    "    h = 23\n",
    "\n",
    "print(h + \" \" + m)"
   ]
  },
  {
   "cell_type": "code",
   "execution_count": null,
   "id": "51253d67",
   "metadata": {},
   "outputs": [],
   "source": []
  }
 ],
 "metadata": {
  "kernelspec": {
   "display_name": "Scala",
   "language": "scala",
   "name": "scala"
  },
  "language_info": {
   "codemirror_mode": "text/x-scala",
   "file_extension": ".sc",
   "mimetype": "text/x-scala",
   "name": "scala",
   "nbconvert_exporter": "script",
   "version": "2.13.6"
  }
 },
 "nbformat": 4,
 "nbformat_minor": 5
}
