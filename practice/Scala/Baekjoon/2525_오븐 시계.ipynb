{
 "cells": [
  {
   "cell_type": "markdown",
   "id": "61d60ba9",
   "metadata": {},
   "source": [
    "#### 문제\n",
    "KOI 전자에서는 건강에 좋고 맛있는 훈제오리구이 요리를 간편하게 만드는 인공지능 오븐을 개발하려고 한다. 인공지능 오븐을 사용하는 방법은 적당한 양의 오리 훈제 재료를 인공지능 오븐에 넣으면 된다. 그러면 인공지능 오븐은 오븐구이가 끝나는 시간을 분 단위로 자동적으로 계산한다. \n",
    "\n",
    "또한, KOI 전자의 인공지능 오븐 앞면에는 사용자에게 훈제오리구이 요리가 끝나는 시각을 알려 주는 디지털 시계가 있다. \n",
    "\n",
    "훈제오리구이를 시작하는 시각과 오븐구이를 하는 데 필요한 시간이 분단위로 주어졌을 때, 오븐구이가 끝나는 시각을 계산하는 프로그램을 작성하시오.\n",
    "\n",
    "#### 입력\n",
    "첫째 줄에는 현재 시각이 나온다. 현재 시각은 시 A (0 ≤ A ≤ 23) 와 분 B (0 ≤ B ≤ 59)가 정수로 빈칸을 사이에 두고 순서대로 주어진다. 두 번째 줄에는 요리하는 데 필요한 시간 C (0 ≤ C ≤ 1,000)가 분 단위로 주어진다. \n",
    "\n",
    "#### 출력\n",
    "첫째 줄에 종료되는 시각의 시와 분을 공백을 사이에 두고 출력한다. (단, 시는 0부터 23까지의 정수, 분은 0부터 59까지의 정수이다. 디지털 시계는 23시 59분에서 1분이 지나면 0시 0분이 된다.)\n",
    "\n",
    "#### 예제 입력 1 \n",
    "14 30\n",
    "\n",
    "20\n",
    "#### 예제 출력 1 \n",
    "14 50\n",
    "#### 예제 입력 2 \n",
    "17 40\n",
    "\n",
    "80\n",
    "#### 예제 출력 2 \n",
    "19 0\n",
    "#### 예제 입력 3 \n",
    "23 48\n",
    "\n",
    "25\n",
    "#### 예제 출력 3 \n",
    "0 13"
   ]
  },
  {
   "cell_type": "code",
   "execution_count": null,
   "id": "b5b3d29f",
   "metadata": {},
   "outputs": [],
   "source": [
    "object Main {\n",
    "    def main(args: Array[String]): Unit = {\n",
    "        val times = scala.io.StdIn.readLine().split(\" \")\n",
    "        var h = times(0).toInt\n",
    "        var m = times(1).toInt\n",
    "        val need = scala.io.StdIn.readLine().toInt\n",
    "\n",
    "        val end = m + need\n",
    "        m = end % 60\n",
    "        h += end / 60\n",
    "        if h >= 24 then\n",
    "            h -= 24\n",
    "\n",
    "        println(h + \" \" + m)\n",
    "    }\n",
    "}"
   ]
  },
  {
   "cell_type": "code",
   "execution_count": 3,
   "id": "7f3f0ed8",
   "metadata": {},
   "outputs": [
    {
     "name": "stdout",
     "output_type": "stream",
     "text": [
      "17 40\n",
      "80\n",
      "19 0\n"
     ]
    },
    {
     "data": {
      "text/plain": [
       "\u001b[36mtimes\u001b[39m: \u001b[32mArray\u001b[39m[\u001b[32mString\u001b[39m] = \u001b[33mArray\u001b[39m(\u001b[32m\"17\"\u001b[39m, \u001b[32m\"40\"\u001b[39m)\n",
       "\u001b[36mh\u001b[39m: \u001b[32mInt\u001b[39m = \u001b[32m19\u001b[39m\n",
       "\u001b[36mm\u001b[39m: \u001b[32mInt\u001b[39m = \u001b[32m0\u001b[39m\n",
       "\u001b[36mneed\u001b[39m: \u001b[32mInt\u001b[39m = \u001b[32m80\u001b[39m\n",
       "\u001b[36mend\u001b[39m: \u001b[32mInt\u001b[39m = \u001b[32m120\u001b[39m"
      ]
     },
     "execution_count": 3,
     "metadata": {},
     "output_type": "execute_result"
    }
   ],
   "source": [
    "val times = scala.io.StdIn.readLine().split(\" \")\n",
    "var h = times(0).toInt\n",
    "var m = times(1).toInt\n",
    "val need = scala.io.StdIn.readLine().toInt\n",
    "\n",
    "val end = m + need\n",
    "m = end % 60\n",
    "h += end / 60\n",
    "if h >= 24 then\n",
    "    h -= 24\n",
    "\n",
    "println(h + \" \" + m)"
   ]
  },
  {
   "cell_type": "code",
   "execution_count": null,
   "id": "15666886",
   "metadata": {},
   "outputs": [],
   "source": []
  }
 ],
 "metadata": {
  "kernelspec": {
   "display_name": "Scala",
   "language": "scala",
   "name": "scala"
  },
  "language_info": {
   "codemirror_mode": "text/x-scala",
   "file_extension": ".sc",
   "mimetype": "text/x-scala",
   "name": "scala",
   "nbconvert_exporter": "script",
   "version": "2.13.6"
  }
 },
 "nbformat": 4,
 "nbformat_minor": 5
}
