{
 "cells": [
  {
   "cell_type": "markdown",
   "id": "2f35b877",
   "metadata": {},
   "source": [
    "#### 문제\n",
    "두 정수 A와 B를 입력받은 다음, A/B를 출력하는 프로그램을 작성하시오.\n",
    "\n",
    "#### 입력\n",
    "첫째 줄에 A와 B가 주어진다. (0 < A, B < 10)\n",
    "\n",
    "#### 출력\n",
    "첫째 줄에 A/B를 출력한다. 실제 정답과 출력값의 절대오차 또는 상대오차가 10-9 이하이면 정답이다.\n",
    "\n",
    "#### 예제 입력 1 \n",
    "1 3\n",
    "#### 예제 출력 1 \n",
    "0.33333333333333333333333333333333\n",
    "\n",
    "10-9 이하의 오차를 허용한다는 말은 꼭 소수 9번째 자리까지만 출력하라는 뜻이 아니다.\n",
    "\n",
    "#### 예제 입력 2 \n",
    "4 5\n",
    "#### 예제 출력 2 \n",
    "0.8"
   ]
  },
  {
   "cell_type": "code",
   "execution_count": null,
   "id": "79b88d24",
   "metadata": {},
   "outputs": [],
   "source": [
    "import scala.io.StdIn.readLine\n",
    "\n",
    "object Main {\n",
    "  def main(args: Array[String]): Unit = {\n",
    "    val numbers = readLine().split(\" \")\n",
    "    val a = numbers(0).toDouble\n",
    "    val b = numbers(1).toDouble\n",
    "    println(a / b)\n",
    "  }\n",
    "}"
   ]
  },
  {
   "cell_type": "code",
   "execution_count": 2,
   "id": "9d442046",
   "metadata": {},
   "outputs": [
    {
     "name": "stdout",
     "output_type": "stream",
     "text": [
      "1 3\n",
      "0.3333333333333333\n"
     ]
    },
    {
     "data": {
      "text/plain": [
       "\u001b[32mimport \u001b[39m\u001b[36mscala.io.StdIn.readLine\n",
       "\n",
       "\u001b[39m\n",
       "\u001b[36mnumbers\u001b[39m: \u001b[32mArray\u001b[39m[\u001b[32mString\u001b[39m] = \u001b[33mArray\u001b[39m(\u001b[32m\"1\"\u001b[39m, \u001b[32m\"3\"\u001b[39m)\n",
       "\u001b[36ma\u001b[39m: \u001b[32mDouble\u001b[39m = \u001b[32m1.0\u001b[39m\n",
       "\u001b[36mb\u001b[39m: \u001b[32mDouble\u001b[39m = \u001b[32m3.0\u001b[39m"
      ]
     },
     "execution_count": 2,
     "metadata": {},
     "output_type": "execute_result"
    }
   ],
   "source": [
    "import scala.io.StdIn.readLine\n",
    "\n",
    "val numbers = readLine().split(\" \")\n",
    "val a = numbers(0).toDouble\n",
    "val b = numbers(1).toDouble\n",
    "println(a / b)"
   ]
  },
  {
   "cell_type": "code",
   "execution_count": null,
   "id": "3a2b9e46",
   "metadata": {},
   "outputs": [],
   "source": []
  }
 ],
 "metadata": {
  "kernelspec": {
   "display_name": "Scala",
   "language": "scala",
   "name": "scala"
  },
  "language_info": {
   "codemirror_mode": "text/x-scala",
   "file_extension": ".sc",
   "mimetype": "text/x-scala",
   "name": "scala",
   "nbconvert_exporter": "script",
   "version": "2.13.6"
  }
 },
 "nbformat": 4,
 "nbformat_minor": 5
}
