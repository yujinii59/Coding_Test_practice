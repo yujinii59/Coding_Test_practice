{
 "cells": [
  {
   "cell_type": "markdown",
   "id": "5a90355e",
   "metadata": {},
   "source": [
    "#### 문제\n",
    "두 정수 A와 B가 주어졌을 때, A와 B를 비교하는 프로그램을 작성하시오.\n",
    "\n",
    "#### 입력\n",
    "첫째 줄에 A와 B가 주어진다. A와 B는 공백 한 칸으로 구분되어져 있다.\n",
    "\n",
    "#### 출력\n",
    "첫째 줄에 다음 세 가지 중 하나를 출력한다.\n",
    "\n",
    "A가 B보다 큰 경우에는 '>'를 출력한다.\n",
    "\n",
    "A가 B보다 작은 경우에는 '<'를 출력한다.\n",
    "\n",
    "A와 B가 같은 경우에는 '=='를 출력한다.\n",
    "\n",
    "#### 제한\n",
    "-10,000 ≤ A, B ≤ 10,000\n",
    "#### 예제 입력 1 \n",
    "1 2\n",
    "#### 예제 출력 1 \n",
    "'<'\n",
    "#### 예제 입력 2 \n",
    "10 2\n",
    "#### 예제 출력 2 \n",
    "'>'\n",
    "#### 예제 입력 3 \n",
    "5 5\n",
    "#### 예제 출력 3 \n",
    "'=='"
   ]
  },
  {
   "cell_type": "code",
   "execution_count": null,
   "id": "619784eb",
   "metadata": {},
   "outputs": [],
   "source": [
    "object Main{\n",
    "    def main(args: Array[String]): Unit = {\n",
    "        val numbers = scala.io.StdIn.readLine().split(\" \")\n",
    "        val a = numbers(0).toInt\n",
    "        val b = numbers(1).toInt\n",
    "        if a > b then\n",
    "            println(\">\")\n",
    "        else if a < b then\n",
    "            println(\"<\")\n",
    "        else\n",
    "            println(\"==\")\n",
    "    }\n",
    "}"
   ]
  },
  {
   "cell_type": "code",
   "execution_count": 1,
   "id": "e7eaeadb",
   "metadata": {},
   "outputs": [
    {
     "name": "stdout",
     "output_type": "stream",
     "text": [
      "1 3\n",
      "<\n"
     ]
    },
    {
     "data": {
      "text/plain": [
       "\u001b[36mnumbers\u001b[39m: \u001b[32mArray\u001b[39m[\u001b[32mString\u001b[39m] = \u001b[33mArray\u001b[39m(\u001b[32m\"1\"\u001b[39m, \u001b[32m\"3\"\u001b[39m)\n",
       "\u001b[36ma\u001b[39m: \u001b[32mInt\u001b[39m = \u001b[32m1\u001b[39m\n",
       "\u001b[36mb\u001b[39m: \u001b[32mInt\u001b[39m = \u001b[32m3\u001b[39m"
      ]
     },
     "execution_count": 1,
     "metadata": {},
     "output_type": "execute_result"
    }
   ],
   "source": [
    "val numbers = scala.io.StdIn.readLine().split(\" \")\n",
    "val a = numbers(0).toInt\n",
    "val b = numbers(1).toInt\n",
    "if a > b then\n",
    "    println(\">\")\n",
    "else if a < b then\n",
    "    println(\"<\")\n",
    "else\n",
    "    println(\"==\")"
   ]
  },
  {
   "cell_type": "code",
   "execution_count": null,
   "id": "83dac545",
   "metadata": {},
   "outputs": [],
   "source": []
  }
 ],
 "metadata": {
  "kernelspec": {
   "display_name": "Scala",
   "language": "scala",
   "name": "scala"
  },
  "language_info": {
   "codemirror_mode": "text/x-scala",
   "file_extension": ".sc",
   "mimetype": "text/x-scala",
   "name": "scala",
   "nbconvert_exporter": "script",
   "version": "2.13.6"
  }
 },
 "nbformat": 4,
 "nbformat_minor": 5
}
