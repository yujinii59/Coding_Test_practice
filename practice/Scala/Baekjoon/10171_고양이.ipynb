{
 "cells": [
  {
   "cell_type": "markdown",
   "id": "358947b7",
   "metadata": {},
   "source": [
    "#### 문제\n",
    "아래 예제와 같이 고양이를 출력하시오.\n",
    "\n",
    "#### 입력\n",
    "없음.\n",
    "\n",
    "#### 출력\n",
    "고양이를 출력한다.\n",
    "\n",
    "#### 예제 입력 1 \n",
    "#### 예제 출력 1 \n",
    "\\    /\\\n",
    "\n",
    " )  ( ')\n",
    "\n",
    "(  /  )\n",
    "\n",
    " \\(__)|"
   ]
  },
  {
   "cell_type": "code",
   "execution_count": null,
   "id": "2be6483e",
   "metadata": {},
   "outputs": [],
   "source": [
    "object Main {    \n",
    "  def main(args: Array[String]): Unit = {\n",
    "    println(\"\\\\    /\\\\\")\n",
    "    println(\" )  ( \\')\")\n",
    "    println(\"(  /  )\")\n",
    "    println(\" \\\\(__)|\")\n",
    "  }\n",
    "}"
   ]
  },
  {
   "cell_type": "code",
   "execution_count": 1,
   "id": "daf7275e",
   "metadata": {},
   "outputs": [
    {
     "name": "stdout",
     "output_type": "stream",
     "text": [
      "\\    /\\\n",
      " )  ( ')\n",
      "(  /  )\n",
      " \\(__)|\n"
     ]
    }
   ],
   "source": [
    "println(\"\\\\    /\\\\\")\n",
    "println(\" )  ( \\')\")\n",
    "println(\"(  /  )\")\n",
    "println(\" \\\\(__)|\")"
   ]
  },
  {
   "cell_type": "code",
   "execution_count": null,
   "id": "5ddb6e7b",
   "metadata": {},
   "outputs": [],
   "source": []
  }
 ],
 "metadata": {
  "kernelspec": {
   "display_name": "Scala",
   "language": "scala",
   "name": "scala"
  },
  "language_info": {
   "codemirror_mode": "text/x-scala",
   "file_extension": ".sc",
   "mimetype": "text/x-scala",
   "name": "scala",
   "nbconvert_exporter": "script",
   "version": "2.13.6"
  }
 },
 "nbformat": 4,
 "nbformat_minor": 5
}
