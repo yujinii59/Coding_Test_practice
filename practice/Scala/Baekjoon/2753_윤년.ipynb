{
 "cells": [
  {
   "cell_type": "markdown",
   "id": "9752d417",
   "metadata": {},
   "source": [
    "#### 문제\n",
    "연도가 주어졌을 때, 윤년이면 1, 아니면 0을 출력하는 프로그램을 작성하시오.\n",
    "\n",
    "윤년은 연도가 4의 배수이면서, 100의 배수가 아닐 때 또는 400의 배수일 때이다.\n",
    "\n",
    "예를 들어, 2012년은 4의 배수이면서 100의 배수가 아니라서 윤년이다. 1900년은 100의 배수이고 400의 배수는 아니기 때문에 윤년이 아니다. 하지만, 2000년은 400의 배수이기 때문에 윤년이다.\n",
    "\n",
    "#### 입력\n",
    "첫째 줄에 연도가 주어진다. 연도는 1보다 크거나 같고, 4000보다 작거나 같은 자연수이다.\n",
    "\n",
    "#### 출력\n",
    "첫째 줄에 윤년이면 1, 아니면 0을 출력한다.\n",
    "\n",
    "#### 예제 입력 1 \n",
    "2000\n",
    "#### 예제 출력 1 \n",
    "1\n",
    "#### 예제 입력 2 \n",
    "1999\n",
    "#### 예제 출력 2 \n",
    "0"
   ]
  },
  {
   "cell_type": "code",
   "execution_count": null,
   "id": "f9a11a1a",
   "metadata": {},
   "outputs": [],
   "source": [
    "object Main {\n",
    "    def main(args: Array[String]): Unit = {\n",
    "        val year = scala.io.StdIn.readLine().toInt\n",
    "\n",
    "        if (year % 4 == 0 && year % 100 != 0) || (year % 400 == 0) then\n",
    "            println(1)\n",
    "        else\n",
    "            println(0)\n",
    "    }\n",
    "}"
   ]
  },
  {
   "cell_type": "code",
   "execution_count": 2,
   "id": "b8e6a6d0",
   "metadata": {},
   "outputs": [
    {
     "name": "stdout",
     "output_type": "stream",
     "text": [
      "200\n",
      "0\n"
     ]
    },
    {
     "data": {
      "text/plain": [
       "\u001b[36myear\u001b[39m: \u001b[32mInt\u001b[39m = \u001b[32m200\u001b[39m"
      ]
     },
     "execution_count": 2,
     "metadata": {},
     "output_type": "execute_result"
    }
   ],
   "source": [
    "val year = scala.io.StdIn.readLine().toInt\n",
    "\n",
    "if (year % 4 == 0 && year % 100 != 0) || (year % 400 == 0) then\n",
    "    println(1)\n",
    "else\n",
    "    println(0)"
   ]
  },
  {
   "cell_type": "code",
   "execution_count": null,
   "id": "d5b97d2a",
   "metadata": {},
   "outputs": [],
   "source": []
  }
 ],
 "metadata": {
  "kernelspec": {
   "display_name": "Scala",
   "language": "scala",
   "name": "scala"
  },
  "language_info": {
   "codemirror_mode": "text/x-scala",
   "file_extension": ".sc",
   "mimetype": "text/x-scala",
   "name": "scala",
   "nbconvert_exporter": "script",
   "version": "2.13.6"
  }
 },
 "nbformat": 4,
 "nbformat_minor": 5
}
