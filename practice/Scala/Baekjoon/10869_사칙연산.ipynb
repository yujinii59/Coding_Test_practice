{
 "cells": [
  {
   "cell_type": "markdown",
   "id": "d71e5c66",
   "metadata": {},
   "source": [
    "#### 문제\n",
    "두 자연수 A와 B가 주어진다. 이때, A+B, A-B, A*B, A/B(몫), A%B(나머지)를 출력하는 프로그램을 작성하시오. \n",
    "\n",
    "#### 입력\n",
    "두 자연수 A와 B가 주어진다. (1 ≤ A, B ≤ 10,000)\n",
    "\n",
    "#### 출력\n",
    "첫째 줄에 A+B, 둘째 줄에 A-B, 셋째 줄에 A*B, 넷째 줄에 A/B, 다섯째 줄에 A%B를 출력한다.\n",
    "\n",
    "#### 예제 입력 1 \n",
    "7 3\n",
    "#### 예제 출력 1 \n",
    "10\n",
    "\n",
    "4\n",
    "\n",
    "21\n",
    "\n",
    "2\n",
    "\n",
    "1"
   ]
  },
  {
   "cell_type": "code",
   "execution_count": null,
   "id": "d98fe27f",
   "metadata": {},
   "outputs": [],
   "source": [
    "object Main {\n",
    "    def main(args: Array[String]):Unit = {\n",
    "        val numbers = (scala.io.StdIn.readLine() split \" \" take 2 map (_.toInt))\n",
    "        val a = numbers(0)\n",
    "        val b = numbers(1)\n",
    "        println(a + b)\n",
    "        println(a - b)\n",
    "        println(a * b)\n",
    "        println(a / b)\n",
    "        println(a % b)\n",
    "    }\n",
    "}"
   ]
  },
  {
   "cell_type": "code",
   "execution_count": 1,
   "id": "ac376685",
   "metadata": {},
   "outputs": [
    {
     "name": "stdout",
     "output_type": "stream",
     "text": [
      "7 3\n",
      "10\n",
      "4\n",
      "21\n",
      "2\n",
      "1\n"
     ]
    },
    {
     "data": {
      "text/plain": [
       "\u001b[36mnumbers\u001b[39m: \u001b[32mArray\u001b[39m[\u001b[32mInt\u001b[39m] = \u001b[33mArray\u001b[39m(\u001b[32m7\u001b[39m, \u001b[32m3\u001b[39m)\n",
       "\u001b[36ma\u001b[39m: \u001b[32mInt\u001b[39m = \u001b[32m7\u001b[39m\n",
       "\u001b[36mb\u001b[39m: \u001b[32mInt\u001b[39m = \u001b[32m3\u001b[39m"
      ]
     },
     "execution_count": 1,
     "metadata": {},
     "output_type": "execute_result"
    }
   ],
   "source": [
    "val numbers = (scala.io.StdIn.readLine() split \" \" take 2 map (_.toInt))\n",
    "val a = numbers(0)\n",
    "val b = numbers(1)\n",
    "println(a + b)\n",
    "println(a - b)\n",
    "println(a * b)\n",
    "println(a / b)\n",
    "println(a % b)"
   ]
  },
  {
   "cell_type": "code",
   "execution_count": null,
   "id": "d241cfa5",
   "metadata": {},
   "outputs": [],
   "source": []
  }
 ],
 "metadata": {
  "kernelspec": {
   "display_name": "Scala",
   "language": "scala",
   "name": "scala"
  },
  "language_info": {
   "codemirror_mode": "text/x-scala",
   "file_extension": ".sc",
   "mimetype": "text/x-scala",
   "name": "scala",
   "nbconvert_exporter": "script",
   "version": "2.13.6"
  }
 },
 "nbformat": 4,
 "nbformat_minor": 5
}
