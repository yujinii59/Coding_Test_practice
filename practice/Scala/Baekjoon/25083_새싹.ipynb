{
 "cells": [
  {
   "cell_type": "markdown",
   "id": "762269a9",
   "metadata": {},
   "source": [
    "#### 문제\n",
    "아래 예제와 같이 새싹을 출력하시오.\n",
    "\n",
    "#### 입력\n",
    "입력은 없다.\n",
    "\n",
    "#### 출력\n",
    "새싹을 출력한다.\n",
    "\n",
    "#### 예제 입력 1 \n",
    "#### 예제 출력 1 \n",
    "```|         ,r'\"7\n",
    "|r`-_   ,'  ,/\n",
    "| \\. \". L_r'\n",
    "|   `~\\/\n",
    "|      |\n",
    "|      |```"
   ]
  },
  {
   "cell_type": "code",
   "execution_count": null,
   "id": "264dc007",
   "metadata": {},
   "outputs": [],
   "source": [
    "object Main {\n",
    "    def main(args: Array[String]): Unit = {\n",
    "        println(\"         ,r'\\\"7\")\n",
    "        println(\"r`-_   ,'  ,/\")\n",
    "        println(\" \\\\. \\\". L_r'\")\n",
    "        println(\"   `~\\\\/\")\n",
    "        println(\"      |\")\n",
    "        println(\"      |\")\n",
    "    }\n",
    "}"
   ]
  },
  {
   "cell_type": "code",
   "execution_count": 1,
   "id": "479c21e7",
   "metadata": {},
   "outputs": [
    {
     "name": "stdout",
     "output_type": "stream",
     "text": [
      "         ,r'\"7\n",
      "r`-_   ,'  ,/\n",
      " \\. \". L_r'\n",
      "   `~\\/\n",
      "      |\n",
      "      |\n"
     ]
    }
   ],
   "source": [
    "println(\"         ,r'\\\"7\")\n",
    "println(\"r`-_   ,'  ,/\")\n",
    "println(\" \\\\. \\\". L_r'\")\n",
    "println(\"   `~\\\\/\")\n",
    "println(\"      |\")\n",
    "println(\"      |\")"
   ]
  },
  {
   "cell_type": "code",
   "execution_count": null,
   "id": "d401b280",
   "metadata": {},
   "outputs": [],
   "source": []
  }
 ],
 "metadata": {
  "kernelspec": {
   "display_name": "Scala",
   "language": "scala",
   "name": "scala"
  },
  "language_info": {
   "codemirror_mode": "text/x-scala",
   "file_extension": ".sc",
   "mimetype": "text/x-scala",
   "name": "scala",
   "nbconvert_exporter": "script",
   "version": "2.13.6"
  }
 },
 "nbformat": 4,
 "nbformat_minor": 5
}
