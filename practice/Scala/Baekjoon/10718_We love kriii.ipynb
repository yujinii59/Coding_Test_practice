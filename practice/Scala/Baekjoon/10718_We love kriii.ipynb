{
 "cells": [
  {
   "cell_type": "markdown",
   "id": "48984d45",
   "metadata": {},
   "source": [
    "#### 문제\n",
    "ACM-ICPC 인터넷 예선, Regional, 그리고 World Finals까지 이미 2회씩 진출해버린 kriii는 미련을 버리지 못하고 왠지 모르게 올해에도 파주 World Finals 준비 캠프에 참여했다.\n",
    "\n",
    "대회를 뜰 줄 모르는 지박령 kriii를 위해서 격려의 문구를 출력해주자.\n",
    "\n",
    "#### 입력\n",
    "본 문제는 입력이 없다.\n",
    "\n",
    "#### 출력\n",
    "두 줄에 걸쳐 \"강한친구 대한육군\"을 한 줄에 한 번씩 출력한다.\n",
    "\n",
    "#### 예제 입력 1 \n",
    "#### 예제 출력 1 \n",
    "강한친구 대한육군\n",
    "\n",
    "강한친구 대한육군"
   ]
  },
  {
   "cell_type": "code",
   "execution_count": null,
   "id": "b72b8362",
   "metadata": {},
   "outputs": [],
   "source": [
    "object Main {\n",
    "  def main(args: Array[String]): Unit = {\n",
    "    println(\"강한친구 대한육군\")\n",
    "    println(\"강한친구 대한육군\")\n",
    "  }\n",
    "}"
   ]
  },
  {
   "cell_type": "code",
   "execution_count": 1,
   "id": "525b7e18",
   "metadata": {},
   "outputs": [
    {
     "name": "stdout",
     "output_type": "stream",
     "text": [
      "강한친구 대한육군\n",
      "강한친구 대한육군\n"
     ]
    }
   ],
   "source": [
    "println(\"강한친구 대한육군\")\n",
    "println(\"강한친구 대한육군\")"
   ]
  },
  {
   "cell_type": "code",
   "execution_count": null,
   "id": "b90f1aad",
   "metadata": {},
   "outputs": [],
   "source": []
  }
 ],
 "metadata": {
  "kernelspec": {
   "display_name": "Scala",
   "language": "scala",
   "name": "scala"
  },
  "language_info": {
   "codemirror_mode": "text/x-scala",
   "file_extension": ".sc",
   "mimetype": "text/x-scala",
   "name": "scala",
   "nbconvert_exporter": "script",
   "version": "2.13.6"
  }
 },
 "nbformat": 4,
 "nbformat_minor": 5
}
