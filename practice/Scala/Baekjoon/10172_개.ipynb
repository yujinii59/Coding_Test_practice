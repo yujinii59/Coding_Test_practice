{
 "cells": [
  {
   "cell_type": "markdown",
   "id": "eff95b70",
   "metadata": {},
   "source": [
    "#### 문제\n",
    "아래 예제와 같이 개를 출력하시오.\n",
    "\n",
    "#### 입력\n",
    "없음.\n",
    "\n",
    "#### 출력\n",
    "개를 출력한다.\n",
    "\n",
    "#### 예제 입력 1 \n",
    "#### 예제 출력 1 \n",
    "|\\_/|\n",
    "\n",
    "|q p|   /}\n",
    "\n",
    "( 0 )\"\"\"\\\n",
    "\n",
    "|\"^\"`    |\n",
    "\n",
    "||_/=\\\\__|"
   ]
  },
  {
   "cell_type": "code",
   "execution_count": null,
   "id": "ff083f7e",
   "metadata": {},
   "outputs": [],
   "source": [
    "object Main {\n",
    "  def main(args: Array[String]): Unit = {\n",
    "    println(\"|\\\\_/|\")\n",
    "    println(\"|q p|   /}\")\n",
    "    println(\"( 0 )\\\"\\\"\\\"\\\\\")\n",
    "    println(\"|\\\"^\\\"`    |\")\n",
    "    println(\"||_/=\\\\\\\\__|\")\n",
    "  }\n",
    "}"
   ]
  },
  {
   "cell_type": "code",
   "execution_count": 1,
   "id": "6864d4db",
   "metadata": {},
   "outputs": [
    {
     "name": "stdout",
     "output_type": "stream",
     "text": [
      "|\\_/|\n",
      "|q p|   /}\n",
      "( 0 )\"\"\"\\\n",
      "|\"^\"`    |\n",
      "||_/=\\\\__|\n"
     ]
    }
   ],
   "source": [
    "println(\"|\\\\_/|\")\n",
    "println(\"|q p|   /}\")\n",
    "println(\"( 0 )\\\"\\\"\\\"\\\\\")\n",
    "println(\"|\\\"^\\\"`    |\")\n",
    "println(\"||_/=\\\\\\\\__|\")"
   ]
  }
 ],
 "metadata": {
  "kernelspec": {
   "display_name": "Scala",
   "language": "scala",
   "name": "scala"
  },
  "language_info": {
   "codemirror_mode": "text/x-scala",
   "file_extension": ".sc",
   "mimetype": "text/x-scala",
   "name": "scala",
   "nbconvert_exporter": "script",
   "version": "2.13.6"
  }
 },
 "nbformat": 4,
 "nbformat_minor": 5
}
