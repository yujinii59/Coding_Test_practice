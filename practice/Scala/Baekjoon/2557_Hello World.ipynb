{
 "cells": [
  {
   "cell_type": "markdown",
   "id": "0a7cf23f",
   "metadata": {},
   "source": [
    "#### 문제\n",
    "Hello World!를 출력하시오.\n",
    "\n",
    "#### 입력\n",
    "없음\n",
    "\n",
    "#### 출력\n",
    "Hello World!를 출력하시오.\n",
    "\n",
    "#### 예제 입력 1 \n",
    "#### 예제 출력 1 \n",
    "Hello World!"
   ]
  },
  {
   "cell_type": "code",
   "execution_count": null,
   "id": "14150af7",
   "metadata": {},
   "outputs": [],
   "source": [
    "object Main {\n",
    "  def main(args: Array[String]): Unit = {\n",
    "    println(\"Hello World!\")\n",
    "  }\n",
    "}"
   ]
  },
  {
   "cell_type": "code",
   "execution_count": 1,
   "id": "a93e071b",
   "metadata": {},
   "outputs": [
    {
     "name": "stdout",
     "output_type": "stream",
     "text": [
      "Hello World!\n"
     ]
    }
   ],
   "source": [
    "println(\"Hello World!\")"
   ]
  }
 ],
 "metadata": {
  "kernelspec": {
   "display_name": "Scala",
   "language": "scala",
   "name": "scala"
  },
  "language_info": {
   "codemirror_mode": "text/x-scala",
   "file_extension": ".sc",
   "mimetype": "text/x-scala",
   "name": "scala",
   "nbconvert_exporter": "script",
   "version": "2.13.6"
  }
 },
 "nbformat": 4,
 "nbformat_minor": 5
}
