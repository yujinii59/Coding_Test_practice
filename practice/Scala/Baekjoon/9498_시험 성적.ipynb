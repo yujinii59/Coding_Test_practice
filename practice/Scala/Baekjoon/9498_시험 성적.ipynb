{
 "cells": [
  {
   "cell_type": "markdown",
   "id": "4f7e88c4",
   "metadata": {},
   "source": [
    "#### 문제\n",
    "시험 점수를 입력받아 90 ~ 100점은 A, 80 ~ 89점은 B, 70 ~ 79점은 C, 60 ~ 69점은 D, 나머지 점수는 F를 출력하는 프로그램을 작성하시오.\n",
    "\n",
    "#### 입력\n",
    "첫째 줄에 시험 점수가 주어진다. 시험 점수는 0보다 크거나 같고, 100보다 작거나 같은 정수이다.\n",
    "\n",
    "#### 출력\n",
    "시험 성적을 출력한다.\n",
    "\n",
    "#### 예제 입력 1 \n",
    "100\n",
    "#### 예제 출력 1 \n",
    "A"
   ]
  },
  {
   "cell_type": "code",
   "execution_count": null,
   "id": "a7ed04ac",
   "metadata": {},
   "outputs": [],
   "source": [
    "object Main {\n",
    "    def main(args: Array[String]): Unit = {\n",
    "        val score = scala.io.StdIn.readLine().toInt\n",
    "        if score > 89 then\n",
    "            println(\"A\")\n",
    "        else if score > 79 then\n",
    "            println(\"B\")\n",
    "        else if score > 69 then\n",
    "            println(\"C\")\n",
    "        else if score > 59 then\n",
    "            println(\"D\")\n",
    "        else\n",
    "            println(\"F\")\n",
    "    }\n",
    "}"
   ]
  },
  {
   "cell_type": "code",
   "execution_count": 1,
   "id": "872ebd48",
   "metadata": {},
   "outputs": [
    {
     "name": "stdout",
     "output_type": "stream",
     "text": [
      "100\n",
      "A\n"
     ]
    },
    {
     "data": {
      "text/plain": [
       "\u001b[36mscore\u001b[39m: \u001b[32mInt\u001b[39m = \u001b[32m100\u001b[39m"
      ]
     },
     "execution_count": 1,
     "metadata": {},
     "output_type": "execute_result"
    }
   ],
   "source": [
    "val score = scala.io.StdIn.readLine().toInt\n",
    "if score > 89 then\n",
    "    println(\"A\")\n",
    "else if score > 79 then\n",
    "    println(\"B\")\n",
    "else if score > 69 then\n",
    "    println(\"C\")\n",
    "else if score > 59 then\n",
    "    println(\"D\")\n",
    "else\n",
    "    println(\"F\")"
   ]
  },
  {
   "cell_type": "code",
   "execution_count": null,
   "id": "147c251f",
   "metadata": {},
   "outputs": [],
   "source": []
  }
 ],
 "metadata": {
  "kernelspec": {
   "display_name": "Scala",
   "language": "scala",
   "name": "scala"
  },
  "language_info": {
   "codemirror_mode": "text/x-scala",
   "file_extension": ".sc",
   "mimetype": "text/x-scala",
   "name": "scala",
   "nbconvert_exporter": "script",
   "version": "2.13.6"
  }
 },
 "nbformat": 4,
 "nbformat_minor": 5
}
