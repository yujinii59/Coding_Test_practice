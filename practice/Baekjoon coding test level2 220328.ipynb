{
 "cells": [
  {
   "cell_type": "markdown",
   "id": "416fd0ff",
   "metadata": {},
   "source": [
    "#### 문제\n",
    "2차원 평면 위의 점 N개가 주어진다. 좌표를 y좌표가 증가하는 순으로, y좌표가 같으면 x좌표가 증가하는 순서로 정렬한 다음 출력하는 프로그램을 작성하시오.\n",
    "\n",
    "#### 입력\n",
    "첫째 줄에 점의 개수 N (1 ≤ N ≤ 100,000)이 주어진다. 둘째 줄부터 N개의 줄에는 i번점의 위치 xi와 yi가 주어진다. (-100,000 ≤ xi, yi ≤ 100,000) 좌표는 항상 정수이고, 위치가 같은 두 점은 없다.\n",
    "\n",
    "#### 출력\n",
    "첫째 줄부터 N개의 줄에 점을 정렬한 결과를 출력한다.\n",
    "\n",
    "#### 예제 입력 \n",
    "5\n",
    "\n",
    "0 4\n",
    "\n",
    "1 2\n",
    "\n",
    "1 -1\n",
    "\n",
    "2 2\n",
    "\n",
    "3 3\n",
    "#### 예제 출력 \n",
    "1 -1\n",
    "\n",
    "1 2\n",
    "\n",
    "2 2\n",
    "\n",
    "3 3\n",
    "\n",
    "0 4"
   ]
  },
  {
   "cell_type": "code",
   "execution_count": 3,
   "id": "3bec07c2",
   "metadata": {},
   "outputs": [
    {
     "name": "stdout",
     "output_type": "stream",
     "text": [
      "5\n",
      "0 4\n",
      "1 2\n",
      "1 -1\n",
      "2 2\n",
      "3 3\n",
      "1 -1\n",
      "1 2\n",
      "2 2\n",
      "3 3\n",
      "0 4\n"
     ]
    }
   ],
   "source": [
    "n = int(input())\n",
    "coords = []\n",
    "for i in range(n):\n",
    "    coords.append(list(map(int, input().split())))\n",
    "coords = sorted(coords, key=lambda x:x[0])\n",
    "coords = sorted(coords, key=lambda x:x[1])\n",
    "for x, y in coords:\n",
    "    print(x, y)"
   ]
  },
  {
   "cell_type": "code",
   "execution_count": null,
   "id": "c7d41618",
   "metadata": {},
   "outputs": [],
   "source": []
  },
  {
   "cell_type": "markdown",
   "id": "8844ba99",
   "metadata": {},
   "source": [
    "#### 문제\n",
    "나코더 기장 재민이는 동아리 회식을 준비하기 위해서 장부를 관리하는 중이다.\n",
    "\n",
    "재현이는 재민이를 도와서 돈을 관리하는 중인데, 애석하게도 항상 정신없는 재현이는 돈을 실수로 잘못 부르는 사고를 치기 일쑤였다.\n",
    "\n",
    "재현이는 잘못된 수를 부를 때마다 0을 외쳐서, 가장 최근에 재민이가 쓴 수를 지우게 시킨다.\n",
    "\n",
    "재민이는 이렇게 모든 수를 받아 적은 후 그 수의 합을 알고 싶어 한다. 재민이를 도와주자!\n",
    "\n",
    "#### 입력\n",
    "첫 번째 줄에 정수 K가 주어진다. (1 ≤ K ≤ 100,000)\n",
    "\n",
    "이후 K개의 줄에 정수가 1개씩 주어진다. 정수는 0에서 1,000,000 사이의 값을 가지며, 정수가 \"0\" 일 경우에는 가장 최근에 쓴 수를 지우고, 아닐 경우 해당 수를 쓴다.\n",
    "\n",
    "정수가 \"0\"일 경우에 지울 수 있는 수가 있음을 보장할 수 있다.\n",
    "\n",
    "#### 출력\n",
    "재민이가 최종적으로 적어 낸 수의 합을 출력한다. 최종적으로 적어낸 수의 합은 231-1보다 작거나 같은 정수이다.\n",
    "\n",
    "#### 예제 입력 1 \n",
    "4\n",
    "\n",
    "3\n",
    "\n",
    "0\n",
    "\n",
    "4\n",
    "\n",
    "0\n",
    "#### 예제 출력 1 \n",
    "0\n",
    "#### 예제 입력 2 \n",
    "10\n",
    "\n",
    "1\n",
    "\n",
    "3\n",
    "\n",
    "5\n",
    "\n",
    "4\n",
    "\n",
    "0\n",
    "\n",
    "0\n",
    "\n",
    "7\n",
    "\n",
    "0\n",
    "\n",
    "0\n",
    "\n",
    "6\n",
    "#### 예제 출력 2 \n",
    "7"
   ]
  },
  {
   "cell_type": "code",
   "execution_count": 5,
   "id": "c767486b",
   "metadata": {},
   "outputs": [
    {
     "name": "stdout",
     "output_type": "stream",
     "text": [
      "10\n",
      "1\n",
      "3\n",
      "5\n",
      "4\n",
      "0\n",
      "0\n",
      "7\n",
      "0\n",
      "0\n",
      "6\n",
      "7\n"
     ]
    }
   ],
   "source": [
    "k = int(input())\n",
    "moneys = []\n",
    "for i in range(k):\n",
    "    money = int(input())\n",
    "    if money == 0:\n",
    "        moneys.pop()\n",
    "    else:\n",
    "        moneys.append(money)\n",
    "print(sum(moneys))"
   ]
  },
  {
   "cell_type": "code",
   "execution_count": null,
   "id": "7900e752",
   "metadata": {},
   "outputs": [],
   "source": []
  },
  {
   "cell_type": "markdown",
   "id": "ad8e88bb",
   "metadata": {},
   "source": [
    "#### 문제\n",
    "자연수 \\(N\\)과 정수 \\(K\\)가 주어졌을 때 이항 계수 \n",
    "\\(\\binom{N}{K}\\)를 구하는 프로그램을 작성하시오.\n",
    "\n",
    "#### 입력\n",
    "첫째 줄에 \\(N\\)과 \\(K\\)가 주어진다. (1 ≤ \\(N\\) ≤ 10, 0 ≤ \\(K\\) ≤ \\(N\\))\n",
    "\n",
    "#### 출력\n",
    " \n",
    "\\(\\binom{N}{K}\\)를 출력한다.\n",
    "\n",
    "#### 예제 입력 1 \n",
    "5 2\n",
    "#### 예제 출력 1 \n",
    "10"
   ]
  },
  {
   "cell_type": "code",
   "execution_count": 22,
   "id": "b95c3292",
   "metadata": {},
   "outputs": [
    {
     "name": "stdout",
     "output_type": "stream",
     "text": [
      "5 2\n",
      "10\n"
     ]
    }
   ],
   "source": [
    "from math import factorial\n",
    "\n",
    "n, k = map(int, input().split())\n",
    "if k == 0:\n",
    "    print(0)\n",
    "else:\n",
    "    print(int(factorial(n) / (factorial(n - k) * factorial(k))))"
   ]
  },
  {
   "cell_type": "code",
   "execution_count": 21,
   "id": "f65acef9",
   "metadata": {},
   "outputs": [
    {
     "name": "stdout",
     "output_type": "stream",
     "text": [
      "5 2\n",
      "10\n"
     ]
    }
   ],
   "source": [
    "from itertools import combinations\n",
    "n, k = map(int, input().split())\n",
    "ls = [i for i in range(n)]\n",
    "print(len(list(combinations(ls, k))))"
   ]
  },
  {
   "cell_type": "code",
   "execution_count": null,
   "id": "b1171434",
   "metadata": {},
   "outputs": [],
   "source": []
  },
  {
   "cell_type": "markdown",
   "id": "ba998129",
   "metadata": {},
   "source": [
    "#### 문제\n",
    "한수는 지금 (x, y)에 있다. 직사각형은 각 변이 좌표축에 평행하고, 왼쪽 아래 꼭짓점은 (0, 0), 오른쪽 위 꼭짓점은 (w, h)에 있다. 직사각형의 경계선까지 가는 거리의 최솟값을 구하는 프로그램을 작성하시오.\n",
    "\n",
    "#### 입력\n",
    "첫째 줄에 x, y, w, h가 주어진다.\n",
    "\n",
    "#### 출력\n",
    "첫째 줄에 문제의 정답을 출력한다.\n",
    "\n",
    "#### 제한\n",
    "1 ≤ w, h ≤ 1,000\n",
    "1 ≤ x ≤ w-1\n",
    "1 ≤ y ≤ h-1\n",
    "x, y, w, h는 정수\n",
    "#### 예제 입력 1 \n",
    "6 2 10 3\n",
    "#### 예제 출력 1 \n",
    "1"
   ]
  },
  {
   "cell_type": "code",
   "execution_count": 9,
   "id": "6da64e61",
   "metadata": {},
   "outputs": [
    {
     "name": "stdout",
     "output_type": "stream",
     "text": [
      "6 2 10 3\n",
      "1\n"
     ]
    }
   ],
   "source": [
    "x, y, w, h = map(int, input().split())\n",
    "\n",
    "print(min(x, w-x, y, h-y))"
   ]
  },
  {
   "cell_type": "code",
   "execution_count": null,
   "id": "7c043be6",
   "metadata": {},
   "outputs": [],
   "source": []
  },
  {
   "cell_type": "markdown",
   "id": "fd29b95c",
   "metadata": {},
   "source": [
    "#### 문제\n",
    "두 개의 자연수를 입력받아 최대 공약수와 최소 공배수를 출력하는 프로그램을 작성하시오.\n",
    "\n",
    "#### 입력\n",
    "첫째 줄에는 두 개의 자연수가 주어진다. 이 둘은 10,000이하의 자연수이며 사이에 한 칸의 공백이 주어진다.\n",
    "\n",
    "#### 출력\n",
    "첫째 줄에는 입력으로 주어진 두 수의 최대공약수를, 둘째 줄에는 입력으로 주어진 두 수의 최소 공배수를 출력한다.\n",
    "\n",
    "#### 예제 입력 1 \n",
    "24 18\n",
    "#### 예제 출력 1 \n",
    "6\n",
    "\n",
    "72"
   ]
  },
  {
   "cell_type": "code",
   "execution_count": 17,
   "id": "13280262",
   "metadata": {},
   "outputs": [
    {
     "name": "stdout",
     "output_type": "stream",
     "text": [
      "24 18\n",
      "6\n",
      "72\n"
     ]
    }
   ],
   "source": [
    "from math import gcd\n",
    "a, b = map(int, input().split())\n",
    "print(gcd(a, b))\n",
    "print(int(a * b / gcd(a, b)))"
   ]
  },
  {
   "cell_type": "code",
   "execution_count": null,
   "id": "e9033175",
   "metadata": {},
   "outputs": [],
   "source": []
  },
  {
   "cell_type": "markdown",
   "id": "6197410e",
   "metadata": {},
   "source": [
    "#### 문제\n",
    "어떤 단어를 뒤에서부터 읽어도 똑같다면 그 단어를 팰린드롬이라고 한다. 'radar', 'sees'는 팰린드롬이다.\n",
    "\n",
    "수도 팰린드롬으로 취급할 수 있다. 수의 숫자들을 뒤에서부터 읽어도 같다면 그 수는 팰린드롬수다. 121, 12421 등은 팰린드롬수다. 123, 1231은 뒤에서부터 읽으면 다르므로 팰린드롬수가 아니다. 또한 10도 팰린드롬수가 아닌데, 앞에 무의미한 0이 올 수 있다면 010이 되어 팰린드롬수로 취급할 수도 있지만, 특별히 이번 문제에서는 무의미한 0이 앞에 올 수 없다고 하자.\n",
    "\n",
    "#### 입력\n",
    "입력은 여러 개의 테스트 케이스로 이루어져 있으며, 각 줄마다 1 이상 99999 이하의 정수가 주어진다. 입력의 마지막 줄에는 0이 주어지며, 이 줄은 문제에 포함되지 않는다.\n",
    "\n",
    "#### 출력\n",
    "각 줄마다 주어진 수가 팰린드롬수면 'yes', 아니면 'no'를 출력한다.\n",
    "\n",
    "#### 예제 입력 1 \n",
    "121\n",
    "\n",
    "1231\n",
    "\n",
    "12421\n",
    "\n",
    "0\n",
    "#### 예제 출력 1 \n",
    "yes\n",
    "\n",
    "no\n",
    "\n",
    "yes"
   ]
  },
  {
   "cell_type": "code",
   "execution_count": 1,
   "id": "9cc07374",
   "metadata": {},
   "outputs": [
    {
     "name": "stdout",
     "output_type": "stream",
     "text": [
      "121\n",
      "yes\n",
      "1231\n",
      "no\n",
      "12421\n",
      "yes\n",
      "0\n"
     ]
    }
   ],
   "source": [
    "while True:\n",
    "    string = input()\n",
    "    if string == '0':\n",
    "        break\n",
    "    if string == string[::-1]:\n",
    "        print('yes')\n",
    "    else:\n",
    "        print('no')"
   ]
  },
  {
   "cell_type": "code",
   "execution_count": null,
   "id": "17084697",
   "metadata": {},
   "outputs": [],
   "source": []
  },
  {
   "cell_type": "markdown",
   "id": "c062712c",
   "metadata": {},
   "source": [
    "#### 문제\n",
    "요세푸스 문제는 다음과 같다.\n",
    "\n",
    "1번부터 N번까지 N명의 사람이 원을 이루면서 앉아있고, 양의 정수 K(≤ N)가 주어진다. 이제 순서대로 K번째 사람을 제거한다. 한 사람이 제거되면 남은 사람들로 이루어진 원을 따라 이 과정을 계속해 나간다. 이 과정은 N명의 사람이 모두 제거될 때까지 계속된다. 원에서 사람들이 제거되는 순서를 (N, K)-요세푸스 순열이라고 한다. 예를 들어 (7, 3)-요세푸스 순열은 <3, 6, 2, 7, 5, 1, 4>이다.\n",
    "\n",
    "N과 K가 주어지면 (N, K)-요세푸스 순열을 구하는 프로그램을 작성하시오.\n",
    "\n",
    "#### 입력\n",
    "첫째 줄에 N과 K가 빈 칸을 사이에 두고 순서대로 주어진다. (1 ≤ K ≤ N ≤ 1,000)\n",
    "\n",
    "#### 출력\n",
    "예제와 같이 요세푸스 순열을 출력한다.\n",
    "\n",
    "#### 예제 입력 1 \n",
    "7 3\n",
    "#### 예제 출력 1 \n",
    "<3, 6, 2, 7, 5, 1, 4>"
   ]
  },
  {
   "cell_type": "code",
   "execution_count": 35,
   "id": "f9884cd0",
   "metadata": {},
   "outputs": [
    {
     "name": "stdout",
     "output_type": "stream",
     "text": [
      "8 3\n",
      "<3, 6, 1, 5, 2, 8, 4, 7>\n"
     ]
    }
   ],
   "source": [
    "n, k = map(int, input().split())\n",
    "peoples = [i + 1 for i in range(n)]\n",
    "\n",
    "cnt = 0\n",
    "string = ''\n",
    "while len(peoples) > 0:\n",
    "    pop = peoples.pop(0)\n",
    "    cnt += 1\n",
    "    if cnt != k:\n",
    "        peoples.append(pop)\n",
    "    else:\n",
    "        cnt = 0\n",
    "        string += str(pop) + ', '\n",
    "print(f'<{string[:-2]}>')\n"
   ]
  },
  {
   "cell_type": "code",
   "execution_count": null,
   "id": "bd02e137",
   "metadata": {},
   "outputs": [],
   "source": []
  },
  {
   "cell_type": "markdown",
   "id": "89276a23",
   "metadata": {},
   "source": [
    "#### 문제\n",
    "수를 처리하는 것은 통계학에서 상당히 중요한 일이다. 통계학에서 N개의 수를 대표하는 기본 통계값에는 다음과 같은 것들이 있다. 단, N은 홀수라고 가정하자.\n",
    "\n",
    "산술평균 : N개의 수들의 합을 N으로 나눈 값\n",
    "중앙값 : N개의 수들을 증가하는 순서로 나열했을 경우 그 중앙에 위치하는 값\n",
    "최빈값 : N개의 수들 중 가장 많이 나타나는 값\n",
    "범위 : N개의 수들 중 최댓값과 최솟값의 차이\n",
    "N개의 수가 주어졌을 때, 네 가지 기본 통계값을 구하는 프로그램을 작성하시오.\n",
    "\n",
    "#### 입력\n",
    "첫째 줄에 수의 개수 N(1 ≤ N ≤ 500,000)이 주어진다. 단, N은 홀수이다. 그 다음 N개의 줄에는 정수들이 주어진다. 입력되는 정수의 절댓값은 4,000을 넘지 않는다.\n",
    "\n",
    "#### 출력\n",
    "첫째 줄에는 산술평균을 출력한다. 소수점 이하 첫째 자리에서 반올림한 값을 출력한다.\n",
    "\n",
    "둘째 줄에는 중앙값을 출력한다.\n",
    "\n",
    "셋째 줄에는 최빈값을 출력한다. 여러 개 있을 때에는 최빈값 중 두 번째로 작은 값을 출력한다.\n",
    "\n",
    "넷째 줄에는 범위를 출력한다.\n",
    "\n",
    "#### 예제 입력 1 \n",
    "5\n",
    "1\n",
    "3\n",
    "8\n",
    "-2\n",
    "2\n",
    "#### 예제 출력 1 \n",
    "2\n",
    "2\n",
    "1\n",
    "10\n",
    "#### 예제 입력 2 \n",
    "1\n",
    "4000\n",
    "#### 예제 출력 2 \n",
    "4000\n",
    "4000\n",
    "4000\n",
    "0\n",
    "#### 예제 입력 3 \n",
    "5\n",
    "-1\n",
    "-2\n",
    "-3\n",
    "-1\n",
    "-2\n",
    "#### 예제 출력 3 \n",
    "-2\n",
    "-2\n",
    "-1\n",
    "2\n",
    "#### 예제 입력 4 \n",
    "3\n",
    "0\n",
    "0\n",
    "-1\n",
    "#### 예제 출력 4 \n",
    "0\n",
    "0\n",
    "0\n",
    "1"
   ]
  },
  {
   "cell_type": "code",
   "execution_count": 45,
   "id": "688ee143",
   "metadata": {},
   "outputs": [
    {
     "name": "stdout",
     "output_type": "stream",
     "text": [
      "1\n",
      "-1\n",
      "-1\n",
      "-1\n",
      "-1\n",
      "0\n"
     ]
    }
   ],
   "source": [
    "from collections import Counter\n",
    "\n",
    "n = int(input())\n",
    "\n",
    "numbers = []\n",
    "for i in range(n):\n",
    "    number = int(input())\n",
    "    numbers.append(number)\n",
    "\n",
    "numbers.sort()\n",
    "\n",
    "# 산술평균\n",
    "if round((sum(numbers) / n),0) == 0:\n",
    "    print(0)\n",
    "else:\n",
    "    print(int(round((sum(numbers) / n),0)))\n",
    "\n",
    "# 중앙값\n",
    "print(numbers[n // 2])\n",
    "    \n",
    "# 최빈값\n",
    "counter = Counter(numbers)\n",
    "counter = sorted(counter.items(), key=lambda x:x[0])\n",
    "counter = sorted(counter, key=lambda x:x[1], reverse=True)\n",
    "if len(counter) <= 1:\n",
    "    print(counter[0][0])\n",
    "else:\n",
    "    if counter[0][1] == counter[1][1]:\n",
    "        print(counter[1][0])\n",
    "    else:\n",
    "        print(counter[0][0])\n",
    "    \n",
    "# 범위 (최대 - 최소)\n",
    "print(max(numbers) - min(numbers))"
   ]
  },
  {
   "cell_type": "markdown",
   "id": "b520128b",
   "metadata": {},
   "source": [
    "### "
   ]
  },
  {
   "cell_type": "code",
   "execution_count": 39,
   "id": "effef8d4",
   "metadata": {},
   "outputs": [
    {
     "data": {
      "text/plain": [
       "0"
      ]
     },
     "execution_count": 39,
     "metadata": {},
     "output_type": "execute_result"
    }
   ],
   "source": [
    "round(-0.33)"
   ]
  },
  {
   "cell_type": "code",
   "execution_count": 41,
   "id": "1304ac8a",
   "metadata": {},
   "outputs": [
    {
     "name": "stdout",
     "output_type": "stream",
     "text": [
      "[(1, 3)]\n"
     ]
    }
   ],
   "source": [
    "counter = {\n",
    "    1:3\n",
    "}\n",
    "\n",
    "counter = sorted(counter.items(), key=lambda x:x[0])\n",
    "counter = sorted(counter, key=lambda x:x[1], reverse=True)\n",
    "print(counter)"
   ]
  },
  {
   "cell_type": "code",
   "execution_count": null,
   "id": "3a180bbb",
   "metadata": {},
   "outputs": [],
   "source": []
  }
 ],
 "metadata": {
  "kernelspec": {
   "display_name": "Python 3 (ipykernel)",
   "language": "python",
   "name": "python3"
  },
  "language_info": {
   "codemirror_mode": {
    "name": "ipython",
    "version": 3
   },
   "file_extension": ".py",
   "mimetype": "text/x-python",
   "name": "python",
   "nbconvert_exporter": "python",
   "pygments_lexer": "ipython3",
   "version": "3.8.10"
  }
 },
 "nbformat": 4,
 "nbformat_minor": 5
}
